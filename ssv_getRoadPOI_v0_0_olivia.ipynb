{
  "cells": [
    {
      "cell_type": "markdown",
      "metadata": {
        "id": "view-in-github",
        "colab_type": "text"
      },
      "source": [
        "<a href=\"https://colab.research.google.com/github/olivia-sp/h2-station-dev/blob/main/ssv_getRoadPOI_v0_0_olivia.ipynb\" target=\"_parent\"><img src=\"https://colab.research.google.com/assets/colab-badge.svg\" alt=\"Open In Colab\"/></a>"
      ]
    },
    {
      "cell_type": "code",
      "execution_count": null,
      "metadata": {
        "id": "LK85bsOAylGX"
      },
      "outputs": [],
      "source": [
        "#ver0.1 - 기본 로직 개발\n"
      ]
    },
    {
      "cell_type": "markdown",
      "metadata": {
        "id": "p20i4yjqjwxW"
      },
      "source": [
        "# EDA"
      ]
    },
    {
      "cell_type": "code",
      "execution_count": null,
      "metadata": {
        "id": "qiu1m4DRjzgK"
      },
      "outputs": [],
      "source": [
        "import pandas as pd\n",
        "import os\n",
        "\n",
        "from sklearn.model_selection import train_test_split\n",
        "import numpy as np\n",
        "\n",
        "import matplotlib.pyplot as plt\n",
        "import seaborn as sns\n",
        "import datetime as dt\n"
      ]
    },
    {
      "cell_type": "code",
      "execution_count": null,
      "metadata": {
        "colab": {
          "base_uri": "https://localhost:8080/"
        },
        "id": "qMCYu09ZhcTX",
        "outputId": "9a7260b0-745c-4156-c24c-57ee40e6540d"
      },
      "outputs": [
        {
          "output_type": "stream",
          "name": "stdout",
          "text": [
            "already\n",
            "/content\n"
          ]
        }
      ],
      "source": [
        "import os\n",
        "\n",
        "if os.path.isfile('/content/drive/MyDrive/Colab Notebooks/data_set/result-congress-26-tune1.csv') == True:\n",
        "  print('already')\n",
        "else:\n",
        "  #os.mkdir('data_set')\n",
        "  %cd data_set\n",
        "  !wget https://raw.githubusercontent.com/olivia-sp/h2-station-dev/main/data_set/result-congress-26-tune1.csv\n",
        "\n",
        "% cd /content\n"
      ]
    },
    {
      "cell_type": "code",
      "execution_count": null,
      "metadata": {
        "id": "RYP-UHidhcQ3"
      },
      "outputs": [],
      "source": [
        "CURR_PATH = os.getcwd()\n",
        "\n",
        "os.listdir(CURR_PATH)\n",
        "#DATA_PATH = os.path.join(CURR_PATH,'data_set')\n",
        "RAW_PATH = CURR_PATH + '/drive/MyDrive/Colab Notebooks/data_set/result-congress-26-tune1.csv'\n",
        "\n"
      ]
    },
    {
      "cell_type": "code",
      "execution_count": null,
      "metadata": {
        "colab": {
          "base_uri": "https://localhost:8080/"
        },
        "id": "fwNI51B0hcON",
        "outputId": "d3de1648-cf93-46c3-afca-efbff51cf9a5"
      },
      "outputs": [
        {
          "output_type": "stream",
          "name": "stdout",
          "text": [
            "<class 'pandas.core.frame.DataFrame'>\n",
            "Int64Index: 77222 entries, 0 to 77436\n",
            "Data columns (total 19 columns):\n",
            " #   Column              Non-Null Count  Dtype  \n",
            "---  ------              --------------  -----  \n",
            " 0   holiday             77222 non-null  bool   \n",
            " 1   weekend             77222 non-null  bool   \n",
            " 2   time                77222 non-null  object \n",
            " 3   precipitation_type  46123 non-null  float64\n",
            " 4   temperature         46123 non-null  float64\n",
            " 5   station_name        77222 non-null  int64  \n",
            " 6   filename            77222 non-null  object \n",
            " 7   precipitation       46123 non-null  float64\n",
            " 8   total_car_num       77222 non-null  int64  \n",
            " 9   day_week            77222 non-null  object \n",
            " 10  decision_car_num    76980 non-null  object \n",
            " 11  humid               46123 non-null  float64\n",
            " 12  max_car_num         76907 non-null  float64\n",
            " 13  year                77222 non-null  int64  \n",
            " 14  month               77222 non-null  int64  \n",
            " 15  day                 77222 non-null  int64  \n",
            " 16  hour                77222 non-null  int64  \n",
            " 17  minute              77222 non-null  int64  \n",
            " 18  second              77222 non-null  int64  \n",
            "dtypes: bool(2), float64(5), int64(8), object(4)\n",
            "memory usage: 10.8+ MB\n"
          ]
        },
        {
          "output_type": "execute_result",
          "data": {
            "text/plain": [
              "holiday                   0\n",
              "weekend                   0\n",
              "time                      0\n",
              "precipitation_type    31099\n",
              "temperature           31099\n",
              "station_name              0\n",
              "filename                  0\n",
              "precipitation         31099\n",
              "total_car_num             0\n",
              "day_week                  0\n",
              "decision_car_num        242\n",
              "humid                 31099\n",
              "max_car_num             315\n",
              "year                      0\n",
              "month                     0\n",
              "day                       0\n",
              "hour                      0\n",
              "minute                    0\n",
              "second                    0\n",
              "dtype: int64"
            ]
          },
          "metadata": {},
          "execution_count": 4
        }
      ],
      "source": [
        "df_raw_data = pd.read_csv(RAW_PATH, index_col=0)\n",
        "df_raw_data.info()\n",
        "\n",
        "df_raw_data.isnull().sum()"
      ]
    },
    {
      "cell_type": "code",
      "execution_count": null,
      "metadata": {
        "id": "BB_qxtsftooY"
      },
      "outputs": [],
      "source": [
        "df_raw_data = df_raw_data.reset_index()"
      ]
    },
    {
      "cell_type": "code",
      "execution_count": null,
      "metadata": {
        "id": "UaF8sbjM1MMZ"
      },
      "outputs": [],
      "source": [
        ""
      ]
    },
    {
      "cell_type": "code",
      "execution_count": null,
      "metadata": {
        "id": "TT1cRXf81MMZ"
      },
      "outputs": [],
      "source": [
        ""
      ]
    },
    {
      "cell_type": "code",
      "source": [
        ""
      ],
      "metadata": {
        "id": "EatCuzJI1LZ8"
      },
      "execution_count": null,
      "outputs": []
    }
  ],
  "metadata": {
    "accelerator": "GPU",
    "colab": {
      "collapsed_sections": [
        "2mA62Y310w1I",
        "ZgOjQsNkMUGX",
        "3jP5SnrKuCxy",
        "9KL_4xcnV7h4",
        "DXrAyIkrF8dO",
        "2yKv9_DfhSLC",
        "rNWuxih7xBFW",
        "ec1hT1cmnjF5",
        "fNswATkZbpNi",
        "YE4wqbU9cAum",
        "2nicvnoycICu",
        "A-MCudpt7jJl",
        "wezUZ9H8GCp2",
        "StVqQCC4NeLW",
        "rphR1fcqq3Pw",
        "h_chiKqSUK1r",
        "FI-sL-jXaya1",
        "du3lL7MVCn1k",
        "AIQfq0HIktiI",
        "zJSHjRTvtSir",
        "d9L75gbPsoe7",
        "R96IFBwxtfy3",
        "YUnlSvnjmzK3",
        "Y3k7MlhZtmLD",
        "-krF7zsUTcAU",
        "kqhHg6SSCgvw",
        "CNRS7_bIKWuy",
        "N6GJHL3-CAeH",
        "N48SeIfrXURY",
        "hHdTYo8vXb1i",
        "0fg4f3-_CTTb",
        "mHzJT1vhfZss",
        "wviTnvT9jWMP"
      ],
      "name": "ssv_getRoadPOI_v0.0_olivia.ipynb",
      "provenance": [],
      "toc_visible": true,
      "mount_file_id": "1s2qQN4nxVV4DI_Esc5gdtIWorfYE1n8s",
      "authorship_tag": "ABX9TyNKFbuY/6dxfUfbVAGIHvHI",
      "include_colab_link": true
    },
    "kernelspec": {
      "display_name": "Python 3",
      "name": "python3"
    },
    "language_info": {
      "name": "python"
    }
  },
  "nbformat": 4,
  "nbformat_minor": 0
}