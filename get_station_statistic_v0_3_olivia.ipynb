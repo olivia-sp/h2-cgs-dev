{
  "nbformat": 4,
  "nbformat_minor": 0,
  "metadata": {
    "colab": {
      "name": "get_station_statistic_v0.3_olivia.ipynb",
      "provenance": [],
      "toc_visible": true,
      "collapsed_sections": [],
      "mount_file_id": "1KrwqjSByvP3_uh3afEeMNSQ0WrU7YRMT",
      "authorship_tag": "ABX9TyPEXLT6adwLTqN1UNAK51im",
      "include_colab_link": true
    },
    "kernelspec": {
      "name": "python3",
      "display_name": "Python 3"
    },
    "language_info": {
      "name": "python"
    }
  },
  "cells": [
    {
      "cell_type": "markdown",
      "metadata": {
        "id": "view-in-github",
        "colab_type": "text"
      },
      "source": [
        "<a href=\"https://colab.research.google.com/github/olivia-sp/h2-station-dev/blob/main/get_station_statistic_v0_3_olivia.ipynb\" target=\"_parent\"><img src=\"https://colab.research.google.com/assets/colab-badge.svg\" alt=\"Open In Colab\"/></a>"
      ]
    },
    {
      "cell_type": "markdown",
      "source": [
        "#수소 통계 크롤링"
      ],
      "metadata": {
        "id": "MJLuezaIJwZU"
      }
    },
    {
      "cell_type": "code",
      "execution_count": null,
      "metadata": {
        "id": "11f1YbyIV34p"
      },
      "outputs": [],
      "source": [
        "#크롤링시 필요한 라이브러리 불러오기\n",
        "from bs4 import BeautifulSoup\n",
        "import requests"
      ]
    },
    {
      "cell_type": "code",
      "source": [
        "#검색어 입력\n",
        "search = '수소산업+주요+통계'"
      ],
      "metadata": {
        "id": "M7ITLcNaWgH-"
      },
      "execution_count": null,
      "outputs": []
    },
    {
      "cell_type": "code",
      "source": [
        "#url 생성\n",
        "url = \"https://h2news.kr/mobile/search_result.html?search=\" + search\n",
        "print(\"생성url: \",url)"
      ],
      "metadata": {
        "colab": {
          "base_uri": "https://localhost:8080/"
        },
        "id": "cwW9As-pWoEf",
        "outputId": "73c6232c-11a0-479a-8cd9-9b3d6975454a"
      },
      "execution_count": null,
      "outputs": [
        {
          "output_type": "stream",
          "name": "stdout",
          "text": [
            "생성url:  https://h2news.kr/mobile/search_result.html?search=수소산업+주요+통계\n"
          ]
        }
      ]
    },
    {
      "cell_type": "code",
      "source": [
        "# ConnectionError방지\n",
        "headers = { \"User-Agent\": \"Mozilla/5.0 (Windows NT 10.0; Win64; x64) Chrome/100.0.48496.75\" }\n",
        "\n",
        "#html불러오기\n",
        "original_html = requests.get(url, headers=headers)\n",
        "html = BeautifulSoup(original_html.text, \"html.parser\")"
      ],
      "metadata": {
        "id": "XeFTLDUHWoCC"
      },
      "execution_count": null,
      "outputs": []
    },
    {
      "cell_type": "markdown",
      "source": [
        "##기사 날짜 파싱"
      ],
      "metadata": {
        "id": "xJxsnooo2dqT"
      }
    },
    {
      "cell_type": "code",
      "source": [
        "# 검색결과\n",
        "articles = html.select(\"div.m_sr2_001 > ul.list_thumb > li.on_thumb > a > h3\")\n",
        "print(articles)\n",
        "# 검색된 기사의 갯수\n",
        "print(len(articles),\"개의 기사가 검색됌.\")"
      ],
      "metadata": {
        "colab": {
          "base_uri": "https://localhost:8080/"
        },
        "id": "qaeEFOQtiiwM",
        "outputId": "99bea9da-ea9c-4279-a9a9-721aa39250b7"
      },
      "execution_count": null,
      "outputs": [
        {
          "output_type": "stream",
          "name": "stdout",
          "text": [
            "[<h3>수소산업 주요 통계(2022년 6월 30일 기준)</h3>, <h3>수소산업 주요 통계(2022년 5월 31일 기준)</h3>, <h3>수소산업 주요 통계(2022년 4월 30일 기준)</h3>, <h3>수소산업 주요 통계(2022년 3월 31일 기준)</h3>, <h3>수소산업 주요 통계(2022년 2월 28일 기준)</h3>, <h3>수소산업 주요 통계(2022년 1월 31일 기준)</h3>, <h3>수소산업 주요 통계(2021년 12월 31일 기준)</h3>, <h3>수소산업 주요 통계(2021년 11월 30일 기준)</h3>, <h3>수소산업 주요 통계(2021년 10월 31일 기준)</h3>, <h3>수소산업 주요 통계(2021년 9월 30일 기준)</h3>, <h3>수소산업 주요 통계(2021년 8월 31일 기준)</h3>, <h3>수소산업 주요 통계(2021년 7월 31일 기준)</h3>, <h3>수소산업 주요 통계(2021년 6월 30일 기준)</h3>, <h3>수소산업 주요 통계(2021년 5월 31일 기준)</h3>, <h3>수소산업 주요 통계(2021년 4월 30일 기준)</h3>, <h3>수소산업 주요 통계(2021년 3월 31일 기준)</h3>, <h3>수소산업 주요 통계(2021년 2월 28일 기준)</h3>, <h3>PEOPLE┃탁송수 한국가스안전공사 수소안전기술원장</h3>, <h3>수소산업 주요 통계(2021년 1월 31일 기준)</h3>, <h3>수소경제, 영구항해 닻 올렸다</h3>]\n",
            "20 개의 기사가 검색됌.\n"
          ]
        }
      ]
    },
    {
      "cell_type": "code",
      "source": [
        "#기사 제목 가져오기\n",
        "news_dates = []\n",
        "for i in articles:\n",
        "    news_dates.append(i.text)\n",
        "news_dates\n"
      ],
      "metadata": {
        "colab": {
          "base_uri": "https://localhost:8080/"
        },
        "id": "6tPjMika4tdK",
        "outputId": "953d56b8-dfee-4c70-b17c-a0f4ab9a016e"
      },
      "execution_count": null,
      "outputs": [
        {
          "output_type": "execute_result",
          "data": {
            "text/plain": [
              "['수소산업 주요 통계(2022년 6월 30일 기준)',\n",
              " '수소산업 주요 통계(2022년 5월 31일 기준)',\n",
              " '수소산업 주요 통계(2022년 4월 30일 기준)',\n",
              " '수소산업 주요 통계(2022년 3월 31일 기준)',\n",
              " '수소산업 주요 통계(2022년 2월 28일 기준)',\n",
              " '수소산업 주요 통계(2022년 1월 31일 기준)',\n",
              " '수소산업 주요 통계(2021년 12월 31일 기준)',\n",
              " '수소산업 주요 통계(2021년 11월 30일 기준)',\n",
              " '수소산업 주요 통계(2021년 10월 31일 기준)',\n",
              " '수소산업 주요 통계(2021년 9월 30일 기준)',\n",
              " '수소산업 주요 통계(2021년 8월 31일 기준)',\n",
              " '수소산업 주요 통계(2021년 7월 31일 기준)',\n",
              " '수소산업 주요 통계(2021년 6월 30일 기준)',\n",
              " '수소산업 주요 통계(2021년 5월 31일 기준)',\n",
              " '수소산업 주요 통계(2021년 4월 30일 기준)',\n",
              " '수소산업 주요 통계(2021년 3월 31일 기준)',\n",
              " '수소산업 주요 통계(2021년 2월 28일 기준)',\n",
              " 'PEOPLE┃탁송수 한국가스안전공사\\xa0수소안전기술원장',\n",
              " '수소산업 주요 통계(2021년 1월 31일 기준)',\n",
              " '수소경제, 영구항해\\xa0닻\\xa0올렸다']"
            ]
          },
          "metadata": {},
          "execution_count": 90
        }
      ]
    },
    {
      "cell_type": "code",
      "source": [
        "news_date1 = news_dates[0]\n",
        "news_date1"
      ],
      "metadata": {
        "colab": {
          "base_uri": "https://localhost:8080/",
          "height": 35
        },
        "id": "w9pVgVsu2uo1",
        "outputId": "7e0c3ab1-7f78-493c-b883-bf2e747d8954"
      },
      "execution_count": null,
      "outputs": [
        {
          "output_type": "execute_result",
          "data": {
            "text/plain": [
              "'수소산업 주요 통계(2022년 6월 30일 기준)'"
            ],
            "application/vnd.google.colaboratory.intrinsic+json": {
              "type": "string"
            }
          },
          "metadata": {},
          "execution_count": 103
        }
      ]
    },
    {
      "cell_type": "code",
      "source": [
        "import re\n",
        "\n",
        "strings_d = news_date1.split('(')\n",
        "news_date2 = strings_d[1].split()\n",
        "news_year = news_date2[0]\n",
        "news_month = news_date2[1]\n",
        "news_day = news_date2[2]\n",
        "\n",
        "news_year = re.sub(r'[^0-9]', '', news_year)\n",
        "news_month = re.sub(r'[^0-9]', '', news_month)\n",
        "news_day = re.sub(r'[^0-9]', '', news_day)\n",
        "print(news_year, news_month, news_day)"
      ],
      "metadata": {
        "colab": {
          "base_uri": "https://localhost:8080/"
        },
        "id": "iQ2K0Z2P4j16",
        "outputId": "70f66b95-b269-4484-a00e-8bc68b072991"
      },
      "execution_count": null,
      "outputs": [
        {
          "output_type": "stream",
          "name": "stdout",
          "text": [
            "2022 6 30\n"
          ]
        }
      ]
    },
    {
      "cell_type": "markdown",
      "source": [
        "##기사 주소 파싱"
      ],
      "metadata": {
        "id": "eaEyxRtbicr4"
      }
    },
    {
      "cell_type": "code",
      "source": [
        "# 검색결과\n",
        "articles = html.select(\"div.m_sr2_001 > ul.list_thumb > li.on_thumb > a\")\n",
        "print(articles)\n",
        "# 검색된 기사의 갯수\n",
        "print(len(articles),\"개의 기사가 검색.\")\n",
        "\n",
        "'''\n",
        "<a href=\"article.html?no=10159\">\n",
        "<span class=\"thumbs\"><img alt=\"\" src=\"https://www.h2news.kr/data/cache/public/photos/20220730/art_16589013663043_5fd8a9_160x110.jpg\"/></span>\n",
        "<h3>수소산업 주요 통계(2022년 6월 30일 기준)</h3>\n",
        "<ul class=\"ac_info\">\n",
        "<li>2022.07.29 11:37</li>\n",
        "<li>월간수소경제 편집부 </li>\n",
        "</ul>\n",
        "</a>\n",
        "'''"
      ],
      "metadata": {
        "colab": {
          "base_uri": "https://localhost:8080/",
          "height": 1000
        },
        "id": "m7qTJUqwWn_Z",
        "outputId": "0bf7c453-5b9a-42f3-f773-e97f3cc0342e"
      },
      "execution_count": null,
      "outputs": [
        {
          "output_type": "stream",
          "name": "stdout",
          "text": [
            "[<a href=\"article.html?no=10159\">\n",
            "<span class=\"thumbs\"><img alt=\"\" src=\"https://www.h2news.kr/data/cache/public/photos/20220730/art_16589013663043_5fd8a9_160x110.jpg\"/></span>\n",
            "<h3>수소산업 주요 통계(2022년 6월 30일 기준)</h3>\n",
            "<ul class=\"ac_info\">\n",
            "<li>2022.07.29 11:37</li>\n",
            "<li>월간수소경제 편집부 </li>\n",
            "</ul>\n",
            "</a>, <a href=\"article.html?no=10078\">\n",
            "<span class=\"thumbs\"><img alt=\"\" src=\"https://www.h2news.kr/data/cache/public/photos/20220626/art_16564651475751_9a3e63_160x110.jpg\"/></span>\n",
            "<h3>수소산업 주요 통계(2022년 5월 31일 기준)</h3>\n",
            "<ul class=\"ac_info\">\n",
            "<li>2022.06.29 17:45</li>\n",
            "<li>월간수소경제 편집부 </li>\n",
            "</ul>\n",
            "</a>, <a href=\"article.html?no=9996\">\n",
            "<span class=\"thumbs\"><img alt=\"\" src=\"https://www.h2news.kr/data/cache/public/photos/20220521/art_16536345105015_d7654a_160x110.jpg\"/></span>\n",
            "<h3>수소산업 주요 통계(2022년 4월 30일 기준)</h3>\n",
            "<ul class=\"ac_info\">\n",
            "<li>2022.05.31 12:23</li>\n",
            "<li>박상우 기자 </li>\n",
            "</ul>\n",
            "</a>, <a href=\"article.html?no=9915\">\n",
            "<span class=\"thumbs\"><img alt=\"\" src=\"https://www.h2news.kr/data/cache/public/photos/20220417/art_16511204800169_68256f_160x110.jpg\"/></span>\n",
            "<h3>수소산업 주요 통계(2022년 3월 31일 기준)</h3>\n",
            "<ul class=\"ac_info\">\n",
            "<li>2022.04.30 13:41</li>\n",
            "<li>월간수소경제 편집부 </li>\n",
            "</ul>\n",
            "</a>, <a href=\"article.html?no=9822\">\n",
            "<span class=\"thumbs\"><img alt=\"\" src=\"https://www.h2news.kr/data/cache/public/photos/20220313/art_16485309785002_27d560_160x110.jpg\"/></span>\n",
            "<h3>수소산업 주요 통계(2022년 2월 28일 기준)</h3>\n",
            "<ul class=\"ac_info\">\n",
            "<li>2022.03.31 09:16</li>\n",
            "<li>월간수소경제 편집부 </li>\n",
            "</ul>\n",
            "</a>, <a href=\"article.html?no=9718\">\n",
            "<span class=\"thumbs\"><img alt=\"\" src=\"https://www.h2news.kr/data/cache/public/photos/20220208/art_1645688721086_7466cf_160x110.jpg\"/></span>\n",
            "<h3>수소산업 주요 통계(2022년 1월 31일 기준)</h3>\n",
            "<ul class=\"ac_info\">\n",
            "<li>2022.02.28 10:30</li>\n",
            "<li>월간수소경제 편집부 </li>\n",
            "</ul>\n",
            "</a>, <a href=\"article.html?no=9605\">\n",
            "<span class=\"thumbs\"><img alt=\"\" src=\"https://www.h2news.kr/data/cache/public/photos/20220104/art_16432469300051_d3e744_160x110.jpg\"/></span>\n",
            "<h3>수소산업 주요 통계(2021년 12월 31일 기준)</h3>\n",
            "<ul class=\"ac_info\">\n",
            "<li>2022.01.27 16:57</li>\n",
            "<li>월간수소경제 편집부 </li>\n",
            "</ul>\n",
            "</a>, <a href=\"article.html?no=9487\">\n",
            "<span class=\"thumbs\"><img alt=\"\" src=\"https://www.h2news.kr/data/cache/public/photos/20211252/art_16405949083711_2403a6_160x110.jpg\"/></span>\n",
            "<h3>수소산업 주요 통계(2021년 11월 30일 기준)</h3>\n",
            "<ul class=\"ac_info\">\n",
            "<li>2022.01.01 00:00</li>\n",
            "<li>월간수소경제 편집부 </li>\n",
            "</ul>\n",
            "</a>, <a href=\"article.html?no=9422\">\n",
            "<span class=\"thumbs\"><img alt=\"\" src=\"https://www.h2news.kr/data/cache/public/photos/20211147/art_16379083762931_9e6e28_160x110.jpg\"/></span>\n",
            "<h3>수소산업 주요 통계(2021년 10월 31일 기준)</h3>\n",
            "<ul class=\"ac_info\">\n",
            "<li>2021.11.30 09:24</li>\n",
            "<li>월간수소경제 편집부 </li>\n",
            "</ul>\n",
            "</a>, <a href=\"article.html?no=9359\">\n",
            "<span class=\"thumbs\"><img alt=\"\" src=\"https://www.h2news.kr/data/cache/public/photos/20211043/art_16354089357662_58488e_160x110.jpg\"/></span>\n",
            "<h3>수소산업 주요 통계(2021년 9월 30일 기준)</h3>\n",
            "<ul class=\"ac_info\">\n",
            "<li>2021.10.29 16:54</li>\n",
            "<li>월간수소경제 편집부 </li>\n",
            "</ul>\n",
            "</a>, <a href=\"article.html?no=9294\">\n",
            "<span class=\"thumbs\"><img alt=\"\" src=\"https://www.h2news.kr/data/cache/public/photos/20210939/art_1632902547325_19ddec_160x110.jpg\"/></span>\n",
            "<h3>수소산업 주요 통계(2021년 8월 31일 기준)</h3>\n",
            "<ul class=\"ac_info\">\n",
            "<li>2021.09.30 23:49</li>\n",
            "<li>월간수소경제 편집부 </li>\n",
            "</ul>\n",
            "</a>, <a href=\"article.html?no=9223\">\n",
            "<span class=\"thumbs\"><img alt=\"\" src=\"https://www.h2news.kr/data/cache/public/photos/20210835/art_16303847124945_95c690_160x110.jpg\"/></span>\n",
            "<h3>수소산업 주요 통계(2021년 7월 31일 기준)</h3>\n",
            "<ul class=\"ac_info\">\n",
            "<li>2021.08.31 17:22</li>\n",
            "<li>월간수소경제 편집부 </li>\n",
            "</ul>\n",
            "</a>, <a href=\"article.html?no=9151\">\n",
            "<span class=\"thumbs\"><img alt=\"\" src=\"https://www.h2news.kr/data/cache/public/photos/20210730/art_16275344841058_7e5a51_160x110.jpg\"/></span>\n",
            "<h3>수소산업 주요 통계(2021년 6월 30일 기준)</h3>\n",
            "<ul class=\"ac_info\">\n",
            "<li>2021.07.30 10:19</li>\n",
            "<li>월간수소경제 편집부 </li>\n",
            "</ul>\n",
            "</a>, <a href=\"article.html?no=9088\">\n",
            "<span class=\"thumbs\"><img alt=\"\" src=\"https://www.h2news.kr/data/cache/public/photos/20210626/art_16250295117568_d0ec6e_160x110.jpg\"/></span>\n",
            "<h3>수소산업 주요 통계(2021년 5월 31일 기준)</h3>\n",
            "<ul class=\"ac_info\">\n",
            "<li>2021.06.30 17:43</li>\n",
            "<li>월간수소경제 편집부 </li>\n",
            "</ul>\n",
            "</a>, <a href=\"article.html?no=9017\">\n",
            "<span class=\"thumbs\"><img alt=\"\" src=\"https://www.h2news.kr/data/cache/public/photos/20210521/art_16221618939458_36a709_160x110.jpg\"/></span>\n",
            "<h3>수소산업 주요 통계(2021년 4월 30일 기준)</h3>\n",
            "<ul class=\"ac_info\">\n",
            "<li>2021.05.31 14:13</li>\n",
            "<li>월간수소경제 편집부 </li>\n",
            "</ul>\n",
            "</a>, <a href=\"article.html?no=8957\">\n",
            "<span class=\"thumbs\"><img alt=\"\" src=\"https://www.h2news.kr/data/cache/public/photos/20210417/art_1619751823735_adb631_160x110.jpg\"/></span>\n",
            "<h3>수소산업 주요 통계(2021년 3월 31일 기준)</h3>\n",
            "<ul class=\"ac_info\">\n",
            "<li>2021.04.30 17:15</li>\n",
            "<li>월간수소경제 편집부 </li>\n",
            "</ul>\n",
            "</a>, <a href=\"article.html?no=8886\">\n",
            "<span class=\"thumbs\"><img alt=\"\" src=\"https://www.h2news.kr/data/cache/public/photos/20210312/art_16167453406412_5954bb_160x110.jpg\"/></span>\n",
            "<h3>수소산업 주요 통계(2021년 2월 28일 기준)</h3>\n",
            "<ul class=\"ac_info\">\n",
            "<li>2021.03.29 14:19</li>\n",
            "<li>월간수소경제 편집부 </li>\n",
            "</ul>\n",
            "</a>, <a href=\"article.html?no=8817\">\n",
            "<span class=\"thumbs\"><img alt=\"\" src=\"https://www.h2news.kr/data/cache/public/photos/20210208/art_16143256365022_3713cb_160x110.jpg\"/></span>\n",
            "<h3>PEOPLE┃탁송수 한국가스안전공사 수소안전기술원장</h3>\n",
            "<ul class=\"ac_info\">\n",
            "<li>2021.02.27 15:18</li>\n",
            "<li>이종수 기자 </li>\n",
            "</ul>\n",
            "</a>, <a href=\"article.html?no=8813\">\n",
            "<span class=\"thumbs\"><img alt=\"\" src=\"https://www.h2news.kr/data/cache/public/photos/20210208/art_16143238096365_fa8fda_160x110.jpg\"/></span>\n",
            "<h3>수소산업 주요 통계(2021년 1월 31일 기준)</h3>\n",
            "<ul class=\"ac_info\">\n",
            "<li>2021.02.27 15:17</li>\n",
            "<li>월간수소경제 편집부 </li>\n",
            "</ul>\n",
            "</a>, <a href=\"article.html?no=8755\">\n",
            "<span class=\"thumbs\"><img alt=\"\" src=\"https://www.h2news.kr/data/cache/public/photos/20210104/art_16118172461548_fac98e_160x110.jpg\"/></span>\n",
            "<h3>수소경제, 영구항해 닻 올렸다</h3>\n",
            "<ul class=\"ac_info\">\n",
            "<li>2021.01.29 12:03</li>\n",
            "<li>이종수 기자 </li>\n",
            "</ul>\n",
            "</a>]\n",
            "20 개의 기사가 검색됌.\n"
          ]
        },
        {
          "output_type": "execute_result",
          "data": {
            "text/plain": [
              "'\\n<a href=\"article.html?no=10159\">\\n<span class=\"thumbs\"><img alt=\"\" src=\"https://www.h2news.kr/data/cache/public/photos/20220730/art_16589013663043_5fd8a9_160x110.jpg\"/></span>\\n<h3>수소산업 주요 통계(2022년 6월 30일 기준)</h3>\\n<ul class=\"ac_info\">\\n<li>2022.07.29 11:37</li>\\n<li>월간수소경제 편집부 </li>\\n</ul>\\n</a>\\n'"
            ],
            "application/vnd.google.colaboratory.intrinsic+json": {
              "type": "string"
            }
          },
          "metadata": {},
          "execution_count": 74
        }
      ]
    },
    {
      "cell_type": "code",
      "source": [
        "#기사 URL 가져오기\n",
        "news_url = []\n",
        "for i in articles:\n",
        "    news_url.append(i.attrs['href'])\n",
        "news_url"
      ],
      "metadata": {
        "colab": {
          "base_uri": "https://localhost:8080/"
        },
        "id": "hSXJc6jJWn8m",
        "outputId": "a6725852-53fb-4aa0-c0e7-97b2f4241d16"
      },
      "execution_count": null,
      "outputs": [
        {
          "output_type": "execute_result",
          "data": {
            "text/plain": [
              "['article.html?no=10159',\n",
              " 'article.html?no=10078',\n",
              " 'article.html?no=9996',\n",
              " 'article.html?no=9915',\n",
              " 'article.html?no=9822',\n",
              " 'article.html?no=9718',\n",
              " 'article.html?no=9605',\n",
              " 'article.html?no=9487',\n",
              " 'article.html?no=9422',\n",
              " 'article.html?no=9359',\n",
              " 'article.html?no=9294',\n",
              " 'article.html?no=9223',\n",
              " 'article.html?no=9151',\n",
              " 'article.html?no=9088',\n",
              " 'article.html?no=9017',\n",
              " 'article.html?no=8957',\n",
              " 'article.html?no=8886',\n",
              " 'article.html?no=8817',\n",
              " 'article.html?no=8813',\n",
              " 'article.html?no=8755']"
            ]
          },
          "metadata": {},
          "execution_count": 75
        }
      ]
    },
    {
      "cell_type": "code",
      "source": [
        "#news_url[0]"
      ],
      "metadata": {
        "colab": {
          "base_uri": "https://localhost:8080/",
          "height": 35
        },
        "id": "RJjpITP9c-DB",
        "outputId": "733e477a-c272-4ca6-c5b4-bf8414637367"
      },
      "execution_count": null,
      "outputs": [
        {
          "output_type": "execute_result",
          "data": {
            "text/plain": [
              "'article.html?no=10159'"
            ],
            "application/vnd.google.colaboratory.intrinsic+json": {
              "type": "string"
            }
          },
          "metadata": {},
          "execution_count": 29
        }
      ]
    },
    {
      "cell_type": "code",
      "source": [
        "# !sudo apt-get install -y fonts-nanum\n",
        "# !sudo fc-cache -fv\n",
        "# !rm ~/.cache/matplotlib -rf"
      ],
      "metadata": {
        "id": "KNc8D_0ZmP4I"
      },
      "execution_count": null,
      "outputs": []
    },
    {
      "cell_type": "code",
      "source": [
        "#기사 내용 크롤링하기\n",
        "contents = []\n",
        "news = requests.get('https://h2news.kr/mobile/' + news_url[0])\n",
        "news_html = BeautifulSoup(news.text, \"html.parser\")\n",
        "\n",
        "news_html\n"
      ],
      "metadata": {
        "colab": {
          "base_uri": "https://localhost:8080/"
        },
        "id": "gZqxi9ZcWn6H",
        "outputId": "937fbaf9-a523-4ff2-8820-21eeb867fbfa"
      },
      "execution_count": null,
      "outputs": [
        {
          "output_type": "execute_result",
          "data": {
            "text/plain": [
              "<!DOCTYPE html>\n",
              "\n",
              "<html lang=\"ko\">\n",
              "<head>\n",
              "<meta content=\"width=device-width, initial-scale=1.0\" name=\"viewport\"/>\n",
              "<meta content=\"telephone=no\" name=\"format-detection\"/>\n",
              "<meta charset=\"utf-8\"/>\n",
              "<meta content=\"IE=edge\" http-equiv=\"X-UA-Compatible\"/>\n",
              "<meta content=\"https://www.h2news.kr/news/article.html?no=10159\" property=\"og:url\">\n",
              "<meta content=\"article\" property=\"og:type\">\n",
              "<meta content=\"수소산업 주요 통계(2022년 6월 30일 기준)\" property=\"og:title\">\n",
              "<meta content=\" \" property=\"og:description\">\n",
              "<meta content=\"https://www.h2news.kr/data/photos/20220730/art_16589013663043_5fd8a9.jpg\" property=\"og:image\"/>\n",
              "<meta content=\"http://www.h2news.kr/mobile/article.html?no=10159\" name=\"twitter:url\"/>\n",
              "<meta content=\"수소산업 주요 통계(2022년 6월 30일 기준)\" name=\"twitter:title\"/>\n",
              "<meta content=\"photo\" name=\"twitter:card\"/>\n",
              "<meta content=\"https://www.h2news.kr/data/photos/20220730/art_16589013663043_5fd8a9.jpg\" name=\"twitter:image\"/>\n",
              "<title>수소산업 주요 통계(2022년 6월 30일 기준)</title>\n",
              "<link href=\"/data/skin/layout/1/m11/images/favicon72.png\" rel=\"apple-touch-icon-precomposed\"/>\n",
              "<link href=\"/data/skin/layout/1/m11/images/favicon144.png\" rel=\"apple-touch-icon-precomposed\" sizes=\"144x144\"/>\n",
              "<link href=\"/data/skin/layout/1/m11/images/favicon.ico\" rel=\"shortcut icon\"/>\n",
              "<link href=\"/data/skin/layout/1/m11/images/favicon.ico\" rel=\"icon\" type=\"image/x-icon\"/>\n",
              "<link href=\"/data/rss/news.xml\" rel=\"alternate\" title=\"RSS 2.0\" type=\"application/rss+xml\"/>\n",
              "<link href=\"/mobile/css/style.css\" rel=\"stylesheet\"/>\n",
              "<link href=\"/mobile/css/override.css\" rel=\"stylesheet\"/>\n",
              "<link href=\"/mobile/css/swiper.css\" rel=\"stylesheet\"/>\n",
              "<!--[if lte IE 8]>\n",
              "<link rel=\"stylesheet\" type=\"text/css\" href=\"/mobile/css/ie.css\">\n",
              "<![endif]-->\n",
              "<link href=\"/data/cache/skin/1/mobile_article-cnts.css?20090508101900\" rel=\"stylesheet\" type=\"text/css\">\n",
              "<meta content=\"월간수소경제\" name=\"subject\"/>\n",
              "<meta content=\"(주)수소지식그룹이 매월 1일 발간하는 수소 및 연료전지 분야에 특화된 전문저널 입니다.\" name=\"copyright\"/>\n",
              "<meta content=\"수소지식그룹, 월간수소경제, 전문저널, 수소, 연료전지, 수소에너지, 수소사회, 수소인프라, 전문잡지,수소충전소,통계,수소차,발전용연료전지,월간수소경제\" name=\"keywords\"/>\n",
              "<meta content=\"월간수소경제\" name=\"title\"/>\n",
              "<meta content=\"(주)수소지식그룹이 매월 1일 발간하는 수소 및 연료전지 분야에 특화된 전문저널 입니다.\" name=\"description\"/>\n",
              "<link href=\"/mobile/css/swiper.css\" rel=\"stylesheet\"/>\n",
              "<link href=\"/data/skin/content/1/theme_title/index_cache.css\" rel=\"stylesheet\" type=\"text/css\"/>\n",
              "<script src=\"/plugin/jquery/jquery-1.3.2.min.js\" type=\"text/javascript\"></script>\n",
              "<script src=\"/js/common/jquery.cookie.js\" type=\"text/javascript\"></script>\n",
              "<script src=\"/plugin/jquery/jquery-ui-1.7.2.custom.min.js\" type=\"text/javascript\"></script>\n",
              "<script src=\"/plugin/jquery/plugins/jquery.floatobject-1.0.js\" type=\"text/javascript\"></script>\n",
              "<script src=\"/plugin/jquery/plugins/jquery.uploadify-v2.1.0/swfobject.js\" type=\"text/javascript\"></script>\n",
              "<script src=\"/plugin/jquery/plugins/jquery.uploadify-v2.1.0/jquery.uploadify.v2.1.0.min.js\" type=\"text/javascript\"></script>\n",
              "<script src=\"/plugin/jquery/plugins/jquery.newsticker.js\" type=\"text/javascript\"></script>\n",
              "<script src=\"/plugin/jquery/plugins/jquery-galleryview/jquery.easing.1.3.js\" type=\"text/javascript\"></script>\n",
              "<script src=\"/plugin/jquery/plugins/jquery-galleryview/jquery.galleryview-1.1.js\" type=\"text/javascript\"></script>\n",
              "<script src=\"/plugin/jquery/plugins/jquery-galleryview/jquery.timers-1.1.2.js\" type=\"text/javascript\"></script>\n",
              "<script src=\"/js/iecontrol.js\" type=\"text/javascript\"></script>\n",
              "<script src=\"/js/xml_supports.js\" type=\"text/javascript\"></script>\n",
              "<script src=\"/js/menu.js\" type=\"text/javascript\"></script>\n",
              "<script src=\"/js/mynews.js\" type=\"text/javascript\"></script>\n",
              "<script src=\"/js/input.js\" type=\"text/javascript\"></script>\n",
              "<script src=\"/mobile/js/jquery-1.11.1.js\" type=\"text/javascript\"></script>\n",
              "<script src=\"/mobile/js/jquery-ui.js\" type=\"text/javascript\"></script>\n",
              "<script src=\"/mobile/js/jquery.bxslider.js\" type=\"text/javascript\"></script>\n",
              "<script src=\"/mobile/js/swiper.jquery.min.js\" type=\"text/javascript\"></script>\n",
              "<script src=\"/mobile/js/icheck.js\" type=\"text/javascript\"></script>\n",
              "<script type=\"text/javascript\">\n",
              "\tvar jQuery11 = $.noConflict(true);\n",
              "</script>\n",
              "<script src=\"/mobile/js/style.js\" type=\"text/javascript\"></script>\n",
              "<script>\n",
              "\t\t$(document).ready(function() {\n",
              "\t\t\t$(document).bind(\"contextmenu\", function(event){return false;});\n",
              "\t\t\t$(document).bind(\"selectstart\", function(event){return false;});\n",
              "\t\t\t$(document).bind(\"dragstart\"\t, function(event){return false;});\n",
              "            $(\"body\").css(\"-webkit-user-select\",\"none\");\n",
              "            $(\"body\").css(\"-moz-user-select\",\"none\");\n",
              "            $(\"body\").css(\"-ms-user-select\",\"none\");\n",
              "            $(\"body\").css(\"-o-user-select\",\"none\");\n",
              "            $(\"body\").css(\"user-select\",\"none\");\n",
              "\t\t});\n",
              "\t</script>\n",
              "<script>\n",
              "function ajaxGetSkinContent(layout_tpl, lay_no)\n",
              "{\n",
              "\t$(\"#btn_more_\" + lay_no).hide();\n",
              "\t$(\"#btn_more_loading_\" + lay_no).show();\n",
              "\tif($(\"#skin_content_\" + lay_no).attr(\"data-page\") === undefined)\n",
              "\t{\n",
              "\t\t$(\"#skin_content_\" + lay_no).attr(\"data-page\", 1);\n",
              "\t}\n",
              "\tvar page = Number($(\"#skin_content_\" + lay_no).attr(\"data-page\")) + 1;\n",
              "\tvar mode = \"get_skin_content\";\n",
              "\tvar parameter = \"mode=\" + mode + \"&layout_tpl=\" + layout_tpl + \"&lay_no=\" + lay_no + \"&ajax_page=\" + page + \"&sec_no=\";\n",
              "\n",
              "\t$.ajax({\n",
              "\t\turl: \"/news/ajax.php\",\n",
              "\t\tdata: parameter,\n",
              "\t\tdataType: \"json\",\n",
              "\t\ttype:\"POST\",\n",
              "\t\terror: function(error) {\n",
              "\t\t\tconsole.log(error);\n",
              "\t\t\treturn;\n",
              "\t\t},\n",
              "\t\tsuccess: function(data){\n",
              "\n",
              "\t\t\tif(data.error_code)\n",
              "\t\t\t{\n",
              "\t\t\t\tconsole.log(data.error_message);\n",
              "\t\t\t\treturn false;\n",
              "\t\t\t}\n",
              "\t\t\t$(\"#skin_content_\" + lay_no).append($(data.html).find(\"#skin_content_\" + lay_no).html());\n",
              "\t\t\t$(\"#skin_content_\" + lay_no).attr(\"data-page\", page);\n",
              "\n",
              "\t\t\tif($(data.html).find(\"#skin_content_\" + lay_no).children().length >= $(\"#skin_content_\" + lay_no).attr(\"data-count\"))\n",
              "\t\t\t{\n",
              "\t\t\t\t$(\"#btn_more_\" + lay_no).show();\n",
              "\t\t\t}\n",
              "\t\t\t$(\"#btn_more_loading_\" + lay_no).hide();\n",
              "\t\t},\n",
              "\t});\n",
              "}\n",
              "</script>\n",
              "<style type=\"text/css\">\n",
              ".goog-te-banner-frame {\n",
              "    visibility: hidden !important;\n",
              "}\n",
              "\n",
              "body {\n",
              "    top: 0px !important;\n",
              "}\n",
              "</style>\n",
              "<script id=\"scripts-google-js\" src=\"//translate.google.com/translate_a/element.js?cb=GoogleLanguageTranslatorInit\" type=\"text/javascript\"></script>\n",
              "<script>\n",
              "function GoogleLanguageTranslatorInit() {\n",
              "    new google.translate.TranslateElement({\n",
              "        pageLanguage: 'ko',\n",
              "        includedLanguages: 'af,sq,am,ar,hy,az,eu,be,bn,bs,bg,ca,ceb,ny,zh-CN,zh-TW,co,hr,cs,da,nl,en,eo,et,tl,fi,fr,fy,gl,ka,de,el,gu,ht,ha,haw,iw,hi,hmn,hu,is,ig,id,ga,it,ja,jw,kn,kk,km,ko,ku,ky,lo,la,lv,lt,lb,mk,mg,ml,ms,mt,mi,mr,mn,my,ne,no,ps,fa,pl,pt,pa,ro,ru,sr,sn,st,sd,si,sk,sl,sm,gd,so,es,su,sw,sv,tg,ta,te,th,tr,uk,ur,uz,vi,cy,xh,yi,yo,zu',\n",
              "        autoDisplay: false\n",
              "    }, 'google_language_translator');\n",
              "}\n",
              "</script>\n",
              "</link></meta></meta></meta></meta></head>\n",
              "<body>\n",
              "<div id=\"body_wrap\">\n",
              "<div id=\"wrapper\">\n",
              "<!-- HEADER -->\n",
              "<div id=\"header\">\n",
              "<div class=\"head_wrap\">\n",
              "<h1 style=\"padding-top: 5px;\"><a href=\"./\"><img alt=\"LOGO\" src=\"https://www.h2news.kr/data/design/logo/mobile_toplogo_20210608134857.png\" style=\"max-height: 40px;\"/></a></h1>\n",
              "<a class=\"btn_menu\" href=\"javascript:void(0);\"><span class=\"blind\">메뉴</span></a>\n",
              "<a class=\"btn_search\" href=\"javascript:void(0);\"><span class=\"blind\">검색</span></a>\n",
              "<div class=\"default-language-ko art_trans\" id=\"google_language_translator\"></div>\n",
              "</div>\n",
              "<!-- Search box -->\n",
              "<div id=\"search_wrap\" style=\"display: none;\">\n",
              "<h2 class=\"blind\">Search</h2>\n",
              "<form action=\"./search_result.html\" id=\"form_search_top\" method=\"GET\">\n",
              "<fieldset>\n",
              "<div class=\"search_box\">\n",
              "<label class=\"blind\" for=\"\">검색어를 입력하세요.</label>\n",
              "<input class=\"search_input i_focus\" name=\"search\" placeholder=\"검색어를 입력하세요.\" type=\"text\"/>\n",
              "<a class=\"btn_search_txt\" href=\"#\" onclick=\"$('#form_search_top').submit();return false;\"><span class=\"blind\">검색</span></a>\n",
              "<a class=\"btn_search_close\" href=\"#\"><span class=\"blind\">닫기</span></a>\n",
              "</div>\n",
              "</fieldset>\n",
              "</form>\n",
              "</div>\n",
              "<!-- // Search box -->\n",
              "</div>\n",
              "<!-- // HEADER -->\n",
              "<!-- Content -->\n",
              "<div id=\"container\">\n",
              "<!-- Left content -->\n",
              "<div class=\"con_primary\">\n",
              "<div>\n",
              "<h3 class=\"page_tit_name\">\n",
              "\t\t\t\t\t\t\t\t\t\t\t\tINFOGRAPHIC\n",
              "\t\t\t\t\t\t\t\t\t\t\t</h3>\n",
              "<div class=\"m_arv_001\">\n",
              "<div class=\"news_top mov_fix\">\n",
              "<h3>수소산업 주요 통계(2022년 6월 30일 기준)</h3>\n",
              "<h4></h4>\n",
              "<em class=\"t01 icon_clock\">2022.07.29 11:37:00</em>\n",
              "<div class=\"a_right\">\n",
              "<a class=\"btn_zoom\" href=\"javascript:void(0)\" id=\"txtSize\">크게보기</a>\n",
              "</div>\n",
              "<!-- \n",
              "\t\t\t아이콘 순서\n",
              "\t\t\tbsm01 : 페이스북\n",
              "\t\t\tbsm02 : 트위터\n",
              "\t\t\tbsm03 : 구글+\n",
              "\t\t\tbsm04 : 카카오톡\n",
              "\t\t\tbsm05 : 카카오스토리\n",
              "\t\t\tbsm06 : 라인\n",
              "\t\t\tbsm07 : 네이버블로그\n",
              "\t\t\tbsm08 : 밴드\n",
              "\t\t\tbsm09 : 기타\n",
              "\t\t-->\n",
              "<ul class=\"btn_share_small\">\n",
              "<li class=\"bsm01\"><a href=\"#\" onclick=\"openSocial('facebook', 'https://www.h2news.kr/news/article.html?no=10159', '%EC%88%98%EC%86%8C%EC%82%B0%EC%97%85%20%EC%A3%BC%EC%9A%94%20%ED%86%B5%EA%B3%84%282022%EB%85%84%206%EC%9B%94%2030%EC%9D%BC%20%EA%B8%B0%EC%A4%80%29', 'www.h2news.kr', '월간수소경제',  '', '');return false;\">페북</a></li>\n",
              "<li class=\"bsm02\"><a href=\"#\" onclick=\"openSocial('twitter', 'https://www.h2news.kr/news/article.html?no=10159', '%EC%88%98%EC%86%8C%EC%82%B0%EC%97%85%20%EC%A3%BC%EC%9A%94%20%ED%86%B5%EA%B3%84%282022%EB%85%84%206%EC%9B%94%2030%EC%9D%BC%20%EA%B8%B0%EC%A4%80%29', 'www.h2news.kr', '월간수소경제',  '', '');return false;\">트윗</a></li>\n",
              "<li class=\"bsm04\"><a href=\"#\" onclick=\"openSocial('kakaotalk', 'https://www.h2news.kr/news/article.html?no=10159', '%EC%88%98%EC%86%8C%EC%82%B0%EC%97%85%20%EC%A3%BC%EC%9A%94%20%ED%86%B5%EA%B3%84%282022%EB%85%84%206%EC%9B%94%2030%EC%9D%BC%20%EA%B8%B0%EC%A4%80%29', 'www.h2news.kr', '월간수소경제',  '%26nbsp%3B%0D%0A%0D%0A%20%20%0D%0A%0D%0A%26nbsp%3B', 'https://www.h2news.kr/data/photos/20220730/art_16589013663043_5fd8a9.jpg', '680', '912');return false;\">카톡</a></li>\n",
              "<!--\n",
              "\t\t\t<li class=\"bsm03\"><a href=\"#\">구글</a></li>\n",
              "\t\t\t<li class=\"bsm05\"><a href=\"#\">카스</a></li>\n",
              "\t\t\t<li class=\"bsm06\"><a href=\"#\">라인</a></li>\n",
              "\t\t\t<li class=\"bsm07\"><a href=\"#\">네이버 블로그</a></li>\n",
              "\t\t\t<li class=\"bsm08\"><a href=\"#\">밴드</a></li>\n",
              "\t\t\t-->\n",
              "<li class=\"bsm09\"><a href=\"javascript:void(0);\" onclick=\"popupShow(popShare)\">기타</a></li>\n",
              "</ul>\n",
              "</div>\n",
              "<div class=\"news_detail\">\n",
              "<div class=\"news_con\">\n",
              "<p class=\"news_txt\" id=\"cnt_veiw\">\n",
              "<h4 class=\"sub_txt\">수소전기차 등록 대수 24,119대<br/>\n",
              "수소충전소 구축 현황 178기<br/>\n",
              "발전용 연료전지 공급 현황 805.73MW</h4>\n",
              "<div itemprop=\"articleBody\">\n",
              "<p><img alt=\"\" src=\"https://www.h2news.kr/data/photos/20220730/art_16589013651873_0425bc.jpg\" xtype=\"photo\"/> <img alt=\"\" src=\"https://www.h2news.kr/data/photos/20220730/art_16589013663043_5fd8a9.jpg\" xtype=\"photo\"/></p>\n",
              "<p> </p>\n",
              "<p><img alt=\"\" src=\"https://www.h2news.kr/data/photos/20220730/art_16589013675384_8355e3.jpg\" xtype=\"photo\"/> <img alt=\"\" src=\"https://www.h2news.kr/data/photos/20220730/art_16589013685528_ad55ac.jpg\" xtype=\"photo\"/> <img alt=\"\" src=\"https://www.h2news.kr/data/photos/20220730/art_16589013695846_5b752a.jpg\" xtype=\"photo\"/></p>\n",
              "<p> </p>\n",
              "<p><img alt=\"\" src=\"https://www.h2news.kr/data/photos/20220730/art_16589013706645_624477.jpg\" xtype=\"photo\"/></p>\n",
              "</div>\n",
              "<div class=\"art_more\">\n",
              "<a href=\"/mobile/article_list_writer.html?name=%EC%9B%94%EA%B0%84%EC%88%98%EC%86%8C%EA%B2%BD%EC%A0%9C+%ED%8E%B8%EC%A7%91%EB%B6%80\">\n",
              "<b>월간수소경제 편집부 </b>의 전체기사 보기\n",
              "\t\t\t\t</a>\n",
              "</div>\n",
              "\t\t\t\t\t\t\n",
              "\t\t\t\t\n",
              "\n",
              "\t\t\t\t월간수소경제 편집부  <a href=\"mailto:h2news@h2news.kr\">h2news@h2news.kr</a><br/>\n",
              "\n",
              "\t\t\t\t\t\t\t\tCopyright @2017 월간수소경제 Corp. All rights reserved.\n",
              "\t\t\t\t\t\t\t</p>\n",
              "</div>\n",
              "</div>\n",
              "</div>\n",
              "<script> \n",
              "function scaleImage($x,$y,$cx) \n",
              "{\n",
              "\t$nx = $cx;\n",
              "\n",
              "\tif($x > $cx)\n",
              "\t{\n",
              "\t\t$ratio = $cx / $x;\n",
              "\t\t$ny = Number($y * $ratio);\n",
              "\t}\n",
              "\telse if($x < $cx)\n",
              "\t{\n",
              "\t\t$ratio = $cx / $x;\n",
              "\t\t$ny = Number($y * $ratio);\n",
              "\t}\n",
              "\telse\n",
              "\t{\n",
              "\t\t$ny = $y;\n",
              "\t}\n",
              "   \n",
              "\treturn {'width':Number($nx), 'height':Number($ny)};\n",
              "}\n",
              "function imgResize() \n",
              "{ \n",
              "\tjQuery11('div[id=zumplayer]').addClass(\"x-movie\");\n",
              "\t\n",
              "\t$new_scale = scaleImage(jQuery11('div[id=zumplayer]').width(), jQuery11('div[id=zumplayer]').height(), $(\".news_con\").width());\n",
              "\tjQuery11('div[id=zumplayer]').attr(\"style\", \"width:\" + $new_scale.width + \"px;height:\" + $new_scale.height + \"px;\");\n",
              "\t\n",
              "\t$(\".news_detail img\").each(function() {\n",
              "\t\tif($(this).width() >= 320)\n",
              "\t\t{\n",
              "\t\t\t$(this).attr(\"style\", \"width:100%;height:inherit;\");\n",
              "\t\t}\n",
              "\t});\n",
              "\n",
              "\t$(\".news_detail iframe\").each(function() {\n",
              "\t\tif($(this).attr(\"xtype\") == \"movie\")\n",
              "\t\t{\n",
              "\t\t\t$new_scale = scaleImage($(this).width(), $(this).height(), $(\".news_con\").width());\n",
              "\t\t\t$(this).attr(\"style\", \"width:\" + $new_scale.width + \"px;height:\" + $new_scale.height + \"px;\");\n",
              "\t\t}\n",
              "\t});\n",
              "\n",
              "\t$(\".sm-image-c\").each(function() {\n",
              "\t\t// console.log($(this).width());\n",
              "\t\tif($(this).width() > 320)\n",
              "\t\t{\n",
              "\t\t\t$(this).attr(\"style\", \"width:100%;\");\n",
              "\t\t} else {\n",
              "\t\t\t$(this).parent().attr(\"style\", \"display:block;\");\n",
              "\t\t}\n",
              "\t});\n",
              "\n",
              "} \n",
              "$(window).load(function() {\n",
              "\timgResize();\n",
              "});\n",
              "</script>\n",
              "<script src=\"/js/caption_mobile.js\" type=\"text/javascript\"></script>\n",
              "<script type=\"text/javascript\">\n",
              "// 동영상 하단 고정\n",
              "jQuery11(window).load(function() {\n",
              "\tvar movieWrap = jQuery11('div').hasClass('x-movie');\n",
              "\t\n",
              "\tif(movieWrap == true) {\n",
              "\t\t$('.x-movie').children('iframe').wrap('<div class=\"mov_wrap\"></div>');\n",
              "\t\t$('.x-movie').eq(0).children('div').children('iframe').after('<a href=\"javascript:void(0)\">닫기</a>');\n",
              "\t\n",
              "\t\tvar xMovieTop = jQuery11('.x-movie').eq(0).offset().top;\n",
              "\t\tvar xMovieHei = jQuery11('.x-movie iframe').eq(0).outerHeight();\n",
              "\t\tvar total = xMovieTop + xMovieHei;\n",
              "\t\tvar screenFix = true;\n",
              "\t\t\n",
              "\t\tjQuery11('.x-movie').eq(0).css('height', xMovieHei + 'px').css('width', '100%');\n",
              "\t\t\n",
              "\t\tjQuery11('.x-movie > div > a').on('click', function(){\n",
              "\t\t\tscreenFix = false;\n",
              "\t\t\tjQuery11('.x-movie').eq(0).removeClass('fixed');\n",
              "\t\t\treturn false;\n",
              "\t\t});\n",
              "\t\t\n",
              "\t\tjQuery11(window).scroll(function(){\n",
              "\t\t\t\n",
              "\t\t\tvar movTopFix = jQuery11(this).scrollTop();\n",
              "\t\t\t\n",
              "\t\t\tif($(window).scrollTop() == 0){\n",
              "\t\t\t\tscreenFix = true\n",
              "\t\t\t};\n",
              "\t\t\t\n",
              "\t\t\tif(movTopFix >= total && screenFix){\n",
              "\t\t\t\tscreenFix = true;\n",
              "\t\t\t\tjQuery11('.x-movie').eq(0).addClass('fixed');\n",
              "\t\t\t}\n",
              "\t\t\telse {\n",
              "\t\t\t\tjQuery11('.x-movie').eq(0).removeClass('fixed');\n",
              "\t\t\t};\n",
              "\t\t\t\n",
              "\t\t}).trigger('scroll');\n",
              "\t}\n",
              "\t\n",
              "});\n",
              "</script>\n",
              "</div>\n",
              "</div>\n",
              "<!-- // Left content -->\n",
              "<!-- Right content -->\n",
              "<div class=\"con_secondary\">\n",
              "<div>\n",
              "</div>\n",
              "</div>\n",
              "<!-- // Right content -->\n",
              "<div class=\"btn_float\" style=\"display: none;\">\n",
              "<a class=\"btn_top\" href=\"javascript:void(0)\" onclick=\"goToByScroll('body_wrap')\"><span class=\"blind\">맨 위로</span></a>\n",
              "<a class=\"btn_home\" href=\"./\"><span class=\"blind\">홈</span></a>\n",
              "</div>\n",
              "</div>\n",
              "<!-- // Content -->\n",
              "<!-- footer -->\n",
              "<div id=\"footer\">\n",
              "<div>\n",
              "<ul class=\"ver_btn\">\n",
              "<li><a href=\"./login.html\">로그인</a></li>\n",
              "<li><a href=\"/?mobile\">PC버전</a></li>\n",
              "</ul>\n",
              "<p>(주)수소지식그룹 서울특별시 금천구 가산디지털1로 75-15, 910호 (가산동 가산하우스디와이즈타워)<br/>\n",
              "등록번호 : 금천, 라00205 | 대표자 : 장성혁 | 발행인 : 주식회사 수소지식그룹(장성혁) | 편집인 : 장성혁 | 전화번호 : 02-6929-1270 | 팩스 : 02-6929-1271<br/>\n",
              "사업자 등록번호 : <a href=\"https://teht.hometax.go.kr/websquare/websquare.html?w2xPath=/ui/ab/a/a/UTEABAAA13.xml\" target=\"_blank\">469-88-00570</a><br/>\n",
              "통신판매업 신고번호 : <a href=\"http://www.ftc.go.kr/www/bizCommList.do?key=232\" target=\"_blank\">제 2018-서울금천-0117 호</a><br/>\n",
              "<b>Copyright ©2017 월간수소경제. All rights reserved.</b></p>\n",
              "<h6><a href=\"http://www.mediaon.co.kr/\" target=\"_blank\"><img alt=\"Powered by MediaOn\" height=\"12\" src=\"/data/skin/layout/1/m11/images/img/footer_logo.png\" width=\"99\"/></a></h6>\n",
              "</div>\n",
              "</div>\n",
              "<!-- // footer -->\n",
              "<!-- Link Mask -->\n",
              "<div class=\"l_mask\" style=\"display:none;\"></div>\n",
              "<!-- Link Mask -->\n",
              "</div>\n",
              "<!-- Aside -->\n",
              "<div id=\"aside_wrap\">\n",
              "<div class=\"search_top\">\n",
              "<h1><a href=\"./\"><img alt=\"LOGO\" src=\"https://www.h2news.kr/data/design/logo/mobile_toplogo_20210608134857.png\" style=\"max-height: 30px;\"/></a></h1>\n",
              "<a class=\"btn_close\" href=\"#\" onclick=\"return false;\"><span class=\"blind\">창닫기</span></a>\n",
              "</div>\n",
              "<div class=\"user_wrap\">\n",
              "<ul class=\"ver_btn white\">\n",
              "<li><a href=\"./login.html\">로그인</a></li>\n",
              "</ul>\n",
              "</div>\n",
              "<ul id=\"gnb\">\n",
              "<li class=\"solo\">\n",
              "<a href=\"/mobile/article_list_all.html\">전체기사<span></span></a>\n",
              "</li>\n",
              "<li>\n",
              "<a href=\"javascript:void(0);\">COVER STORY<span></span></a>\n",
              "<ul>\n",
              "<li><a href=\"/mobile/section_list_all.html?sec_no=25\">COVER STORY 전체</a></li>\n",
              "<li><a href=\"/mobile/section_list_all.html?sec_no=36\">Theme 1</a></li>\n",
              "<li><a href=\"/mobile/section_list_all.html?sec_no=37\">Theme 2</a></li>\n",
              "<li><a href=\"/mobile/section_list_all.html?sec_no=38\">Theme 3</a></li>\n",
              "<li><a href=\"/mobile/section_list_all.html?sec_no=67\">Theme 4</a></li>\n",
              "</ul>\n",
              "</li>\n",
              "<li>\n",
              "<a href=\"javascript:void(0);\">SPECIAL LOUNGE<span></span></a>\n",
              "<ul>\n",
              "<li><a href=\"/mobile/section_list_all.html?sec_no=3\">SPECIAL LOUNGE 전체</a></li>\n",
              "<li><a href=\"/mobile/section_list_all.html?sec_no=40\">FOCUS</a></li>\n",
              "<li><a href=\"/mobile/section_list_all.html?sec_no=41\">HOT ISSUE</a></li>\n",
              "<li><a href=\"/mobile/section_list_all.html?sec_no=68\">TREND</a></li>\n",
              "<li><a href=\"/mobile/section_list_all.html?sec_no=86\">광고</a></li>\n",
              "</ul>\n",
              "</li>\n",
              "<li>\n",
              "<a href=\"javascript:void(0);\">실시간 뉴스<span></span></a>\n",
              "<ul>\n",
              "<li><a href=\"/mobile/section_list_all.html?sec_no=5\">실시간 뉴스 전체</a></li>\n",
              "<li><a href=\"/mobile/section_list_all.html?sec_no=42\">주요 단신</a></li>\n",
              "<li><a href=\"/mobile/section_list_all.html?sec_no=43\">주요 정책</a></li>\n",
              "</ul>\n",
              "</li>\n",
              "<li>\n",
              "<a href=\"javascript:void(0);\">CLOSE UP<span></span></a>\n",
              "<ul>\n",
              "<li><a href=\"/mobile/section_list_all.html?sec_no=31\">CLOSE UP 전체</a></li>\n",
              "<li><a href=\"/mobile/section_list_all.html?sec_no=46\">PEOPLE</a></li>\n",
              "<li><a href=\"/mobile/section_list_all.html?sec_no=47\">INSIDE</a></li>\n",
              "<li><a href=\"/mobile/section_list_all.html?sec_no=87\">광고</a></li>\n",
              "</ul>\n",
              "</li>\n",
              "<li class=\"solo\">\n",
              "<a href=\"/mobile/section_list_all.html?sec_no=7\">GLOBAL NEWS<span></span></a>\n",
              "</li>\n",
              "<li>\n",
              "<a href=\"javascript:void(0);\">ETC<span></span></a>\n",
              "<ul>\n",
              "<li><a href=\"/mobile/section_list_all.html?sec_no=57\">ETC 전체</a></li>\n",
              "<li><a href=\"/mobile/section_list_all.html?sec_no=69\">편집장 칼럼</a></li>\n",
              "<li><a href=\"/mobile/section_list_all.html?sec_no=71\">後</a></li>\n",
              "<li><a href=\"/mobile/section_list_all.html?sec_no=73\">주요 행사</a></li>\n",
              "</ul>\n",
              "</li>\n",
              "</ul>\n",
              "<div class=\"aside_bot\">\n",
              "<ul class=\"ver_btn\">\n",
              "<li><a href=\"./login.html\">로그인</a></li>\n",
              "<li><a href=\"/?mobile\">PC버전</a></li>\n",
              "</ul>\n",
              "<p>(주)수소지식그룹 서울특별시 금천구 가산디지털1로 75-15, 910호 (가산동 가산하우스디와이즈타워)<br/>\n",
              "등록번호 : 금천, 라00205 | 대표자 : 장성혁 | 발행인 : 주식회사 수소지식그룹(장성혁) | 편집인 : 장성혁 | 전화번호 : 02-6929-1270 | 팩스 : 02-6929-1271<br/>\n",
              "사업자 등록번호 : <a href=\"https://teht.hometax.go.kr/websquare/websquare.html?w2xPath=/ui/ab/a/a/UTEABAAA13.xml\" target=\"_blank\">469-88-00570</a><br/>\n",
              "통신판매업 신고번호 : <a href=\"http://www.ftc.go.kr/www/bizCommList.do?key=232\" target=\"_blank\">제 2018-서울금천-0117 호</a><br/>\n",
              "<b>Copyright ©2017 월간수소경제. All rights reserved.</b></p></div></div></div></body></html>\n",
              "\n",
              "\n",
              "<!-- // Aside -->\n",
              "\n",
              "<script type=\"text/javascript\">\n",
              "var gtracker_type = 0;\t// 0:접속자,1:페이지뷰\n",
              "document.write(unescape(\"%3Cscript src='/weblog/gtracker.js' type='text/javascript'%3E%3C/script%3E\"));\n",
              "</script>\n",
              "<script src=\"//wcs.naver.net/wcslog.js\" type=\"text/javascript\"></script>\n",
              "<script type=\"text/javascript\">\n",
              "if(!wcs_add) var wcs_add = {};\n",
              "wcs_add[\"wa\"] = \"19f33e6b70079\";\n",
              "if(window.wcs) {\n",
              "wcs_do();\n",
              "}\n",
              "</script>\n",
              "<meta content=\"원문 제목: 수소산업 주요 통계(2022년 6월 30일 기준)\" name=\"nate-note\"/>\n",
              "<script src=\"//developers.kakao.com/sdk/js/kakao.min.js\"></script>\n",
              "<script src=\"/js/social.js\" type=\"text/javascript\"></script>\n",
              "<script>\n",
              "<!--\n",
              "Kakao.init('2c90c6f0f618392f1bf5903ed121d952');\n",
              "//-->\n",
              "</script>\n",
              "<!-- SHARE LAYER POPUP -->\n",
              "<div class=\"l_pop\" id=\"popShare\" style=\"display:none;\">\n",
              "<h5 class=\"pop_tit\">공유하기</h5>\n",
              "<a class=\"pop_close\" href=\"javascript:void(0);\"><span class=\"blind\">Close</span></a>\n",
              "<div class=\"pop_con\">\n",
              "<ul class=\"btn_share\">\n",
              "<li class=\"bs01\"><a href=\"#\" onclick=\"openSocial('facebook', 'https://www.h2news.kr/news/article.html?no=10159', '%EC%88%98%EC%86%8C%EC%82%B0%EC%97%85%20%EC%A3%BC%EC%9A%94%20%ED%86%B5%EA%B3%84%282022%EB%85%84%206%EC%9B%94%2030%EC%9D%BC%20%EA%B8%B0%EC%A4%80%29', 'www.h2news.kr', '월간수소경제',  '', '');return false;\">페북</a></li>\n",
              "<li class=\"bs02\"><a href=\"#\" onclick=\"openSocial('twitter', 'https://www.h2news.kr/news/article.html?no=10159', '%EC%88%98%EC%86%8C%EC%82%B0%EC%97%85%20%EC%A3%BC%EC%9A%94%20%ED%86%B5%EA%B3%84%282022%EB%85%84%206%EC%9B%94%2030%EC%9D%BC%20%EA%B8%B0%EC%A4%80%29', 'www.h2news.kr', '월간수소경제',  '', '');return false;\">트윗</a></li>\n",
              "<li class=\"bs04\"><a href=\"#\" onclick=\"openSocial('kakaotalk', 'https://www.h2news.kr/news/article.html?no=10159', '%EC%88%98%EC%86%8C%EC%82%B0%EC%97%85%20%EC%A3%BC%EC%9A%94%20%ED%86%B5%EA%B3%84%282022%EB%85%84%206%EC%9B%94%2030%EC%9D%BC%20%EA%B8%B0%EC%A4%80%29', 'www.h2news.kr', '월간수소경제',  '', '');return false;\">카톡</a></li>\n",
              "<li class=\"bs05\"><a href=\"#\" onclick=\"openSocial('kakaostory', 'https://www.h2news.kr/news/article.html?no=10159', '%EC%88%98%EC%86%8C%EC%82%B0%EC%97%85%20%EC%A3%BC%EC%9A%94%20%ED%86%B5%EA%B3%84%282022%EB%85%84%206%EC%9B%94%2030%EC%9D%BC%20%EA%B8%B0%EC%A4%80%29', 'www.h2news.kr', '월간수소경제',  '', '');return false;\">카스</a></li>\n",
              "<li class=\"bs06\"><a href=\"#\" onclick=\"openSocial('line', 'https://www.h2news.kr/news/article.html?no=10159', '%EC%88%98%EC%86%8C%EC%82%B0%EC%97%85%20%EC%A3%BC%EC%9A%94%20%ED%86%B5%EA%B3%84%282022%EB%85%84%206%EC%9B%94%2030%EC%9D%BC%20%EA%B8%B0%EC%A4%80%29', 'www.h2news.kr', '월간수소경제',  '', '');return false;\">라인</a></li>\n",
              "<li class=\"bs07\"><a href=\"#\" onclick=\"openSocial('naverblog', 'https://www.h2news.kr/news/article.html?no=10159', '%EC%88%98%EC%86%8C%EC%82%B0%EC%97%85%20%EC%A3%BC%EC%9A%94%20%ED%86%B5%EA%B3%84%282022%EB%85%84%206%EC%9B%94%2030%EC%9D%BC%20%EA%B8%B0%EC%A4%80%29', 'www.h2news.kr', '월간수소경제',  '', '');return false;\">네이버 블로그</a></li>\n",
              "<li class=\"bs03\"><a href=\"#\" onclick=\"openSocial('navershare', 'https://www.h2news.kr/news/article.html?no=10159', '%EC%88%98%EC%86%8C%EC%82%B0%EC%97%85%20%EC%A3%BC%EC%9A%94%20%ED%86%B5%EA%B3%84%282022%EB%85%84%206%EC%9B%94%2030%EC%9D%BC%20%EA%B8%B0%EC%A4%80%29', 'www.h2news.kr', '월간수소경제',  '', '');return false;\">네이버카페</a></li>\n",
              "<li class=\"bs08\"><a href=\"#\" onclick=\"openSocial('band', 'https://www.h2news.kr/news/article.html?no=10159', '%EC%88%98%EC%86%8C%EC%82%B0%EC%97%85%20%EC%A3%BC%EC%9A%94%20%ED%86%B5%EA%B3%84%282022%EB%85%84%206%EC%9B%94%2030%EC%9D%BC%20%EA%B8%B0%EC%A4%80%29', 'www.h2news.kr', '월간수소경제',  '', '');return false;\">밴드</a></li>\n",
              "</ul>\n",
              "<style>\n",
              "\t\t.share_url_wrap a { display: block; border-radius: 5px; padding: 7px 55px 7px 10px; box-sizing: border-box; overflow: hidden; background: #fff !important; color: #3a78d4; letter-spacing: -0.03em;}\n",
              "\t\t.share_url_wrap a span { display: block; position: absolute; right: 0; top: 0; background: #eee; width: 50px; height: 100%; line-height: 100%; text-align: center; border-left: 1px solid #eaeaea; font-weight: bold; color: #222; display: flex; justify-content: center; align-items: center;}\n",
              "\t\t</style>\n",
              "<div class=\"share_url_wrap\">\n",
              "<a href=\"#\" onclick=\"copyTrackback('https://www.h2news.kr/news/article.html?no=10159');return false;\">https://www.h2news.kr/news/article.html?no=10159 <span>url복사</span></a>\n",
              "</div>\n",
              "<div style=\"position:absolute;width:1px;height:1px;z-index:-1;overflow:hidden;\"><textarea id=\"copy_trackback\" style=\"width:1px;height:1px;border:0;\"></textarea></div>\n",
              "<script type=\"text/javascript\">\n",
              "\t\t// url 복사\n",
              "\t\tfunction copyTrackback(url) \n",
              "\t\t{\n",
              "\t\t\tvar IE = (document.all) ? true : false;\n",
              "\t\t\tif (IE) \n",
              "\t\t\t{\n",
              "\t\t\t\twindow.clipboardData.setData('Text', url);//링크 주소 복사\n",
              "\t\t\t\talert(\"주소가 복사되었습니다.\\n원하는 곳에 붙여넣기(Ctrl+V)해 주세요.\");\n",
              "\t\t\t} \n",
              "\t\t\telse \n",
              "\t\t\t{\n",
              "\t\t\t\tvar tmpTextarea = document.getElementById('copy_trackback');\n",
              "\t\t\t\ttmpTextarea.value = url;\n",
              "\t\t\t\ttmpTextarea.select();\n",
              "\t\t\t\ttmpTextarea.setSelectionRange(0, 9999);  // 셀렉트 범위 설정\n",
              "\t\t\n",
              "\t\t\t\tdocument.execCommand('copy');\n",
              "\t\t\t\t\n",
              "\t\t\t\ttmpTextarea.blur();\n",
              "\t\t\t\t\n",
              "\t\t\t\talert(\"주소가 복사되었습니다.\\n원하는 곳에 붙여넣기(Ctrl+V)해 주세요.\");\n",
              "\t\t\t\t\n",
              "\t\t\t\t\n",
              "\t\t\t\t$('#popShare, .mask').hide();\n",
              "\t\t\t}\n",
              "\t\t}\n",
              "\t\t</script>\n",
              "</div>\n",
              "</div>\n",
              "\n",
              "\n",
              "<!-- MAKE CACHE (2022-08-18 15:31:38) -->\n",
              "<!-- FILE CACHE PAGE(2022/08/18 03:31:38) -->"
            ]
          },
          "metadata": {},
          "execution_count": 76
        }
      ]
    },
    {
      "cell_type": "code",
      "source": [
        "# 검색결과\n",
        "#기사 내용 가져오기\n",
        "articles = news_html.select(\"div.news_con > p.news_txt > h4\")\n",
        "articles\n",
        "\n",
        "contents = []\n",
        "for i in articles:\n",
        "    contents.append(i.text)\n",
        "contents"
      ],
      "metadata": {
        "colab": {
          "base_uri": "https://localhost:8080/"
        },
        "id": "iSnJFaw1Wn3V",
        "outputId": "43a2a9c8-87be-4987-dc4e-e0fcc8c07635"
      },
      "execution_count": null,
      "outputs": [
        {
          "output_type": "execute_result",
          "data": {
            "text/plain": [
              "['수소전기차 등록 대수 24,119대\\r\\n수소충전소 구축 현황 178기\\r\\n발전용 연료전지 공급 현황 805.73MW']"
            ]
          },
          "metadata": {},
          "execution_count": 77
        }
      ]
    },
    {
      "cell_type": "code",
      "source": [
        "str_contents = contents[0]\n",
        "str_contents"
      ],
      "metadata": {
        "colab": {
          "base_uri": "https://localhost:8080/",
          "height": 35
        },
        "id": "0L3_G1093yoy",
        "outputId": "b2c4d702-5bb9-48f2-9997-36c5dbcaa660"
      },
      "execution_count": null,
      "outputs": [
        {
          "output_type": "execute_result",
          "data": {
            "text/plain": [
              "'수소전기차 등록 대수 24,119대\\r\\n수소충전소 구축 현황 178기\\r\\n발전용 연료전지 공급 현황 805.73MW'"
            ],
            "application/vnd.google.colaboratory.intrinsic+json": {
              "type": "string"
            }
          },
          "metadata": {},
          "execution_count": 80
        }
      ]
    },
    {
      "cell_type": "code",
      "source": [
        "strings = str_contents.split()\n",
        "news_h2car = re.sub(r'[^0-9]', '', strings[3])\n",
        "news_h2station = re.sub(r'[^0-9]', '', strings[7])\n",
        "print(news_h2car, news_h2station)\n",
        "'''\n",
        "['수소전기차', '등록', '대수', '24,119대', '수소충전소', '구축', '현황', '178기', '발전용', '연료전지', '공급', '현황', '805.73MW']\n",
        "'''"
      ],
      "metadata": {
        "colab": {
          "base_uri": "https://localhost:8080/",
          "height": 54
        },
        "id": "T_6YEGIp3NXV",
        "outputId": "6f058536-eb10-4020-ec5e-19d19cf7998e"
      },
      "execution_count": null,
      "outputs": [
        {
          "output_type": "stream",
          "name": "stdout",
          "text": [
            "24119 178\n"
          ]
        },
        {
          "output_type": "execute_result",
          "data": {
            "text/plain": [
              "\"\\n['수소전기차', '등록', '대수', '24,119대', '수소충전소', '구축', '현황', '178기', '발전용', '연료전지', '공급', '현황', '805.73MW']\\n\""
            ],
            "application/vnd.google.colaboratory.intrinsic+json": {
              "type": "string"
            }
          },
          "metadata": {},
          "execution_count": 116
        }
      ]
    },
    {
      "cell_type": "code",
      "source": [
        "###데이터 프레임으로 만들기###\n",
        "import pandas as pd\n",
        "\n",
        "#데이터 프레임 만들기\n",
        "news_df = pd.DataFrame(columns = ['year', 'month', 'day', 'h2car', 'h2station'])\n",
        "news_df.loc[0] = [news_year, news_month, news_day, news_h2car, news_h2station]\n",
        "#news_df = pd.DataFrame({'year':news_year,'month':news_month,'day':news_day,'h2car':strings[3], 'h2station':strings[7]})\n",
        "news_df"
      ],
      "metadata": {
        "colab": {
          "base_uri": "https://localhost:8080/",
          "height": 81
        },
        "id": "dJP44O8QWnw-",
        "outputId": "8fddaf5e-f13d-437a-c3e2-30fe7bdf7d7f"
      },
      "execution_count": null,
      "outputs": [
        {
          "output_type": "execute_result",
          "data": {
            "text/plain": [
              "   year month day  h2car h2station\n",
              "0  2022     6  30  24119       178"
            ],
            "text/html": [
              "\n",
              "  <div id=\"df-77deb19f-27c3-41df-96d5-29e0945f1a14\">\n",
              "    <div class=\"colab-df-container\">\n",
              "      <div>\n",
              "<style scoped>\n",
              "    .dataframe tbody tr th:only-of-type {\n",
              "        vertical-align: middle;\n",
              "    }\n",
              "\n",
              "    .dataframe tbody tr th {\n",
              "        vertical-align: top;\n",
              "    }\n",
              "\n",
              "    .dataframe thead th {\n",
              "        text-align: right;\n",
              "    }\n",
              "</style>\n",
              "<table border=\"1\" class=\"dataframe\">\n",
              "  <thead>\n",
              "    <tr style=\"text-align: right;\">\n",
              "      <th></th>\n",
              "      <th>year</th>\n",
              "      <th>month</th>\n",
              "      <th>day</th>\n",
              "      <th>h2car</th>\n",
              "      <th>h2station</th>\n",
              "    </tr>\n",
              "  </thead>\n",
              "  <tbody>\n",
              "    <tr>\n",
              "      <th>0</th>\n",
              "      <td>2022</td>\n",
              "      <td>6</td>\n",
              "      <td>30</td>\n",
              "      <td>24119</td>\n",
              "      <td>178</td>\n",
              "    </tr>\n",
              "  </tbody>\n",
              "</table>\n",
              "</div>\n",
              "      <button class=\"colab-df-convert\" onclick=\"convertToInteractive('df-77deb19f-27c3-41df-96d5-29e0945f1a14')\"\n",
              "              title=\"Convert this dataframe to an interactive table.\"\n",
              "              style=\"display:none;\">\n",
              "        \n",
              "  <svg xmlns=\"http://www.w3.org/2000/svg\" height=\"24px\"viewBox=\"0 0 24 24\"\n",
              "       width=\"24px\">\n",
              "    <path d=\"M0 0h24v24H0V0z\" fill=\"none\"/>\n",
              "    <path d=\"M18.56 5.44l.94 2.06.94-2.06 2.06-.94-2.06-.94-.94-2.06-.94 2.06-2.06.94zm-11 1L8.5 8.5l.94-2.06 2.06-.94-2.06-.94L8.5 2.5l-.94 2.06-2.06.94zm10 10l.94 2.06.94-2.06 2.06-.94-2.06-.94-.94-2.06-.94 2.06-2.06.94z\"/><path d=\"M17.41 7.96l-1.37-1.37c-.4-.4-.92-.59-1.43-.59-.52 0-1.04.2-1.43.59L10.3 9.45l-7.72 7.72c-.78.78-.78 2.05 0 2.83L4 21.41c.39.39.9.59 1.41.59.51 0 1.02-.2 1.41-.59l7.78-7.78 2.81-2.81c.8-.78.8-2.07 0-2.86zM5.41 20L4 18.59l7.72-7.72 1.47 1.35L5.41 20z\"/>\n",
              "  </svg>\n",
              "      </button>\n",
              "      \n",
              "  <style>\n",
              "    .colab-df-container {\n",
              "      display:flex;\n",
              "      flex-wrap:wrap;\n",
              "      gap: 12px;\n",
              "    }\n",
              "\n",
              "    .colab-df-convert {\n",
              "      background-color: #E8F0FE;\n",
              "      border: none;\n",
              "      border-radius: 50%;\n",
              "      cursor: pointer;\n",
              "      display: none;\n",
              "      fill: #1967D2;\n",
              "      height: 32px;\n",
              "      padding: 0 0 0 0;\n",
              "      width: 32px;\n",
              "    }\n",
              "\n",
              "    .colab-df-convert:hover {\n",
              "      background-color: #E2EBFA;\n",
              "      box-shadow: 0px 1px 2px rgba(60, 64, 67, 0.3), 0px 1px 3px 1px rgba(60, 64, 67, 0.15);\n",
              "      fill: #174EA6;\n",
              "    }\n",
              "\n",
              "    [theme=dark] .colab-df-convert {\n",
              "      background-color: #3B4455;\n",
              "      fill: #D2E3FC;\n",
              "    }\n",
              "\n",
              "    [theme=dark] .colab-df-convert:hover {\n",
              "      background-color: #434B5C;\n",
              "      box-shadow: 0px 1px 3px 1px rgba(0, 0, 0, 0.15);\n",
              "      filter: drop-shadow(0px 1px 2px rgba(0, 0, 0, 0.3));\n",
              "      fill: #FFFFFF;\n",
              "    }\n",
              "  </style>\n",
              "\n",
              "      <script>\n",
              "        const buttonEl =\n",
              "          document.querySelector('#df-77deb19f-27c3-41df-96d5-29e0945f1a14 button.colab-df-convert');\n",
              "        buttonEl.style.display =\n",
              "          google.colab.kernel.accessAllowed ? 'block' : 'none';\n",
              "\n",
              "        async function convertToInteractive(key) {\n",
              "          const element = document.querySelector('#df-77deb19f-27c3-41df-96d5-29e0945f1a14');\n",
              "          const dataTable =\n",
              "            await google.colab.kernel.invokeFunction('convertToInteractive',\n",
              "                                                     [key], {});\n",
              "          if (!dataTable) return;\n",
              "\n",
              "          const docLinkHtml = 'Like what you see? Visit the ' +\n",
              "            '<a target=\"_blank\" href=https://colab.research.google.com/notebooks/data_table.ipynb>data table notebook</a>'\n",
              "            + ' to learn more about interactive tables.';\n",
              "          element.innerHTML = '';\n",
              "          dataTable['output_type'] = 'display_data';\n",
              "          await google.colab.output.renderOutput(dataTable, element);\n",
              "          const docLink = document.createElement('div');\n",
              "          docLink.innerHTML = docLinkHtml;\n",
              "          element.appendChild(docLink);\n",
              "        }\n",
              "      </script>\n",
              "    </div>\n",
              "  </div>\n",
              "  "
            ]
          },
          "metadata": {},
          "execution_count": 117
        }
      ]
    },
    {
      "cell_type": "code",
      "source": [
        ""
      ],
      "metadata": {
        "id": "jYSrpZEG4X2c"
      },
      "execution_count": null,
      "outputs": []
    },
    {
      "cell_type": "markdown",
      "source": [
        "#수소충전소 위치 데이터 크롤링"
      ],
      "metadata": {
        "id": "5Iv0doGFwKNJ"
      }
    },
    {
      "cell_type": "code",
      "source": [
        "import os\n",
        "\n",
        "CURR_PATH = os.getcwd()\n",
        "CURR_PATH\n",
        "os.listdir(CURR_PATH)"
      ],
      "metadata": {
        "colab": {
          "base_uri": "https://localhost:8080/"
        },
        "id": "nKncuTTZwtfg",
        "outputId": "7f0380b3-589b-4344-da67-573ec5843ab3"
      },
      "execution_count": null,
      "outputs": [
        {
          "output_type": "execute_result",
          "data": {
            "text/plain": [
              "['result-congress-26-tune1.csv',\n",
              " '도로안전표지현황(개방표준).csv',\n",
              " '횡단보도현황(개방표준).csv',\n",
              " '신호등현황(개방표준).csv',\n",
              " '도로터널정보현황(개방표준).csv',\n",
              " '일반음식점(복어취급)현황.csv',\n",
              " 'data_imputation_MICE.csv',\n",
              " 'output_h2car_register.csv',\n",
              " 'h2station_location.xlsx']"
            ]
          },
          "metadata": {},
          "execution_count": 80
        }
      ]
    },
    {
      "cell_type": "code",
      "source": [
        "CURR_PATH = os.getcwd()\n",
        "\n",
        "os.listdir(CURR_PATH)\n",
        "SAVE_PATH = CURR_PATH + '/drive/MyDrive/Colab Notebooks/data_set/'"
      ],
      "metadata": {
        "id": "VjkT98sExTY8"
      },
      "execution_count": null,
      "outputs": []
    },
    {
      "cell_type": "code",
      "source": [
        "from inspect import getfile\n",
        "import re\n",
        "from urllib import request\n",
        "from urllib.error import HTTPError\n",
        "from bs4 import BeautifulSoup\n",
        "import requests\n",
        "\n",
        "url = \"https://www.ev.or.kr/portal/monitor/h2Excel\"\n",
        "savename = 'h2station_location.csv'\n",
        "\n",
        "if os.path.isfile(SAVE_PATH + savename) == True:\n",
        "  print('already')\n",
        "else:\n",
        "  #!wget https://raw.githubusercontent.com/olivia-sp/h2-station-dev/main/data_set/result-congress-26-tune1.csv\n",
        "  try :\n",
        "    request.urlretrieve(url, savename)\n",
        "    print('다운로드 완료\\n')\n",
        "  except HTTPError as e:\n",
        "    print('error')\n",
        "#% cd /content\n",
        "\n"
      ],
      "metadata": {
        "id": "_VQfMGJAv8OD",
        "colab": {
          "base_uri": "https://localhost:8080/"
        },
        "outputId": "808781de-6448-48d7-c5ba-4d3dd660700f"
      },
      "execution_count": null,
      "outputs": [
        {
          "output_type": "stream",
          "name": "stdout",
          "text": [
            "다운로드 완료\n",
            "\n"
          ]
        }
      ]
    },
    {
      "cell_type": "code",
      "source": [
        "os.path.isfile(SAVE_PATH + savename)"
      ],
      "metadata": {
        "colab": {
          "base_uri": "https://localhost:8080/"
        },
        "id": "3YvNRt1b2_bF",
        "outputId": "539ffb87-1f77-492b-dc42-107154eac203"
      },
      "execution_count": null,
      "outputs": [
        {
          "output_type": "execute_result",
          "data": {
            "text/plain": [
              "False"
            ]
          },
          "metadata": {},
          "execution_count": 83
        }
      ]
    },
    {
      "cell_type": "code",
      "source": [
        ""
      ],
      "metadata": {
        "id": "j9ed73V93Mhs"
      },
      "execution_count": null,
      "outputs": []
    },
    {
      "cell_type": "markdown",
      "source": [
        "# 데이터 전처리"
      ],
      "metadata": {
        "id": "OJGgMPYy6J1Q"
      }
    },
    {
      "cell_type": "code",
      "source": [
        "import pandas as pd\n",
        "import os\n",
        "import csv\n",
        "\n",
        "from sklearn.model_selection import train_test_split\n",
        "import numpy as np\n",
        "\n",
        "import matplotlib.pyplot as plt\n",
        "import seaborn as sns\n",
        "import datetime as dt\n"
      ],
      "metadata": {
        "id": "SU2WAO4e6Wsg"
      },
      "execution_count": 1,
      "outputs": []
    },
    {
      "cell_type": "code",
      "source": [
        "import os\n",
        "\n",
        "if os.path.isfile('/content/drive/MyDrive/Colab Notebooks/data_set/h2station_location.xlsx') == True:\n",
        "  print('already')\n",
        "  FILE_PATH = '/content/drive/MyDrive/Colab Notebooks/data_set/h2station_location.xlsx'\n",
        "else:\n",
        "  #os.mkdir('data_set')\n",
        "  %cd data_set\n",
        "  !wget https://raw.githubusercontent.com/olivia-sp/h2-station-dev/main/data_set/h2station_location.xlsx\n",
        "\n",
        "# % cd /content\n"
      ],
      "metadata": {
        "colab": {
          "base_uri": "https://localhost:8080/"
        },
        "id": "xDmzC3e96Ok9",
        "outputId": "c17d09ff-a0e7-4574-9a28-3ebf5eb0cc76"
      },
      "execution_count": 2,
      "outputs": [
        {
          "output_type": "stream",
          "name": "stdout",
          "text": [
            "already\n"
          ]
        }
      ]
    },
    {
      "cell_type": "code",
      "source": [
        "#런타임 처음\n",
        "CURR_PATH = os.getcwd()\n",
        "\n",
        "os.listdir(CURR_PATH)\n",
        "SAVE_PATH = CURR_PATH + '/drive/MyDrive/Colab Notebooks/data_set/'\n",
        "savename = 'h2station_location.csv'\n",
        "FILE_PATH = SAVE_PATH + savename"
      ],
      "metadata": {
        "id": "meGYFti26Oi3"
      },
      "execution_count": 3,
      "outputs": []
    },
    {
      "cell_type": "code",
      "source": [
        "#pip install --upgrade xlrd"
      ],
      "metadata": {
        "colab": {
          "base_uri": "https://localhost:8080/",
          "height": 290
        },
        "id": "JeWVBbGuGS7e",
        "outputId": "c5ca0b75-7710-4e3c-d029-14c09e8e71ef"
      },
      "execution_count": 8,
      "outputs": [
        {
          "output_type": "stream",
          "name": "stdout",
          "text": [
            "Looking in indexes: https://pypi.org/simple, https://us-python.pkg.dev/colab-wheels/public/simple/\n",
            "Requirement already satisfied: xlrd in /usr/local/lib/python3.7/dist-packages (1.1.0)\n",
            "Collecting xlrd\n",
            "  Downloading xlrd-2.0.1-py2.py3-none-any.whl (96 kB)\n",
            "\u001b[K     |████████████████████████████████| 96 kB 2.3 MB/s \n",
            "\u001b[?25hInstalling collected packages: xlrd\n",
            "  Attempting uninstall: xlrd\n",
            "    Found existing installation: xlrd 1.1.0\n",
            "    Uninstalling xlrd-1.1.0:\n",
            "      Successfully uninstalled xlrd-1.1.0\n",
            "Successfully installed xlrd-2.0.1\n"
          ]
        },
        {
          "output_type": "display_data",
          "data": {
            "application/vnd.colab-display-data+json": {
              "pip_warning": {
                "packages": [
                  "xlrd"
                ]
              }
            }
          },
          "metadata": {}
        }
      ]
    },
    {
      "cell_type": "code",
      "source": [
        "df_from_excel = pd.read_excel(FILE_PATH, sheet_name='Sheet1',\n",
        "                              header = 2, usecols=[0, 2], names=['station_name', 'address'],\n",
        "                              dtype={'station_name':str, 'address':str}\n",
        "                              #na_values='NaN'\n",
        "                              )"
      ],
      "metadata": {
        "id": "5InDn2uAFeMe"
      },
      "execution_count": 101,
      "outputs": []
    },
    {
      "cell_type": "code",
      "source": [
        "df_from_excel = df_from_excel.astype(str)"
      ],
      "metadata": {
        "id": "G52UXefuO_s1"
      },
      "execution_count": 102,
      "outputs": []
    },
    {
      "cell_type": "markdown",
      "source": [
        "## 파일에 주소없는 충전소 찾기"
      ],
      "metadata": {
        "id": "txHkAlJCwEoq"
      }
    },
    {
      "cell_type": "code",
      "source": [
        "df_from_excel[30:36]"
      ],
      "metadata": {
        "colab": {
          "base_uri": "https://localhost:8080/",
          "height": 235
        },
        "id": "9kRrGskMNJek",
        "outputId": "bee5cdc2-ffbc-4a59-9a77-da5226c88dd5"
      },
      "execution_count": 104,
      "outputs": [
        {
          "output_type": "execute_result",
          "data": {
            "text/plain": [
              "     station_name                  address\n",
              "30        신대수소충전소  대전광역시 대덕구 신탄진로315번길 72 \n",
              "31      옥동복합수소충전소     울산광역시 남구 남부순환도로 465 \n",
              "32     울산투게더수소충전소         울산광역시 남구 신화로 99 \n",
              "33  울산에어프로덕츠수소충전소    울산광역시 남구 처용로487번길 83 \n",
              "34      경동복합수소충전소    울산광역시 북구 북부순환도로 1165 \n",
              "35      울산창평수소충전소                         "
            ],
            "text/html": [
              "\n",
              "  <div id=\"df-ca086d98-f08d-4a1d-ad33-ca6fe27c5c14\">\n",
              "    <div class=\"colab-df-container\">\n",
              "      <div>\n",
              "<style scoped>\n",
              "    .dataframe tbody tr th:only-of-type {\n",
              "        vertical-align: middle;\n",
              "    }\n",
              "\n",
              "    .dataframe tbody tr th {\n",
              "        vertical-align: top;\n",
              "    }\n",
              "\n",
              "    .dataframe thead th {\n",
              "        text-align: right;\n",
              "    }\n",
              "</style>\n",
              "<table border=\"1\" class=\"dataframe\">\n",
              "  <thead>\n",
              "    <tr style=\"text-align: right;\">\n",
              "      <th></th>\n",
              "      <th>station_name</th>\n",
              "      <th>address</th>\n",
              "    </tr>\n",
              "  </thead>\n",
              "  <tbody>\n",
              "    <tr>\n",
              "      <th>30</th>\n",
              "      <td>신대수소충전소</td>\n",
              "      <td>대전광역시 대덕구 신탄진로315번길 72</td>\n",
              "    </tr>\n",
              "    <tr>\n",
              "      <th>31</th>\n",
              "      <td>옥동복합수소충전소</td>\n",
              "      <td>울산광역시 남구 남부순환도로 465</td>\n",
              "    </tr>\n",
              "    <tr>\n",
              "      <th>32</th>\n",
              "      <td>울산투게더수소충전소</td>\n",
              "      <td>울산광역시 남구 신화로 99</td>\n",
              "    </tr>\n",
              "    <tr>\n",
              "      <th>33</th>\n",
              "      <td>울산에어프로덕츠수소충전소</td>\n",
              "      <td>울산광역시 남구 처용로487번길 83</td>\n",
              "    </tr>\n",
              "    <tr>\n",
              "      <th>34</th>\n",
              "      <td>경동복합수소충전소</td>\n",
              "      <td>울산광역시 북구 북부순환도로 1165</td>\n",
              "    </tr>\n",
              "    <tr>\n",
              "      <th>35</th>\n",
              "      <td>울산창평수소충전소</td>\n",
              "      <td></td>\n",
              "    </tr>\n",
              "  </tbody>\n",
              "</table>\n",
              "</div>\n",
              "      <button class=\"colab-df-convert\" onclick=\"convertToInteractive('df-ca086d98-f08d-4a1d-ad33-ca6fe27c5c14')\"\n",
              "              title=\"Convert this dataframe to an interactive table.\"\n",
              "              style=\"display:none;\">\n",
              "        \n",
              "  <svg xmlns=\"http://www.w3.org/2000/svg\" height=\"24px\"viewBox=\"0 0 24 24\"\n",
              "       width=\"24px\">\n",
              "    <path d=\"M0 0h24v24H0V0z\" fill=\"none\"/>\n",
              "    <path d=\"M18.56 5.44l.94 2.06.94-2.06 2.06-.94-2.06-.94-.94-2.06-.94 2.06-2.06.94zm-11 1L8.5 8.5l.94-2.06 2.06-.94-2.06-.94L8.5 2.5l-.94 2.06-2.06.94zm10 10l.94 2.06.94-2.06 2.06-.94-2.06-.94-.94-2.06-.94 2.06-2.06.94z\"/><path d=\"M17.41 7.96l-1.37-1.37c-.4-.4-.92-.59-1.43-.59-.52 0-1.04.2-1.43.59L10.3 9.45l-7.72 7.72c-.78.78-.78 2.05 0 2.83L4 21.41c.39.39.9.59 1.41.59.51 0 1.02-.2 1.41-.59l7.78-7.78 2.81-2.81c.8-.78.8-2.07 0-2.86zM5.41 20L4 18.59l7.72-7.72 1.47 1.35L5.41 20z\"/>\n",
              "  </svg>\n",
              "      </button>\n",
              "      \n",
              "  <style>\n",
              "    .colab-df-container {\n",
              "      display:flex;\n",
              "      flex-wrap:wrap;\n",
              "      gap: 12px;\n",
              "    }\n",
              "\n",
              "    .colab-df-convert {\n",
              "      background-color: #E8F0FE;\n",
              "      border: none;\n",
              "      border-radius: 50%;\n",
              "      cursor: pointer;\n",
              "      display: none;\n",
              "      fill: #1967D2;\n",
              "      height: 32px;\n",
              "      padding: 0 0 0 0;\n",
              "      width: 32px;\n",
              "    }\n",
              "\n",
              "    .colab-df-convert:hover {\n",
              "      background-color: #E2EBFA;\n",
              "      box-shadow: 0px 1px 2px rgba(60, 64, 67, 0.3), 0px 1px 3px 1px rgba(60, 64, 67, 0.15);\n",
              "      fill: #174EA6;\n",
              "    }\n",
              "\n",
              "    [theme=dark] .colab-df-convert {\n",
              "      background-color: #3B4455;\n",
              "      fill: #D2E3FC;\n",
              "    }\n",
              "\n",
              "    [theme=dark] .colab-df-convert:hover {\n",
              "      background-color: #434B5C;\n",
              "      box-shadow: 0px 1px 3px 1px rgba(0, 0, 0, 0.15);\n",
              "      filter: drop-shadow(0px 1px 2px rgba(0, 0, 0, 0.3));\n",
              "      fill: #FFFFFF;\n",
              "    }\n",
              "  </style>\n",
              "\n",
              "      <script>\n",
              "        const buttonEl =\n",
              "          document.querySelector('#df-ca086d98-f08d-4a1d-ad33-ca6fe27c5c14 button.colab-df-convert');\n",
              "        buttonEl.style.display =\n",
              "          google.colab.kernel.accessAllowed ? 'block' : 'none';\n",
              "\n",
              "        async function convertToInteractive(key) {\n",
              "          const element = document.querySelector('#df-ca086d98-f08d-4a1d-ad33-ca6fe27c5c14');\n",
              "          const dataTable =\n",
              "            await google.colab.kernel.invokeFunction('convertToInteractive',\n",
              "                                                     [key], {});\n",
              "          if (!dataTable) return;\n",
              "\n",
              "          const docLinkHtml = 'Like what you see? Visit the ' +\n",
              "            '<a target=\"_blank\" href=https://colab.research.google.com/notebooks/data_table.ipynb>data table notebook</a>'\n",
              "            + ' to learn more about interactive tables.';\n",
              "          element.innerHTML = '';\n",
              "          dataTable['output_type'] = 'display_data';\n",
              "          await google.colab.output.renderOutput(dataTable, element);\n",
              "          const docLink = document.createElement('div');\n",
              "          docLink.innerHTML = docLinkHtml;\n",
              "          element.appendChild(docLink);\n",
              "        }\n",
              "      </script>\n",
              "    </div>\n",
              "  </div>\n",
              "  "
            ]
          },
          "metadata": {},
          "execution_count": 104
        }
      ]
    },
    {
      "cell_type": "code",
      "source": [
        "#address 쪼개기 - state, city, suburb\n",
        "d0 = df_from_excel['address'].str.split(' ').str[0].tolist()\n",
        "d1 = df_from_excel['address'].str.split(' ').str[1].tolist()\n",
        "d2 = df_from_excel['address'].str.split(' ').str[2].tolist()\n",
        "d2 = list(map(str, d2))\n",
        "\n",
        "re_d0, re_d1, re_d2 = [], [], []\n",
        "for i in d0:\n",
        "  temp = i.replace(' ', '')\n",
        "  re_d0.append(temp)\n",
        "for i in d1:\n",
        "  temp = i.replace(' ', '')\n",
        "  re_d1.append(temp)\n",
        "for i in d2:\n",
        "  temp = i.replace(' ', '')\n",
        "  re_d2.append(temp)"
      ],
      "metadata": {
        "id": "D81Co7Qw6OZb"
      },
      "execution_count": 105,
      "outputs": []
    },
    {
      "cell_type": "code",
      "source": [
        "df_data = df_from_excel\n",
        "df_data['state'] = re_d0\n",
        "df_data['city'] = re_d1\n",
        "df_data['suburb'] = re_d2\n",
        "\n",
        "df_data = df_data.astype(str)\n",
        "df_data['state'].str.strip()\n",
        "df_data['city'].str.strip()\n",
        "df_data['suburb'].str.strip()\n",
        "\n",
        "#nan 행 갯수 표시\n",
        "df_data['suburb'].str.contains('nan').sum()"
      ],
      "metadata": {
        "colab": {
          "base_uri": "https://localhost:8080/"
        },
        "id": "lgARGmcH4itJ",
        "outputId": "f2db79f7-2bc9-4135-881f-9f6b3b1e14fb"
      },
      "execution_count": 106,
      "outputs": [
        {
          "output_type": "execute_result",
          "data": {
            "text/plain": [
              "4"
            ]
          },
          "metadata": {},
          "execution_count": 106
        }
      ]
    },
    {
      "cell_type": "code",
      "source": [
        "address_null = df_data['suburb'].str.contains('nan')\n",
        "df_null = df_data[address_null]\n",
        "\n",
        "df_null.reset_index(drop=True, inplace=True)"
      ],
      "metadata": {
        "id": "u4ybBc7-S-Bj"
      },
      "execution_count": 118,
      "outputs": []
    },
    {
      "cell_type": "code",
      "source": [
        "df_null.loc[0, 'station_name']"
      ],
      "metadata": {
        "colab": {
          "base_uri": "https://localhost:8080/",
          "height": 37
        },
        "id": "9ZjE8wsvSS0A",
        "outputId": "8ef8f301-6972-4268-96f3-70d5eef708d4"
      },
      "execution_count": 120,
      "outputs": [
        {
          "output_type": "execute_result",
          "data": {
            "text/plain": [
              "'울산창평수소충전소'"
            ],
            "application/vnd.google.colaboratory.intrinsic+json": {
              "type": "string"
            }
          },
          "metadata": {},
          "execution_count": 120
        }
      ]
    },
    {
      "cell_type": "markdown",
      "source": [
        "## 충전소주소 크롤링 - 네이버지도"
      ],
      "metadata": {
        "id": "C6OOOlx7U5Hw"
      }
    },
    {
      "cell_type": "code",
      "source": [
        "#크롤링시 필요한 라이브러리 불러오기\n",
        "from bs4 import BeautifulSoup\n",
        "import requests"
      ],
      "metadata": {
        "id": "322TKxiRU4qf"
      },
      "execution_count": 121,
      "outputs": []
    },
    {
      "cell_type": "code",
      "source": [
        "#검색어 입력\n",
        "search = df_null.loc[0, 'station_name']"
      ],
      "metadata": {
        "id": "YubFINK6U4nw"
      },
      "execution_count": 122,
      "outputs": []
    },
    {
      "cell_type": "code",
      "source": [
        "#url 생성\n",
        "#url = \"https://map.naver.com/v5/search/\" + search + \"/place/\"\n",
        "url = \"https://search.naver.com/search.naver?where=nexearch&sm=top_hty&fbm=1&ie=utf8&query=\" + search\n",
        "print(\"생성url: \",url)"
      ],
      "metadata": {
        "colab": {
          "base_uri": "https://localhost:8080/"
        },
        "id": "Wpth9H5wU4M3",
        "outputId": "04c303a0-9b2e-40ed-ce30-412c2bcfe064"
      },
      "execution_count": 145,
      "outputs": [
        {
          "output_type": "stream",
          "name": "stdout",
          "text": [
            "생성url:  https://search.naver.com/search.naver?where=nexearch&sm=top_hty&fbm=1&ie=utf8&query=울산창평수소충전소\n"
          ]
        }
      ]
    },
    {
      "cell_type": "code",
      "source": [
        "# ConnectionError방지\n",
        "headers = { \"User-Agent\": \"Mozilla/5.0 (Windows NT 10.0; Win64; x64) Chrome/100.0.48496.75\" }"
      ],
      "metadata": {
        "id": "vAs3Nxs4VNUz"
      },
      "execution_count": 153,
      "outputs": []
    },
    {
      "cell_type": "code",
      "source": [
        "contents = []\n",
        "news = requests.get(url)\n",
        "news_html = BeautifulSoup(news.text, \"html.parser\")\n",
        "\n",
        "#news_html"
      ],
      "metadata": {
        "id": "3BmYEHGfZjV0"
      },
      "execution_count": 155,
      "outputs": []
    },
    {
      "cell_type": "code",
      "source": [
        "# 검색결과\n",
        "#기사 내용 가져오기\n",
        "articles = news_html.select(\"div._1mAZf\")\n",
        "articles\n",
        "\n",
        "contents = []\n",
        "for i in articles:\n",
        "    contents.append(i.text)\n",
        "contents"
      ],
      "metadata": {
        "colab": {
          "base_uri": "https://localhost:8080/"
        },
        "id": "rdr81457VNSY",
        "outputId": "3d530d7c-1cd1-4689-bd14-59d05d0d25c4"
      },
      "execution_count": 177,
      "outputs": [
        {
          "output_type": "execute_result",
          "data": {
            "text/plain": [
              "['지번울산 북구 창평동 1098-5']"
            ]
          },
          "metadata": {},
          "execution_count": 177
        }
      ]
    },
    {
      "cell_type": "code",
      "source": [
        "contents1 = contents[0].split('지번')\n",
        "contents_addr = contents1[-1]\n",
        "contents_addr"
      ],
      "metadata": {
        "colab": {
          "base_uri": "https://localhost:8080/",
          "height": 37
        },
        "id": "4hayTm2tVNQE",
        "outputId": "533ac396-2931-4172-a716-add4b84163cf"
      },
      "execution_count": 179,
      "outputs": [
        {
          "output_type": "execute_result",
          "data": {
            "text/plain": [
              "'울산 북구 창평동 1098-5'"
            ],
            "application/vnd.google.colaboratory.intrinsic+json": {
              "type": "string"
            }
          },
          "metadata": {},
          "execution_count": 179
        }
      ]
    },
    {
      "cell_type": "code",
      "source": [
        ""
      ],
      "metadata": {
        "id": "nscmTv6oVNN2"
      },
      "execution_count": null,
      "outputs": []
    }
  ]
}