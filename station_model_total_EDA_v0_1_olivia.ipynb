{
  "nbformat": 4,
  "nbformat_minor": 0,
  "metadata": {
    "colab": {
      "name": "station_model_total_EDA_v0.1_olivia.ipynb",
      "provenance": [],
      "collapsed_sections": [],
      "mount_file_id": "1s2qQN4nxVV4DI_Esc5gdtIWorfYE1n8s",
      "authorship_tag": "ABX9TyN3LZYBUv8B2pPULjJ2dABD",
      "include_colab_link": true
    },
    "kernelspec": {
      "name": "python3",
      "display_name": "Python 3"
    },
    "language_info": {
      "name": "python"
    }
  },
  "cells": [
    {
      "cell_type": "markdown",
      "metadata": {
        "id": "view-in-github",
        "colab_type": "text"
      },
      "source": [
        "<a href=\"https://colab.research.google.com/github/olivia-sp/h2-station-dev/blob/main/station_model_total_EDA_v0_1_olivia.ipynb\" target=\"_parent\"><img src=\"https://colab.research.google.com/assets/colab-badge.svg\" alt=\"Open In Colab\"/></a>"
      ]
    },
    {
      "cell_type": "code",
      "execution_count": 1,
      "metadata": {
        "id": "vvToL4DbhUH6"
      },
      "outputs": [],
      "source": [
        "import pandas as pd\n",
        "import os\n",
        "\n",
        "from sklearn.model_selection import train_test_split\n",
        "import numpy as np\n",
        "from sklearn.metrics import mean_squared_error\n",
        "\n",
        "import matplotlib.pyplot as plt\n",
        "import seaborn as sns\n"
      ]
    },
    {
      "cell_type": "code",
      "source": [
        "import os\n",
        "\n",
        "if os.path.isfile('/content/content/drive/MyDrive/Colab Notebooks/data_set/result-congress-26-tune1.csv') == True:\n",
        "  print('already')\n",
        "else:\n",
        "  #os.mkdir('data_set')\n",
        "  %cd data_set\n",
        "  !wget https://raw.githubusercontent.com/olivia-sp/h2-station-dev/main/data_set/result-congress-26-tune1.csv\n",
        "\n",
        "% cd /content\n"
      ],
      "metadata": {
        "colab": {
          "base_uri": "https://localhost:8080/"
        },
        "id": "qMCYu09ZhcTX",
        "outputId": "56790450-2c9a-4895-8bbc-073132ffc60e"
      },
      "execution_count": 2,
      "outputs": [
        {
          "output_type": "stream",
          "name": "stdout",
          "text": [
            "[Errno 2] No such file or directory: 'data_set'\n",
            "/content\n",
            "--2022-01-17 05:02:00--  https://raw.githubusercontent.com/olivia-sp/h2-station-dev/main/data_set/result-congress-26-tune1.csv\n",
            "Resolving raw.githubusercontent.com (raw.githubusercontent.com)... 185.199.111.133, 185.199.108.133, 185.199.109.133, ...\n",
            "Connecting to raw.githubusercontent.com (raw.githubusercontent.com)|185.199.111.133|:443... connected.\n",
            "HTTP request sent, awaiting response... 404 Not Found\n",
            "2022-01-17 05:02:01 ERROR 404: Not Found.\n",
            "\n",
            "/content\n"
          ]
        }
      ]
    },
    {
      "cell_type": "code",
      "source": [
        "CURR_PATH = os.getcwd()\n",
        "\n",
        "os.listdir(CURR_PATH)\n",
        "#DATA_PATH = os.path.join(CURR_PATH,'data_set')\n",
        "RAW_PATH = CURR_PATH + '/drive/MyDrive/Colab Notebooks/data_set/result-congress-26-tune1.csv'\n",
        "\n"
      ],
      "metadata": {
        "id": "RYP-UHidhcQ3"
      },
      "execution_count": 3,
      "outputs": []
    },
    {
      "cell_type": "code",
      "source": [
        "df_raw_data = pd.read_csv(RAW_PATH, index_col=0)\n",
        "df_raw_data.info()\n",
        "\n",
        "df_raw_data.isnull().sum()"
      ],
      "metadata": {
        "colab": {
          "base_uri": "https://localhost:8080/"
        },
        "id": "fwNI51B0hcON",
        "outputId": "22e14a30-2024-4614-a629-767b3b30fea5"
      },
      "execution_count": 13,
      "outputs": [
        {
          "output_type": "stream",
          "name": "stdout",
          "text": [
            "<class 'pandas.core.frame.DataFrame'>\n",
            "Int64Index: 77222 entries, 0 to 77436\n",
            "Data columns (total 19 columns):\n",
            " #   Column              Non-Null Count  Dtype  \n",
            "---  ------              --------------  -----  \n",
            " 0   holiday             77222 non-null  bool   \n",
            " 1   weekend             77222 non-null  bool   \n",
            " 2   time                77222 non-null  object \n",
            " 3   precipitation_type  46123 non-null  float64\n",
            " 4   temperature         46123 non-null  float64\n",
            " 5   station_name        77222 non-null  int64  \n",
            " 6   filename            77222 non-null  object \n",
            " 7   precipitation       46123 non-null  float64\n",
            " 8   total_car_num       77222 non-null  int64  \n",
            " 9   day_week            77222 non-null  object \n",
            " 10  decision_car_num    76980 non-null  object \n",
            " 11  humid               46123 non-null  float64\n",
            " 12  max_car_num         76907 non-null  float64\n",
            " 13  year                77222 non-null  int64  \n",
            " 14  month               77222 non-null  int64  \n",
            " 15  day                 77222 non-null  int64  \n",
            " 16  hour                77222 non-null  int64  \n",
            " 17  minute              77222 non-null  int64  \n",
            " 18  second              77222 non-null  int64  \n",
            "dtypes: bool(2), float64(5), int64(8), object(4)\n",
            "memory usage: 10.8+ MB\n"
          ]
        },
        {
          "output_type": "execute_result",
          "data": {
            "text/plain": [
              "holiday                   0\n",
              "weekend                   0\n",
              "time                      0\n",
              "precipitation_type    31099\n",
              "temperature           31099\n",
              "station_name              0\n",
              "filename                  0\n",
              "precipitation         31099\n",
              "total_car_num             0\n",
              "day_week                  0\n",
              "decision_car_num        242\n",
              "humid                 31099\n",
              "max_car_num             315\n",
              "year                      0\n",
              "month                     0\n",
              "day                       0\n",
              "hour                      0\n",
              "minute                    0\n",
              "second                    0\n",
              "dtype: int64"
            ]
          },
          "metadata": {},
          "execution_count": 13
        }
      ]
    },
    {
      "cell_type": "code",
      "source": [
        "df_raw_data2=df_raw_data.drop(['decision_car_num', 'max_car_num', 'filename'], axis=1)\n",
        "df_raw_data2.isnull().sum()"
      ],
      "metadata": {
        "colab": {
          "base_uri": "https://localhost:8080/"
        },
        "id": "B0KdUMTTZRZo",
        "outputId": "a0b889be-097e-48b0-92e6-252aa26efee5"
      },
      "execution_count": 14,
      "outputs": [
        {
          "output_type": "execute_result",
          "data": {
            "text/plain": [
              "holiday                   0\n",
              "weekend                   0\n",
              "time                      0\n",
              "precipitation_type    31099\n",
              "temperature           31099\n",
              "station_name              0\n",
              "precipitation         31099\n",
              "total_car_num             0\n",
              "day_week                  0\n",
              "humid                 31099\n",
              "year                      0\n",
              "month                     0\n",
              "day                       0\n",
              "hour                      0\n",
              "minute                    0\n",
              "second                    0\n",
              "dtype: int64"
            ]
          },
          "metadata": {},
          "execution_count": 14
        }
      ]
    },
    {
      "cell_type": "code",
      "source": [
        "df_raw_data2.head()"
      ],
      "metadata": {
        "colab": {
          "base_uri": "https://localhost:8080/",
          "height": 206
        },
        "id": "bUqAR26SdnVd",
        "outputId": "42639761-809d-423d-c96f-8ed9c4df6489"
      },
      "execution_count": 15,
      "outputs": [
        {
          "output_type": "execute_result",
          "data": {
            "text/html": [
              "\n",
              "  <div id=\"df-f981829e-1a6f-455f-b7c1-a9459e808ceb\">\n",
              "    <div class=\"colab-df-container\">\n",
              "      <div>\n",
              "<style scoped>\n",
              "    .dataframe tbody tr th:only-of-type {\n",
              "        vertical-align: middle;\n",
              "    }\n",
              "\n",
              "    .dataframe tbody tr th {\n",
              "        vertical-align: top;\n",
              "    }\n",
              "\n",
              "    .dataframe thead th {\n",
              "        text-align: right;\n",
              "    }\n",
              "</style>\n",
              "<table border=\"1\" class=\"dataframe\">\n",
              "  <thead>\n",
              "    <tr style=\"text-align: right;\">\n",
              "      <th></th>\n",
              "      <th>holiday</th>\n",
              "      <th>weekend</th>\n",
              "      <th>time</th>\n",
              "      <th>precipitation_type</th>\n",
              "      <th>temperature</th>\n",
              "      <th>station_name</th>\n",
              "      <th>precipitation</th>\n",
              "      <th>total_car_num</th>\n",
              "      <th>day_week</th>\n",
              "      <th>humid</th>\n",
              "      <th>year</th>\n",
              "      <th>month</th>\n",
              "      <th>day</th>\n",
              "      <th>hour</th>\n",
              "      <th>minute</th>\n",
              "      <th>second</th>\n",
              "    </tr>\n",
              "  </thead>\n",
              "  <tbody>\n",
              "    <tr>\n",
              "      <th>0</th>\n",
              "      <td>False</td>\n",
              "      <td>False</td>\n",
              "      <td>2020-09-17-21h-20m-28s</td>\n",
              "      <td>0.0</td>\n",
              "      <td>23.0</td>\n",
              "      <td>26</td>\n",
              "      <td>0.0</td>\n",
              "      <td>2</td>\n",
              "      <td>thu</td>\n",
              "      <td>52.0</td>\n",
              "      <td>2020</td>\n",
              "      <td>9</td>\n",
              "      <td>17</td>\n",
              "      <td>21</td>\n",
              "      <td>20</td>\n",
              "      <td>28</td>\n",
              "    </tr>\n",
              "    <tr>\n",
              "      <th>1</th>\n",
              "      <td>False</td>\n",
              "      <td>False</td>\n",
              "      <td>2020-09-17-21h-38m-08s</td>\n",
              "      <td>0.0</td>\n",
              "      <td>23.0</td>\n",
              "      <td>26</td>\n",
              "      <td>0.0</td>\n",
              "      <td>3</td>\n",
              "      <td>thu</td>\n",
              "      <td>52.0</td>\n",
              "      <td>2020</td>\n",
              "      <td>9</td>\n",
              "      <td>17</td>\n",
              "      <td>21</td>\n",
              "      <td>38</td>\n",
              "      <td>8</td>\n",
              "    </tr>\n",
              "    <tr>\n",
              "      <th>2</th>\n",
              "      <td>False</td>\n",
              "      <td>False</td>\n",
              "      <td>2020-09-18-16h-45m-41s</td>\n",
              "      <td>0.0</td>\n",
              "      <td>25.3</td>\n",
              "      <td>26</td>\n",
              "      <td>0.0</td>\n",
              "      <td>4</td>\n",
              "      <td>fri</td>\n",
              "      <td>38.0</td>\n",
              "      <td>2020</td>\n",
              "      <td>9</td>\n",
              "      <td>18</td>\n",
              "      <td>16</td>\n",
              "      <td>45</td>\n",
              "      <td>41</td>\n",
              "    </tr>\n",
              "    <tr>\n",
              "      <th>3</th>\n",
              "      <td>False</td>\n",
              "      <td>False</td>\n",
              "      <td>2020-09-18-16h-50m-00s</td>\n",
              "      <td>0.0</td>\n",
              "      <td>25.3</td>\n",
              "      <td>26</td>\n",
              "      <td>0.0</td>\n",
              "      <td>4</td>\n",
              "      <td>fri</td>\n",
              "      <td>38.0</td>\n",
              "      <td>2020</td>\n",
              "      <td>9</td>\n",
              "      <td>18</td>\n",
              "      <td>16</td>\n",
              "      <td>50</td>\n",
              "      <td>0</td>\n",
              "    </tr>\n",
              "    <tr>\n",
              "      <th>4</th>\n",
              "      <td>False</td>\n",
              "      <td>False</td>\n",
              "      <td>2020-09-18-16h-55m-00s</td>\n",
              "      <td>0.0</td>\n",
              "      <td>25.3</td>\n",
              "      <td>26</td>\n",
              "      <td>0.0</td>\n",
              "      <td>4</td>\n",
              "      <td>fri</td>\n",
              "      <td>38.0</td>\n",
              "      <td>2020</td>\n",
              "      <td>9</td>\n",
              "      <td>18</td>\n",
              "      <td>16</td>\n",
              "      <td>55</td>\n",
              "      <td>0</td>\n",
              "    </tr>\n",
              "  </tbody>\n",
              "</table>\n",
              "</div>\n",
              "      <button class=\"colab-df-convert\" onclick=\"convertToInteractive('df-f981829e-1a6f-455f-b7c1-a9459e808ceb')\"\n",
              "              title=\"Convert this dataframe to an interactive table.\"\n",
              "              style=\"display:none;\">\n",
              "        \n",
              "  <svg xmlns=\"http://www.w3.org/2000/svg\" height=\"24px\"viewBox=\"0 0 24 24\"\n",
              "       width=\"24px\">\n",
              "    <path d=\"M0 0h24v24H0V0z\" fill=\"none\"/>\n",
              "    <path d=\"M18.56 5.44l.94 2.06.94-2.06 2.06-.94-2.06-.94-.94-2.06-.94 2.06-2.06.94zm-11 1L8.5 8.5l.94-2.06 2.06-.94-2.06-.94L8.5 2.5l-.94 2.06-2.06.94zm10 10l.94 2.06.94-2.06 2.06-.94-2.06-.94-.94-2.06-.94 2.06-2.06.94z\"/><path d=\"M17.41 7.96l-1.37-1.37c-.4-.4-.92-.59-1.43-.59-.52 0-1.04.2-1.43.59L10.3 9.45l-7.72 7.72c-.78.78-.78 2.05 0 2.83L4 21.41c.39.39.9.59 1.41.59.51 0 1.02-.2 1.41-.59l7.78-7.78 2.81-2.81c.8-.78.8-2.07 0-2.86zM5.41 20L4 18.59l7.72-7.72 1.47 1.35L5.41 20z\"/>\n",
              "  </svg>\n",
              "      </button>\n",
              "      \n",
              "  <style>\n",
              "    .colab-df-container {\n",
              "      display:flex;\n",
              "      flex-wrap:wrap;\n",
              "      gap: 12px;\n",
              "    }\n",
              "\n",
              "    .colab-df-convert {\n",
              "      background-color: #E8F0FE;\n",
              "      border: none;\n",
              "      border-radius: 50%;\n",
              "      cursor: pointer;\n",
              "      display: none;\n",
              "      fill: #1967D2;\n",
              "      height: 32px;\n",
              "      padding: 0 0 0 0;\n",
              "      width: 32px;\n",
              "    }\n",
              "\n",
              "    .colab-df-convert:hover {\n",
              "      background-color: #E2EBFA;\n",
              "      box-shadow: 0px 1px 2px rgba(60, 64, 67, 0.3), 0px 1px 3px 1px rgba(60, 64, 67, 0.15);\n",
              "      fill: #174EA6;\n",
              "    }\n",
              "\n",
              "    [theme=dark] .colab-df-convert {\n",
              "      background-color: #3B4455;\n",
              "      fill: #D2E3FC;\n",
              "    }\n",
              "\n",
              "    [theme=dark] .colab-df-convert:hover {\n",
              "      background-color: #434B5C;\n",
              "      box-shadow: 0px 1px 3px 1px rgba(0, 0, 0, 0.15);\n",
              "      filter: drop-shadow(0px 1px 2px rgba(0, 0, 0, 0.3));\n",
              "      fill: #FFFFFF;\n",
              "    }\n",
              "  </style>\n",
              "\n",
              "      <script>\n",
              "        const buttonEl =\n",
              "          document.querySelector('#df-f981829e-1a6f-455f-b7c1-a9459e808ceb button.colab-df-convert');\n",
              "        buttonEl.style.display =\n",
              "          google.colab.kernel.accessAllowed ? 'block' : 'none';\n",
              "\n",
              "        async function convertToInteractive(key) {\n",
              "          const element = document.querySelector('#df-f981829e-1a6f-455f-b7c1-a9459e808ceb');\n",
              "          const dataTable =\n",
              "            await google.colab.kernel.invokeFunction('convertToInteractive',\n",
              "                                                     [key], {});\n",
              "          if (!dataTable) return;\n",
              "\n",
              "          const docLinkHtml = 'Like what you see? Visit the ' +\n",
              "            '<a target=\"_blank\" href=https://colab.research.google.com/notebooks/data_table.ipynb>data table notebook</a>'\n",
              "            + ' to learn more about interactive tables.';\n",
              "          element.innerHTML = '';\n",
              "          dataTable['output_type'] = 'display_data';\n",
              "          await google.colab.output.renderOutput(dataTable, element);\n",
              "          const docLink = document.createElement('div');\n",
              "          docLink.innerHTML = docLinkHtml;\n",
              "          element.appendChild(docLink);\n",
              "        }\n",
              "      </script>\n",
              "    </div>\n",
              "  </div>\n",
              "  "
            ],
            "text/plain": [
              "   holiday  weekend                    time  ...  hour  minute  second\n",
              "0    False    False  2020-09-17-21h-20m-28s  ...    21      20      28\n",
              "1    False    False  2020-09-17-21h-38m-08s  ...    21      38       8\n",
              "2    False    False  2020-09-18-16h-45m-41s  ...    16      45      41\n",
              "3    False    False  2020-09-18-16h-50m-00s  ...    16      50       0\n",
              "4    False    False  2020-09-18-16h-55m-00s  ...    16      55       0\n",
              "\n",
              "[5 rows x 16 columns]"
            ]
          },
          "metadata": {},
          "execution_count": 15
        }
      ]
    },
    {
      "cell_type": "code",
      "source": [
        "%matplotlib inline\n",
        "sns.heatmap(df_raw_data2.isnull(), cbar=False)"
      ],
      "metadata": {
        "colab": {
          "base_uri": "https://localhost:8080/",
          "height": 368
        },
        "id": "-NXFrx6FZ_he",
        "outputId": "13b2a4bf-a284-48bb-e2df-6eb8a360e597"
      },
      "execution_count": 16,
      "outputs": [
        {
          "output_type": "execute_result",
          "data": {
            "text/plain": [
              "<matplotlib.axes._subplots.AxesSubplot at 0x7f6fd5c8d710>"
            ]
          },
          "metadata": {},
          "execution_count": 16
        },
        {
          "output_type": "display_data",
          "data": {
            "image/png": "[encoded data removed]",
            "text/plain": [
              "<Figure size 432x288 with 1 Axes>"
            ]
          },
          "metadata": {
            "needs_background": "light"
          }
        }
      ]
    },
    {
      "cell_type": "code",
      "source": [
        "plt_df_raw_data2 = df_raw_data2.set_index('time')"
      ],
      "metadata": {
        "id": "4XoGU_pLgmKV"
      },
      "execution_count": 17,
      "outputs": []
    },
    {
      "cell_type": "markdown",
      "source": [
        "Data Imputation\n",
        "1. mean/median : 작은 크기의 숫자형 데이터셋, 다른 feature 간 상관관계 고려 안 함, 범주형 feature 사용 불가, 부정확함\n",
        "2. most frequent/zero/constant : 범주형 데이터셋, 다른 feature 간 상관관계 고려 안 함, 데이터 bias 생성 가능\n",
        "3. KNN imputation : feature similarity  이용하여 근접한 데이터 찾음(impyute lib), 데이터셋에 따라 다르나 가장 정확함, 메모리 많이 필요, outlier에 민감\n",
        "4. MICE : 누락된 데이터 여러번 채우는 방식, 연속형/이진형/범위형 패턴 처리 가능, imputation-analysis(m개의 완성된 데이터 분석)-pooling(평균,분산,신뢰구간 계산하여 합침)\n",
        "5. 딥러닝 이용 : 범주형/non-numerical 데이터에 매우 효과적, DNN 이용해서 누락 값 유추, 한번에 한 컬럼만 대체 가능, 대규모 데이터셋은 속도가 상당히 느림, 유추할 feature에 대한 정보있는 feature 직접 지정해야 함\n",
        "6. stochastic regression imputation : 동일 데이터셋의 다른 feature에서 결측값 예측\n",
        "7. Extrapolation and Interpolation : 이산형 범위 내 데이터로부터 값 추정, interpolation(20살, 40살 데이터로 30살 추측), Extrapolation(1~20 데이터로 10년 후 예측, 안정성 떨어짐)\n",
        "8. Hot-Deck Imputation : 비슷한 데이터셋에서 랜덤하게 선택\n"
      ],
      "metadata": {
        "id": "57L9vUa1juP3"
      }
    },
    {
      "cell_type": "code",
      "source": [
        "df_null = df_raw_data2[['precipitation','precipitation_type', 'temperature', 'humid']]\n",
        "df_raw_data3 = df_raw_data2.drop(['precipitation','precipitation_type', 'temperature', 'humid'], axis=1)\n",
        "df_raw_data3"
      ],
      "metadata": {
        "colab": {
          "base_uri": "https://localhost:8080/",
          "height": 424
        },
        "id": "xnlVxSplmvAR",
        "outputId": "d0d6ff41-9a10-4056-9d7c-1f9b2fadbc1e"
      },
      "execution_count": 18,
      "outputs": [
        {
          "output_type": "execute_result",
          "data": {
            "text/html": [
              "\n",
              "  <div id=\"df-3dfbe0c0-de1e-4a60-839b-cd070adfd82a\">\n",
              "    <div class=\"colab-df-container\">\n",
              "      <div>\n",
              "<style scoped>\n",
              "    .dataframe tbody tr th:only-of-type {\n",
              "        vertical-align: middle;\n",
              "    }\n",
              "\n",
              "    .dataframe tbody tr th {\n",
              "        vertical-align: top;\n",
              "    }\n",
              "\n",
              "    .dataframe thead th {\n",
              "        text-align: right;\n",
              "    }\n",
              "</style>\n",
              "<table border=\"1\" class=\"dataframe\">\n",
              "  <thead>\n",
              "    <tr style=\"text-align: right;\">\n",
              "      <th></th>\n",
              "      <th>holiday</th>\n",
              "      <th>weekend</th>\n",
              "      <th>time</th>\n",
              "      <th>station_name</th>\n",
              "      <th>total_car_num</th>\n",
              "      <th>day_week</th>\n",
              "      <th>year</th>\n",
              "      <th>month</th>\n",
              "      <th>day</th>\n",
              "      <th>hour</th>\n",
              "      <th>minute</th>\n",
              "      <th>second</th>\n",
              "    </tr>\n",
              "  </thead>\n",
              "  <tbody>\n",
              "    <tr>\n",
              "      <th>0</th>\n",
              "      <td>False</td>\n",
              "      <td>False</td>\n",
              "      <td>2020-09-17-21h-20m-28s</td>\n",
              "      <td>26</td>\n",
              "      <td>2</td>\n",
              "      <td>thu</td>\n",
              "      <td>2020</td>\n",
              "      <td>9</td>\n",
              "      <td>17</td>\n",
              "      <td>21</td>\n",
              "      <td>20</td>\n",
              "      <td>28</td>\n",
              "    </tr>\n",
              "    <tr>\n",
              "      <th>1</th>\n",
              "      <td>False</td>\n",
              "      <td>False</td>\n",
              "      <td>2020-09-17-21h-38m-08s</td>\n",
              "      <td>26</td>\n",
              "      <td>3</td>\n",
              "      <td>thu</td>\n",
              "      <td>2020</td>\n",
              "      <td>9</td>\n",
              "      <td>17</td>\n",
              "      <td>21</td>\n",
              "      <td>38</td>\n",
              "      <td>8</td>\n",
              "    </tr>\n",
              "    <tr>\n",
              "      <th>2</th>\n",
              "      <td>False</td>\n",
              "      <td>False</td>\n",
              "      <td>2020-09-18-16h-45m-41s</td>\n",
              "      <td>26</td>\n",
              "      <td>4</td>\n",
              "      <td>fri</td>\n",
              "      <td>2020</td>\n",
              "      <td>9</td>\n",
              "      <td>18</td>\n",
              "      <td>16</td>\n",
              "      <td>45</td>\n",
              "      <td>41</td>\n",
              "    </tr>\n",
              "    <tr>\n",
              "      <th>3</th>\n",
              "      <td>False</td>\n",
              "      <td>False</td>\n",
              "      <td>2020-09-18-16h-50m-00s</td>\n",
              "      <td>26</td>\n",
              "      <td>4</td>\n",
              "      <td>fri</td>\n",
              "      <td>2020</td>\n",
              "      <td>9</td>\n",
              "      <td>18</td>\n",
              "      <td>16</td>\n",
              "      <td>50</td>\n",
              "      <td>0</td>\n",
              "    </tr>\n",
              "    <tr>\n",
              "      <th>4</th>\n",
              "      <td>False</td>\n",
              "      <td>False</td>\n",
              "      <td>2020-09-18-16h-55m-00s</td>\n",
              "      <td>26</td>\n",
              "      <td>4</td>\n",
              "      <td>fri</td>\n",
              "      <td>2020</td>\n",
              "      <td>9</td>\n",
              "      <td>18</td>\n",
              "      <td>16</td>\n",
              "      <td>55</td>\n",
              "      <td>0</td>\n",
              "    </tr>\n",
              "    <tr>\n",
              "      <th>...</th>\n",
              "      <td>...</td>\n",
              "      <td>...</td>\n",
              "      <td>...</td>\n",
              "      <td>...</td>\n",
              "      <td>...</td>\n",
              "      <td>...</td>\n",
              "      <td>...</td>\n",
              "      <td>...</td>\n",
              "      <td>...</td>\n",
              "      <td>...</td>\n",
              "      <td>...</td>\n",
              "      <td>...</td>\n",
              "    </tr>\n",
              "    <tr>\n",
              "      <th>77432</th>\n",
              "      <td>False</td>\n",
              "      <td>False</td>\n",
              "      <td>2022-01-06-16h-40m-00s</td>\n",
              "      <td>26</td>\n",
              "      <td>3</td>\n",
              "      <td>thu</td>\n",
              "      <td>2022</td>\n",
              "      <td>1</td>\n",
              "      <td>6</td>\n",
              "      <td>16</td>\n",
              "      <td>40</td>\n",
              "      <td>0</td>\n",
              "    </tr>\n",
              "    <tr>\n",
              "      <th>77433</th>\n",
              "      <td>False</td>\n",
              "      <td>False</td>\n",
              "      <td>2022-01-06-16h-45m-00s</td>\n",
              "      <td>26</td>\n",
              "      <td>3</td>\n",
              "      <td>thu</td>\n",
              "      <td>2022</td>\n",
              "      <td>1</td>\n",
              "      <td>6</td>\n",
              "      <td>16</td>\n",
              "      <td>45</td>\n",
              "      <td>0</td>\n",
              "    </tr>\n",
              "    <tr>\n",
              "      <th>77434</th>\n",
              "      <td>False</td>\n",
              "      <td>False</td>\n",
              "      <td>2022-01-06-16h-50m-00s</td>\n",
              "      <td>26</td>\n",
              "      <td>4</td>\n",
              "      <td>thu</td>\n",
              "      <td>2022</td>\n",
              "      <td>1</td>\n",
              "      <td>6</td>\n",
              "      <td>16</td>\n",
              "      <td>50</td>\n",
              "      <td>0</td>\n",
              "    </tr>\n",
              "    <tr>\n",
              "      <th>77435</th>\n",
              "      <td>False</td>\n",
              "      <td>False</td>\n",
              "      <td>2022-01-06-16h-55m-00s</td>\n",
              "      <td>26</td>\n",
              "      <td>2</td>\n",
              "      <td>thu</td>\n",
              "      <td>2022</td>\n",
              "      <td>1</td>\n",
              "      <td>6</td>\n",
              "      <td>16</td>\n",
              "      <td>55</td>\n",
              "      <td>0</td>\n",
              "    </tr>\n",
              "    <tr>\n",
              "      <th>77436</th>\n",
              "      <td>False</td>\n",
              "      <td>False</td>\n",
              "      <td>2022-01-06-17h-00m-00s</td>\n",
              "      <td>26</td>\n",
              "      <td>3</td>\n",
              "      <td>thu</td>\n",
              "      <td>2022</td>\n",
              "      <td>1</td>\n",
              "      <td>6</td>\n",
              "      <td>17</td>\n",
              "      <td>0</td>\n",
              "      <td>0</td>\n",
              "    </tr>\n",
              "  </tbody>\n",
              "</table>\n",
              "<p>77222 rows × 12 columns</p>\n",
              "</div>\n",
              "      <button class=\"colab-df-convert\" onclick=\"convertToInteractive('df-3dfbe0c0-de1e-4a60-839b-cd070adfd82a')\"\n",
              "              title=\"Convert this dataframe to an interactive table.\"\n",
              "              style=\"display:none;\">\n",
              "        \n",
              "  <svg xmlns=\"http://www.w3.org/2000/svg\" height=\"24px\"viewBox=\"0 0 24 24\"\n",
              "       width=\"24px\">\n",
              "    <path d=\"M0 0h24v24H0V0z\" fill=\"none\"/>\n",
              "    <path d=\"M18.56 5.44l.94 2.06.94-2.06 2.06-.94-2.06-.94-.94-2.06-.94 2.06-2.06.94zm-11 1L8.5 8.5l.94-2.06 2.06-.94-2.06-.94L8.5 2.5l-.94 2.06-2.06.94zm10 10l.94 2.06.94-2.06 2.06-.94-2.06-.94-.94-2.06-.94 2.06-2.06.94z\"/><path d=\"M17.41 7.96l-1.37-1.37c-.4-.4-.92-.59-1.43-.59-.52 0-1.04.2-1.43.59L10.3 9.45l-7.72 7.72c-.78.78-.78 2.05 0 2.83L4 21.41c.39.39.9.59 1.41.59.51 0 1.02-.2 1.41-.59l7.78-7.78 2.81-2.81c.8-.78.8-2.07 0-2.86zM5.41 20L4 18.59l7.72-7.72 1.47 1.35L5.41 20z\"/>\n",
              "  </svg>\n",
              "      </button>\n",
              "      \n",
              "  <style>\n",
              "    .colab-df-container {\n",
              "      display:flex;\n",
              "      flex-wrap:wrap;\n",
              "      gap: 12px;\n",
              "    }\n",
              "\n",
              "    .colab-df-convert {\n",
              "      background-color: #E8F0FE;\n",
              "      border: none;\n",
              "      border-radius: 50%;\n",
              "      cursor: pointer;\n",
              "      display: none;\n",
              "      fill: #1967D2;\n",
              "      height: 32px;\n",
              "      padding: 0 0 0 0;\n",
              "      width: 32px;\n",
              "    }\n",
              "\n",
              "    .colab-df-convert:hover {\n",
              "      background-color: #E2EBFA;\n",
              "      box-shadow: 0px 1px 2px rgba(60, 64, 67, 0.3), 0px 1px 3px 1px rgba(60, 64, 67, 0.15);\n",
              "      fill: #174EA6;\n",
              "    }\n",
              "\n",
              "    [theme=dark] .colab-df-convert {\n",
              "      background-color: #3B4455;\n",
              "      fill: #D2E3FC;\n",
              "    }\n",
              "\n",
              "    [theme=dark] .colab-df-convert:hover {\n",
              "      background-color: #434B5C;\n",
              "      box-shadow: 0px 1px 3px 1px rgba(0, 0, 0, 0.15);\n",
              "      filter: drop-shadow(0px 1px 2px rgba(0, 0, 0, 0.3));\n",
              "      fill: #FFFFFF;\n",
              "    }\n",
              "  </style>\n",
              "\n",
              "      <script>\n",
              "        const buttonEl =\n",
              "          document.querySelector('#df-3dfbe0c0-de1e-4a60-839b-cd070adfd82a button.colab-df-convert');\n",
              "        buttonEl.style.display =\n",
              "          google.colab.kernel.accessAllowed ? 'block' : 'none';\n",
              "\n",
              "        async function convertToInteractive(key) {\n",
              "          const element = document.querySelector('#df-3dfbe0c0-de1e-4a60-839b-cd070adfd82a');\n",
              "          const dataTable =\n",
              "            await google.colab.kernel.invokeFunction('convertToInteractive',\n",
              "                                                     [key], {});\n",
              "          if (!dataTable) return;\n",
              "\n",
              "          const docLinkHtml = 'Like what you see? Visit the ' +\n",
              "            '<a target=\"_blank\" href=https://colab.research.google.com/notebooks/data_table.ipynb>data table notebook</a>'\n",
              "            + ' to learn more about interactive tables.';\n",
              "          element.innerHTML = '';\n",
              "          dataTable['output_type'] = 'display_data';\n",
              "          await google.colab.output.renderOutput(dataTable, element);\n",
              "          const docLink = document.createElement('div');\n",
              "          docLink.innerHTML = docLinkHtml;\n",
              "          element.appendChild(docLink);\n",
              "        }\n",
              "      </script>\n",
              "    </div>\n",
              "  </div>\n",
              "  "
            ],
            "text/plain": [
              "       holiday  weekend                    time  ...  hour  minute second\n",
              "0        False    False  2020-09-17-21h-20m-28s  ...    21      20     28\n",
              "1        False    False  2020-09-17-21h-38m-08s  ...    21      38      8\n",
              "2        False    False  2020-09-18-16h-45m-41s  ...    16      45     41\n",
              "3        False    False  2020-09-18-16h-50m-00s  ...    16      50      0\n",
              "4        False    False  2020-09-18-16h-55m-00s  ...    16      55      0\n",
              "...        ...      ...                     ...  ...   ...     ...    ...\n",
              "77432    False    False  2022-01-06-16h-40m-00s  ...    16      40      0\n",
              "77433    False    False  2022-01-06-16h-45m-00s  ...    16      45      0\n",
              "77434    False    False  2022-01-06-16h-50m-00s  ...    16      50      0\n",
              "77435    False    False  2022-01-06-16h-55m-00s  ...    16      55      0\n",
              "77436    False    False  2022-01-06-17h-00m-00s  ...    17       0      0\n",
              "\n",
              "[77222 rows x 12 columns]"
            ]
          },
          "metadata": {},
          "execution_count": 18
        }
      ]
    },
    {
      "cell_type": "markdown",
      "source": [
        "Mean/Median"
      ],
      "metadata": {
        "id": "TaVnM7BTl33S"
      }
    },
    {
      "cell_type": "code",
      "source": [
        "from sklearn.impute import SimpleImputer\n",
        "imp_mean = SimpleImputer(strategy='mean')\n",
        "imp_mean.fit(df_null)\n",
        "df_mean = pd.DataFrame(imp_mean.transform(df_null), columns = df_null.columns)"
      ],
      "metadata": {
        "id": "WnROHa5xl5EM"
      },
      "execution_count": 20,
      "outputs": []
    },
    {
      "cell_type": "code",
      "source": [
        "df_mean['precipitation'].plot()"
      ],
      "metadata": {
        "colab": {
          "base_uri": "https://localhost:8080/",
          "height": 283
        },
        "id": "4x9NMiVEoJFB",
        "outputId": "d9e867f1-394e-459e-8383-61b3224f029d"
      },
      "execution_count": 21,
      "outputs": [
        {
          "output_type": "execute_result",
          "data": {
            "text/plain": [
              "<matplotlib.axes._subplots.AxesSubplot at 0x7f6fdf3c9710>"
            ]
          },
          "metadata": {},
          "execution_count": 21
        },
        {
          "output_type": "display_data",
          "data": {
            "image/png": "[encoded data removed]",
            "text/plain": [
              "<Figure size 432x288 with 1 Axes>"
            ]
          },
          "metadata": {
            "needs_background": "light"
          }
        }
      ]
    },
    {
      "cell_type": "code",
      "source": [
        "imp_median = SimpleImputer(strategy='median') #'median'을 쓰면 중앙값사용\n",
        "imp_median.fit(df_null)\n",
        "df_median = pd.DataFrame(imp_median.transform(df_null), columns = df_null.columns)"
      ],
      "metadata": {
        "id": "6o4Az1s_n3zS"
      },
      "execution_count": 22,
      "outputs": []
    },
    {
      "cell_type": "code",
      "source": [
        "df_median['precipitation'].plot()"
      ],
      "metadata": {
        "colab": {
          "base_uri": "https://localhost:8080/",
          "height": 283
        },
        "id": "vLMVGWK6n3vm",
        "outputId": "2320f640-030d-44cd-833a-6e8759542c8a"
      },
      "execution_count": 23,
      "outputs": [
        {
          "output_type": "execute_result",
          "data": {
            "text/plain": [
              "<matplotlib.axes._subplots.AxesSubplot at 0x7f6fdf34ef10>"
            ]
          },
          "metadata": {},
          "execution_count": 23
        },
        {
          "output_type": "display_data",
          "data": {
            "image/png": "[encoded data removed]",
            "text/plain": [
              "<Figure size 432x288 with 1 Axes>"
            ]
          },
          "metadata": {
            "needs_background": "light"
          }
        }
      ]
    },
    {
      "cell_type": "code",
      "source": [
        "# subplot 적용\n",
        "fig = plt.figure(figsize = (20, 8))\n",
        "chart = fig.add_subplot(1,1,1)\n",
        "\n",
        "chart.plot(df_raw_data2['precipitation'], color='red' , label='raw data')\n",
        "chart.plot(df_mean['precipitation'], color='blue' , label='mean')\n",
        "chart.plot(df_median['precipitation'], color='orange' , label='median')\n",
        "#chart.plot(roll_mean20, color='pink' , label='')\n",
        "plt.legend(loc = 'best')"
      ],
      "metadata": {
        "colab": {
          "base_uri": "https://localhost:8080/",
          "height": 501
        },
        "id": "SblVUpXQn3tT",
        "outputId": "43f45e57-0fa3-43b3-b227-050157127f6a"
      },
      "execution_count": 25,
      "outputs": [
        {
          "output_type": "execute_result",
          "data": {
            "text/plain": [
              "<matplotlib.legend.Legend at 0x7f6fdf22dd10>"
            ]
          },
          "metadata": {},
          "execution_count": 25
        },
        {
          "output_type": "display_data",
          "data": {
            "image/png": "[encoded data removed]",
            "text/plain": [
              "<Figure size 1440x576 with 1 Axes>"
            ]
          },
          "metadata": {
            "needs_background": "light"
          }
        }
      ]
    },
    {
      "cell_type": "markdown",
      "source": [
        "K-NN Imputation"
      ],
      "metadata": {
        "id": "O_WSkXJEggw1"
      }
    },
    {
      "cell_type": "code",
      "source": [
        "!pip3 install sklearn"
      ],
      "metadata": {
        "colab": {
          "base_uri": "https://localhost:8080/"
        },
        "id": "x9cxaxfCo5AC",
        "outputId": "d20b1903-a892-4b33-98c7-0d475f6f543e"
      },
      "execution_count": 45,
      "outputs": [
        {
          "output_type": "stream",
          "name": "stdout",
          "text": [
            "Requirement already satisfied: sklearn in /usr/local/lib/python3.7/dist-packages (0.0)\n",
            "Requirement already satisfied: scikit-learn in /usr/local/lib/python3.7/dist-packages (from sklearn) (1.0.2)\n",
            "Requirement already satisfied: joblib>=0.11 in /usr/local/lib/python3.7/dist-packages (from scikit-learn->sklearn) (1.1.0)\n",
            "Requirement already satisfied: numpy>=1.14.6 in /usr/local/lib/python3.7/dist-packages (from scikit-learn->sklearn) (1.19.5)\n",
            "Requirement already satisfied: threadpoolctl>=2.0.0 in /usr/local/lib/python3.7/dist-packages (from scikit-learn->sklearn) (3.0.0)\n",
            "Requirement already satisfied: scipy>=1.1.0 in /usr/local/lib/python3.7/dist-packages (from scikit-learn->sklearn) (1.4.1)\n"
          ]
        }
      ]
    },
    {
      "cell_type": "code",
      "source": [
        "!pip3 install knnimpute"
      ],
      "metadata": {
        "colab": {
          "base_uri": "https://localhost:8080/"
        },
        "id": "gxBTcZE3oi2_",
        "outputId": "86e63ccd-c443-4e30-be4a-be635b0bf386"
      },
      "execution_count": 51,
      "outputs": [
        {
          "output_type": "stream",
          "name": "stdout",
          "text": [
            "\u001b[31mERROR: Could not find a version that satisfies the requirement knnimputer (from versions: none)\u001b[0m\n",
            "\u001b[31mERROR: No matching distribution found for knnimputer\u001b[0m\n"
          ]
        }
      ]
    },
    {
      "cell_type": "code",
      "source": [
        "pip install missingpy"
      ],
      "metadata": {
        "colab": {
          "base_uri": "https://localhost:8080/"
        },
        "id": "cKR_krgKgxdr",
        "outputId": "2e86824a-01bc-4d28-c246-6b9624a7564f"
      },
      "execution_count": 52,
      "outputs": [
        {
          "output_type": "stream",
          "name": "stdout",
          "text": [
            "Requirement already satisfied: missingpy in /usr/local/lib/python3.7/dist-packages (0.2.0)\n"
          ]
        }
      ]
    },
    {
      "cell_type": "code",
      "source": [
        "import sys\n",
        "sys.setrecursionlimit(10000)"
      ],
      "metadata": {
        "id": "4AEEq_woi8i-"
      },
      "execution_count": 30,
      "outputs": []
    },
    {
      "cell_type": "code",
      "source": [
        "print(sys.getrecursionlimit())"
      ],
      "metadata": {
        "colab": {
          "base_uri": "https://localhost:8080/"
        },
        "id": "baY5bbf9k-kO",
        "outputId": "7b746075-938b-44da-f39a-9432b55bdb9d"
      },
      "execution_count": 32,
      "outputs": [
        {
          "output_type": "stream",
          "name": "stdout",
          "text": [
            "10000\n"
          ]
        }
      ]
    },
    {
      "cell_type": "code",
      "source": [
        "pip install sklearn"
      ],
      "metadata": {
        "colab": {
          "base_uri": "https://localhost:8080/"
        },
        "id": "lQvqq5ngpHBg",
        "outputId": "66952e4f-b49e-4085-a0ee-f039b3eecf6a"
      },
      "execution_count": 55,
      "outputs": [
        {
          "output_type": "stream",
          "name": "stdout",
          "text": [
            "Requirement already satisfied: sklearn in /usr/local/lib/python3.7/dist-packages (0.0)\n",
            "Requirement already satisfied: scikit-learn in /usr/local/lib/python3.7/dist-packages (from sklearn) (1.0.2)\n",
            "Requirement already satisfied: scipy>=1.1.0 in /usr/local/lib/python3.7/dist-packages (from scikit-learn->sklearn) (1.4.1)\n",
            "Requirement already satisfied: joblib>=0.11 in /usr/local/lib/python3.7/dist-packages (from scikit-learn->sklearn) (1.1.0)\n",
            "Requirement already satisfied: threadpoolctl>=2.0.0 in /usr/local/lib/python3.7/dist-packages (from scikit-learn->sklearn) (3.0.0)\n",
            "Requirement already satisfied: numpy>=1.14.6 in /usr/local/lib/python3.7/dist-packages (from scikit-learn->sklearn) (1.19.5)\n"
          ]
        }
      ]
    },
    {
      "cell_type": "code",
      "source": [
        "import sklearn.neighbors\n",
        "from missingpy import KNNImputer\n",
        "imputer = KNNImputer()\n",
        "df_new = imputer.fit_transform(df_null)"
      ],
      "metadata": {
        "colab": {
          "base_uri": "https://localhost:8080/",
          "height": 529
        },
        "id": "zCxAdeGrn3qe",
        "outputId": "5e2e97b5-9a40-43d6-bf29-89eea839fc52"
      },
      "execution_count": 57,
      "outputs": [
        {
          "output_type": "error",
          "ename": "ModuleNotFoundError",
          "evalue": "ignored",
          "traceback": [
            "\u001b[0;31m---------------------------------------------------------------------------\u001b[0m",
            "\u001b[0;31mModuleNotFoundError\u001b[0m                       Traceback (most recent call last)",
            "\u001b[0;32m<ipython-input-57-e93feb1c0388>\u001b[0m in \u001b[0;36m<module>\u001b[0;34m()\u001b[0m\n\u001b[1;32m      1\u001b[0m \u001b[0;32mimport\u001b[0m \u001b[0msklearn\u001b[0m\u001b[0;34m.\u001b[0m\u001b[0mneighbors\u001b[0m\u001b[0;34m\u001b[0m\u001b[0;34m\u001b[0m\u001b[0m\n\u001b[0;32m----> 2\u001b[0;31m \u001b[0;32mfrom\u001b[0m \u001b[0mmissingpy\u001b[0m \u001b[0;32mimport\u001b[0m \u001b[0mKNNImputer\u001b[0m\u001b[0;34m\u001b[0m\u001b[0;34m\u001b[0m\u001b[0m\n\u001b[0m\u001b[1;32m      3\u001b[0m \u001b[0mimputer\u001b[0m \u001b[0;34m=\u001b[0m \u001b[0mKNNImputer\u001b[0m\u001b[0;34m(\u001b[0m\u001b[0;34m)\u001b[0m\u001b[0;34m\u001b[0m\u001b[0;34m\u001b[0m\u001b[0m\n\u001b[1;32m      4\u001b[0m \u001b[0mdf_new\u001b[0m \u001b[0;34m=\u001b[0m \u001b[0mimputer\u001b[0m\u001b[0;34m.\u001b[0m\u001b[0mfit_transform\u001b[0m\u001b[0;34m(\u001b[0m\u001b[0mdf_null\u001b[0m\u001b[0;34m)\u001b[0m\u001b[0;34m\u001b[0m\u001b[0;34m\u001b[0m\u001b[0m\n",
            "\u001b[0;32m/usr/local/lib/python3.7/dist-packages/missingpy/__init__.py\u001b[0m in \u001b[0;36m<module>\u001b[0;34m()\u001b[0m\n\u001b[0;32m----> 1\u001b[0;31m \u001b[0;32mfrom\u001b[0m \u001b[0;34m.\u001b[0m\u001b[0mknnimpute\u001b[0m \u001b[0;32mimport\u001b[0m \u001b[0mKNNImputer\u001b[0m\u001b[0;34m\u001b[0m\u001b[0;34m\u001b[0m\u001b[0m\n\u001b[0m\u001b[1;32m      2\u001b[0m \u001b[0;32mfrom\u001b[0m \u001b[0;34m.\u001b[0m\u001b[0mmissforest\u001b[0m \u001b[0;32mimport\u001b[0m \u001b[0mMissForest\u001b[0m\u001b[0;34m\u001b[0m\u001b[0;34m\u001b[0m\u001b[0m\n\u001b[1;32m      3\u001b[0m \u001b[0;34m\u001b[0m\u001b[0m\n\u001b[1;32m      4\u001b[0m \u001b[0m__all__\u001b[0m \u001b[0;34m=\u001b[0m \u001b[0;34m[\u001b[0m\u001b[0;34m'KNNImputer'\u001b[0m\u001b[0;34m,\u001b[0m \u001b[0;34m'MissForest'\u001b[0m\u001b[0;34m]\u001b[0m\u001b[0;34m\u001b[0m\u001b[0;34m\u001b[0m\u001b[0m\n",
            "\u001b[0;32m/usr/local/lib/python3.7/dist-packages/missingpy/knnimpute.py\u001b[0m in \u001b[0;36m<module>\u001b[0;34m()\u001b[0m\n\u001b[1;32m     11\u001b[0m \u001b[0;32mfrom\u001b[0m \u001b[0msklearn\u001b[0m\u001b[0;34m.\u001b[0m\u001b[0mutils\u001b[0m\u001b[0;34m.\u001b[0m\u001b[0mvalidation\u001b[0m \u001b[0;32mimport\u001b[0m \u001b[0mcheck_is_fitted\u001b[0m\u001b[0;34m\u001b[0m\u001b[0;34m\u001b[0m\u001b[0m\n\u001b[1;32m     12\u001b[0m \u001b[0;32mfrom\u001b[0m \u001b[0msklearn\u001b[0m\u001b[0;34m.\u001b[0m\u001b[0mutils\u001b[0m\u001b[0;34m.\u001b[0m\u001b[0mvalidation\u001b[0m \u001b[0;32mimport\u001b[0m \u001b[0mFLOAT_DTYPES\u001b[0m\u001b[0;34m\u001b[0m\u001b[0;34m\u001b[0m\u001b[0m\n\u001b[0;32m---> 13\u001b[0;31m \u001b[0;32mfrom\u001b[0m \u001b[0msklearn\u001b[0m\u001b[0;34m.\u001b[0m\u001b[0mneighbors\u001b[0m\u001b[0;34m.\u001b[0m\u001b[0mbase\u001b[0m \u001b[0;32mimport\u001b[0m \u001b[0m_check_weights\u001b[0m\u001b[0;34m\u001b[0m\u001b[0;34m\u001b[0m\u001b[0m\n\u001b[0m\u001b[1;32m     14\u001b[0m \u001b[0;32mfrom\u001b[0m \u001b[0msklearn\u001b[0m\u001b[0;34m.\u001b[0m\u001b[0mneighbors\u001b[0m\u001b[0;34m.\u001b[0m\u001b[0mbase\u001b[0m \u001b[0;32mimport\u001b[0m \u001b[0m_get_weights\u001b[0m\u001b[0;34m\u001b[0m\u001b[0;34m\u001b[0m\u001b[0m\n\u001b[1;32m     15\u001b[0m \u001b[0;34m\u001b[0m\u001b[0m\n",
            "\u001b[0;31mModuleNotFoundError\u001b[0m: No module named 'sklearn.neighbors.base'",
            "",
            "\u001b[0;31m---------------------------------------------------------------------------\u001b[0;32m\nNOTE: If your import is failing due to a missing package, you can\nmanually install dependencies using either !pip or !apt.\n\nTo view examples of installing some common dependencies, click the\n\"Open Examples\" button below.\n\u001b[0;31m---------------------------------------------------------------------------\u001b[0m\n"
          ],
          "errorDetails": {
            "actions": [
              {
                "action": "open_url",
                "actionText": "Open Examples",
                "url": "/notebooks/snippets/importing_libraries.ipynb"
              }
            ]
          }
        }
      ]
    },
    {
      "cell_type": "code",
      "source": [
        ""
      ],
      "metadata": {
        "id": "C8NuFY3ofiGz"
      },
      "execution_count": null,
      "outputs": []
    },
    {
      "cell_type": "code",
      "source": [
        ""
      ],
      "metadata": {
        "id": "ukOu48AkfiEN"
      },
      "execution_count": null,
      "outputs": []
    },
    {
      "cell_type": "code",
      "source": [
        "# subplot 적용\n",
        "fig = plt.figure(figsize = (12, 4))\n",
        "chart = fig.add_subplot(1,1,1)\n",
        "\n",
        "chart.plot(plt_df_raw_data2['precipitation'], color='red' , label='raw data')\n",
        "chart.plot(plt_df_f_mf['precipitation'], color='blue' , label='most_frequent')\n",
        "chart.plot(plt_df_f_const['precipitation'], color='orange' , label='constant')\n",
        "#chart.plot(roll_mean20, color='pink' , label='20 day rolling mean')\n",
        "plt.legend(loc = 'best')"
      ],
      "metadata": {
        "id": "DyKSCgQKfh_Q"
      },
      "execution_count": null,
      "outputs": []
    },
    {
      "cell_type": "code",
      "source": [
        ""
      ],
      "metadata": {
        "id": "ZExqTFzufh8o"
      },
      "execution_count": null,
      "outputs": []
    },
    {
      "cell_type": "code",
      "source": [
        ""
      ],
      "metadata": {
        "id": "vnP-K_bKfh6B"
      },
      "execution_count": null,
      "outputs": []
    },
    {
      "cell_type": "code",
      "source": [
        ""
      ],
      "metadata": {
        "id": "vG8eJHEefhzb"
      },
      "execution_count": null,
      "outputs": []
    },
    {
      "cell_type": "code",
      "source": [
        ""
      ],
      "metadata": {
        "id": "oeyj2Lrlfhv7"
      },
      "execution_count": null,
      "outputs": []
    },
    {
      "cell_type": "code",
      "source": [
        ""
      ],
      "metadata": {
        "id": "4FMpRkYYfhsD"
      },
      "execution_count": null,
      "outputs": []
    },
    {
      "cell_type": "code",
      "source": [
        ""
      ],
      "metadata": {
        "id": "CO29sz4mcZfC"
      },
      "execution_count": null,
      "outputs": []
    },
    {
      "cell_type": "code",
      "source": [
        "null_precip=df_raw_data2.loc[df_raw_data2['precipitation'].isnull()==True]\n",
        "null_precip.head()"
      ],
      "metadata": {
        "colab": {
          "base_uri": "https://localhost:8080/",
          "height": 337
        },
        "id": "-5gBslMmbEVo",
        "outputId": "86f4cd8d-189d-4395-85c6-bdc4608e9014"
      },
      "execution_count": null,
      "outputs": [
        {
          "output_type": "execute_result",
          "data": {
            "text/html": [
              "\n",
              "  <div id=\"df-503f03e9-5f1a-4742-ac37-23866f31f952\">\n",
              "    <div class=\"colab-df-container\">\n",
              "      <div>\n",
              "<style scoped>\n",
              "    .dataframe tbody tr th:only-of-type {\n",
              "        vertical-align: middle;\n",
              "    }\n",
              "\n",
              "    .dataframe tbody tr th {\n",
              "        vertical-align: top;\n",
              "    }\n",
              "\n",
              "    .dataframe thead th {\n",
              "        text-align: right;\n",
              "    }\n",
              "</style>\n",
              "<table border=\"1\" class=\"dataframe\">\n",
              "  <thead>\n",
              "    <tr style=\"text-align: right;\">\n",
              "      <th></th>\n",
              "      <th>holiday</th>\n",
              "      <th>weekend</th>\n",
              "      <th>time</th>\n",
              "      <th>precipitation_type</th>\n",
              "      <th>temperature</th>\n",
              "      <th>station_name</th>\n",
              "      <th>filename</th>\n",
              "      <th>precipitation</th>\n",
              "      <th>total_car_num</th>\n",
              "      <th>day_week</th>\n",
              "      <th>humid</th>\n",
              "      <th>year</th>\n",
              "      <th>month</th>\n",
              "      <th>day</th>\n",
              "      <th>hour</th>\n",
              "      <th>minute</th>\n",
              "      <th>second</th>\n",
              "    </tr>\n",
              "  </thead>\n",
              "  <tbody>\n",
              "    <tr>\n",
              "      <th>548</th>\n",
              "      <td>False</td>\n",
              "      <td>False</td>\n",
              "      <td>2020-09-24-07h-45m-52s</td>\n",
              "      <td>NaN</td>\n",
              "      <td>NaN</td>\n",
              "      <td>26</td>\n",
              "      <td>congress_2020-09-24-07h-45m-52s.jpg</td>\n",
              "      <td>NaN</td>\n",
              "      <td>0</td>\n",
              "      <td>thu</td>\n",
              "      <td>NaN</td>\n",
              "      <td>2020</td>\n",
              "      <td>9</td>\n",
              "      <td>24</td>\n",
              "      <td>7</td>\n",
              "      <td>45</td>\n",
              "      <td>52</td>\n",
              "    </tr>\n",
              "    <tr>\n",
              "      <th>739</th>\n",
              "      <td>False</td>\n",
              "      <td>False</td>\n",
              "      <td>2020-09-24-23h-26m-00s</td>\n",
              "      <td>NaN</td>\n",
              "      <td>NaN</td>\n",
              "      <td>26</td>\n",
              "      <td>congress_2020-09-24-23h-26m-00s.jpg</td>\n",
              "      <td>NaN</td>\n",
              "      <td>3</td>\n",
              "      <td>thu</td>\n",
              "      <td>NaN</td>\n",
              "      <td>2020</td>\n",
              "      <td>9</td>\n",
              "      <td>24</td>\n",
              "      <td>23</td>\n",
              "      <td>26</td>\n",
              "      <td>0</td>\n",
              "    </tr>\n",
              "    <tr>\n",
              "      <th>2795</th>\n",
              "      <td>False</td>\n",
              "      <td>False</td>\n",
              "      <td>2020-10-05-11h-30m-00s</td>\n",
              "      <td>NaN</td>\n",
              "      <td>NaN</td>\n",
              "      <td>26</td>\n",
              "      <td>congress_2020-10-05-11h-30m-00s.jpg</td>\n",
              "      <td>NaN</td>\n",
              "      <td>2</td>\n",
              "      <td>mon</td>\n",
              "      <td>NaN</td>\n",
              "      <td>2020</td>\n",
              "      <td>10</td>\n",
              "      <td>5</td>\n",
              "      <td>11</td>\n",
              "      <td>30</td>\n",
              "      <td>0</td>\n",
              "    </tr>\n",
              "    <tr>\n",
              "      <th>2865</th>\n",
              "      <td>False</td>\n",
              "      <td>False</td>\n",
              "      <td>2020-10-05-17h-20m-00s</td>\n",
              "      <td>NaN</td>\n",
              "      <td>NaN</td>\n",
              "      <td>26</td>\n",
              "      <td>congress_2020-10-05-17h-20m-00s.jpg</td>\n",
              "      <td>NaN</td>\n",
              "      <td>4</td>\n",
              "      <td>mon</td>\n",
              "      <td>NaN</td>\n",
              "      <td>2020</td>\n",
              "      <td>10</td>\n",
              "      <td>5</td>\n",
              "      <td>17</td>\n",
              "      <td>20</td>\n",
              "      <td>0</td>\n",
              "    </tr>\n",
              "    <tr>\n",
              "      <th>3228</th>\n",
              "      <td>False</td>\n",
              "      <td>False</td>\n",
              "      <td>2020-10-07-13h-35m-00s</td>\n",
              "      <td>NaN</td>\n",
              "      <td>NaN</td>\n",
              "      <td>26</td>\n",
              "      <td>congress_2020-10-07-13h-35m-00s.jpg</td>\n",
              "      <td>NaN</td>\n",
              "      <td>3</td>\n",
              "      <td>wen</td>\n",
              "      <td>NaN</td>\n",
              "      <td>2020</td>\n",
              "      <td>10</td>\n",
              "      <td>7</td>\n",
              "      <td>13</td>\n",
              "      <td>35</td>\n",
              "      <td>0</td>\n",
              "    </tr>\n",
              "  </tbody>\n",
              "</table>\n",
              "</div>\n",
              "      <button class=\"colab-df-convert\" onclick=\"convertToInteractive('df-503f03e9-5f1a-4742-ac37-23866f31f952')\"\n",
              "              title=\"Convert this dataframe to an interactive table.\"\n",
              "              style=\"display:none;\">\n",
              "        \n",
              "  <svg xmlns=\"http://www.w3.org/2000/svg\" height=\"24px\"viewBox=\"0 0 24 24\"\n",
              "       width=\"24px\">\n",
              "    <path d=\"M0 0h24v24H0V0z\" fill=\"none\"/>\n",
              "    <path d=\"M18.56 5.44l.94 2.06.94-2.06 2.06-.94-2.06-.94-.94-2.06-.94 2.06-2.06.94zm-11 1L8.5 8.5l.94-2.06 2.06-.94-2.06-.94L8.5 2.5l-.94 2.06-2.06.94zm10 10l.94 2.06.94-2.06 2.06-.94-2.06-.94-.94-2.06-.94 2.06-2.06.94z\"/><path d=\"M17.41 7.96l-1.37-1.37c-.4-.4-.92-.59-1.43-.59-.52 0-1.04.2-1.43.59L10.3 9.45l-7.72 7.72c-.78.78-.78 2.05 0 2.83L4 21.41c.39.39.9.59 1.41.59.51 0 1.02-.2 1.41-.59l7.78-7.78 2.81-2.81c.8-.78.8-2.07 0-2.86zM5.41 20L4 18.59l7.72-7.72 1.47 1.35L5.41 20z\"/>\n",
              "  </svg>\n",
              "      </button>\n",
              "      \n",
              "  <style>\n",
              "    .colab-df-container {\n",
              "      display:flex;\n",
              "      flex-wrap:wrap;\n",
              "      gap: 12px;\n",
              "    }\n",
              "\n",
              "    .colab-df-convert {\n",
              "      background-color: #E8F0FE;\n",
              "      border: none;\n",
              "      border-radius: 50%;\n",
              "      cursor: pointer;\n",
              "      display: none;\n",
              "      fill: #1967D2;\n",
              "      height: 32px;\n",
              "      padding: 0 0 0 0;\n",
              "      width: 32px;\n",
              "    }\n",
              "\n",
              "    .colab-df-convert:hover {\n",
              "      background-color: #E2EBFA;\n",
              "      box-shadow: 0px 1px 2px rgba(60, 64, 67, 0.3), 0px 1px 3px 1px rgba(60, 64, 67, 0.15);\n",
              "      fill: #174EA6;\n",
              "    }\n",
              "\n",
              "    [theme=dark] .colab-df-convert {\n",
              "      background-color: #3B4455;\n",
              "      fill: #D2E3FC;\n",
              "    }\n",
              "\n",
              "    [theme=dark] .colab-df-convert:hover {\n",
              "      background-color: #434B5C;\n",
              "      box-shadow: 0px 1px 3px 1px rgba(0, 0, 0, 0.15);\n",
              "      filter: drop-shadow(0px 1px 2px rgba(0, 0, 0, 0.3));\n",
              "      fill: #FFFFFF;\n",
              "    }\n",
              "  </style>\n",
              "\n",
              "      <script>\n",
              "        const buttonEl =\n",
              "          document.querySelector('#df-503f03e9-5f1a-4742-ac37-23866f31f952 button.colab-df-convert');\n",
              "        buttonEl.style.display =\n",
              "          google.colab.kernel.accessAllowed ? 'block' : 'none';\n",
              "\n",
              "        async function convertToInteractive(key) {\n",
              "          const element = document.querySelector('#df-503f03e9-5f1a-4742-ac37-23866f31f952');\n",
              "          const dataTable =\n",
              "            await google.colab.kernel.invokeFunction('convertToInteractive',\n",
              "                                                     [key], {});\n",
              "          if (!dataTable) return;\n",
              "\n",
              "          const docLinkHtml = 'Like what you see? Visit the ' +\n",
              "            '<a target=\"_blank\" href=https://colab.research.google.com/notebooks/data_table.ipynb>data table notebook</a>'\n",
              "            + ' to learn more about interactive tables.';\n",
              "          element.innerHTML = '';\n",
              "          dataTable['output_type'] = 'display_data';\n",
              "          await google.colab.output.renderOutput(dataTable, element);\n",
              "          const docLink = document.createElement('div');\n",
              "          docLink.innerHTML = docLinkHtml;\n",
              "          element.appendChild(docLink);\n",
              "        }\n",
              "      </script>\n",
              "    </div>\n",
              "  </div>\n",
              "  "
            ],
            "text/plain": [
              "      holiday  weekend                    time  ...  hour  minute  second\n",
              "548     False    False  2020-09-24-07h-45m-52s  ...     7      45      52\n",
              "739     False    False  2020-09-24-23h-26m-00s  ...    23      26       0\n",
              "2795    False    False  2020-10-05-11h-30m-00s  ...    11      30       0\n",
              "2865    False    False  2020-10-05-17h-20m-00s  ...    17      20       0\n",
              "3228    False    False  2020-10-07-13h-35m-00s  ...    13      35       0\n",
              "\n",
              "[5 rows x 17 columns]"
            ]
          },
          "metadata": {},
          "execution_count": 8
        }
      ]
    },
    {
      "cell_type": "code",
      "source": [
        "null_precip.info()"
      ],
      "metadata": {
        "colab": {
          "base_uri": "https://localhost:8080/"
        },
        "id": "2x7bpc6nHuVu",
        "outputId": "5cf6b950-bbde-4fe3-87df-fe79f0ba3e98"
      },
      "execution_count": null,
      "outputs": [
        {
          "output_type": "stream",
          "name": "stdout",
          "text": [
            "<class 'pandas.core.frame.DataFrame'>\n",
            "Int64Index: 31099 entries, 548 to 77436\n",
            "Data columns (total 17 columns):\n",
            " #   Column              Non-Null Count  Dtype  \n",
            "---  ------              --------------  -----  \n",
            " 0   holiday             31099 non-null  bool   \n",
            " 1   weekend             31099 non-null  bool   \n",
            " 2   time                31099 non-null  object \n",
            " 3   precipitation_type  0 non-null      float64\n",
            " 4   temperature         0 non-null      float64\n",
            " 5   station_name        31099 non-null  int64  \n",
            " 6   filename            31099 non-null  object \n",
            " 7   precipitation       0 non-null      float64\n",
            " 8   total_car_num       31099 non-null  int64  \n",
            " 9   day_week            31099 non-null  object \n",
            " 10  humid               0 non-null      float64\n",
            " 11  year                31099 non-null  int64  \n",
            " 12  month               31099 non-null  int64  \n",
            " 13  day                 31099 non-null  int64  \n",
            " 14  hour                31099 non-null  int64  \n",
            " 15  minute              31099 non-null  int64  \n",
            " 16  second              31099 non-null  int64  \n",
            "dtypes: bool(2), float64(4), int64(8), object(3)\n",
            "memory usage: 3.9+ MB\n"
          ]
        }
      ]
    },
    {
      "cell_type": "code",
      "source": [
        "null_precip.groupby('month').size()"
      ],
      "metadata": {
        "colab": {
          "base_uri": "https://localhost:8080/"
        },
        "id": "TaYW1Gc_G1mQ",
        "outputId": "a539c6b4-c966-413f-fdc9-c669800c2883"
      },
      "execution_count": null,
      "outputs": [
        {
          "output_type": "execute_result",
          "data": {
            "text/plain": [
              "month\n",
              "1      6623\n",
              "2      4430\n",
              "3        28\n",
              "4        75\n",
              "5       107\n",
              "6       173\n",
              "7       152\n",
              "8        60\n",
              "9        25\n",
              "10      835\n",
              "11     8542\n",
              "12    10049\n",
              "dtype: int64"
            ]
          },
          "metadata": {},
          "execution_count": 16
        }
      ]
    },
    {
      "cell_type": "code",
      "source": [
        ""
      ],
      "metadata": {
        "id": "y36KVzkTaCCN"
      },
      "execution_count": null,
      "outputs": []
    },
    {
      "cell_type": "code",
      "source": [
        ""
      ],
      "metadata": {
        "id": "7YE1zDx2aB-h"
      },
      "execution_count": null,
      "outputs": []
    },
    {
      "cell_type": "code",
      "source": [
        ""
      ],
      "metadata": {
        "id": "p9MvxtfsaB7Q"
      },
      "execution_count": null,
      "outputs": []
    },
    {
      "cell_type": "code",
      "source": [
        ""
      ],
      "metadata": {
        "id": "u8nVH_wIaB4u"
      },
      "execution_count": null,
      "outputs": []
    },
    {
      "cell_type": "code",
      "source": [
        ""
      ],
      "metadata": {
        "id": "NRrQMKVJaB1w"
      },
      "execution_count": null,
      "outputs": []
    },
    {
      "cell_type": "code",
      "source": [
        ""
      ],
      "metadata": {
        "id": "JA0VzJqkaB0E"
      },
      "execution_count": null,
      "outputs": []
    },
    {
      "cell_type": "code",
      "source": [
        ""
      ],
      "metadata": {
        "id": "9HGwofMAaByP"
      },
      "execution_count": null,
      "outputs": []
    },
    {
      "cell_type": "code",
      "source": [
        ""
      ],
      "metadata": {
        "id": "QKsGultjaBu-"
      },
      "execution_count": null,
      "outputs": []
    },
    {
      "cell_type": "code",
      "source": [
        ""
      ],
      "metadata": {
        "id": "-MqreSFvaBrX"
      },
      "execution_count": null,
      "outputs": []
    },
    {
      "cell_type": "code",
      "source": [
        ""
      ],
      "metadata": {
        "id": "UOgBiISFaBn3"
      },
      "execution_count": null,
      "outputs": []
    },
    {
      "cell_type": "code",
      "source": [
        "# df_raw_data.dropna(axis = 0, inplace= True)\n",
        "# df_raw_data.info()\n",
        "\n",
        "# df_raw_data.drop(df_raw_data.loc[df_raw_data['total_car_num'] == 6].index, inplace =True)\n",
        "# df_raw_data.info()\n",
        "\n",
        "# df_raw_data.drop('time', axis=1, inplace = True)\n",
        "# df_raw_data.info()\n",
        "\n",
        "\n",
        "# df_raw_data['day_week'].replace('mon', 0, inplace = True)\n",
        "# df_raw_data['day_week'].replace('tue', 1, inplace = True)\n",
        "# df_raw_data['day_week'].replace('wen', 2, inplace = True)\n",
        "# df_raw_data['day_week'].replace('thu', 3, inplace = True)\n",
        "# df_raw_data['day_week'].replace('fri', 4, inplace = True)\n",
        "# df_raw_data['day_week'].replace('sat', 5, inplace = True)\n",
        "# df_raw_data['day_week'].replace('sun', 6, inplace = True)\n",
        "\n",
        "# df_raw_data['holiday'] = df_raw_data['holiday'].astype(int)\n",
        "# df_raw_data['weekend'] = df_raw_data['weekend'].astype(int)\n",
        "\n",
        "\n",
        "# df_raw_data.head()"
      ],
      "metadata": {
        "colab": {
          "base_uri": "https://localhost:8080/",
          "height": 1000
        },
        "id": "ptWnAR-HhcLo",
        "outputId": "f4e2b52b-3634-473b-ac13-ed8f24288872"
      },
      "execution_count": null,
      "outputs": [
        {
          "output_type": "stream",
          "name": "stdout",
          "text": [
            "<class 'pandas.core.frame.DataFrame'>\n",
            "Int64Index: 6109 entries, 0 to 6116\n",
            "Data columns (total 15 columns):\n",
            " #   Column              Non-Null Count  Dtype  \n",
            "---  ------              --------------  -----  \n",
            " 0   station_name        6109 non-null   int64  \n",
            " 1   time                6109 non-null   object \n",
            " 2   holiday             6109 non-null   bool   \n",
            " 3   day_week            6109 non-null   object \n",
            " 4   weekend             6109 non-null   bool   \n",
            " 5   temperature         6109 non-null   float64\n",
            " 6   humid               6109 non-null   float64\n",
            " 7   precipitation       6109 non-null   float64\n",
            " 8   precipitation_type  6109 non-null   float64\n",
            " 9   year                6109 non-null   int64  \n",
            " 10  month               6109 non-null   int64  \n",
            " 11  day                 6109 non-null   int64  \n",
            " 12  hour                6109 non-null   int64  \n",
            " 13  minute              6109 non-null   int64  \n",
            " 14  total_car_num       6109 non-null   int64  \n",
            "dtypes: bool(2), float64(4), int64(7), object(2)\n",
            "memory usage: 680.1+ KB\n",
            "<class 'pandas.core.frame.DataFrame'>\n",
            "Int64Index: 6108 entries, 0 to 6116\n",
            "Data columns (total 15 columns):\n",
            " #   Column              Non-Null Count  Dtype  \n",
            "---  ------              --------------  -----  \n",
            " 0   station_name        6108 non-null   int64  \n",
            " 1   time                6108 non-null   object \n",
            " 2   holiday             6108 non-null   bool   \n",
            " 3   day_week            6108 non-null   object \n",
            " 4   weekend             6108 non-null   bool   \n",
            " 5   temperature         6108 non-null   float64\n",
            " 6   humid               6108 non-null   float64\n",
            " 7   precipitation       6108 non-null   float64\n",
            " 8   precipitation_type  6108 non-null   float64\n",
            " 9   year                6108 non-null   int64  \n",
            " 10  month               6108 non-null   int64  \n",
            " 11  day                 6108 non-null   int64  \n",
            " 12  hour                6108 non-null   int64  \n",
            " 13  minute              6108 non-null   int64  \n",
            " 14  total_car_num       6108 non-null   int64  \n",
            "dtypes: bool(2), float64(4), int64(7), object(2)\n",
            "memory usage: 680.0+ KB\n",
            "<class 'pandas.core.frame.DataFrame'>\n",
            "Int64Index: 6108 entries, 0 to 6116\n",
            "Data columns (total 14 columns):\n",
            " #   Column              Non-Null Count  Dtype  \n",
            "---  ------              --------------  -----  \n",
            " 0   station_name        6108 non-null   int64  \n",
            " 1   holiday             6108 non-null   bool   \n",
            " 2   day_week            6108 non-null   object \n",
            " 3   weekend             6108 non-null   bool   \n",
            " 4   temperature         6108 non-null   float64\n",
            " 5   humid               6108 non-null   float64\n",
            " 6   precipitation       6108 non-null   float64\n",
            " 7   precipitation_type  6108 non-null   float64\n",
            " 8   year                6108 non-null   int64  \n",
            " 9   month               6108 non-null   int64  \n",
            " 10  day                 6108 non-null   int64  \n",
            " 11  hour                6108 non-null   int64  \n",
            " 12  minute              6108 non-null   int64  \n",
            " 13  total_car_num       6108 non-null   int64  \n",
            "dtypes: bool(2), float64(4), int64(7), object(1)\n",
            "memory usage: 632.3+ KB\n"
          ]
        },
        {
          "output_type": "execute_result",
          "data": {
            "text/html": [
              "\n",
              "  <div id=\"df-00bc4477-1132-4bb7-8486-71a254de03d0\">\n",
              "    <div class=\"colab-df-container\">\n",
              "      <div>\n",
              "<style scoped>\n",
              "    .dataframe tbody tr th:only-of-type {\n",
              "        vertical-align: middle;\n",
              "    }\n",
              "\n",
              "    .dataframe tbody tr th {\n",
              "        vertical-align: top;\n",
              "    }\n",
              "\n",
              "    .dataframe thead th {\n",
              "        text-align: right;\n",
              "    }\n",
              "</style>\n",
              "<table border=\"1\" class=\"dataframe\">\n",
              "  <thead>\n",
              "    <tr style=\"text-align: right;\">\n",
              "      <th></th>\n",
              "      <th>station_name</th>\n",
              "      <th>holiday</th>\n",
              "      <th>day_week</th>\n",
              "      <th>weekend</th>\n",
              "      <th>temperature</th>\n",
              "      <th>humid</th>\n",
              "      <th>precipitation</th>\n",
              "      <th>precipitation_type</th>\n",
              "      <th>year</th>\n",
              "      <th>month</th>\n",
              "      <th>day</th>\n",
              "      <th>hour</th>\n",
              "      <th>minute</th>\n",
              "      <th>total_car_num</th>\n",
              "    </tr>\n",
              "  </thead>\n",
              "  <tbody>\n",
              "    <tr>\n",
              "      <th>0</th>\n",
              "      <td>26</td>\n",
              "      <td>0</td>\n",
              "      <td>3</td>\n",
              "      <td>0</td>\n",
              "      <td>23.0</td>\n",
              "      <td>52.0</td>\n",
              "      <td>0.0</td>\n",
              "      <td>0.0</td>\n",
              "      <td>2020</td>\n",
              "      <td>9</td>\n",
              "      <td>17</td>\n",
              "      <td>21</td>\n",
              "      <td>20</td>\n",
              "      <td>2</td>\n",
              "    </tr>\n",
              "    <tr>\n",
              "      <th>1</th>\n",
              "      <td>26</td>\n",
              "      <td>0</td>\n",
              "      <td>3</td>\n",
              "      <td>0</td>\n",
              "      <td>23.0</td>\n",
              "      <td>52.0</td>\n",
              "      <td>0.0</td>\n",
              "      <td>0.0</td>\n",
              "      <td>2020</td>\n",
              "      <td>9</td>\n",
              "      <td>17</td>\n",
              "      <td>21</td>\n",
              "      <td>38</td>\n",
              "      <td>3</td>\n",
              "    </tr>\n",
              "    <tr>\n",
              "      <th>2</th>\n",
              "      <td>26</td>\n",
              "      <td>0</td>\n",
              "      <td>4</td>\n",
              "      <td>0</td>\n",
              "      <td>25.3</td>\n",
              "      <td>38.0</td>\n",
              "      <td>0.0</td>\n",
              "      <td>0.0</td>\n",
              "      <td>2020</td>\n",
              "      <td>9</td>\n",
              "      <td>18</td>\n",
              "      <td>16</td>\n",
              "      <td>45</td>\n",
              "      <td>4</td>\n",
              "    </tr>\n",
              "    <tr>\n",
              "      <th>3</th>\n",
              "      <td>26</td>\n",
              "      <td>0</td>\n",
              "      <td>4</td>\n",
              "      <td>0</td>\n",
              "      <td>25.3</td>\n",
              "      <td>38.0</td>\n",
              "      <td>0.0</td>\n",
              "      <td>0.0</td>\n",
              "      <td>2020</td>\n",
              "      <td>9</td>\n",
              "      <td>18</td>\n",
              "      <td>16</td>\n",
              "      <td>50</td>\n",
              "      <td>4</td>\n",
              "    </tr>\n",
              "    <tr>\n",
              "      <th>4</th>\n",
              "      <td>26</td>\n",
              "      <td>0</td>\n",
              "      <td>4</td>\n",
              "      <td>0</td>\n",
              "      <td>25.3</td>\n",
              "      <td>38.0</td>\n",
              "      <td>0.0</td>\n",
              "      <td>0.0</td>\n",
              "      <td>2020</td>\n",
              "      <td>9</td>\n",
              "      <td>18</td>\n",
              "      <td>16</td>\n",
              "      <td>55</td>\n",
              "      <td>4</td>\n",
              "    </tr>\n",
              "  </tbody>\n",
              "</table>\n",
              "</div>\n",
              "      <button class=\"colab-df-convert\" onclick=\"convertToInteractive('df-00bc4477-1132-4bb7-8486-71a254de03d0')\"\n",
              "              title=\"Convert this dataframe to an interactive table.\"\n",
              "              style=\"display:none;\">\n",
              "        \n",
              "  <svg xmlns=\"http://www.w3.org/2000/svg\" height=\"24px\"viewBox=\"0 0 24 24\"\n",
              "       width=\"24px\">\n",
              "    <path d=\"M0 0h24v24H0V0z\" fill=\"none\"/>\n",
              "    <path d=\"M18.56 5.44l.94 2.06.94-2.06 2.06-.94-2.06-.94-.94-2.06-.94 2.06-2.06.94zm-11 1L8.5 8.5l.94-2.06 2.06-.94-2.06-.94L8.5 2.5l-.94 2.06-2.06.94zm10 10l.94 2.06.94-2.06 2.06-.94-2.06-.94-.94-2.06-.94 2.06-2.06.94z\"/><path d=\"M17.41 7.96l-1.37-1.37c-.4-.4-.92-.59-1.43-.59-.52 0-1.04.2-1.43.59L10.3 9.45l-7.72 7.72c-.78.78-.78 2.05 0 2.83L4 21.41c.39.39.9.59 1.41.59.51 0 1.02-.2 1.41-.59l7.78-7.78 2.81-2.81c.8-.78.8-2.07 0-2.86zM5.41 20L4 18.59l7.72-7.72 1.47 1.35L5.41 20z\"/>\n",
              "  </svg>\n",
              "      </button>\n",
              "      \n",
              "  <style>\n",
              "    .colab-df-container {\n",
              "      display:flex;\n",
              "      flex-wrap:wrap;\n",
              "      gap: 12px;\n",
              "    }\n",
              "\n",
              "    .colab-df-convert {\n",
              "      background-color: #E8F0FE;\n",
              "      border: none;\n",
              "      border-radius: 50%;\n",
              "      cursor: pointer;\n",
              "      display: none;\n",
              "      fill: #1967D2;\n",
              "      height: 32px;\n",
              "      padding: 0 0 0 0;\n",
              "      width: 32px;\n",
              "    }\n",
              "\n",
              "    .colab-df-convert:hover {\n",
              "      background-color: #E2EBFA;\n",
              "      box-shadow: 0px 1px 2px rgba(60, 64, 67, 0.3), 0px 1px 3px 1px rgba(60, 64, 67, 0.15);\n",
              "      fill: #174EA6;\n",
              "    }\n",
              "\n",
              "    [theme=dark] .colab-df-convert {\n",
              "      background-color: #3B4455;\n",
              "      fill: #D2E3FC;\n",
              "    }\n",
              "\n",
              "    [theme=dark] .colab-df-convert:hover {\n",
              "      background-color: #434B5C;\n",
              "      box-shadow: 0px 1px 3px 1px rgba(0, 0, 0, 0.15);\n",
              "      filter: drop-shadow(0px 1px 2px rgba(0, 0, 0, 0.3));\n",
              "      fill: #FFFFFF;\n",
              "    }\n",
              "  </style>\n",
              "\n",
              "      <script>\n",
              "        const buttonEl =\n",
              "          document.querySelector('#df-00bc4477-1132-4bb7-8486-71a254de03d0 button.colab-df-convert');\n",
              "        buttonEl.style.display =\n",
              "          google.colab.kernel.accessAllowed ? 'block' : 'none';\n",
              "\n",
              "        async function convertToInteractive(key) {\n",
              "          const element = document.querySelector('#df-00bc4477-1132-4bb7-8486-71a254de03d0');\n",
              "          const dataTable =\n",
              "            await google.colab.kernel.invokeFunction('convertToInteractive',\n",
              "                                                     [key], {});\n",
              "          if (!dataTable) return;\n",
              "\n",
              "          const docLinkHtml = 'Like what you see? Visit the ' +\n",
              "            '<a target=\"_blank\" href=https://colab.research.google.com/notebooks/data_table.ipynb>data table notebook</a>'\n",
              "            + ' to learn more about interactive tables.';\n",
              "          element.innerHTML = '';\n",
              "          dataTable['output_type'] = 'display_data';\n",
              "          await google.colab.output.renderOutput(dataTable, element);\n",
              "          const docLink = document.createElement('div');\n",
              "          docLink.innerHTML = docLinkHtml;\n",
              "          element.appendChild(docLink);\n",
              "        }\n",
              "      </script>\n",
              "    </div>\n",
              "  </div>\n",
              "  "
            ],
            "text/plain": [
              "   station_name  holiday  day_week  weekend  ...  day  hour  minute  total_car_num\n",
              "0            26        0         3        0  ...   17    21      20              2\n",
              "1            26        0         3        0  ...   17    21      38              3\n",
              "2            26        0         4        0  ...   18    16      45              4\n",
              "3            26        0         4        0  ...   18    16      50              4\n",
              "4            26        0         4        0  ...   18    16      55              4\n",
              "\n",
              "[5 rows x 14 columns]"
            ]
          },
          "metadata": {},
          "execution_count": 5
        }
      ]
    },
    {
      "cell_type": "code",
      "source": [
        "plt.figure(figsize=(15,15))\n",
        "sns.heatmap(data = df_raw_data.corr(), annot=True, \n",
        "fmt = '.2f', linewidths=.5, cmap='Blues')"
      ],
      "metadata": {
        "colab": {
          "base_uri": "https://localhost:8080/",
          "height": 965
        },
        "id": "jtl2LMlk2Gj3",
        "outputId": "219ceef1-79bc-4618-b56f-c0d7802ec202"
      },
      "execution_count": null,
      "outputs": [
        {
          "output_type": "execute_result",
          "data": {
            "text/plain": [
              "<matplotlib.axes._subplots.AxesSubplot at 0x7fb1784df890>"
            ]
          },
          "metadata": {},
          "execution_count": 6
        },
        {
          "output_type": "display_data",
          "data": {
            "image/png": "[encoded data removed]",
            "text/plain": [
              "<Figure size 1080x1080 with 2 Axes>"
            ]
          },
          "metadata": {
            "needs_background": "light"
          }
        }
      ]
    },
    {
      "cell_type": "code",
      "source": [
        "plt.figure(figsize=(15,8),)\n",
        "#plt.plot(df_raw_data['day'], df_raw_data['total_car_num'])\n",
        "plt.bar(df_raw_data['day'], df_raw_data['total_car_num'], color='#e35f62')\n",
        "plt.title('Daily Car Num')\n",
        "plt.xlabel('day')\n",
        "plt.ylabel('total_car_num')"
      ],
      "metadata": {
        "colab": {
          "base_uri": "https://localhost:8080/",
          "height": 531
        },
        "id": "uVa_noOT4OVW",
        "outputId": "b4255007-9b1b-4ac0-d57e-ed7d6aa619e3"
      },
      "execution_count": null,
      "outputs": [
        {
          "output_type": "execute_result",
          "data": {
            "text/plain": [
              "Text(0, 0.5, 'total_car_num')"
            ]
          },
          "metadata": {},
          "execution_count": 7
        },
        {
          "output_type": "display_data",
          "data": {
            "image/png": "[encoded data removed]",
            "text/plain": [
              "<Figure size 1080x576 with 1 Axes>"
            ]
          },
          "metadata": {
            "needs_background": "light"
          }
        }
      ]
    },
    {
      "cell_type": "code",
      "source": [
        "plt.figure(figsize=(15,8),)\n",
        "#plt.plot(df_raw_data['day'], df_raw_data['total_car_num'])\n",
        "plt.bar(df_raw_data['hour'], df_raw_data['total_car_num'], color='#9467bd')\n",
        "plt.title('Daily Car Num')\n",
        "plt.xlabel('hour')\n",
        "plt.ylabel('total_car_num')"
      ],
      "metadata": {
        "colab": {
          "base_uri": "https://localhost:8080/",
          "height": 531
        },
        "id": "xMjYAOo851Jr",
        "outputId": "c77c1e18-1848-4aa0-8e18-b21bfd8363b0"
      },
      "execution_count": null,
      "outputs": [
        {
          "output_type": "execute_result",
          "data": {
            "text/plain": [
              "Text(0, 0.5, 'total_car_num')"
            ]
          },
          "metadata": {},
          "execution_count": 8
        },
        {
          "output_type": "display_data",
          "data": {
            "image/png": "[encoded data removed]",
            "text/plain": [
              "<Figure size 1080x576 with 1 Axes>"
            ]
          },
          "metadata": {
            "needs_background": "light"
          }
        }
      ]
    },
    {
      "cell_type": "code",
      "source": [
        "X, y = df_raw_data.iloc[:,2:-1].values, df_raw_data.iloc[:,-1].values\n",
        "X_train, X_test, y_train, y_test = train_test_split(X, y, \n",
        "                                                    test_size = 0.2, \n",
        "                                                    random_state = 0,\n",
        "                                                    stratify = y)\n",
        "\n",
        "print('X_rain :', X_train)\n",
        "print('X_test :', X_test)\n",
        "print('y_train :', y_train)\n",
        "print('y_test :', y_test)"
      ],
      "metadata": {
        "colab": {
          "base_uri": "https://localhost:8080/"
        },
        "id": "AOizC1JehcI-",
        "outputId": "b7378e48-a207-49db-dc2f-c111b68510de"
      },
      "execution_count": null,
      "outputs": [
        {
          "output_type": "stream",
          "name": "stdout",
          "text": [
            "X_rain : [[ 5.   1.  22.  ...  3.  17.  25. ]\n",
            " [ 2.   0.  25.  ...  9.  17.  25. ]\n",
            " [ 4.   0.  18.2 ...  2.   8.  45. ]\n",
            " ...\n",
            " [ 2.   0.  14.  ... 14.   9.   5. ]\n",
            " [ 3.   0.   8.6 ... 15.  11.  35. ]\n",
            " [ 1.   0.  12.  ... 13.   8.   5. ]]\n",
            "X_test : [[ 3.   0.  22.5 ... 24.  21.  46. ]\n",
            " [ 4.   0.  20.3 ...  9.  22.   5. ]\n",
            " [ 0.   0.  16.1 ...  5.  15.  15. ]\n",
            " ...\n",
            " [ 2.   0.  13.2 ... 14.  21.  30. ]\n",
            " [ 5.   1.  20.3 ... 10.  18.  50. ]\n",
            " [ 5.   1.  19.5 ...  3.  13.  40. ]]\n",
            "y_train : [3 2 3 ... 3 0 0]\n",
            "y_test : [4 0 3 ... 2 3 1]\n"
          ]
        }
      ]
    },
    {
      "cell_type": "code",
      "source": [
        "def plot_error(y_train_pred, y_train, y_test_pred, y_test):\n",
        "    plt.scatter(y_train_pred, \n",
        "           y_train_pred - y_train,\n",
        "           c= 'steelblue',\n",
        "           edgecolor = 'white',\n",
        "           marker = 'o',\n",
        "           s = 35 ,\n",
        "           alpha = 0.9,\n",
        "           label = 'Training data')\n",
        "\n",
        "    plt.scatter(y_test_pred, \n",
        "           y_test_pred - y_test,\n",
        "           c= 'limegreen',\n",
        "           edgecolor = 'white',\n",
        "           marker = 'o',\n",
        "           s = 35 ,\n",
        "           alpha = 0.9,\n",
        "           label = 'Test data')\n",
        "\n",
        "    plt.xlabel('Predicted values')\n",
        "    plt.ylabel('residuals')\n",
        "    plt.legend(loc = 'upper left')\n",
        "    plt.hlines(y =0, xmin = 0, xmax = 5, lw = 2, color = 'black')\n",
        "    plt.xlim ([0, 5])\n",
        "    plt.tight_layout()\n",
        "    plt.show()"
      ],
      "metadata": {
        "id": "8iw1eladhcGf"
      },
      "execution_count": null,
      "outputs": []
    },
    {
      "cell_type": "code",
      "source": [
        "def plot_density(y_train, y_test_pred):\n",
        "    fig,(ax1,ax2)= plt.subplots(ncols=2)\n",
        "    fig.set_size_inches(12,5)\n",
        "    sns.distplot(y_train,ax=ax1,bins=10)\n",
        "    ax1.set(title=\"train\", xlim = ([-1, 6]), ylim = ([0, 0.6]))\n",
        "    sns.distplot(y_test_pred,ax=ax2,bins=10)\n",
        "    ax2.set(title=\"test\", xlim = ([-1, 6]), ylim = ([0, 0.6]))"
      ],
      "metadata": {
        "id": "HYCL4wVXhcDW"
      },
      "execution_count": null,
      "outputs": []
    },
    {
      "cell_type": "code",
      "source": [
        "print(X_train.shape) \n",
        "print(X_test.shape)  \n",
        "print(y_train.shape) \n",
        "print(y_test.shape)\n",
        "\n",
        "plt.hist(y_train, bins=10)\n",
        "plt.hist(y_test, bins=10)\n",
        "plt.show()\n",
        "\n",
        "fig, ax1 = plt.subplots()\n",
        "fig.set_size_inches(18,6)\n",
        "plt.sca(ax1)\n",
        "sns.countplot(x = y, ax = ax1)"
      ],
      "metadata": {
        "colab": {
          "base_uri": "https://localhost:8080/",
          "height": 714
        },
        "id": "9uaUNdhBhcAk",
        "outputId": "12e251cc-98b0-4799-b7f1-17643579df8b"
      },
      "execution_count": null,
      "outputs": [
        {
          "output_type": "stream",
          "name": "stdout",
          "text": [
            "(4886, 11)\n",
            "(1222, 11)\n",
            "(4886,)\n",
            "(1222,)\n"
          ]
        },
        {
          "output_type": "display_data",
          "data": {
            "image/png": "[encoded data removed]",
            "text/plain": [
              "<Figure size 432x288 with 1 Axes>"
            ]
          },
          "metadata": {
            "needs_background": "light"
          }
        },
        {
          "output_type": "execute_result",
          "data": {
            "text/plain": [
              "<matplotlib.axes._subplots.AxesSubplot at 0x7fb163280410>"
            ]
          },
          "metadata": {},
          "execution_count": 12
        },
        {
          "output_type": "display_data",
          "data": {
            "image/png": "[encoded data removed]",
            "text/plain": [
              "<Figure size 1296x432 with 1 Axes>"
            ]
          },
          "metadata": {
            "needs_background": "light"
          }
        }
      ]
    },
    {
      "cell_type": "code",
      "source": [
        ""
      ],
      "metadata": {
        "id": "v7v2Aj03hb-L"
      },
      "execution_count": null,
      "outputs": []
    },
    {
      "cell_type": "markdown",
      "source": [
        "딥러닝 모델 적용"
      ],
      "metadata": {
        "id": "xvpKhRlpNOQh"
      }
    },
    {
      "cell_type": "markdown",
      "source": [
        "LSTM 적용"
      ],
      "metadata": {
        "id": "MRrpFd2xtBXp"
      }
    },
    {
      "cell_type": "code",
      "source": [
        "print(X_train.shape)\n",
        "print(y_train.shape)\n",
        "print(X_test.shape)\n",
        "print(y_test.shape)\n",
        "\n",
        "X_train_t = X_train.reshape(X_train.shape[0], 11, 1)\n",
        "X_test_t = X_test.reshape(X_test.shape[0], 11, 1)\n",
        "\n",
        "print(\"최종 DATA\")\n",
        "print(X_train_t.shape)"
      ],
      "metadata": {
        "colab": {
          "base_uri": "https://localhost:8080/"
        },
        "id": "2c8PNM14078-",
        "outputId": "bbd8b8bd-7ea1-41de-8957-afa3b7054d47"
      },
      "execution_count": null,
      "outputs": [
        {
          "output_type": "stream",
          "name": "stdout",
          "text": [
            "(4886, 11)\n",
            "(4886,)\n",
            "(1222, 11)\n",
            "(1222,)\n",
            "최종 DATA\n",
            "(4886, 11, 1)\n"
          ]
        }
      ]
    },
    {
      "cell_type": "code",
      "source": [
        "import tensorflow as tf\n",
        "from keras.layers import LSTM \n",
        "from keras.models import Sequential \n",
        "from keras.layers import Dense \n",
        "import keras.backend as K \n",
        "from keras.callbacks import EarlyStopping\n",
        "\n",
        "K.clear_session()\n",
        "    \n",
        "model_lstm = Sequential() # Sequeatial Model \n",
        "model_lstm.add(LSTM(50, input_shape=(11, 1))) # (timestep, feature)\n",
        "#model.add(Dense(10)) \n",
        "model_lstm.add(Dense(1)) # output = 1 \n",
        "model_lstm.compile(loss='mean_squared_error', optimizer='RMSprop') \n",
        "model_lstm.summary()"
      ],
      "metadata": {
        "colab": {
          "base_uri": "https://localhost:8080/"
        },
        "id": "FmWEIcxt0n2K",
        "outputId": "bfa9e4eb-a8d3-4a2b-ef4d-9e919054a42b"
      },
      "execution_count": null,
      "outputs": [
        {
          "output_type": "stream",
          "name": "stdout",
          "text": [
            "Model: \"sequential\"\n",
            "_________________________________________________________________\n",
            " Layer (type)                Output Shape              Param #   \n",
            "=================================================================\n",
            " lstm (LSTM)                 (None, 50)                10400     \n",
            "                                                                 \n",
            " dense (Dense)               (None, 1)                 51        \n",
            "                                                                 \n",
            "=================================================================\n",
            "Total params: 10,451\n",
            "Trainable params: 10,451\n",
            "Non-trainable params: 0\n",
            "_________________________________________________________________\n"
          ]
        }
      ]
    },
    {
      "cell_type": "code",
      "source": [
        "tf.keras.utils.plot_model(\n",
        "    model=model_lstm, to_file=\"lstm_model.png\", show_shapes=False, rankdir=\"LR\")"
      ],
      "metadata": {
        "colab": {
          "base_uri": "https://localhost:8080/",
          "height": 90
        },
        "id": "T9CWgid46ozf",
        "outputId": "7e762ade-b7f8-4e8c-c873-23bc71921991"
      },
      "execution_count": null,
      "outputs": [
        {
          "output_type": "execute_result",
          "data": {
            "image/png": "[encoded data removed]",
            "text/plain": [
              "<IPython.core.display.Image object>"
            ]
          },
          "metadata": {},
          "execution_count": 15
        }
      ]
    },
    {
      "cell_type": "code",
      "source": [
        "early_stop = EarlyStopping(monitor='loss', patience=1, verbose=1)\n",
        "\n",
        "model_lstm.fit(X_train_t, y_train, epochs=100,\n",
        "          batch_size=32, verbose=1, callbacks=[early_stop])"
      ],
      "metadata": {
        "colab": {
          "base_uri": "https://localhost:8080/"
        },
        "id": "6KPXvvRC1riJ",
        "outputId": "d92ce6d1-0da6-44bc-b219-26a5d755edf9"
      },
      "execution_count": null,
      "outputs": [
        {
          "output_type": "stream",
          "name": "stdout",
          "text": [
            "Epoch 1/100\n",
            "153/153 [==============================] - 3s 7ms/step - loss: 2.3548\n",
            "Epoch 2/100\n",
            "153/153 [==============================] - 1s 7ms/step - loss: 2.2312\n",
            "Epoch 3/100\n",
            "153/153 [==============================] - 1s 7ms/step - loss: 2.1972\n",
            "Epoch 4/100\n",
            "153/153 [==============================] - 1s 8ms/step - loss: 2.1602\n",
            "Epoch 5/100\n",
            "153/153 [==============================] - 1s 8ms/step - loss: 2.1092\n",
            "Epoch 6/100\n",
            "153/153 [==============================] - 1s 7ms/step - loss: 2.0150\n",
            "Epoch 7/100\n",
            "153/153 [==============================] - 1s 8ms/step - loss: 1.9343\n",
            "Epoch 8/100\n",
            "153/153 [==============================] - 1s 7ms/step - loss: 1.8907\n",
            "Epoch 9/100\n",
            "153/153 [==============================] - 1s 7ms/step - loss: 1.8404\n",
            "Epoch 10/100\n",
            "153/153 [==============================] - 1s 7ms/step - loss: 1.8245\n",
            "Epoch 11/100\n",
            "153/153 [==============================] - 1s 7ms/step - loss: 1.7765\n",
            "Epoch 12/100\n",
            "153/153 [==============================] - 1s 7ms/step - loss: 1.7464\n",
            "Epoch 13/100\n",
            "153/153 [==============================] - 1s 7ms/step - loss: 1.7063\n",
            "Epoch 14/100\n",
            "153/153 [==============================] - 1s 7ms/step - loss: 1.6665\n",
            "Epoch 15/100\n",
            "153/153 [==============================] - 1s 7ms/step - loss: 1.6333\n",
            "Epoch 16/100\n",
            "153/153 [==============================] - 1s 7ms/step - loss: 1.5958\n",
            "Epoch 17/100\n",
            "153/153 [==============================] - 1s 7ms/step - loss: 1.5779\n",
            "Epoch 18/100\n",
            "153/153 [==============================] - 1s 7ms/step - loss: 1.5450\n",
            "Epoch 19/100\n",
            "153/153 [==============================] - 1s 7ms/step - loss: 1.5233\n",
            "Epoch 20/100\n",
            "153/153 [==============================] - 1s 7ms/step - loss: 1.5048\n",
            "Epoch 21/100\n",
            "153/153 [==============================] - 1s 7ms/step - loss: 1.4881\n",
            "Epoch 22/100\n",
            "153/153 [==============================] - 1s 7ms/step - loss: 1.4542\n",
            "Epoch 23/100\n",
            "153/153 [==============================] - 1s 7ms/step - loss: 1.4334\n",
            "Epoch 24/100\n",
            "153/153 [==============================] - 1s 7ms/step - loss: 1.4145\n",
            "Epoch 25/100\n",
            "153/153 [==============================] - 1s 7ms/step - loss: 1.3814\n",
            "Epoch 26/100\n",
            "153/153 [==============================] - 1s 7ms/step - loss: 1.3687\n",
            "Epoch 27/100\n",
            "153/153 [==============================] - 1s 7ms/step - loss: 1.3507\n",
            "Epoch 28/100\n",
            "153/153 [==============================] - 1s 8ms/step - loss: 1.3506\n",
            "Epoch 29/100\n",
            "153/153 [==============================] - 1s 8ms/step - loss: 1.3269\n",
            "Epoch 30/100\n",
            "153/153 [==============================] - 1s 7ms/step - loss: 1.3087\n",
            "Epoch 31/100\n",
            "153/153 [==============================] - 1s 7ms/step - loss: 1.2950\n",
            "Epoch 32/100\n",
            "153/153 [==============================] - 1s 7ms/step - loss: 1.2880\n",
            "Epoch 33/100\n",
            "153/153 [==============================] - 1s 7ms/step - loss: 1.2784\n",
            "Epoch 34/100\n",
            "153/153 [==============================] - 1s 7ms/step - loss: 1.2688\n",
            "Epoch 35/100\n",
            "153/153 [==============================] - 1s 8ms/step - loss: 1.2435\n",
            "Epoch 36/100\n",
            "153/153 [==============================] - 1s 8ms/step - loss: 1.2402\n",
            "Epoch 37/100\n",
            "153/153 [==============================] - 1s 8ms/step - loss: 1.2280\n",
            "Epoch 38/100\n",
            "153/153 [==============================] - 1s 7ms/step - loss: 1.2217\n",
            "Epoch 39/100\n",
            "153/153 [==============================] - 1s 7ms/step - loss: 1.2057\n",
            "Epoch 40/100\n",
            "153/153 [==============================] - 1s 7ms/step - loss: 1.1983\n",
            "Epoch 41/100\n",
            "153/153 [==============================] - 1s 7ms/step - loss: 1.1965\n",
            "Epoch 42/100\n",
            "153/153 [==============================] - 1s 7ms/step - loss: 1.1873\n",
            "Epoch 43/100\n",
            "153/153 [==============================] - 1s 7ms/step - loss: 1.1848\n",
            "Epoch 44/100\n",
            "153/153 [==============================] - 1s 7ms/step - loss: 1.1715\n",
            "Epoch 45/100\n",
            "153/153 [==============================] - 1s 7ms/step - loss: 1.1637\n",
            "Epoch 46/100\n",
            "153/153 [==============================] - 1s 7ms/step - loss: 1.1670\n",
            "Epoch 00046: early stopping\n"
          ]
        },
        {
          "output_type": "execute_result",
          "data": {
            "text/plain": [
              "<keras.callbacks.History at 0x7fb0f76857d0>"
            ]
          },
          "metadata": {},
          "execution_count": 16
        }
      ]
    },
    {
      "cell_type": "code",
      "source": [
        "score = model_lstm.evaluate(X_test_t, y_test, batch_size=32)\n",
        "print(score)"
      ],
      "metadata": {
        "colab": {
          "base_uri": "https://localhost:8080/"
        },
        "id": "dyuOGFXM1rfd",
        "outputId": "6e2515e1-8e97-4e44-b7b2-46c6ca8ed111"
      },
      "execution_count": null,
      "outputs": [
        {
          "output_type": "stream",
          "name": "stdout",
          "text": [
            "39/39 [==============================] - 1s 4ms/step - loss: 1.2568\n",
            "1.2567776441574097\n"
          ]
        }
      ]
    },
    {
      "cell_type": "markdown",
      "source": [
        "DNN 적용"
      ],
      "metadata": {
        "id": "u_KMmAVOFNWZ"
      }
    },
    {
      "cell_type": "code",
      "source": [
        "K.clear_session()\n",
        "    \n",
        "model_dnn = Sequential() # Sequeatial Model \n",
        "model_dnn.add(Dense(20, activation='relu', input_shape=(11, 1)))\n",
        "model_dnn.add(Dense(10, activation='relu'))\n",
        "model_dnn.add(Dense(1)) # output = 1 \n",
        "model_dnn.compile(loss='mean_squared_error', optimizer='adam') \n",
        "model_dnn.summary()"
      ],
      "metadata": {
        "colab": {
          "base_uri": "https://localhost:8080/"
        },
        "id": "CiTPvYSvFMwp",
        "outputId": "800a822b-36a0-43e0-fbf0-74dfaabe65e6"
      },
      "execution_count": null,
      "outputs": [
        {
          "output_type": "stream",
          "name": "stdout",
          "text": [
            "Model: \"sequential\"\n",
            "_________________________________________________________________\n",
            " Layer (type)                Output Shape              Param #   \n",
            "=================================================================\n",
            " dense (Dense)               (None, 11, 20)            40        \n",
            "                                                                 \n",
            " dense_1 (Dense)             (None, 11, 10)            210       \n",
            "                                                                 \n",
            " dense_2 (Dense)             (None, 11, 1)             11        \n",
            "                                                                 \n",
            "=================================================================\n",
            "Total params: 261\n",
            "Trainable params: 261\n",
            "Non-trainable params: 0\n",
            "_________________________________________________________________\n"
          ]
        }
      ]
    },
    {
      "cell_type": "code",
      "source": [
        "tf.keras.utils.plot_model(\n",
        "    model=model_dnn, to_file=\"dnn_model.png\", show_shapes=False, rankdir=\"LR\")"
      ],
      "metadata": {
        "colab": {
          "base_uri": "https://localhost:8080/",
          "height": 90
        },
        "id": "3EmiePOFFMuL",
        "outputId": "e506620c-631c-4346-c54d-cb77e9f7069a"
      },
      "execution_count": null,
      "outputs": [
        {
          "output_type": "execute_result",
          "data": {
            "image/png": "[encoded data removed]",
            "text/plain": [
              "<IPython.core.display.Image object>"
            ]
          },
          "metadata": {},
          "execution_count": 20
        }
      ]
    },
    {
      "cell_type": "code",
      "source": [
        "early_stop = EarlyStopping(monitor='loss', patience=1, verbose=1)\n",
        "\n",
        "model_dnn.fit(X_train_t, y_train, epochs=100,\n",
        "          batch_size=32, verbose=1, callbacks=[early_stop])"
      ],
      "metadata": {
        "colab": {
          "base_uri": "https://localhost:8080/"
        },
        "id": "VNvQVIPUFMrP",
        "outputId": "82959667-3532-40a9-9ad8-050c36a0533b"
      },
      "execution_count": null,
      "outputs": [
        {
          "output_type": "stream",
          "name": "stdout",
          "text": [
            "Epoch 1/100\n",
            "153/153 [==============================] - 1s 2ms/step - loss: 849.2267\n",
            "Epoch 2/100\n",
            "153/153 [==============================] - 0s 2ms/step - loss: 5.5930\n",
            "Epoch 3/100\n",
            "153/153 [==============================] - 0s 2ms/step - loss: 4.9784\n",
            "Epoch 4/100\n",
            "153/153 [==============================] - 0s 2ms/step - loss: 4.3851\n",
            "Epoch 5/100\n",
            "153/153 [==============================] - 0s 2ms/step - loss: 3.8643\n",
            "Epoch 6/100\n",
            "153/153 [==============================] - 0s 2ms/step - loss: 3.4313\n",
            "Epoch 7/100\n",
            "153/153 [==============================] - 0s 2ms/step - loss: 3.0931\n",
            "Epoch 8/100\n",
            "153/153 [==============================] - 0s 2ms/step - loss: 2.8417\n",
            "Epoch 9/100\n",
            "153/153 [==============================] - 0s 2ms/step - loss: 2.6649\n",
            "Epoch 10/100\n",
            "153/153 [==============================] - 0s 2ms/step - loss: 2.5517\n",
            "Epoch 11/100\n",
            "153/153 [==============================] - 0s 2ms/step - loss: 2.4766\n",
            "Epoch 12/100\n",
            "153/153 [==============================] - 0s 2ms/step - loss: 2.4317\n",
            "Epoch 13/100\n",
            "153/153 [==============================] - 0s 2ms/step - loss: 2.4037\n",
            "Epoch 14/100\n",
            "153/153 [==============================] - 0s 2ms/step - loss: 2.3938\n",
            "Epoch 15/100\n",
            "153/153 [==============================] - 0s 2ms/step - loss: 2.3901\n",
            "Epoch 16/100\n",
            "153/153 [==============================] - 0s 2ms/step - loss: 2.3771\n",
            "Epoch 17/100\n",
            "153/153 [==============================] - 0s 2ms/step - loss: 2.3736\n",
            "Epoch 18/100\n",
            "153/153 [==============================] - 0s 2ms/step - loss: 2.3678\n",
            "Epoch 19/100\n",
            "153/153 [==============================] - 0s 2ms/step - loss: 2.3698\n",
            "Epoch 00019: early stopping\n"
          ]
        },
        {
          "output_type": "execute_result",
          "data": {
            "text/plain": [
              "<keras.callbacks.History at 0x7fb18aaa6b90>"
            ]
          },
          "metadata": {},
          "execution_count": 21
        }
      ]
    },
    {
      "cell_type": "code",
      "source": [
        "score = model_dnn.evaluate(X_test_t, y_test, batch_size=32)\n",
        "print(score)"
      ],
      "metadata": {
        "colab": {
          "base_uri": "https://localhost:8080/"
        },
        "id": "Tz-sJaw8FMoP",
        "outputId": "2a7bbceb-f86b-4cab-f2b9-1c3f2cf39f8e"
      },
      "execution_count": null,
      "outputs": [
        {
          "output_type": "stream",
          "name": "stdout",
          "text": [
            "39/39 [==============================] - 1s 3ms/step - loss: 2.3565\n",
            "2.3565216064453125\n"
          ]
        }
      ]
    },
    {
      "cell_type": "markdown",
      "source": [
        "GRU 모델 적용"
      ],
      "metadata": {
        "id": "IFU8MmqEJDQa"
      }
    },
    {
      "cell_type": "code",
      "source": [
        "from keras.layers.recurrent_v2 import GRU\n",
        "K.clear_session()\n",
        "    \n",
        "model_gru = Sequential() # Sequeatial Model \n",
        "model_gru.add(GRU(units=128,input_shape=(11, 1)))\n",
        "model_gru.add(Dense(1)) # output = 1 \n",
        "model_gru.compile(loss='mean_squared_error', optimizer='adam') \n",
        "model_gru.summary()"
      ],
      "metadata": {
        "colab": {
          "base_uri": "https://localhost:8080/"
        },
        "id": "JCxvmQ7lJGpf",
        "outputId": "ec8ca344-533b-4f40-e652-b99c2ae15507"
      },
      "execution_count": null,
      "outputs": [
        {
          "output_type": "stream",
          "name": "stdout",
          "text": [
            "Model: \"sequential\"\n",
            "_________________________________________________________________\n",
            " Layer (type)                Output Shape              Param #   \n",
            "=================================================================\n",
            " gru (GRU)                   (None, 128)               50304     \n",
            "                                                                 \n",
            " dense (Dense)               (None, 1)                 129       \n",
            "                                                                 \n",
            "=================================================================\n",
            "Total params: 50,433\n",
            "Trainable params: 50,433\n",
            "Non-trainable params: 0\n",
            "_________________________________________________________________\n"
          ]
        }
      ]
    },
    {
      "cell_type": "code",
      "source": [
        "tf.keras.utils.plot_model(\n",
        "    model=model_gru, to_file=\"gru_model.png\", show_shapes=False, rankdir=\"LR\")"
      ],
      "metadata": {
        "colab": {
          "base_uri": "https://localhost:8080/",
          "height": 90
        },
        "id": "HWaPVVqKJGnN",
        "outputId": "bd59bc81-c56f-49db-a586-36f0e50bf7c1"
      },
      "execution_count": null,
      "outputs": [
        {
          "output_type": "execute_result",
          "data": {
            "image/png": "[encoded data removed]",
            "text/plain": [
              "<IPython.core.display.Image object>"
            ]
          },
          "metadata": {},
          "execution_count": 29
        }
      ]
    },
    {
      "cell_type": "code",
      "source": [
        "early_stop = EarlyStopping(monitor='loss', patience=1, verbose=1)\n",
        "\n",
        "model_gru.fit(X_train_t, y_train, epochs=100,\n",
        "          batch_size=32, verbose=1, callbacks=[early_stop])"
      ],
      "metadata": {
        "colab": {
          "base_uri": "https://localhost:8080/"
        },
        "id": "892piMX8JGkr",
        "outputId": "8d4a250f-5169-431d-f16c-f7d9a183111d"
      },
      "execution_count": null,
      "outputs": [
        {
          "output_type": "stream",
          "name": "stdout",
          "text": [
            "Epoch 1/100\n",
            "153/153 [==============================] - 9s 20ms/step - loss: 2.3582\n",
            "Epoch 2/100\n",
            "153/153 [==============================] - 3s 19ms/step - loss: 2.1752\n",
            "Epoch 3/100\n",
            "153/153 [==============================] - 3s 19ms/step - loss: 2.0035\n",
            "Epoch 4/100\n",
            "153/153 [==============================] - 3s 19ms/step - loss: 1.9399\n",
            "Epoch 5/100\n",
            "153/153 [==============================] - 2s 15ms/step - loss: 1.8566\n",
            "Epoch 6/100\n",
            "153/153 [==============================] - 2s 12ms/step - loss: 1.8357\n",
            "Epoch 7/100\n",
            "153/153 [==============================] - 2s 12ms/step - loss: 1.7692\n",
            "Epoch 8/100\n",
            "153/153 [==============================] - 2s 12ms/step - loss: 1.6963\n",
            "Epoch 9/100\n",
            "153/153 [==============================] - 2s 12ms/step - loss: 1.6709\n",
            "Epoch 10/100\n",
            "153/153 [==============================] - 2s 12ms/step - loss: 1.5695\n",
            "Epoch 11/100\n",
            "153/153 [==============================] - 2s 12ms/step - loss: 1.5177\n",
            "Epoch 12/100\n",
            "153/153 [==============================] - 2s 13ms/step - loss: 1.4207\n",
            "Epoch 13/100\n",
            "153/153 [==============================] - 2s 12ms/step - loss: 1.3655\n",
            "Epoch 14/100\n",
            "153/153 [==============================] - 3s 21ms/step - loss: 1.3319\n",
            "Epoch 15/100\n",
            "153/153 [==============================] - 2s 12ms/step - loss: 1.3060\n",
            "Epoch 16/100\n",
            "153/153 [==============================] - 2s 12ms/step - loss: 1.2737\n",
            "Epoch 17/100\n",
            "153/153 [==============================] - 2s 12ms/step - loss: 1.2597\n",
            "Epoch 18/100\n",
            "153/153 [==============================] - 2s 12ms/step - loss: 1.2020\n",
            "Epoch 19/100\n",
            "153/153 [==============================] - 2s 12ms/step - loss: 1.1882\n",
            "Epoch 20/100\n",
            "153/153 [==============================] - 2s 13ms/step - loss: 1.1876\n",
            "Epoch 21/100\n",
            "153/153 [==============================] - 2s 12ms/step - loss: 1.1608\n",
            "Epoch 22/100\n",
            "153/153 [==============================] - 2s 12ms/step - loss: 1.1666\n",
            "Epoch 00022: early stopping\n"
          ]
        },
        {
          "output_type": "execute_result",
          "data": {
            "text/plain": [
              "<keras.callbacks.History at 0x7fb18a67b610>"
            ]
          },
          "metadata": {},
          "execution_count": 30
        }
      ]
    },
    {
      "cell_type": "code",
      "source": [
        "score = model_gru.evaluate(X_test_t, y_test, batch_size=32)\n",
        "print(score)"
      ],
      "metadata": {
        "colab": {
          "base_uri": "https://localhost:8080/"
        },
        "id": "3WLzaG8CJGiP",
        "outputId": "bf5c25d6-3bc5-4136-ec88-9c2cd08ff38c"
      },
      "execution_count": null,
      "outputs": [
        {
          "output_type": "stream",
          "name": "stdout",
          "text": [
            "39/39 [==============================] - 1s 4ms/step - loss: 1.2838\n",
            "1.283846378326416\n"
          ]
        }
      ]
    },
    {
      "cell_type": "markdown",
      "source": [
        "Adaboost-GRU 적용"
      ],
      "metadata": {
        "id": "4K6kr502LJmY"
      }
    },
    {
      "cell_type": "code",
      "source": [
        "from keras.layers.recurrent_v2 import GRU\n",
        "from keras.wrappers.scikit_learn import KerasRegressor\n",
        "from sklearn.ensemble import AdaBoostRegressor\n",
        "K.clear_session()\n",
        "    \n",
        "model_gru = Sequential() # Sequeatial Model \n",
        "model_gru.add(GRU(units=128,input_shape=(11, 1)))\n",
        "model_gru.add(Dense(1)) # output = 1 \n",
        "model_gru.compile(loss='mean_squared_error', optimizer='adam') \n",
        "model_gru.summary()"
      ],
      "metadata": {
        "colab": {
          "base_uri": "https://localhost:8080/"
        },
        "id": "JjJMXRcbLNKh",
        "outputId": "10a81c1f-33d2-4296-a2be-b52e998c49d8"
      },
      "execution_count": null,
      "outputs": [
        {
          "output_type": "stream",
          "name": "stdout",
          "text": [
            "Model: \"sequential\"\n",
            "_________________________________________________________________\n",
            " Layer (type)                Output Shape              Param #   \n",
            "=================================================================\n",
            " gru (GRU)                   (None, 128)               50304     \n",
            "                                                                 \n",
            " dense (Dense)               (None, 1)                 129       \n",
            "                                                                 \n",
            "=================================================================\n",
            "Total params: 50,433\n",
            "Trainable params: 50,433\n",
            "Non-trainable params: 0\n",
            "_________________________________________________________________\n"
          ]
        }
      ]
    },
    {
      "cell_type": "code",
      "source": [
        "#kerasRegressor로 분류기 만든 뒤, AdaBoostRegressor로 최종 결합\n",
        "GRU_Predictors = KerasRegressor(build_fn=lambda:model_gru, epochs=20, batch_size=30)\n",
        "model_adaboostgru = AdaBoostRegressor(GRU_Predictors, n_estimators=5, random_state=42)"
      ],
      "metadata": {
        "colab": {
          "base_uri": "https://localhost:8080/"
        },
        "id": "ZQQA70CGLNIV",
        "outputId": "6d7a8bf8-33c7-451f-b743-e17feed5a65e"
      },
      "execution_count": null,
      "outputs": [
        {
          "output_type": "stream",
          "name": "stderr",
          "text": [
            "/usr/local/lib/python3.7/dist-packages/ipykernel_launcher.py:2: DeprecationWarning: KerasRegressor is deprecated, use Sci-Keras (https://github.com/adriangb/scikeras) instead.\n",
            "  \n"
          ]
        }
      ]
    },
    {
      "cell_type": "code",
      "source": [
        "tf.keras.utils.plot_model(\n",
        "    model=model_adaboostgru, to_file=\"adaboostgru_model.png\", show_shapes=False, rankdir=\"LR\")"
      ],
      "metadata": {
        "colab": {
          "base_uri": "https://localhost:8080/",
          "height": 321
        },
        "id": "V3HlyBZuLNFv",
        "outputId": "b15f8df2-00e9-4d48-a305-d36f005ba7b3"
      },
      "execution_count": null,
      "outputs": [
        {
          "output_type": "error",
          "ename": "AttributeError",
          "evalue": "ignored",
          "traceback": [
            "\u001b[0;31m---------------------------------------------------------------------------\u001b[0m",
            "\u001b[0;31mAttributeError\u001b[0m                            Traceback (most recent call last)",
            "\u001b[0;32m<ipython-input-39-0d268e55710b>\u001b[0m in \u001b[0;36m<module>\u001b[0;34m()\u001b[0m\n\u001b[1;32m      1\u001b[0m tf.keras.utils.plot_model(\n\u001b[0;32m----> 2\u001b[0;31m     model=model_adaboostgru, to_file=\"adaboostgru_model.png\", show_shapes=False, rankdir=\"LR\")\n\u001b[0m",
            "\u001b[0;32m/usr/local/lib/python3.7/dist-packages/keras/utils/vis_utils.py\u001b[0m in \u001b[0;36mplot_model\u001b[0;34m(model, to_file, show_shapes, show_dtype, show_layer_names, rankdir, expand_nested, dpi, layer_range, show_layer_activations)\u001b[0m\n\u001b[1;32m    410\u001b[0m   \"\"\"\n\u001b[1;32m    411\u001b[0m \u001b[0;34m\u001b[0m\u001b[0m\n\u001b[0;32m--> 412\u001b[0;31m   \u001b[0;32mif\u001b[0m \u001b[0;32mnot\u001b[0m \u001b[0mmodel\u001b[0m\u001b[0;34m.\u001b[0m\u001b[0mbuilt\u001b[0m\u001b[0;34m:\u001b[0m\u001b[0;34m\u001b[0m\u001b[0;34m\u001b[0m\u001b[0m\n\u001b[0m\u001b[1;32m    413\u001b[0m     raise ValueError('This model has not yet been built. '\n\u001b[1;32m    414\u001b[0m                      \u001b[0;34m'Build the model first by calling `build()` or by calling '\u001b[0m\u001b[0;34m\u001b[0m\u001b[0;34m\u001b[0m\u001b[0m\n",
            "\u001b[0;31mAttributeError\u001b[0m: 'AdaBoostRegressor' object has no attribute 'built'"
          ]
        }
      ]
    },
    {
      "cell_type": "code",
      "source": [
        "early_stop = EarlyStopping(monitor='loss', patience=1, verbose=1)\n",
        "\n",
        "model_adaboostgru.fit(X_train_t, y_train)"
      ],
      "metadata": {
        "colab": {
          "base_uri": "https://localhost:8080/"
        },
        "id": "bdNM_tt0LNDE",
        "outputId": "598b00db-b598-4fc4-99cc-1a4771494ae4"
      },
      "execution_count": null,
      "outputs": [
        {
          "output_type": "stream",
          "name": "stdout",
          "text": [
            "Epoch 1/20\n",
            "163/163 [==============================] - 8s 17ms/step - loss: 2.4938\n",
            "Epoch 2/20\n",
            "163/163 [==============================] - 2s 11ms/step - loss: 2.2141\n",
            "Epoch 3/20\n",
            "163/163 [==============================] - 2s 11ms/step - loss: 2.0998\n",
            "Epoch 4/20\n",
            "163/163 [==============================] - 2s 12ms/step - loss: 1.9472\n",
            "Epoch 5/20\n",
            "163/163 [==============================] - 2s 11ms/step - loss: 1.8790\n",
            "Epoch 6/20\n",
            "163/163 [==============================] - 2s 11ms/step - loss: 1.8372\n",
            "Epoch 7/20\n",
            "163/163 [==============================] - 2s 11ms/step - loss: 1.8269\n",
            "Epoch 8/20\n",
            "163/163 [==============================] - 2s 12ms/step - loss: 1.8008\n",
            "Epoch 9/20\n",
            "163/163 [==============================] - 2s 11ms/step - loss: 1.6986\n",
            "Epoch 10/20\n",
            "163/163 [==============================] - 2s 12ms/step - loss: 1.6416\n",
            "Epoch 11/20\n",
            "163/163 [==============================] - 2s 12ms/step - loss: 1.5445\n",
            "Epoch 12/20\n",
            "163/163 [==============================] - 2s 11ms/step - loss: 1.4268\n",
            "Epoch 13/20\n",
            "163/163 [==============================] - 2s 12ms/step - loss: 1.4092\n",
            "Epoch 14/20\n",
            "163/163 [==============================] - 2s 12ms/step - loss: 1.3683\n",
            "Epoch 15/20\n",
            "163/163 [==============================] - 2s 12ms/step - loss: 1.2978\n",
            "Epoch 16/20\n",
            "163/163 [==============================] - 2s 12ms/step - loss: 1.2886\n",
            "Epoch 17/20\n",
            "163/163 [==============================] - 2s 12ms/step - loss: 1.2382\n",
            "Epoch 18/20\n",
            "163/163 [==============================] - 2s 12ms/step - loss: 1.2099\n",
            "Epoch 19/20\n",
            "163/163 [==============================] - 2s 12ms/step - loss: 1.1981\n",
            "Epoch 20/20\n",
            "163/163 [==============================] - 2s 12ms/step - loss: 1.1655\n",
            "Epoch 1/20\n",
            "163/163 [==============================] - 2s 12ms/step - loss: 1.4940\n",
            "Epoch 2/20\n",
            "163/163 [==============================] - 2s 12ms/step - loss: 1.4387\n",
            "Epoch 3/20\n",
            "163/163 [==============================] - 2s 12ms/step - loss: 1.3938\n",
            "Epoch 4/20\n",
            "163/163 [==============================] - 2s 12ms/step - loss: 1.3391\n",
            "Epoch 5/20\n",
            "163/163 [==============================] - 2s 12ms/step - loss: 1.3031\n",
            "Epoch 6/20\n",
            "163/163 [==============================] - 2s 12ms/step - loss: 1.3217\n",
            "Epoch 7/20\n",
            "163/163 [==============================] - 2s 12ms/step - loss: 1.2655\n",
            "Epoch 8/20\n",
            "163/163 [==============================] - 2s 12ms/step - loss: 1.2414\n",
            "Epoch 9/20\n",
            "163/163 [==============================] - 2s 12ms/step - loss: 1.2170\n",
            "Epoch 10/20\n",
            "163/163 [==============================] - 2s 12ms/step - loss: 1.1662\n",
            "Epoch 11/20\n",
            "163/163 [==============================] - 2s 12ms/step - loss: 1.1211\n",
            "Epoch 12/20\n",
            "163/163 [==============================] - 2s 12ms/step - loss: 1.0981\n",
            "Epoch 13/20\n",
            "163/163 [==============================] - 2s 13ms/step - loss: 1.0704\n",
            "Epoch 14/20\n",
            "163/163 [==============================] - 2s 13ms/step - loss: 1.0635\n",
            "Epoch 15/20\n",
            "163/163 [==============================] - 2s 13ms/step - loss: 1.0320\n",
            "Epoch 16/20\n",
            "163/163 [==============================] - 2s 13ms/step - loss: 0.9892\n",
            "Epoch 17/20\n",
            "163/163 [==============================] - 2s 12ms/step - loss: 0.9820\n",
            "Epoch 18/20\n",
            "163/163 [==============================] - 2s 12ms/step - loss: 0.9597\n",
            "Epoch 19/20\n",
            "163/163 [==============================] - 2s 12ms/step - loss: 0.9589\n",
            "Epoch 20/20\n",
            "163/163 [==============================] - 2s 12ms/step - loss: 0.9201\n",
            "Epoch 1/20\n",
            "163/163 [==============================] - 2s 12ms/step - loss: 1.3723\n",
            "Epoch 2/20\n",
            "163/163 [==============================] - 2s 12ms/step - loss: 1.2684\n",
            "Epoch 3/20\n",
            "163/163 [==============================] - 2s 12ms/step - loss: 1.2236\n",
            "Epoch 4/20\n",
            "163/163 [==============================] - 2s 12ms/step - loss: 1.2082\n",
            "Epoch 5/20\n",
            "163/163 [==============================] - 2s 12ms/step - loss: 1.1539\n",
            "Epoch 6/20\n",
            "163/163 [==============================] - 2s 12ms/step - loss: 1.1578\n",
            "Epoch 7/20\n",
            "163/163 [==============================] - 2s 12ms/step - loss: 1.1045\n",
            "Epoch 8/20\n",
            "163/163 [==============================] - 2s 12ms/step - loss: 1.0632\n",
            "Epoch 9/20\n",
            "163/163 [==============================] - 2s 12ms/step - loss: 1.0452\n",
            "Epoch 10/20\n",
            "163/163 [==============================] - 2s 12ms/step - loss: 1.0042\n",
            "Epoch 11/20\n",
            "163/163 [==============================] - 2s 12ms/step - loss: 1.0179\n",
            "Epoch 12/20\n",
            "163/163 [==============================] - 2s 12ms/step - loss: 0.9845\n",
            "Epoch 13/20\n",
            "163/163 [==============================] - 2s 11ms/step - loss: 0.9471\n",
            "Epoch 14/20\n",
            "163/163 [==============================] - 2s 11ms/step - loss: 0.9196\n",
            "Epoch 15/20\n",
            "163/163 [==============================] - 2s 12ms/step - loss: 0.9071\n",
            "Epoch 16/20\n",
            "163/163 [==============================] - 2s 12ms/step - loss: 0.9231\n",
            "Epoch 17/20\n",
            "163/163 [==============================] - 2s 12ms/step - loss: 0.8885\n",
            "Epoch 18/20\n",
            "163/163 [==============================] - 2s 12ms/step - loss: 0.8428\n",
            "Epoch 19/20\n",
            "163/163 [==============================] - 2s 12ms/step - loss: 0.8155\n",
            "Epoch 20/20\n",
            "163/163 [==============================] - 2s 12ms/step - loss: 0.8054\n",
            "Epoch 1/20\n",
            "163/163 [==============================] - 2s 11ms/step - loss: 1.2483\n",
            "Epoch 2/20\n",
            "163/163 [==============================] - 2s 12ms/step - loss: 1.1642\n",
            "Epoch 3/20\n",
            "163/163 [==============================] - 2s 12ms/step - loss: 1.0800\n",
            "Epoch 4/20\n",
            "163/163 [==============================] - 2s 12ms/step - loss: 1.0722\n",
            "Epoch 5/20\n",
            "163/163 [==============================] - 2s 12ms/step - loss: 1.0202\n",
            "Epoch 6/20\n",
            "163/163 [==============================] - 2s 12ms/step - loss: 0.9236\n",
            "Epoch 7/20\n",
            "163/163 [==============================] - 2s 12ms/step - loss: 0.9054\n",
            "Epoch 8/20\n",
            "163/163 [==============================] - 2s 11ms/step - loss: 0.8724\n",
            "Epoch 9/20\n",
            "163/163 [==============================] - 2s 12ms/step - loss: 0.8508\n",
            "Epoch 10/20\n",
            "163/163 [==============================] - 2s 12ms/step - loss: 0.8286\n",
            "Epoch 11/20\n",
            "163/163 [==============================] - 2s 12ms/step - loss: 0.8235\n",
            "Epoch 12/20\n",
            "163/163 [==============================] - 2s 12ms/step - loss: 0.7709\n",
            "Epoch 13/20\n",
            "163/163 [==============================] - 2s 13ms/step - loss: 0.7821\n",
            "Epoch 14/20\n",
            "163/163 [==============================] - 2s 12ms/step - loss: 0.7404\n",
            "Epoch 15/20\n",
            "163/163 [==============================] - 2s 11ms/step - loss: 0.7440\n",
            "Epoch 16/20\n",
            "163/163 [==============================] - 2s 12ms/step - loss: 0.7089\n",
            "Epoch 17/20\n",
            "163/163 [==============================] - 2s 12ms/step - loss: 0.6965\n",
            "Epoch 18/20\n",
            "163/163 [==============================] - 2s 12ms/step - loss: 0.6849\n",
            "Epoch 19/20\n",
            "163/163 [==============================] - 2s 12ms/step - loss: 0.6719\n",
            "Epoch 20/20\n",
            "163/163 [==============================] - 2s 12ms/step - loss: 0.7024\n",
            "Epoch 1/20\n",
            "163/163 [==============================] - 2s 12ms/step - loss: 1.0656\n",
            "Epoch 2/20\n",
            "163/163 [==============================] - 2s 12ms/step - loss: 0.9459\n",
            "Epoch 3/20\n",
            "163/163 [==============================] - 2s 12ms/step - loss: 0.8636\n",
            "Epoch 4/20\n",
            "163/163 [==============================] - 2s 12ms/step - loss: 0.7907\n",
            "Epoch 5/20\n",
            "163/163 [==============================] - 2s 12ms/step - loss: 0.7706\n",
            "Epoch 6/20\n",
            "163/163 [==============================] - 2s 12ms/step - loss: 0.7925\n",
            "Epoch 7/20\n",
            "163/163 [==============================] - 2s 12ms/step - loss: 0.7421\n",
            "Epoch 8/20\n",
            "163/163 [==============================] - 2s 12ms/step - loss: 0.7038\n",
            "Epoch 9/20\n",
            "163/163 [==============================] - 2s 12ms/step - loss: 0.6833\n",
            "Epoch 10/20\n",
            "163/163 [==============================] - 2s 12ms/step - loss: 0.6893\n",
            "Epoch 11/20\n",
            "163/163 [==============================] - 2s 12ms/step - loss: 0.6566\n",
            "Epoch 12/20\n",
            "163/163 [==============================] - 2s 12ms/step - loss: 0.6803\n",
            "Epoch 13/20\n",
            "163/163 [==============================] - 2s 12ms/step - loss: 0.7336\n",
            "Epoch 14/20\n",
            "163/163 [==============================] - 2s 12ms/step - loss: 0.6281\n",
            "Epoch 15/20\n",
            "163/163 [==============================] - 2s 12ms/step - loss: 0.6584\n",
            "Epoch 16/20\n",
            "163/163 [==============================] - 2s 12ms/step - loss: 0.7355\n",
            "Epoch 17/20\n",
            "163/163 [==============================] - 2s 12ms/step - loss: 0.5867\n",
            "Epoch 18/20\n",
            "163/163 [==============================] - 2s 12ms/step - loss: 0.5931\n",
            "Epoch 19/20\n",
            "163/163 [==============================] - 2s 12ms/step - loss: 0.5951\n",
            "Epoch 20/20\n",
            "163/163 [==============================] - 2s 12ms/step - loss: 0.5814\n"
          ]
        },
        {
          "output_type": "execute_result",
          "data": {
            "text/plain": [
              "AdaBoostRegressor(base_estimator=<keras.wrappers.scikit_learn.KerasRegressor object at 0x7fb175d03550>,\n",
              "                  n_estimators=5, random_state=42)"
            ]
          },
          "metadata": {},
          "execution_count": 44
        }
      ]
    },
    {
      "cell_type": "code",
      "source": [
        "score = model_adaboostgru.score(X_test_t, y_test)\n",
        "print(score)"
      ],
      "metadata": {
        "colab": {
          "base_uri": "https://localhost:8080/"
        },
        "id": "qZPZeKnlJGf1",
        "outputId": "219ae046-fbf3-4810-a0a6-6ab74de93bd1"
      },
      "execution_count": null,
      "outputs": [
        {
          "output_type": "stream",
          "name": "stdout",
          "text": [
            "0.5726726461957605\n"
          ]
        }
      ]
    },
    {
      "cell_type": "code",
      "source": [
        ""
      ],
      "metadata": {
        "id": "Qu8U_0eFJGdk"
      },
      "execution_count": null,
      "outputs": []
    },
    {
      "cell_type": "code",
      "source": [
        ""
      ],
      "metadata": {
        "id": "n4Jz7u1mJGaz"
      },
      "execution_count": null,
      "outputs": []
    },
    {
      "cell_type": "code",
      "source": [
        ""
      ],
      "metadata": {
        "id": "VDcOApd_JGX9"
      },
      "execution_count": null,
      "outputs": []
    },
    {
      "cell_type": "markdown",
      "source": [
        "CNN+LSTM 적용"
      ],
      "metadata": {
        "id": "aEYSBEDUIhJM"
      }
    },
    {
      "cell_type": "code",
      "source": [
        ""
      ],
      "metadata": {
        "id": "GjM2dlEIIb55"
      },
      "execution_count": null,
      "outputs": []
    },
    {
      "cell_type": "code",
      "source": [
        ""
      ],
      "metadata": {
        "id": "cGsEiX64Ib3n"
      },
      "execution_count": null,
      "outputs": []
    },
    {
      "cell_type": "code",
      "source": [
        ""
      ],
      "metadata": {
        "id": "3AqC6mzRIb03"
      },
      "execution_count": null,
      "outputs": []
    },
    {
      "cell_type": "code",
      "source": [
        ""
      ],
      "metadata": {
        "id": "E000CavnIbyO"
      },
      "execution_count": null,
      "outputs": []
    },
    {
      "cell_type": "code",
      "source": [
        ""
      ],
      "metadata": {
        "id": "mvXAHzW5Ibvw"
      },
      "execution_count": null,
      "outputs": []
    },
    {
      "cell_type": "code",
      "source": [
        ""
      ],
      "metadata": {
        "id": "938-nwlDIbtE"
      },
      "execution_count": null,
      "outputs": []
    },
    {
      "cell_type": "code",
      "source": [
        ""
      ],
      "metadata": {
        "id": "j4GzGbf4Ibqf"
      },
      "execution_count": null,
      "outputs": []
    },
    {
      "cell_type": "code",
      "source": [
        ""
      ],
      "metadata": {
        "id": "sCLceu5ZIbns"
      },
      "execution_count": null,
      "outputs": []
    },
    {
      "cell_type": "code",
      "source": [
        ""
      ],
      "metadata": {
        "id": "qoIeOSCZIbk0"
      },
      "execution_count": null,
      "outputs": []
    },
    {
      "cell_type": "code",
      "source": [
        ""
      ],
      "metadata": {
        "id": "4ouqqtL0FMgb"
      },
      "execution_count": null,
      "outputs": []
    },
    {
      "cell_type": "code",
      "source": [
        "preds = model.predict(X_test_t)\n",
        "\n",
        "plt.plot(preds[:600], label='prediction')\n",
        "plt.plot(y_test[:600], label='true')\n",
        "plt.axvline(x=len(y_test)-len(preds), color='r')\n",
        "plt.legend()\n",
        "plt.show()"
      ],
      "metadata": {
        "colab": {
          "base_uri": "https://localhost:8080/",
          "height": 265
        },
        "id": "vMnEQ0477eLl",
        "outputId": "002f15b3-a482-4b32-c066-f6d59696e982"
      },
      "execution_count": null,
      "outputs": [
        {
          "output_type": "display_data",
          "data": {
            "image/png": "[encoded data removed]",
            "text/plain": [
              "<Figure size 432x288 with 1 Axes>"
            ]
          },
          "metadata": {
            "needs_background": "light"
          }
        }
      ]
    },
    {
      "cell_type": "code",
      "source": [
        ""
      ],
      "metadata": {
        "id": "jrkPK-e97eI9"
      },
      "execution_count": null,
      "outputs": []
    },
    {
      "cell_type": "code",
      "source": [
        ""
      ],
      "metadata": {
        "id": "Inno8Nsl7eGV"
      },
      "execution_count": null,
      "outputs": []
    },
    {
      "cell_type": "code",
      "source": [
        ""
      ],
      "metadata": {
        "id": "7CDBlzJD7eDn"
      },
      "execution_count": null,
      "outputs": []
    },
    {
      "cell_type": "code",
      "source": [
        ""
      ],
      "metadata": {
        "id": "uSwnT3nG7d8n"
      },
      "execution_count": null,
      "outputs": []
    },
    {
      "cell_type": "code",
      "source": [
        ""
      ],
      "metadata": {
        "id": "-IzHMfzd2Lq_"
      },
      "execution_count": null,
      "outputs": []
    },
    {
      "cell_type": "markdown",
      "source": [
        "Define a DNN model"
      ],
      "metadata": {
        "id": "X0z5QhYe2bKy"
      }
    },
    {
      "cell_type": "code",
      "source": [
        "import os\n",
        "\n",
        "import tensorflow as tf\n",
        "import datetime\n",
        "\n",
        "from tensorflow import keras\n",
        "from tensorflow.keras import layers\n",
        "from tensorflow import feature_column as fc\n",
        "\n"
      ],
      "metadata": {
        "id": "M_DFHC6-NNQz"
      },
      "execution_count": null,
      "outputs": []
    },
    {
      "cell_type": "code",
      "source": [
        "df_fc = df_raw_data\n",
        "df_fc.head()"
      ],
      "metadata": {
        "colab": {
          "base_uri": "https://localhost:8080/",
          "height": 206
        },
        "id": "F46CHUJsQJc1",
        "outputId": "50daa21e-d8dd-42b7-bfb7-2da8f29e2108"
      },
      "execution_count": null,
      "outputs": [
        {
          "output_type": "execute_result",
          "data": {
            "text/html": [
              "\n",
              "  <div id=\"df-afd14861-a249-41f4-acfe-fda49eecca46\">\n",
              "    <div class=\"colab-df-container\">\n",
              "      <div>\n",
              "<style scoped>\n",
              "    .dataframe tbody tr th:only-of-type {\n",
              "        vertical-align: middle;\n",
              "    }\n",
              "\n",
              "    .dataframe tbody tr th {\n",
              "        vertical-align: top;\n",
              "    }\n",
              "\n",
              "    .dataframe thead th {\n",
              "        text-align: right;\n",
              "    }\n",
              "</style>\n",
              "<table border=\"1\" class=\"dataframe\">\n",
              "  <thead>\n",
              "    <tr style=\"text-align: right;\">\n",
              "      <th></th>\n",
              "      <th>station_name</th>\n",
              "      <th>holiday</th>\n",
              "      <th>day_week</th>\n",
              "      <th>weekend</th>\n",
              "      <th>temperature</th>\n",
              "      <th>humid</th>\n",
              "      <th>precipitation</th>\n",
              "      <th>precipitation_type</th>\n",
              "      <th>year</th>\n",
              "      <th>month</th>\n",
              "      <th>day</th>\n",
              "      <th>hour</th>\n",
              "      <th>minute</th>\n",
              "      <th>total_car_num</th>\n",
              "    </tr>\n",
              "  </thead>\n",
              "  <tbody>\n",
              "    <tr>\n",
              "      <th>0</th>\n",
              "      <td>26</td>\n",
              "      <td>0</td>\n",
              "      <td>3</td>\n",
              "      <td>0</td>\n",
              "      <td>23.0</td>\n",
              "      <td>52.0</td>\n",
              "      <td>0.0</td>\n",
              "      <td>0.0</td>\n",
              "      <td>2020</td>\n",
              "      <td>9</td>\n",
              "      <td>17</td>\n",
              "      <td>21</td>\n",
              "      <td>20</td>\n",
              "      <td>2</td>\n",
              "    </tr>\n",
              "    <tr>\n",
              "      <th>1</th>\n",
              "      <td>26</td>\n",
              "      <td>0</td>\n",
              "      <td>3</td>\n",
              "      <td>0</td>\n",
              "      <td>23.0</td>\n",
              "      <td>52.0</td>\n",
              "      <td>0.0</td>\n",
              "      <td>0.0</td>\n",
              "      <td>2020</td>\n",
              "      <td>9</td>\n",
              "      <td>17</td>\n",
              "      <td>21</td>\n",
              "      <td>38</td>\n",
              "      <td>3</td>\n",
              "    </tr>\n",
              "    <tr>\n",
              "      <th>2</th>\n",
              "      <td>26</td>\n",
              "      <td>0</td>\n",
              "      <td>4</td>\n",
              "      <td>0</td>\n",
              "      <td>25.3</td>\n",
              "      <td>38.0</td>\n",
              "      <td>0.0</td>\n",
              "      <td>0.0</td>\n",
              "      <td>2020</td>\n",
              "      <td>9</td>\n",
              "      <td>18</td>\n",
              "      <td>16</td>\n",
              "      <td>45</td>\n",
              "      <td>4</td>\n",
              "    </tr>\n",
              "    <tr>\n",
              "      <th>3</th>\n",
              "      <td>26</td>\n",
              "      <td>0</td>\n",
              "      <td>4</td>\n",
              "      <td>0</td>\n",
              "      <td>25.3</td>\n",
              "      <td>38.0</td>\n",
              "      <td>0.0</td>\n",
              "      <td>0.0</td>\n",
              "      <td>2020</td>\n",
              "      <td>9</td>\n",
              "      <td>18</td>\n",
              "      <td>16</td>\n",
              "      <td>50</td>\n",
              "      <td>4</td>\n",
              "    </tr>\n",
              "    <tr>\n",
              "      <th>4</th>\n",
              "      <td>26</td>\n",
              "      <td>0</td>\n",
              "      <td>4</td>\n",
              "      <td>0</td>\n",
              "      <td>25.3</td>\n",
              "      <td>38.0</td>\n",
              "      <td>0.0</td>\n",
              "      <td>0.0</td>\n",
              "      <td>2020</td>\n",
              "      <td>9</td>\n",
              "      <td>18</td>\n",
              "      <td>16</td>\n",
              "      <td>55</td>\n",
              "      <td>4</td>\n",
              "    </tr>\n",
              "  </tbody>\n",
              "</table>\n",
              "</div>\n",
              "      <button class=\"colab-df-convert\" onclick=\"convertToInteractive('df-afd14861-a249-41f4-acfe-fda49eecca46')\"\n",
              "              title=\"Convert this dataframe to an interactive table.\"\n",
              "              style=\"display:none;\">\n",
              "        \n",
              "  <svg xmlns=\"http://www.w3.org/2000/svg\" height=\"24px\"viewBox=\"0 0 24 24\"\n",
              "       width=\"24px\">\n",
              "    <path d=\"M0 0h24v24H0V0z\" fill=\"none\"/>\n",
              "    <path d=\"M18.56 5.44l.94 2.06.94-2.06 2.06-.94-2.06-.94-.94-2.06-.94 2.06-2.06.94zm-11 1L8.5 8.5l.94-2.06 2.06-.94-2.06-.94L8.5 2.5l-.94 2.06-2.06.94zm10 10l.94 2.06.94-2.06 2.06-.94-2.06-.94-.94-2.06-.94 2.06-2.06.94z\"/><path d=\"M17.41 7.96l-1.37-1.37c-.4-.4-.92-.59-1.43-.59-.52 0-1.04.2-1.43.59L10.3 9.45l-7.72 7.72c-.78.78-.78 2.05 0 2.83L4 21.41c.39.39.9.59 1.41.59.51 0 1.02-.2 1.41-.59l7.78-7.78 2.81-2.81c.8-.78.8-2.07 0-2.86zM5.41 20L4 18.59l7.72-7.72 1.47 1.35L5.41 20z\"/>\n",
              "  </svg>\n",
              "      </button>\n",
              "      \n",
              "  <style>\n",
              "    .colab-df-container {\n",
              "      display:flex;\n",
              "      flex-wrap:wrap;\n",
              "      gap: 12px;\n",
              "    }\n",
              "\n",
              "    .colab-df-convert {\n",
              "      background-color: #E8F0FE;\n",
              "      border: none;\n",
              "      border-radius: 50%;\n",
              "      cursor: pointer;\n",
              "      display: none;\n",
              "      fill: #1967D2;\n",
              "      height: 32px;\n",
              "      padding: 0 0 0 0;\n",
              "      width: 32px;\n",
              "    }\n",
              "\n",
              "    .colab-df-convert:hover {\n",
              "      background-color: #E2EBFA;\n",
              "      box-shadow: 0px 1px 2px rgba(60, 64, 67, 0.3), 0px 1px 3px 1px rgba(60, 64, 67, 0.15);\n",
              "      fill: #174EA6;\n",
              "    }\n",
              "\n",
              "    [theme=dark] .colab-df-convert {\n",
              "      background-color: #3B4455;\n",
              "      fill: #D2E3FC;\n",
              "    }\n",
              "\n",
              "    [theme=dark] .colab-df-convert:hover {\n",
              "      background-color: #434B5C;\n",
              "      box-shadow: 0px 1px 3px 1px rgba(0, 0, 0, 0.15);\n",
              "      filter: drop-shadow(0px 1px 2px rgba(0, 0, 0, 0.3));\n",
              "      fill: #FFFFFF;\n",
              "    }\n",
              "  </style>\n",
              "\n",
              "      <script>\n",
              "        const buttonEl =\n",
              "          document.querySelector('#df-afd14861-a249-41f4-acfe-fda49eecca46 button.colab-df-convert');\n",
              "        buttonEl.style.display =\n",
              "          google.colab.kernel.accessAllowed ? 'block' : 'none';\n",
              "\n",
              "        async function convertToInteractive(key) {\n",
              "          const element = document.querySelector('#df-afd14861-a249-41f4-acfe-fda49eecca46');\n",
              "          const dataTable =\n",
              "            await google.colab.kernel.invokeFunction('convertToInteractive',\n",
              "                                                     [key], {});\n",
              "          if (!dataTable) return;\n",
              "\n",
              "          const docLinkHtml = 'Like what you see? Visit the ' +\n",
              "            '<a target=\"_blank\" href=https://colab.research.google.com/notebooks/data_table.ipynb>data table notebook</a>'\n",
              "            + ' to learn more about interactive tables.';\n",
              "          element.innerHTML = '';\n",
              "          dataTable['output_type'] = 'display_data';\n",
              "          await google.colab.output.renderOutput(dataTable, element);\n",
              "          const docLink = document.createElement('div');\n",
              "          docLink.innerHTML = docLinkHtml;\n",
              "          element.appendChild(docLink);\n",
              "        }\n",
              "      </script>\n",
              "    </div>\n",
              "  </div>\n",
              "  "
            ],
            "text/plain": [
              "   station_name  holiday  day_week  weekend  ...  day  hour  minute  total_car_num\n",
              "0            26        0         3        0  ...   17    21      20              2\n",
              "1            26        0         3        0  ...   17    21      38              3\n",
              "2            26        0         4        0  ...   18    16      45              4\n",
              "3            26        0         4        0  ...   18    16      50              4\n",
              "4            26        0         4        0  ...   18    16      55              4\n",
              "\n",
              "[5 rows x 14 columns]"
            ]
          },
          "metadata": {},
          "execution_count": 21
        }
      ]
    },
    {
      "cell_type": "code",
      "source": [
        "df_fc.info()"
      ],
      "metadata": {
        "colab": {
          "base_uri": "https://localhost:8080/"
        },
        "id": "Q_rG_bfRC_YH",
        "outputId": "03328498-b7c8-4957-b4bf-4efa5ac09b97"
      },
      "execution_count": null,
      "outputs": [
        {
          "output_type": "stream",
          "name": "stdout",
          "text": [
            "<class 'pandas.core.frame.DataFrame'>\n",
            "Int64Index: 6108 entries, 0 to 6116\n",
            "Data columns (total 14 columns):\n",
            " #   Column              Non-Null Count  Dtype  \n",
            "---  ------              --------------  -----  \n",
            " 0   station_name        6108 non-null   int64  \n",
            " 1   holiday             6108 non-null   int64  \n",
            " 2   day_week            6108 non-null   int64  \n",
            " 3   weekend             6108 non-null   int64  \n",
            " 4   temperature         6108 non-null   float64\n",
            " 5   humid               6108 non-null   float64\n",
            " 6   precipitation       6108 non-null   float64\n",
            " 7   precipitation_type  6108 non-null   float64\n",
            " 8   year                6108 non-null   int64  \n",
            " 9   month               6108 non-null   int64  \n",
            " 10  day                 6108 non-null   int64  \n",
            " 11  hour                6108 non-null   int64  \n",
            " 12  minute              6108 non-null   int64  \n",
            " 13  total_car_num       6108 non-null   int64  \n",
            "dtypes: float64(4), int64(10)\n",
            "memory usage: 715.8 KB\n"
          ]
        }
      ]
    },
    {
      "cell_type": "code",
      "source": [
        "train, test = train_test_split(df_fc, test_size=0.2)\n",
        "train, val = train_test_split(train, test_size=0.2)\n",
        "print(len(train), '훈련 샘플')\n",
        "print(len(val), '검증 샘플')\n",
        "print(len(test), '테스트 샘플')"
      ],
      "metadata": {
        "colab": {
          "base_uri": "https://localhost:8080/"
        },
        "id": "uHhBJRLX-ha7",
        "outputId": "a5bfd2d7-33cf-43a3-e59c-ed471c751cdf"
      },
      "execution_count": null,
      "outputs": [
        {
          "output_type": "stream",
          "name": "stdout",
          "text": [
            "3908 훈련 샘플\n",
            "978 검증 샘플\n",
            "1222 테스트 샘플\n"
          ]
        }
      ]
    },
    {
      "cell_type": "code",
      "source": [
        "def df_to_dataset(dataframe, shuffle=True, batch_size=32):\n",
        "  dataframe = dataframe.copy()\n",
        "  labels = dataframe.pop('total_car_num')\n",
        "  ds = tf.data.Dataset.from_tensor_slices((dict(dataframe), labels))\n",
        "  if shuffle:\n",
        "    ds = ds.shuffle(buffer_size = len(dataframe))\n",
        "  ds = ds.batch(batch_size)\n",
        "  return ds"
      ],
      "metadata": {
        "id": "kQE1Hz_4-6z1"
      },
      "execution_count": null,
      "outputs": []
    },
    {
      "cell_type": "code",
      "source": [
        "batch_size = 10\n",
        "train_ds = df_to_dataset(train, batch_size=batch_size)\n",
        "val_ds = df_to_dataset(val, shuffle=False, batch_size=batch_size)\n",
        "test_ds = df_to_dataset(test, shuffle=False, batch_size=batch_size)"
      ],
      "metadata": {
        "id": "97mzrBEb-6xC"
      },
      "execution_count": null,
      "outputs": []
    },
    {
      "cell_type": "code",
      "source": [
        "train_ds"
      ],
      "metadata": {
        "colab": {
          "base_uri": "https://localhost:8080/"
        },
        "id": "m3dfK1QNvpMU",
        "outputId": "409b2d1c-7490-4c9a-d74f-4227f3db0580"
      },
      "execution_count": null,
      "outputs": [
        {
          "output_type": "execute_result",
          "data": {
            "text/plain": [
              "<BatchDataset shapes: ({station_name: (None,), holiday: (None,), day_week: (None,), weekend: (None,), temperature: (None,), humid: (None,), precipitation: (None,), precipitation_type: (None,), year: (None,), month: (None,), day: (None,), hour: (None,), minute: (None,)}, (None,)), types: ({station_name: tf.int64, holiday: tf.int64, day_week: tf.int64, weekend: tf.int64, temperature: tf.float64, humid: tf.float64, precipitation: tf.float64, precipitation_type: tf.float64, year: tf.int64, month: tf.int64, day: tf.int64, hour: tf.int64, minute: tf.int64}, tf.int64)>"
            ]
          },
          "metadata": {},
          "execution_count": 28
        }
      ]
    },
    {
      "cell_type": "code",
      "source": [
        "for feature_batch, label_batch in train_ds.take(1):\n",
        "  print(\"Total feature: \", list(feature_batch.keys()))\n",
        "  print(\"Target feature: \", label_batch)"
      ],
      "metadata": {
        "colab": {
          "base_uri": "https://localhost:8080/"
        },
        "id": "GohTBn0s-6ua",
        "outputId": "f8f81db6-74df-4075-f9e5-e27dcf79afe8"
      },
      "execution_count": null,
      "outputs": [
        {
          "output_type": "stream",
          "name": "stdout",
          "text": [
            "Total feature:  ['station_name', 'holiday', 'day_week', 'weekend', 'temperature', 'humid', 'precipitation', 'precipitation_type', 'year', 'month', 'day', 'hour', 'minute']\n",
            "Target feature:  tf.Tensor([0 4 4 0 3 2 0 4 0 3], shape=(10,), dtype=int64)\n"
          ]
        }
      ]
    },
    {
      "cell_type": "code",
      "source": [
        "example_batch = next(iter(train_ds))[0]\n",
        "feature_batch"
      ],
      "metadata": {
        "colab": {
          "base_uri": "https://localhost:8080/"
        },
        "id": "Jq3vz4jtEh0E",
        "outputId": "16ecebe6-72c2-4c53-853a-96cd707f78d3"
      },
      "execution_count": null,
      "outputs": [
        {
          "output_type": "execute_result",
          "data": {
            "text/plain": [
              "{'day': <tf.Tensor: shape=(10,), dtype=int64, numpy=array([ 9, 29,  6,  9,  6, 13,  1, 21,  9, 22])>,\n",
              " 'day_week': <tf.Tensor: shape=(10,), dtype=int64, numpy=array([2, 1, 1, 2, 1, 6, 3, 0, 2, 1])>,\n",
              " 'holiday': <tf.Tensor: shape=(10,), dtype=int64, numpy=array([0, 0, 0, 0, 0, 0, 1, 0, 0, 0])>,\n",
              " 'hour': <tf.Tensor: shape=(10,), dtype=int64, numpy=array([15, 23, 21, 16, 13, 21,  9, 15, 14, 16])>,\n",
              " 'humid': <tf.Tensor: shape=(10,), dtype=float64, numpy=array([66., 57., 36., 66., 64., 59., 78., 47., 76., 41.])>,\n",
              " 'minute': <tf.Tensor: shape=(10,), dtype=int64, numpy=array([ 9, 10, 40, 45, 10, 30,  0, 20, 14, 35])>,\n",
              " 'month': <tf.Tensor: shape=(10,), dtype=int64, numpy=array([ 9,  9, 10,  9, 10,  9, 10,  9,  9,  9])>,\n",
              " 'precipitation': <tf.Tensor: shape=(10,), dtype=float64, numpy=array([0., 0., 0., 0., 0., 0., 0., 0., 0., 0.])>,\n",
              " 'precipitation_type': <tf.Tensor: shape=(10,), dtype=float64, numpy=array([0., 0., 0., 0., 0., 0., 0., 0., 0., 0.])>,\n",
              " 'station_name': <tf.Tensor: shape=(10,), dtype=int64, numpy=array([26, 26, 26, 26, 26, 26, 26, 26, 26, 26])>,\n",
              " 'temperature': <tf.Tensor: shape=(10,), dtype=float64, numpy=array([25. , 22. , 17.6, 25. , 13.8, 24.6, 17.9, 21.9, 23.3, 22.7])>,\n",
              " 'weekend': <tf.Tensor: shape=(10,), dtype=int64, numpy=array([0, 0, 0, 0, 0, 1, 0, 0, 0, 0])>,\n",
              " 'year': <tf.Tensor: shape=(10,), dtype=int64, numpy=array([2020, 2020, 2020, 2020, 2020, 2020, 2020, 2020, 2020, 2020])>}"
            ]
          },
          "metadata": {},
          "execution_count": 30
        }
      ]
    },
    {
      "cell_type": "code",
      "source": [
        "# 특성 열을 만들고 배치 데이터를 변환하는 함수\n",
        "def demo(feature_column):\n",
        "  feature_layer = layers.DenseFeatures(feature_column)\n",
        "  print(feature_layer(feature_batch).numpy())"
      ],
      "metadata": {
        "id": "qpo56w9o-6l7"
      },
      "execution_count": null,
      "outputs": []
    },
    {
      "cell_type": "code",
      "source": [
        "crossed_feature = fc.crossed_column(['day_week', 'hour'], hash_bucket_size=170)\n",
        "demo(fc.indicator_column(crossed_feature))"
      ],
      "metadata": {
        "colab": {
          "base_uri": "https://localhost:8080/"
        },
        "id": "OzGO-GozB-QY",
        "outputId": "dc20a7eb-3e4a-4bfb-a7e3-3edb22c4bc19"
      },
      "execution_count": null,
      "outputs": [
        {
          "output_type": "stream",
          "name": "stdout",
          "text": [
            "[[0. 0. 0. ... 0. 0. 0.]\n",
            " [0. 0. 0. ... 0. 0. 0.]\n",
            " [0. 0. 0. ... 0. 0. 0.]\n",
            " ...\n",
            " [0. 0. 0. ... 0. 0. 0.]\n",
            " [0. 0. 0. ... 0. 0. 0.]\n",
            " [0. 0. 0. ... 0. 0. 0.]]\n"
          ]
        }
      ]
    },
    {
      "cell_type": "code",
      "source": [
        "feature_columns = []\n",
        "\n",
        "for colname in [\"station_name\", \"holiday\", \"day_week\", \"weekend\", \"temperature\", \"humid\", \"precipitation\", \"precipitation_type\", \"year\", \"month\", \"day\", \"hour\", \"minute\"]:\n",
        "  feature_columns.append(fc.numeric_column(colname))\n",
        "\n",
        "crossed_feature  = fc.crossed_column(['day_week', 'hour'], hash_bucket_size=170)\n",
        "crossed_feature  = fc.indicator_column(crossed_feature)\n",
        "feature_columns.append(crossed_feature)"
      ],
      "metadata": {
        "id": "u79ZFntuH6wL"
      },
      "execution_count": null,
      "outputs": []
    },
    {
      "cell_type": "code",
      "source": [
        "feature_layer = tf.keras.layers.DenseFeatures(feature_columns)"
      ],
      "metadata": {
        "id": "t1zOmcaPB-It"
      },
      "execution_count": null,
      "outputs": []
    },
    {
      "cell_type": "code",
      "source": [
        "batch_size = 32\n",
        "train_ds = df_to_dataset(train, batch_size=batch_size)\n",
        "val_ds = df_to_dataset(val, shuffle=False, batch_size=batch_size)\n",
        "test_ds = df_to_dataset(test, shuffle=False, batch_size=batch_size)"
      ],
      "metadata": {
        "id": "O_GYfnwhB-GU"
      },
      "execution_count": null,
      "outputs": []
    },
    {
      "cell_type": "code",
      "source": [
        ""
      ],
      "metadata": {
        "id": "JzYiwwenwiAq"
      },
      "execution_count": null,
      "outputs": []
    },
    {
      "cell_type": "code",
      "source": [
        "#DNN\n",
        "model = tf.keras.Sequential([\n",
        "  feature_layer,\n",
        "  layers.Dense(128, activation='relu'),\n",
        "  layers.Dense(128, activation='relu'),\n",
        "  layers.Dense(1, activation='sigmoid')\n",
        "])\n",
        "\n",
        "model.compile(optimizer='adam',\n",
        "              loss='mean_squared_error',\n",
        "              metrics=['accuracy'])\n",
        "\n",
        "model.fit(train_ds,\n",
        "          validation_data=val_ds,\n",
        "          epochs=5)"
      ],
      "metadata": {
        "colab": {
          "base_uri": "https://localhost:8080/"
        },
        "id": "58Ij3AqxB-Dl",
        "outputId": "2eb96565-1648-4172-923f-2a08b7cc3150"
      },
      "execution_count": null,
      "outputs": [
        {
          "output_type": "stream",
          "name": "stdout",
          "text": [
            "Epoch 1/5\n",
            "WARNING:tensorflow:Layers in a Sequential model should only have a single input tensor, but we receive a <class 'dict'> input: {'station_name': <tf.Tensor 'IteratorGetNext:9' shape=(None,) dtype=int64>, 'holiday': <tf.Tensor 'IteratorGetNext:2' shape=(None,) dtype=int64>, 'day_week': <tf.Tensor 'IteratorGetNext:1' shape=(None,) dtype=int64>, 'weekend': <tf.Tensor 'IteratorGetNext:11' shape=(None,) dtype=int64>, 'temperature': <tf.Tensor 'IteratorGetNext:10' shape=(None,) dtype=float64>, 'humid': <tf.Tensor 'IteratorGetNext:4' shape=(None,) dtype=float64>, 'precipitation': <tf.Tensor 'IteratorGetNext:7' shape=(None,) dtype=float64>, 'precipitation_type': <tf.Tensor 'IteratorGetNext:8' shape=(None,) dtype=float64>, 'year': <tf.Tensor 'IteratorGetNext:12' shape=(None,) dtype=int64>, 'month': <tf.Tensor 'IteratorGetNext:6' shape=(None,) dtype=int64>, 'day': <tf.Tensor 'IteratorGetNext:0' shape=(None,) dtype=int64>, 'hour': <tf.Tensor 'IteratorGetNext:3' shape=(None,) dtype=int64>, 'minute': <tf.Tensor 'IteratorGetNext:5' shape=(None,) dtype=int64>}\n",
            "Consider rewriting this model with the Functional API.\n",
            "WARNING:tensorflow:Layers in a Sequential model should only have a single input tensor, but we receive a <class 'dict'> input: {'station_name': <tf.Tensor 'IteratorGetNext:9' shape=(None,) dtype=int64>, 'holiday': <tf.Tensor 'IteratorGetNext:2' shape=(None,) dtype=int64>, 'day_week': <tf.Tensor 'IteratorGetNext:1' shape=(None,) dtype=int64>, 'weekend': <tf.Tensor 'IteratorGetNext:11' shape=(None,) dtype=int64>, 'temperature': <tf.Tensor 'IteratorGetNext:10' shape=(None,) dtype=float64>, 'humid': <tf.Tensor 'IteratorGetNext:4' shape=(None,) dtype=float64>, 'precipitation': <tf.Tensor 'IteratorGetNext:7' shape=(None,) dtype=float64>, 'precipitation_type': <tf.Tensor 'IteratorGetNext:8' shape=(None,) dtype=float64>, 'year': <tf.Tensor 'IteratorGetNext:12' shape=(None,) dtype=int64>, 'month': <tf.Tensor 'IteratorGetNext:6' shape=(None,) dtype=int64>, 'day': <tf.Tensor 'IteratorGetNext:0' shape=(None,) dtype=int64>, 'hour': <tf.Tensor 'IteratorGetNext:3' shape=(None,) dtype=int64>, 'minute': <tf.Tensor 'IteratorGetNext:5' shape=(None,) dtype=int64>}\n",
            "Consider rewriting this model with the Functional API.\n",
            "117/123 [===========================>..] - ETA: 0s - loss: 3.7184 - accuracy: 0.1335WARNING:tensorflow:Layers in a Sequential model should only have a single input tensor, but we receive a <class 'dict'> input: {'station_name': <tf.Tensor 'IteratorGetNext:9' shape=(None,) dtype=int64>, 'holiday': <tf.Tensor 'IteratorGetNext:2' shape=(None,) dtype=int64>, 'day_week': <tf.Tensor 'IteratorGetNext:1' shape=(None,) dtype=int64>, 'weekend': <tf.Tensor 'IteratorGetNext:11' shape=(None,) dtype=int64>, 'temperature': <tf.Tensor 'IteratorGetNext:10' shape=(None,) dtype=float64>, 'humid': <tf.Tensor 'IteratorGetNext:4' shape=(None,) dtype=float64>, 'precipitation': <tf.Tensor 'IteratorGetNext:7' shape=(None,) dtype=float64>, 'precipitation_type': <tf.Tensor 'IteratorGetNext:8' shape=(None,) dtype=float64>, 'year': <tf.Tensor 'IteratorGetNext:12' shape=(None,) dtype=int64>, 'month': <tf.Tensor 'IteratorGetNext:6' shape=(None,) dtype=int64>, 'day': <tf.Tensor 'IteratorGetNext:0' shape=(None,) dtype=int64>, 'hour': <tf.Tensor 'IteratorGetNext:3' shape=(None,) dtype=int64>, 'minute': <tf.Tensor 'IteratorGetNext:5' shape=(None,) dtype=int64>}\n",
            "Consider rewriting this model with the Functional API.\n",
            "123/123 [==============================] - 2s 9ms/step - loss: 3.7136 - accuracy: 0.1349 - val_loss: 3.8078 - val_accuracy: 0.1166\n",
            "Epoch 2/5\n",
            "123/123 [==============================] - 1s 6ms/step - loss: 3.6950 - accuracy: 0.1328 - val_loss: 3.8078 - val_accuracy: 0.1166\n",
            "Epoch 3/5\n",
            "123/123 [==============================] - 0s 4ms/step - loss: 3.6950 - accuracy: 0.1328 - val_loss: 3.8078 - val_accuracy: 0.1166\n",
            "Epoch 4/5\n",
            "123/123 [==============================] - 0s 4ms/step - loss: 3.6950 - accuracy: 0.1328 - val_loss: 3.8078 - val_accuracy: 0.1166\n",
            "Epoch 5/5\n",
            "123/123 [==============================] - 0s 4ms/step - loss: 3.6950 - accuracy: 0.1328 - val_loss: 3.8078 - val_accuracy: 0.1166\n"
          ]
        },
        {
          "output_type": "execute_result",
          "data": {
            "text/plain": [
              "<keras.callbacks.History at 0x7f1b0308b090>"
            ]
          },
          "metadata": {},
          "execution_count": 57
        }
      ]
    },
    {
      "cell_type": "code",
      "source": [
        "loss, accuracy = model.evaluate(test_ds)\n",
        "print(\"정확도\", accuracy)"
      ],
      "metadata": {
        "colab": {
          "base_uri": "https://localhost:8080/"
        },
        "id": "Bjy5BIuxI4X2",
        "outputId": "5d3be7dc-a7e3-422c-9037-d71ba53b41e1"
      },
      "execution_count": null,
      "outputs": [
        {
          "output_type": "stream",
          "name": "stdout",
          "text": [
            "39/39 [==============================] - 0s 2ms/step - loss: 3.7709 - accuracy: 0.1326\n",
            "정확도 0.1325695514678955\n"
          ]
        }
      ]
    },
    {
      "cell_type": "code",
      "source": [
        ""
      ],
      "metadata": {
        "id": "43tqJgsTI4RR"
      },
      "execution_count": null,
      "outputs": []
    },
    {
      "cell_type": "code",
      "source": [
        ""
      ],
      "metadata": {
        "id": "HKbq1uJrNNJK"
      },
      "execution_count": null,
      "outputs": []
    },
    {
      "cell_type": "code",
      "source": [
        ""
      ],
      "metadata": {
        "id": "ldy5S1oUNNAY"
      },
      "execution_count": null,
      "outputs": []
    },
    {
      "cell_type": "code",
      "source": [
        ""
      ],
      "metadata": {
        "id": "cf1j3gEjhb4z"
      },
      "execution_count": null,
      "outputs": []
    },
    {
      "cell_type": "code",
      "source": [
        ""
      ],
      "metadata": {
        "id": "6Ir30ZELhb2F"
      },
      "execution_count": null,
      "outputs": []
    },
    {
      "cell_type": "code",
      "source": [
        ""
      ],
      "metadata": {
        "id": "CD0PCftuhbzU"
      },
      "execution_count": null,
      "outputs": []
    },
    {
      "cell_type": "code",
      "source": [
        ""
      ],
      "metadata": {
        "id": "7nQQToC9hbwb"
      },
      "execution_count": null,
      "outputs": []
    },
    {
      "cell_type": "code",
      "source": [
        ""
      ],
      "metadata": {
        "id": "X7UD0xANhbtt"
      },
      "execution_count": null,
      "outputs": []
    },
    {
      "cell_type": "code",
      "source": [
        ""
      ],
      "metadata": {
        "id": "-rKrE6BQhbqt"
      },
      "execution_count": null,
      "outputs": []
    },
    {
      "cell_type": "code",
      "source": [
        ""
      ],
      "metadata": {
        "id": "meckP-9JhboF"
      },
      "execution_count": null,
      "outputs": []
    },
    {
      "cell_type": "code",
      "source": [
        ""
      ],
      "metadata": {
        "id": "u3IV8arOhblG"
      },
      "execution_count": null,
      "outputs": []
    },
    {
      "cell_type": "code",
      "source": [
        ""
      ],
      "metadata": {
        "id": "yaJxFLMmhbdM"
      },
      "execution_count": null,
      "outputs": []
    }
  ]
}