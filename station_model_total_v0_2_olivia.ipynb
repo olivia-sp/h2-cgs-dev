{
  "nbformat": 4,
  "nbformat_minor": 0,
  "metadata": {
    "colab": {
      "name": "station_model_total_v0.2_olivia.ipynb",
      "provenance": [],
      "collapsed_sections": [],
      "toc_visible": true,
      "mount_file_id": "1s2qQN4nxVV4DI_Esc5gdtIWorfYE1n8s",
      "authorship_tag": "ABX9TyPcu3G73TA8T67Lh6QcPu6y",
      "include_colab_link": true
    },
    "kernelspec": {
      "name": "python3",
      "display_name": "Python 3"
    },
    "language_info": {
      "name": "python"
    }
  },
  "cells": [
    {
      "cell_type": "markdown",
      "metadata": {
        "id": "view-in-github",
        "colab_type": "text"
      },
      "source": [
        "<a href=\"https://colab.research.google.com/github/olivia-sp/h2-station-dev/blob/main/station_model_total_v0_2_olivia.ipynb\" target=\"_parent\"><img src=\"https://colab.research.google.com/assets/colab-badge.svg\" alt=\"Open In Colab\"/></a>"
      ]
    },
    {
      "cell_type": "code",
      "source": [
        "#ver0.1 - EDA\n",
        "#ver0.2 - EDA 업데이트 및 모델 개선\n"
      ],
      "metadata": {
        "id": "LK85bsOAylGX"
      },
      "execution_count": null,
      "outputs": []
    },
    {
      "cell_type": "markdown",
      "source": [
        "# EDA"
      ],
      "metadata": {
        "id": "p20i4yjqjwxW"
      }
    },
    {
      "cell_type": "code",
      "source": [
        "import pandas as pd\n",
        "import os\n",
        "\n",
        "from sklearn.model_selection import train_test_split\n",
        "import numpy as np\n",
        "\n",
        "import matplotlib.pyplot as plt\n",
        "import seaborn as sns\n",
        "import datetime as dt\n"
      ],
      "metadata": {
        "id": "qiu1m4DRjzgK"
      },
      "execution_count": null,
      "outputs": []
    },
    {
      "cell_type": "code",
      "source": [
        "import os\n",
        "\n",
        "if os.path.isfile('/content/content/drive/MyDrive/Colab Notebooks/data_set/result-congress-26-tune1.csv') == True:\n",
        "  print('already')\n",
        "else:\n",
        "  #os.mkdir('data_set')\n",
        "  %cd data_set\n",
        "  !wget https://raw.githubusercontent.com/olivia-sp/h2-station-dev/main/data_set/result-congress-26-tune1.csv\n",
        "\n",
        "% cd /content\n"
      ],
      "metadata": {
        "colab": {
          "base_uri": "https://localhost:8080/"
        },
        "id": "qMCYu09ZhcTX",
        "outputId": "48ec9696-8c57-40d9-956a-6b5286340c1e"
      },
      "execution_count": null,
      "outputs": [
        {
          "output_type": "stream",
          "name": "stdout",
          "text": [
            "[Errno 2] No such file or directory: 'data_set'\n",
            "/content\n",
            "--2022-02-10 02:03:20--  https://raw.githubusercontent.com/olivia-sp/h2-station-dev/main/data_set/result-congress-26-tune1.csv\n",
            "Resolving raw.githubusercontent.com (raw.githubusercontent.com)... 185.199.108.133, 185.199.109.133, 185.199.110.133, ...\n",
            "Connecting to raw.githubusercontent.com (raw.githubusercontent.com)|185.199.108.133|:443... connected.\n",
            "HTTP request sent, awaiting response... 404 Not Found\n",
            "2022-02-10 02:03:20 ERROR 404: Not Found.\n",
            "\n",
            "/content\n"
          ]
        }
      ]
    },
    {
      "cell_type": "code",
      "source": [
        "CURR_PATH = os.getcwd()\n",
        "\n",
        "os.listdir(CURR_PATH)\n",
        "#DATA_PATH = os.path.join(CURR_PATH,'data_set')\n",
        "RAW_PATH = CURR_PATH + '/drive/MyDrive/Colab Notebooks/data_set/result-congress-26-tune1.csv'\n",
        "\n"
      ],
      "metadata": {
        "id": "RYP-UHidhcQ3"
      },
      "execution_count": null,
      "outputs": []
    },
    {
      "cell_type": "code",
      "source": [
        "df_raw_data = pd.read_csv(RAW_PATH, index_col=0)\n",
        "df_raw_data.info()\n",
        "\n",
        "df_raw_data.isnull().sum()"
      ],
      "metadata": {
        "colab": {
          "base_uri": "https://localhost:8080/"
        },
        "id": "fwNI51B0hcON",
        "outputId": "9e24e9d4-5e35-45ba-eca7-58f624f4ff11"
      },
      "execution_count": null,
      "outputs": [
        {
          "output_type": "stream",
          "name": "stdout",
          "text": [
            "<class 'pandas.core.frame.DataFrame'>\n",
            "Int64Index: 77222 entries, 0 to 77436\n",
            "Data columns (total 19 columns):\n",
            " #   Column              Non-Null Count  Dtype  \n",
            "---  ------              --------------  -----  \n",
            " 0   holiday             77222 non-null  bool   \n",
            " 1   weekend             77222 non-null  bool   \n",
            " 2   time                77222 non-null  object \n",
            " 3   precipitation_type  46123 non-null  float64\n",
            " 4   temperature         46123 non-null  float64\n",
            " 5   station_name        77222 non-null  int64  \n",
            " 6   filename            77222 non-null  object \n",
            " 7   precipitation       46123 non-null  float64\n",
            " 8   total_car_num       77222 non-null  int64  \n",
            " 9   day_week            77222 non-null  object \n",
            " 10  decision_car_num    76980 non-null  object \n",
            " 11  humid               46123 non-null  float64\n",
            " 12  max_car_num         76907 non-null  float64\n",
            " 13  year                77222 non-null  int64  \n",
            " 14  month               77222 non-null  int64  \n",
            " 15  day                 77222 non-null  int64  \n",
            " 16  hour                77222 non-null  int64  \n",
            " 17  minute              77222 non-null  int64  \n",
            " 18  second              77222 non-null  int64  \n",
            "dtypes: bool(2), float64(5), int64(8), object(4)\n",
            "memory usage: 10.8+ MB\n"
          ]
        },
        {
          "output_type": "execute_result",
          "data": {
            "text/plain": [
              "holiday                   0\n",
              "weekend                   0\n",
              "time                      0\n",
              "precipitation_type    31099\n",
              "temperature           31099\n",
              "station_name              0\n",
              "filename                  0\n",
              "precipitation         31099\n",
              "total_car_num             0\n",
              "day_week                  0\n",
              "decision_car_num        242\n",
              "humid                 31099\n",
              "max_car_num             315\n",
              "year                      0\n",
              "month                     0\n",
              "day                       0\n",
              "hour                      0\n",
              "minute                    0\n",
              "second                    0\n",
              "dtype: int64"
            ]
          },
          "metadata": {},
          "execution_count": 4
        }
      ]
    },
    {
      "cell_type": "code",
      "source": [
        "df_raw_data = df_raw_data.reset_index()"
      ],
      "metadata": {
        "id": "BB_qxtsftooY"
      },
      "execution_count": null,
      "outputs": []
    },
    {
      "cell_type": "code",
      "source": [
        "df_raw_data2=df_raw_data.drop(['decision_car_num', 'max_car_num', 'filename', 'index'], axis=1)\n",
        "df_raw_data2.isnull().sum()"
      ],
      "metadata": {
        "colab": {
          "base_uri": "https://localhost:8080/"
        },
        "id": "B0KdUMTTZRZo",
        "outputId": "54bec19a-b02a-46ba-8b1b-a9ad80d79e87"
      },
      "execution_count": null,
      "outputs": [
        {
          "output_type": "execute_result",
          "data": {
            "text/plain": [
              "holiday                   0\n",
              "weekend                   0\n",
              "time                      0\n",
              "precipitation_type    31099\n",
              "temperature           31099\n",
              "station_name              0\n",
              "precipitation         31099\n",
              "total_car_num             0\n",
              "day_week                  0\n",
              "humid                 31099\n",
              "year                      0\n",
              "month                     0\n",
              "day                       0\n",
              "hour                      0\n",
              "minute                    0\n",
              "second                    0\n",
              "dtype: int64"
            ]
          },
          "metadata": {},
          "execution_count": 6
        }
      ]
    },
    {
      "cell_type": "code",
      "source": [
        "df_raw_data2"
      ],
      "metadata": {
        "colab": {
          "base_uri": "https://localhost:8080/",
          "height": 1000
        },
        "id": "bUqAR26SdnVd",
        "outputId": "05bc3f8a-9d3f-4c72-87a8-f9a30ed79aac"
      },
      "execution_count": null,
      "outputs": [
        {
          "output_type": "execute_result",
          "data": {
            "text/html": [
              "\n",
              "  <div id=\"df-49aa46d1-9f78-452d-b328-28827cb877c6\">\n",
              "    <div class=\"colab-df-container\">\n",
              "      <div>\n",
              "<style scoped>\n",
              "    .dataframe tbody tr th:only-of-type {\n",
              "        vertical-align: middle;\n",
              "    }\n",
              "\n",
              "    .dataframe tbody tr th {\n",
              "        vertical-align: top;\n",
              "    }\n",
              "\n",
              "    .dataframe thead th {\n",
              "        text-align: right;\n",
              "    }\n",
              "</style>\n",
              "<table border=\"1\" class=\"dataframe\">\n",
              "  <thead>\n",
              "    <tr style=\"text-align: right;\">\n",
              "      <th></th>\n",
              "      <th>holiday</th>\n",
              "      <th>weekend</th>\n",
              "      <th>time</th>\n",
              "      <th>precipitation_type</th>\n",
              "      <th>temperature</th>\n",
              "      <th>station_name</th>\n",
              "      <th>precipitation</th>\n",
              "      <th>total_car_num</th>\n",
              "      <th>day_week</th>\n",
              "      <th>humid</th>\n",
              "      <th>year</th>\n",
              "      <th>month</th>\n",
              "      <th>day</th>\n",
              "      <th>hour</th>\n",
              "      <th>minute</th>\n",
              "      <th>second</th>\n",
              "    </tr>\n",
              "  </thead>\n",
              "  <tbody>\n",
              "    <tr>\n",
              "      <th>0</th>\n",
              "      <td>False</td>\n",
              "      <td>False</td>\n",
              "      <td>2020-09-17-21h-20m-28s</td>\n",
              "      <td>0.0</td>\n",
              "      <td>23.0</td>\n",
              "      <td>26</td>\n",
              "      <td>0.0</td>\n",
              "      <td>2</td>\n",
              "      <td>thu</td>\n",
              "      <td>52.0</td>\n",
              "      <td>2020</td>\n",
              "      <td>9</td>\n",
              "      <td>17</td>\n",
              "      <td>21</td>\n",
              "      <td>20</td>\n",
              "      <td>28</td>\n",
              "    </tr>\n",
              "    <tr>\n",
              "      <th>1</th>\n",
              "      <td>False</td>\n",
              "      <td>False</td>\n",
              "      <td>2020-09-17-21h-38m-08s</td>\n",
              "      <td>0.0</td>\n",
              "      <td>23.0</td>\n",
              "      <td>26</td>\n",
              "      <td>0.0</td>\n",
              "      <td>3</td>\n",
              "      <td>thu</td>\n",
              "      <td>52.0</td>\n",
              "      <td>2020</td>\n",
              "      <td>9</td>\n",
              "      <td>17</td>\n",
              "      <td>21</td>\n",
              "      <td>38</td>\n",
              "      <td>8</td>\n",
              "    </tr>\n",
              "    <tr>\n",
              "      <th>2</th>\n",
              "      <td>False</td>\n",
              "      <td>False</td>\n",
              "      <td>2020-09-18-16h-45m-41s</td>\n",
              "      <td>0.0</td>\n",
              "      <td>25.3</td>\n",
              "      <td>26</td>\n",
              "      <td>0.0</td>\n",
              "      <td>4</td>\n",
              "      <td>fri</td>\n",
              "      <td>38.0</td>\n",
              "      <td>2020</td>\n",
              "      <td>9</td>\n",
              "      <td>18</td>\n",
              "      <td>16</td>\n",
              "      <td>45</td>\n",
              "      <td>41</td>\n",
              "    </tr>\n",
              "    <tr>\n",
              "      <th>3</th>\n",
              "      <td>False</td>\n",
              "      <td>False</td>\n",
              "      <td>2020-09-18-16h-50m-00s</td>\n",
              "      <td>0.0</td>\n",
              "      <td>25.3</td>\n",
              "      <td>26</td>\n",
              "      <td>0.0</td>\n",
              "      <td>4</td>\n",
              "      <td>fri</td>\n",
              "      <td>38.0</td>\n",
              "      <td>2020</td>\n",
              "      <td>9</td>\n",
              "      <td>18</td>\n",
              "      <td>16</td>\n",
              "      <td>50</td>\n",
              "      <td>0</td>\n",
              "    </tr>\n",
              "    <tr>\n",
              "      <th>4</th>\n",
              "      <td>False</td>\n",
              "      <td>False</td>\n",
              "      <td>2020-09-18-16h-55m-00s</td>\n",
              "      <td>0.0</td>\n",
              "      <td>25.3</td>\n",
              "      <td>26</td>\n",
              "      <td>0.0</td>\n",
              "      <td>4</td>\n",
              "      <td>fri</td>\n",
              "      <td>38.0</td>\n",
              "      <td>2020</td>\n",
              "      <td>9</td>\n",
              "      <td>18</td>\n",
              "      <td>16</td>\n",
              "      <td>55</td>\n",
              "      <td>0</td>\n",
              "    </tr>\n",
              "    <tr>\n",
              "      <th>...</th>\n",
              "      <td>...</td>\n",
              "      <td>...</td>\n",
              "      <td>...</td>\n",
              "      <td>...</td>\n",
              "      <td>...</td>\n",
              "      <td>...</td>\n",
              "      <td>...</td>\n",
              "      <td>...</td>\n",
              "      <td>...</td>\n",
              "      <td>...</td>\n",
              "      <td>...</td>\n",
              "      <td>...</td>\n",
              "      <td>...</td>\n",
              "      <td>...</td>\n",
              "      <td>...</td>\n",
              "      <td>...</td>\n",
              "    </tr>\n",
              "    <tr>\n",
              "      <th>77217</th>\n",
              "      <td>False</td>\n",
              "      <td>False</td>\n",
              "      <td>2022-01-06-16h-40m-00s</td>\n",
              "      <td>NaN</td>\n",
              "      <td>NaN</td>\n",
              "      <td>26</td>\n",
              "      <td>NaN</td>\n",
              "      <td>3</td>\n",
              "      <td>thu</td>\n",
              "      <td>NaN</td>\n",
              "      <td>2022</td>\n",
              "      <td>1</td>\n",
              "      <td>6</td>\n",
              "      <td>16</td>\n",
              "      <td>40</td>\n",
              "      <td>0</td>\n",
              "    </tr>\n",
              "    <tr>\n",
              "      <th>77218</th>\n",
              "      <td>False</td>\n",
              "      <td>False</td>\n",
              "      <td>2022-01-06-16h-45m-00s</td>\n",
              "      <td>NaN</td>\n",
              "      <td>NaN</td>\n",
              "      <td>26</td>\n",
              "      <td>NaN</td>\n",
              "      <td>3</td>\n",
              "      <td>thu</td>\n",
              "      <td>NaN</td>\n",
              "      <td>2022</td>\n",
              "      <td>1</td>\n",
              "      <td>6</td>\n",
              "      <td>16</td>\n",
              "      <td>45</td>\n",
              "      <td>0</td>\n",
              "    </tr>\n",
              "    <tr>\n",
              "      <th>77219</th>\n",
              "      <td>False</td>\n",
              "      <td>False</td>\n",
              "      <td>2022-01-06-16h-50m-00s</td>\n",
              "      <td>NaN</td>\n",
              "      <td>NaN</td>\n",
              "      <td>26</td>\n",
              "      <td>NaN</td>\n",
              "      <td>4</td>\n",
              "      <td>thu</td>\n",
              "      <td>NaN</td>\n",
              "      <td>2022</td>\n",
              "      <td>1</td>\n",
              "      <td>6</td>\n",
              "      <td>16</td>\n",
              "      <td>50</td>\n",
              "      <td>0</td>\n",
              "    </tr>\n",
              "    <tr>\n",
              "      <th>77220</th>\n",
              "      <td>False</td>\n",
              "      <td>False</td>\n",
              "      <td>2022-01-06-16h-55m-00s</td>\n",
              "      <td>NaN</td>\n",
              "      <td>NaN</td>\n",
              "      <td>26</td>\n",
              "      <td>NaN</td>\n",
              "      <td>2</td>\n",
              "      <td>thu</td>\n",
              "      <td>NaN</td>\n",
              "      <td>2022</td>\n",
              "      <td>1</td>\n",
              "      <td>6</td>\n",
              "      <td>16</td>\n",
              "      <td>55</td>\n",
              "      <td>0</td>\n",
              "    </tr>\n",
              "    <tr>\n",
              "      <th>77221</th>\n",
              "      <td>False</td>\n",
              "      <td>False</td>\n",
              "      <td>2022-01-06-17h-00m-00s</td>\n",
              "      <td>NaN</td>\n",
              "      <td>NaN</td>\n",
              "      <td>26</td>\n",
              "      <td>NaN</td>\n",
              "      <td>3</td>\n",
              "      <td>thu</td>\n",
              "      <td>NaN</td>\n",
              "      <td>2022</td>\n",
              "      <td>1</td>\n",
              "      <td>6</td>\n",
              "      <td>17</td>\n",
              "      <td>0</td>\n",
              "      <td>0</td>\n",
              "    </tr>\n",
              "  </tbody>\n",
              "</table>\n",
              "<p>77222 rows × 16 columns</p>\n",
              "</div>\n",
              "      <button class=\"colab-df-convert\" onclick=\"convertToInteractive('df-49aa46d1-9f78-452d-b328-28827cb877c6')\"\n",
              "              title=\"Convert this dataframe to an interactive table.\"\n",
              "              style=\"display:none;\">\n",
              "        \n",
              "  <svg xmlns=\"http://www.w3.org/2000/svg\" height=\"24px\"viewBox=\"0 0 24 24\"\n",
              "       width=\"24px\">\n",
              "    <path d=\"M0 0h24v24H0V0z\" fill=\"none\"/>\n",
              "    <path d=\"M18.56 5.44l.94 2.06.94-2.06 2.06-.94-2.06-.94-.94-2.06-.94 2.06-2.06.94zm-11 1L8.5 8.5l.94-2.06 2.06-.94-2.06-.94L8.5 2.5l-.94 2.06-2.06.94zm10 10l.94 2.06.94-2.06 2.06-.94-2.06-.94-.94-2.06-.94 2.06-2.06.94z\"/><path d=\"M17.41 7.96l-1.37-1.37c-.4-.4-.92-.59-1.43-.59-.52 0-1.04.2-1.43.59L10.3 9.45l-7.72 7.72c-.78.78-.78 2.05 0 2.83L4 21.41c.39.39.9.59 1.41.59.51 0 1.02-.2 1.41-.59l7.78-7.78 2.81-2.81c.8-.78.8-2.07 0-2.86zM5.41 20L4 18.59l7.72-7.72 1.47 1.35L5.41 20z\"/>\n",
              "  </svg>\n",
              "      </button>\n",
              "      \n",
              "  <style>\n",
              "    .colab-df-container {\n",
              "      display:flex;\n",
              "      flex-wrap:wrap;\n",
              "      gap: 12px;\n",
              "    }\n",
              "\n",
              "    .colab-df-convert {\n",
              "      background-color: #E8F0FE;\n",
              "      border: none;\n",
              "      border-radius: 50%;\n",
              "      cursor: pointer;\n",
              "      display: none;\n",
              "      fill: #1967D2;\n",
              "      height: 32px;\n",
              "      padding: 0 0 0 0;\n",
              "      width: 32px;\n",
              "    }\n",
              "\n",
              "    .colab-df-convert:hover {\n",
              "      background-color: #E2EBFA;\n",
              "      box-shadow: 0px 1px 2px rgba(60, 64, 67, 0.3), 0px 1px 3px 1px rgba(60, 64, 67, 0.15);\n",
              "      fill: #174EA6;\n",
              "    }\n",
              "\n",
              "    [theme=dark] .colab-df-convert {\n",
              "      background-color: #3B4455;\n",
              "      fill: #D2E3FC;\n",
              "    }\n",
              "\n",
              "    [theme=dark] .colab-df-convert:hover {\n",
              "      background-color: #434B5C;\n",
              "      box-shadow: 0px 1px 3px 1px rgba(0, 0, 0, 0.15);\n",
              "      filter: drop-shadow(0px 1px 2px rgba(0, 0, 0, 0.3));\n",
              "      fill: #FFFFFF;\n",
              "    }\n",
              "  </style>\n",
              "\n",
              "      <script>\n",
              "        const buttonEl =\n",
              "          document.querySelector('#df-49aa46d1-9f78-452d-b328-28827cb877c6 button.colab-df-convert');\n",
              "        buttonEl.style.display =\n",
              "          google.colab.kernel.accessAllowed ? 'block' : 'none';\n",
              "\n",
              "        async function convertToInteractive(key) {\n",
              "          const element = document.querySelector('#df-49aa46d1-9f78-452d-b328-28827cb877c6');\n",
              "          const dataTable =\n",
              "            await google.colab.kernel.invokeFunction('convertToInteractive',\n",
              "                                                     [key], {});\n",
              "          if (!dataTable) return;\n",
              "\n",
              "          const docLinkHtml = 'Like what you see? Visit the ' +\n",
              "            '<a target=\"_blank\" href=https://colab.research.google.com/notebooks/data_table.ipynb>data table notebook</a>'\n",
              "            + ' to learn more about interactive tables.';\n",
              "          element.innerHTML = '';\n",
              "          dataTable['output_type'] = 'display_data';\n",
              "          await google.colab.output.renderOutput(dataTable, element);\n",
              "          const docLink = document.createElement('div');\n",
              "          docLink.innerHTML = docLinkHtml;\n",
              "          element.appendChild(docLink);\n",
              "        }\n",
              "      </script>\n",
              "    </div>\n",
              "  </div>\n",
              "  "
            ],
            "text/plain": [
              "       holiday  weekend                    time  ...  hour  minute  second\n",
              "0        False    False  2020-09-17-21h-20m-28s  ...    21      20      28\n",
              "1        False    False  2020-09-17-21h-38m-08s  ...    21      38       8\n",
              "2        False    False  2020-09-18-16h-45m-41s  ...    16      45      41\n",
              "3        False    False  2020-09-18-16h-50m-00s  ...    16      50       0\n",
              "4        False    False  2020-09-18-16h-55m-00s  ...    16      55       0\n",
              "...        ...      ...                     ...  ...   ...     ...     ...\n",
              "77217    False    False  2022-01-06-16h-40m-00s  ...    16      40       0\n",
              "77218    False    False  2022-01-06-16h-45m-00s  ...    16      45       0\n",
              "77219    False    False  2022-01-06-16h-50m-00s  ...    16      50       0\n",
              "77220    False    False  2022-01-06-16h-55m-00s  ...    16      55       0\n",
              "77221    False    False  2022-01-06-17h-00m-00s  ...    17       0       0\n",
              "\n",
              "[77222 rows x 16 columns]"
            ]
          },
          "metadata": {},
          "execution_count": 7
        }
      ]
    },
    {
      "cell_type": "markdown",
      "source": [
        "Holiday 처리"
      ],
      "metadata": {
        "id": "ZGxLrfGG7sBp"
      }
    },
    {
      "cell_type": "code",
      "source": [
        "!pip install holidays"
      ],
      "metadata": {
        "colab": {
          "base_uri": "https://localhost:8080/"
        },
        "id": "-5O-rfaH7qGk",
        "outputId": "1aa8aaaf-a5f5-4923-8f9f-7b2e6aced7dc"
      },
      "execution_count": null,
      "outputs": [
        {
          "output_type": "stream",
          "name": "stdout",
          "text": [
            "Requirement already satisfied: holidays in /usr/local/lib/python3.7/dist-packages (0.10.5.2)\n",
            "Requirement already satisfied: python-dateutil in /usr/local/lib/python3.7/dist-packages (from holidays) (2.8.2)\n",
            "Requirement already satisfied: hijri-converter in /usr/local/lib/python3.7/dist-packages (from holidays) (2.2.2)\n",
            "Requirement already satisfied: six in /usr/local/lib/python3.7/dist-packages (from holidays) (1.15.0)\n",
            "Requirement already satisfied: korean-lunar-calendar in /usr/local/lib/python3.7/dist-packages (from holidays) (0.2.1)\n",
            "Requirement already satisfied: convertdate>=2.3.0 in /usr/local/lib/python3.7/dist-packages (from holidays) (2.4.0)\n",
            "Requirement already satisfied: pymeeus<=1,>=0.3.13 in /usr/local/lib/python3.7/dist-packages (from convertdate>=2.3.0->holidays) (0.5.11)\n"
          ]
        }
      ]
    },
    {
      "cell_type": "code",
      "source": [
        "# Holiday Data 추가   \n",
        "import holidays\n",
        "\n",
        "time_df = pd.DataFrame(df_raw_data2['time'])\n",
        "time_df['time'] = pd.to_datetime(time_df['time'], format='%Y-%m-%d-%Hh-%Mm-%Ss', errors='raise')\n",
        "time_df['date'] = time_df['time'].dt.date\n",
        "\n",
        "holiday_list = time_df['date']\n"
      ],
      "metadata": {
        "id": "-a7M8xBi7wBn"
      },
      "execution_count": null,
      "outputs": []
    },
    {
      "cell_type": "markdown",
      "source": [
        "Year 끝 두자리로 변환"
      ],
      "metadata": {
        "id": "VhmlfsGvUHSb"
      }
    },
    {
      "cell_type": "code",
      "source": [
        "#Year 끝 2자리 사용\n",
        "time_df['year'] = time_df['time'].dt.strftime(\"%y\")\n",
        "time_df['year']\n",
        "# time_df['year'] = time_df['time2'].dt.year"
      ],
      "metadata": {
        "colab": {
          "base_uri": "https://localhost:8080/"
        },
        "id": "HRy_I6jqWCw0",
        "outputId": "489355af-08df-4e84-ea23-4dc2b6f30da3"
      },
      "execution_count": null,
      "outputs": [
        {
          "output_type": "execute_result",
          "data": {
            "text/plain": [
              "0        20\n",
              "1        20\n",
              "2        20\n",
              "3        20\n",
              "4        20\n",
              "         ..\n",
              "77217    22\n",
              "77218    22\n",
              "77219    22\n",
              "77220    22\n",
              "77221    22\n",
              "Name: year, Length: 77222, dtype: object"
            ]
          },
          "metadata": {},
          "execution_count": 10
        }
      ]
    },
    {
      "cell_type": "code",
      "source": [
        "# 한국 휴일 개체 생성\n",
        "kr_holidays = holidays.KR()\n",
        "\n",
        "# generate holiday table \n",
        "holiday_df = pd.DataFrame(columns=['ds', 'imp_holiday'])\n",
        "holiday_df['ds'] = holiday_list\n",
        "holiday_df['imp_holiday'] = holiday_df.ds.apply(lambda x: 'True' if x in kr_holidays else 'False')"
      ],
      "metadata": {
        "id": "GsnmvjCZ8UKT"
      },
      "execution_count": null,
      "outputs": []
    },
    {
      "cell_type": "code",
      "source": [
        "# subplot 적용\n",
        "fig = plt.figure(figsize = (20, 8))\n",
        "chart = fig.add_subplot(1,1,1)\n",
        "\n",
        "\n",
        "chart.plot(holiday_df['imp_holiday'], color='deepskyblue' , label='holiday_update')\n",
        "chart.plot(df_raw_data2['holiday'], color='red' , label='holiday_asis')\n",
        "\n",
        "#chart.plot(roll_mean20, color='pink' , label='')\n",
        "plt.legend(loc = 'best')"
      ],
      "metadata": {
        "colab": {
          "base_uri": "https://localhost:8080/",
          "height": 481
        },
        "id": "vxHk3Rl5c0gO",
        "outputId": "f94aa9b5-39e7-4bd2-f6c3-e8914ad3731c"
      },
      "execution_count": null,
      "outputs": [
        {
          "output_type": "execute_result",
          "data": {
            "text/plain": [
              "<matplotlib.legend.Legend at 0x7f7a35495350>"
            ]
          },
          "metadata": {},
          "execution_count": 12
        },
        {
          "output_type": "display_data",
          "data": {
            "image/png": "[encoded data removed]",
            "text/plain": [
              "<Figure size 1440x576 with 1 Axes>"
            ]
          },
          "metadata": {
            "needs_background": "light"
          }
        }
      ]
    },
    {
      "cell_type": "code",
      "source": [
        "df_raw_data2['year'] = time_df['year'].astype(int)\n",
        "df_raw_data2['holiday'] = holiday_df['imp_holiday']"
      ],
      "metadata": {
        "id": "mYSwRNlD5i_K"
      },
      "execution_count": null,
      "outputs": []
    },
    {
      "cell_type": "markdown",
      "source": [
        "Season 데이터 생성"
      ],
      "metadata": {
        "id": "TVuWjMNq-7d9"
      }
    },
    {
      "cell_type": "code",
      "source": [
        "def SeasonData(month):\n",
        "    if month in [12,1,2]:\n",
        "        return 'winter'\n",
        "    elif month in [3,4,5]:\n",
        "        return 'spring'\n",
        "    elif month in [6,7,8]:\n",
        "        return 'summer'\n",
        "    elif month in [9,10,11]:\n",
        "        return 'autumn'\n",
        "\n",
        "df_raw_data2['season'] = df_raw_data2.month.apply(SeasonData)"
      ],
      "metadata": {
        "id": "wWcXiivZ-7Qt"
      },
      "execution_count": null,
      "outputs": []
    },
    {
      "cell_type": "markdown",
      "source": [
        "Hour_group 데이터 생성\n",
        "- Dawn 0시~7시\n",
        "- Morning 7시~12시\n",
        "- Lunch 12시~13시\n",
        "- Day 13시~18시\n",
        "- Dinner 18시~19시\n",
        "- Night 19시~0시"
      ],
      "metadata": {
        "id": "2oiBzvQ0_6rX"
      }
    },
    {
      "cell_type": "code",
      "source": [
        "def HourGroupData(hour):\n",
        "    if hour in [1,2,3,4,5,6]:\n",
        "        return 'dawn'\n",
        "    elif hour in [7,8,9,10,11]:\n",
        "        return 'morning'\n",
        "    elif hour in [12]:\n",
        "        return 'lunch'\n",
        "    elif hour in [13,14,15,16,17]:\n",
        "        return 'afternoon'\n",
        "    elif hour in [18]:\n",
        "      return 'dinner'\n",
        "    elif hour in [19, 20, 21, 22, 23, 0]:\n",
        "      return 'night'\n",
        "\n",
        "df_raw_data2['hour_group'] = df_raw_data2.hour.apply(HourGroupData)"
      ],
      "metadata": {
        "id": "OJphonFU-jsk"
      },
      "execution_count": null,
      "outputs": []
    },
    {
      "cell_type": "code",
      "source": [
        "#year와 count\n",
        "fig = plt.figure(figsize=[12,10])\n",
        "ax1 = fig.add_subplot(3,3,1)\n",
        "ax1 = sns.barplot(x='year',y='total_car_num',data=df_raw_data2.groupby('year')['total_car_num'].mean().reset_index())\n",
        "\n",
        "#month와 count\n",
        "ax2 = fig.add_subplot(3,3,2)\n",
        "ax2 = sns.barplot(x='month',y='total_car_num',data=df_raw_data2.groupby('month')['total_car_num'].mean().reset_index())\n",
        "\n",
        "#day와 count\n",
        "ax3 = fig.add_subplot(3,3,3)\n",
        "ax3 = sns.barplot(x='day',y='total_car_num',data=df_raw_data2.groupby('day')['total_car_num'].mean().reset_index())\n",
        "\n",
        "#hour와 count\n",
        "ax4 = fig.add_subplot(3,3,4)\n",
        "ax4 = sns.barplot(x='hour',y='total_car_num',data=df_raw_data2.groupby('hour')['total_car_num'].mean().reset_index())\n",
        "\n",
        "#day_week과 count\n",
        "ax5 = fig.add_subplot(3,3,5)\n",
        "ax5 = sns.barplot(x='day_week',y='total_car_num',data=df_raw_data2.groupby('day_week')['total_car_num'].mean().reset_index())\n",
        "\n",
        "#holiday와 count\n",
        "ax6 = fig.add_subplot(3,3,6)\n",
        "ax6 = sns.barplot(x='holiday',y='total_car_num',data=df_raw_data2.groupby('holiday')['total_car_num'].mean().reset_index())\n",
        "\n",
        "#weekend와 count\n",
        "ax7 = fig.add_subplot(3,3,7)\n",
        "ax7 = sns.barplot(x='weekend',y='total_car_num',data=df_raw_data2.groupby('weekend')['total_car_num'].mean().reset_index())\n",
        "\n",
        "#season과 count\n",
        "ax8 = fig.add_subplot(3,3,8)\n",
        "ax8 = sns.barplot(x='season',y='total_car_num',data=df_raw_data2.groupby('season')['total_car_num'].mean().reset_index())\n",
        "\n",
        "#hour_group과 count\n",
        "ax9 = fig.add_subplot(3,3,9)\n",
        "ax9 = sns.barplot(x='hour_group',y='total_car_num',data=df_raw_data2.groupby('hour_group')['total_car_num'].mean().reset_index())"
      ],
      "metadata": {
        "colab": {
          "base_uri": "https://localhost:8080/",
          "height": 607
        },
        "id": "YEoK1D0Z9x00",
        "outputId": "345c1865-25cb-40c3-84c0-9addee730ad8"
      },
      "execution_count": null,
      "outputs": [
        {
          "output_type": "display_data",
          "data": {
            "image/png": "[encoded data removed]",
            "text/plain": [
              "<Figure size 864x720 with 9 Axes>"
            ]
          },
          "metadata": {
            "needs_background": "light"
          }
        }
      ]
    },
    {
      "cell_type": "code",
      "source": [
        "# sns.pairplot(df_raw_data2, height=5);\n",
        "# plt.show()"
      ],
      "metadata": {
        "id": "AugWhCqPOFS1"
      },
      "execution_count": null,
      "outputs": []
    },
    {
      "cell_type": "code",
      "source": [
        "# plt.figure(figsize=(15,15))\n",
        "# sns.heatmap(data = df_raw_data2.corr(), annot=True, \n",
        "# fmt = '.2f', linewidths=.5, cmap='Blues')"
      ],
      "metadata": {
        "id": "WEjgWSrgOTmt"
      },
      "execution_count": null,
      "outputs": []
    },
    {
      "cell_type": "code",
      "source": [
        "df_raw_data2.drop(df_raw_data.loc[df_raw_data['total_car_num'] == 6].index, inplace =True)\n",
        "df_raw_data2.info()\n",
        "\n",
        "df_raw_data2.drop('time', axis=1, inplace = True)\n",
        "df_raw_data2.info()\n",
        "\n",
        "# df_raw_data2['day_week'].replace('mon', 0, inplace = True)\n",
        "# df_raw_data2['day_week'].replace('tue', 1, inplace = True)\n",
        "# df_raw_data2['day_week'].replace('wen', 2, inplace = True)\n",
        "# df_raw_data2['day_week'].replace('thu', 3, inplace = True)\n",
        "# df_raw_data2['day_week'].replace('fri', 4, inplace = True)\n",
        "# df_raw_data2['day_week'].replace('sat', 5, inplace = True)\n",
        "# df_raw_data2['day_week'].replace('sun', 6, inplace = True)\n",
        "\n",
        "df_raw_data2['holiday'] = df_raw_data['holiday'].astype(int)\n",
        "df_raw_data2['weekend'] = df_raw_data['weekend'].astype(int)"
      ],
      "metadata": {
        "colab": {
          "base_uri": "https://localhost:8080/"
        },
        "id": "ULV0uc1I-udO",
        "outputId": "aa67e2c3-74bd-44da-e8ee-14b994aa06ea"
      },
      "execution_count": null,
      "outputs": [
        {
          "output_type": "stream",
          "name": "stdout",
          "text": [
            "<class 'pandas.core.frame.DataFrame'>\n",
            "Int64Index: 77222 entries, 0 to 77221\n",
            "Data columns (total 18 columns):\n",
            " #   Column              Non-Null Count  Dtype  \n",
            "---  ------              --------------  -----  \n",
            " 0   holiday             77222 non-null  object \n",
            " 1   weekend             77222 non-null  bool   \n",
            " 2   time                77222 non-null  object \n",
            " 3   precipitation_type  46123 non-null  float64\n",
            " 4   temperature         46123 non-null  float64\n",
            " 5   station_name        77222 non-null  int64  \n",
            " 6   precipitation       46123 non-null  float64\n",
            " 7   total_car_num       77222 non-null  int64  \n",
            " 8   day_week            77222 non-null  object \n",
            " 9   humid               46123 non-null  float64\n",
            " 10  year                77222 non-null  int64  \n",
            " 11  month               77222 non-null  int64  \n",
            " 12  day                 77222 non-null  int64  \n",
            " 13  hour                77222 non-null  int64  \n",
            " 14  minute              77222 non-null  int64  \n",
            " 15  second              77222 non-null  int64  \n",
            " 16  season              77222 non-null  object \n",
            " 17  hour_group          77222 non-null  object \n",
            "dtypes: bool(1), float64(4), int64(8), object(5)\n",
            "memory usage: 10.7+ MB\n",
            "<class 'pandas.core.frame.DataFrame'>\n",
            "Int64Index: 77222 entries, 0 to 77221\n",
            "Data columns (total 17 columns):\n",
            " #   Column              Non-Null Count  Dtype  \n",
            "---  ------              --------------  -----  \n",
            " 0   holiday             77222 non-null  object \n",
            " 1   weekend             77222 non-null  bool   \n",
            " 2   precipitation_type  46123 non-null  float64\n",
            " 3   temperature         46123 non-null  float64\n",
            " 4   station_name        77222 non-null  int64  \n",
            " 5   precipitation       46123 non-null  float64\n",
            " 6   total_car_num       77222 non-null  int64  \n",
            " 7   day_week            77222 non-null  object \n",
            " 8   humid               46123 non-null  float64\n",
            " 9   year                77222 non-null  int64  \n",
            " 10  month               77222 non-null  int64  \n",
            " 11  day                 77222 non-null  int64  \n",
            " 12  hour                77222 non-null  int64  \n",
            " 13  minute              77222 non-null  int64  \n",
            " 14  second              77222 non-null  int64  \n",
            " 15  season              77222 non-null  object \n",
            " 16  hour_group          77222 non-null  object \n",
            "dtypes: bool(1), float64(4), int64(8), object(4)\n",
            "memory usage: 10.1+ MB\n"
          ]
        }
      ]
    },
    {
      "cell_type": "code",
      "source": [
        "day_week_dum = pd.get_dummies(df_raw_data2['day_week'])\n",
        "# df_raw_data3 + day_week_dum\n",
        "df_dum1 = df_raw_data2.join(day_week_dum,how='left')"
      ],
      "metadata": {
        "id": "SdNhYLGyIlAu"
      },
      "execution_count": null,
      "outputs": []
    },
    {
      "cell_type": "code",
      "source": [
        "season_dum = pd.get_dummies(df_dum1['season'])\n",
        "# df_raw_data3 + day_week_dum\n",
        "df_dum2 = df_dum1.join(season_dum,how='left')"
      ],
      "metadata": {
        "id": "TWTrfbmPJxfV"
      },
      "execution_count": null,
      "outputs": []
    },
    {
      "cell_type": "code",
      "source": [
        "hrgroup_dum = pd.get_dummies(df_dum2['hour_group'])\n",
        "# df_raw_data3 + day_week_dum\n",
        "df_dum3 = df_dum2.join(hrgroup_dum,how='left')"
      ],
      "metadata": {
        "id": "LYwnNL8TK0np"
      },
      "execution_count": null,
      "outputs": []
    },
    {
      "cell_type": "code",
      "source": [
        "df_raw_data3=df_dum3.drop(['day_week', 'season', 'hour_group'], axis=1)\n",
        "df_raw_data3"
      ],
      "metadata": {
        "colab": {
          "base_uri": "https://localhost:8080/",
          "height": 487
        },
        "id": "nvzge14JIGJj",
        "outputId": "24b6ad76-8181-4000-cc18-06d56f73940e"
      },
      "execution_count": null,
      "outputs": [
        {
          "output_type": "execute_result",
          "data": {
            "text/html": [
              "\n",
              "  <div id=\"df-34d2508b-2986-48bd-9142-4e5a418c661d\">\n",
              "    <div class=\"colab-df-container\">\n",
              "      <div>\n",
              "<style scoped>\n",
              "    .dataframe tbody tr th:only-of-type {\n",
              "        vertical-align: middle;\n",
              "    }\n",
              "\n",
              "    .dataframe tbody tr th {\n",
              "        vertical-align: top;\n",
              "    }\n",
              "\n",
              "    .dataframe thead th {\n",
              "        text-align: right;\n",
              "    }\n",
              "</style>\n",
              "<table border=\"1\" class=\"dataframe\">\n",
              "  <thead>\n",
              "    <tr style=\"text-align: right;\">\n",
              "      <th></th>\n",
              "      <th>holiday</th>\n",
              "      <th>weekend</th>\n",
              "      <th>precipitation_type</th>\n",
              "      <th>temperature</th>\n",
              "      <th>station_name</th>\n",
              "      <th>precipitation</th>\n",
              "      <th>total_car_num</th>\n",
              "      <th>humid</th>\n",
              "      <th>year</th>\n",
              "      <th>month</th>\n",
              "      <th>day</th>\n",
              "      <th>hour</th>\n",
              "      <th>minute</th>\n",
              "      <th>second</th>\n",
              "      <th>fri</th>\n",
              "      <th>mon</th>\n",
              "      <th>sat</th>\n",
              "      <th>sun</th>\n",
              "      <th>thu</th>\n",
              "      <th>tue</th>\n",
              "      <th>wen</th>\n",
              "      <th>autumn</th>\n",
              "      <th>spring</th>\n",
              "      <th>summer</th>\n",
              "      <th>winter</th>\n",
              "      <th>afternoon</th>\n",
              "      <th>dawn</th>\n",
              "      <th>dinner</th>\n",
              "      <th>lunch</th>\n",
              "      <th>morning</th>\n",
              "      <th>night</th>\n",
              "    </tr>\n",
              "  </thead>\n",
              "  <tbody>\n",
              "    <tr>\n",
              "      <th>0</th>\n",
              "      <td>0</td>\n",
              "      <td>0</td>\n",
              "      <td>0.0</td>\n",
              "      <td>23.0</td>\n",
              "      <td>26</td>\n",
              "      <td>0.0</td>\n",
              "      <td>2</td>\n",
              "      <td>52.0</td>\n",
              "      <td>20</td>\n",
              "      <td>9</td>\n",
              "      <td>17</td>\n",
              "      <td>21</td>\n",
              "      <td>20</td>\n",
              "      <td>28</td>\n",
              "      <td>0</td>\n",
              "      <td>0</td>\n",
              "      <td>0</td>\n",
              "      <td>0</td>\n",
              "      <td>1</td>\n",
              "      <td>0</td>\n",
              "      <td>0</td>\n",
              "      <td>1</td>\n",
              "      <td>0</td>\n",
              "      <td>0</td>\n",
              "      <td>0</td>\n",
              "      <td>0</td>\n",
              "      <td>0</td>\n",
              "      <td>0</td>\n",
              "      <td>0</td>\n",
              "      <td>0</td>\n",
              "      <td>1</td>\n",
              "    </tr>\n",
              "    <tr>\n",
              "      <th>1</th>\n",
              "      <td>0</td>\n",
              "      <td>0</td>\n",
              "      <td>0.0</td>\n",
              "      <td>23.0</td>\n",
              "      <td>26</td>\n",
              "      <td>0.0</td>\n",
              "      <td>3</td>\n",
              "      <td>52.0</td>\n",
              "      <td>20</td>\n",
              "      <td>9</td>\n",
              "      <td>17</td>\n",
              "      <td>21</td>\n",
              "      <td>38</td>\n",
              "      <td>8</td>\n",
              "      <td>0</td>\n",
              "      <td>0</td>\n",
              "      <td>0</td>\n",
              "      <td>0</td>\n",
              "      <td>1</td>\n",
              "      <td>0</td>\n",
              "      <td>0</td>\n",
              "      <td>1</td>\n",
              "      <td>0</td>\n",
              "      <td>0</td>\n",
              "      <td>0</td>\n",
              "      <td>0</td>\n",
              "      <td>0</td>\n",
              "      <td>0</td>\n",
              "      <td>0</td>\n",
              "      <td>0</td>\n",
              "      <td>1</td>\n",
              "    </tr>\n",
              "    <tr>\n",
              "      <th>2</th>\n",
              "      <td>0</td>\n",
              "      <td>0</td>\n",
              "      <td>0.0</td>\n",
              "      <td>25.3</td>\n",
              "      <td>26</td>\n",
              "      <td>0.0</td>\n",
              "      <td>4</td>\n",
              "      <td>38.0</td>\n",
              "      <td>20</td>\n",
              "      <td>9</td>\n",
              "      <td>18</td>\n",
              "      <td>16</td>\n",
              "      <td>45</td>\n",
              "      <td>41</td>\n",
              "      <td>1</td>\n",
              "      <td>0</td>\n",
              "      <td>0</td>\n",
              "      <td>0</td>\n",
              "      <td>0</td>\n",
              "      <td>0</td>\n",
              "      <td>0</td>\n",
              "      <td>1</td>\n",
              "      <td>0</td>\n",
              "      <td>0</td>\n",
              "      <td>0</td>\n",
              "      <td>1</td>\n",
              "      <td>0</td>\n",
              "      <td>0</td>\n",
              "      <td>0</td>\n",
              "      <td>0</td>\n",
              "      <td>0</td>\n",
              "    </tr>\n",
              "    <tr>\n",
              "      <th>3</th>\n",
              "      <td>0</td>\n",
              "      <td>0</td>\n",
              "      <td>0.0</td>\n",
              "      <td>25.3</td>\n",
              "      <td>26</td>\n",
              "      <td>0.0</td>\n",
              "      <td>4</td>\n",
              "      <td>38.0</td>\n",
              "      <td>20</td>\n",
              "      <td>9</td>\n",
              "      <td>18</td>\n",
              "      <td>16</td>\n",
              "      <td>50</td>\n",
              "      <td>0</td>\n",
              "      <td>1</td>\n",
              "      <td>0</td>\n",
              "      <td>0</td>\n",
              "      <td>0</td>\n",
              "      <td>0</td>\n",
              "      <td>0</td>\n",
              "      <td>0</td>\n",
              "      <td>1</td>\n",
              "      <td>0</td>\n",
              "      <td>0</td>\n",
              "      <td>0</td>\n",
              "      <td>1</td>\n",
              "      <td>0</td>\n",
              "      <td>0</td>\n",
              "      <td>0</td>\n",
              "      <td>0</td>\n",
              "      <td>0</td>\n",
              "    </tr>\n",
              "    <tr>\n",
              "      <th>4</th>\n",
              "      <td>0</td>\n",
              "      <td>0</td>\n",
              "      <td>0.0</td>\n",
              "      <td>25.3</td>\n",
              "      <td>26</td>\n",
              "      <td>0.0</td>\n",
              "      <td>4</td>\n",
              "      <td>38.0</td>\n",
              "      <td>20</td>\n",
              "      <td>9</td>\n",
              "      <td>18</td>\n",
              "      <td>16</td>\n",
              "      <td>55</td>\n",
              "      <td>0</td>\n",
              "      <td>1</td>\n",
              "      <td>0</td>\n",
              "      <td>0</td>\n",
              "      <td>0</td>\n",
              "      <td>0</td>\n",
              "      <td>0</td>\n",
              "      <td>0</td>\n",
              "      <td>1</td>\n",
              "      <td>0</td>\n",
              "      <td>0</td>\n",
              "      <td>0</td>\n",
              "      <td>1</td>\n",
              "      <td>0</td>\n",
              "      <td>0</td>\n",
              "      <td>0</td>\n",
              "      <td>0</td>\n",
              "      <td>0</td>\n",
              "    </tr>\n",
              "    <tr>\n",
              "      <th>...</th>\n",
              "      <td>...</td>\n",
              "      <td>...</td>\n",
              "      <td>...</td>\n",
              "      <td>...</td>\n",
              "      <td>...</td>\n",
              "      <td>...</td>\n",
              "      <td>...</td>\n",
              "      <td>...</td>\n",
              "      <td>...</td>\n",
              "      <td>...</td>\n",
              "      <td>...</td>\n",
              "      <td>...</td>\n",
              "      <td>...</td>\n",
              "      <td>...</td>\n",
              "      <td>...</td>\n",
              "      <td>...</td>\n",
              "      <td>...</td>\n",
              "      <td>...</td>\n",
              "      <td>...</td>\n",
              "      <td>...</td>\n",
              "      <td>...</td>\n",
              "      <td>...</td>\n",
              "      <td>...</td>\n",
              "      <td>...</td>\n",
              "      <td>...</td>\n",
              "      <td>...</td>\n",
              "      <td>...</td>\n",
              "      <td>...</td>\n",
              "      <td>...</td>\n",
              "      <td>...</td>\n",
              "      <td>...</td>\n",
              "    </tr>\n",
              "    <tr>\n",
              "      <th>77217</th>\n",
              "      <td>0</td>\n",
              "      <td>0</td>\n",
              "      <td>NaN</td>\n",
              "      <td>NaN</td>\n",
              "      <td>26</td>\n",
              "      <td>NaN</td>\n",
              "      <td>3</td>\n",
              "      <td>NaN</td>\n",
              "      <td>22</td>\n",
              "      <td>1</td>\n",
              "      <td>6</td>\n",
              "      <td>16</td>\n",
              "      <td>40</td>\n",
              "      <td>0</td>\n",
              "      <td>0</td>\n",
              "      <td>0</td>\n",
              "      <td>0</td>\n",
              "      <td>0</td>\n",
              "      <td>1</td>\n",
              "      <td>0</td>\n",
              "      <td>0</td>\n",
              "      <td>0</td>\n",
              "      <td>0</td>\n",
              "      <td>0</td>\n",
              "      <td>1</td>\n",
              "      <td>1</td>\n",
              "      <td>0</td>\n",
              "      <td>0</td>\n",
              "      <td>0</td>\n",
              "      <td>0</td>\n",
              "      <td>0</td>\n",
              "    </tr>\n",
              "    <tr>\n",
              "      <th>77218</th>\n",
              "      <td>0</td>\n",
              "      <td>0</td>\n",
              "      <td>NaN</td>\n",
              "      <td>NaN</td>\n",
              "      <td>26</td>\n",
              "      <td>NaN</td>\n",
              "      <td>3</td>\n",
              "      <td>NaN</td>\n",
              "      <td>22</td>\n",
              "      <td>1</td>\n",
              "      <td>6</td>\n",
              "      <td>16</td>\n",
              "      <td>45</td>\n",
              "      <td>0</td>\n",
              "      <td>0</td>\n",
              "      <td>0</td>\n",
              "      <td>0</td>\n",
              "      <td>0</td>\n",
              "      <td>1</td>\n",
              "      <td>0</td>\n",
              "      <td>0</td>\n",
              "      <td>0</td>\n",
              "      <td>0</td>\n",
              "      <td>0</td>\n",
              "      <td>1</td>\n",
              "      <td>1</td>\n",
              "      <td>0</td>\n",
              "      <td>0</td>\n",
              "      <td>0</td>\n",
              "      <td>0</td>\n",
              "      <td>0</td>\n",
              "    </tr>\n",
              "    <tr>\n",
              "      <th>77219</th>\n",
              "      <td>0</td>\n",
              "      <td>0</td>\n",
              "      <td>NaN</td>\n",
              "      <td>NaN</td>\n",
              "      <td>26</td>\n",
              "      <td>NaN</td>\n",
              "      <td>4</td>\n",
              "      <td>NaN</td>\n",
              "      <td>22</td>\n",
              "      <td>1</td>\n",
              "      <td>6</td>\n",
              "      <td>16</td>\n",
              "      <td>50</td>\n",
              "      <td>0</td>\n",
              "      <td>0</td>\n",
              "      <td>0</td>\n",
              "      <td>0</td>\n",
              "      <td>0</td>\n",
              "      <td>1</td>\n",
              "      <td>0</td>\n",
              "      <td>0</td>\n",
              "      <td>0</td>\n",
              "      <td>0</td>\n",
              "      <td>0</td>\n",
              "      <td>1</td>\n",
              "      <td>1</td>\n",
              "      <td>0</td>\n",
              "      <td>0</td>\n",
              "      <td>0</td>\n",
              "      <td>0</td>\n",
              "      <td>0</td>\n",
              "    </tr>\n",
              "    <tr>\n",
              "      <th>77220</th>\n",
              "      <td>0</td>\n",
              "      <td>0</td>\n",
              "      <td>NaN</td>\n",
              "      <td>NaN</td>\n",
              "      <td>26</td>\n",
              "      <td>NaN</td>\n",
              "      <td>2</td>\n",
              "      <td>NaN</td>\n",
              "      <td>22</td>\n",
              "      <td>1</td>\n",
              "      <td>6</td>\n",
              "      <td>16</td>\n",
              "      <td>55</td>\n",
              "      <td>0</td>\n",
              "      <td>0</td>\n",
              "      <td>0</td>\n",
              "      <td>0</td>\n",
              "      <td>0</td>\n",
              "      <td>1</td>\n",
              "      <td>0</td>\n",
              "      <td>0</td>\n",
              "      <td>0</td>\n",
              "      <td>0</td>\n",
              "      <td>0</td>\n",
              "      <td>1</td>\n",
              "      <td>1</td>\n",
              "      <td>0</td>\n",
              "      <td>0</td>\n",
              "      <td>0</td>\n",
              "      <td>0</td>\n",
              "      <td>0</td>\n",
              "    </tr>\n",
              "    <tr>\n",
              "      <th>77221</th>\n",
              "      <td>0</td>\n",
              "      <td>0</td>\n",
              "      <td>NaN</td>\n",
              "      <td>NaN</td>\n",
              "      <td>26</td>\n",
              "      <td>NaN</td>\n",
              "      <td>3</td>\n",
              "      <td>NaN</td>\n",
              "      <td>22</td>\n",
              "      <td>1</td>\n",
              "      <td>6</td>\n",
              "      <td>17</td>\n",
              "      <td>0</td>\n",
              "      <td>0</td>\n",
              "      <td>0</td>\n",
              "      <td>0</td>\n",
              "      <td>0</td>\n",
              "      <td>0</td>\n",
              "      <td>1</td>\n",
              "      <td>0</td>\n",
              "      <td>0</td>\n",
              "      <td>0</td>\n",
              "      <td>0</td>\n",
              "      <td>0</td>\n",
              "      <td>1</td>\n",
              "      <td>1</td>\n",
              "      <td>0</td>\n",
              "      <td>0</td>\n",
              "      <td>0</td>\n",
              "      <td>0</td>\n",
              "      <td>0</td>\n",
              "    </tr>\n",
              "  </tbody>\n",
              "</table>\n",
              "<p>77222 rows × 31 columns</p>\n",
              "</div>\n",
              "      <button class=\"colab-df-convert\" onclick=\"convertToInteractive('df-34d2508b-2986-48bd-9142-4e5a418c661d')\"\n",
              "              title=\"Convert this dataframe to an interactive table.\"\n",
              "              style=\"display:none;\">\n",
              "        \n",
              "  <svg xmlns=\"http://www.w3.org/2000/svg\" height=\"24px\"viewBox=\"0 0 24 24\"\n",
              "       width=\"24px\">\n",
              "    <path d=\"M0 0h24v24H0V0z\" fill=\"none\"/>\n",
              "    <path d=\"M18.56 5.44l.94 2.06.94-2.06 2.06-.94-2.06-.94-.94-2.06-.94 2.06-2.06.94zm-11 1L8.5 8.5l.94-2.06 2.06-.94-2.06-.94L8.5 2.5l-.94 2.06-2.06.94zm10 10l.94 2.06.94-2.06 2.06-.94-2.06-.94-.94-2.06-.94 2.06-2.06.94z\"/><path d=\"M17.41 7.96l-1.37-1.37c-.4-.4-.92-.59-1.43-.59-.52 0-1.04.2-1.43.59L10.3 9.45l-7.72 7.72c-.78.78-.78 2.05 0 2.83L4 21.41c.39.39.9.59 1.41.59.51 0 1.02-.2 1.41-.59l7.78-7.78 2.81-2.81c.8-.78.8-2.07 0-2.86zM5.41 20L4 18.59l7.72-7.72 1.47 1.35L5.41 20z\"/>\n",
              "  </svg>\n",
              "      </button>\n",
              "      \n",
              "  <style>\n",
              "    .colab-df-container {\n",
              "      display:flex;\n",
              "      flex-wrap:wrap;\n",
              "      gap: 12px;\n",
              "    }\n",
              "\n",
              "    .colab-df-convert {\n",
              "      background-color: #E8F0FE;\n",
              "      border: none;\n",
              "      border-radius: 50%;\n",
              "      cursor: pointer;\n",
              "      display: none;\n",
              "      fill: #1967D2;\n",
              "      height: 32px;\n",
              "      padding: 0 0 0 0;\n",
              "      width: 32px;\n",
              "    }\n",
              "\n",
              "    .colab-df-convert:hover {\n",
              "      background-color: #E2EBFA;\n",
              "      box-shadow: 0px 1px 2px rgba(60, 64, 67, 0.3), 0px 1px 3px 1px rgba(60, 64, 67, 0.15);\n",
              "      fill: #174EA6;\n",
              "    }\n",
              "\n",
              "    [theme=dark] .colab-df-convert {\n",
              "      background-color: #3B4455;\n",
              "      fill: #D2E3FC;\n",
              "    }\n",
              "\n",
              "    [theme=dark] .colab-df-convert:hover {\n",
              "      background-color: #434B5C;\n",
              "      box-shadow: 0px 1px 3px 1px rgba(0, 0, 0, 0.15);\n",
              "      filter: drop-shadow(0px 1px 2px rgba(0, 0, 0, 0.3));\n",
              "      fill: #FFFFFF;\n",
              "    }\n",
              "  </style>\n",
              "\n",
              "      <script>\n",
              "        const buttonEl =\n",
              "          document.querySelector('#df-34d2508b-2986-48bd-9142-4e5a418c661d button.colab-df-convert');\n",
              "        buttonEl.style.display =\n",
              "          google.colab.kernel.accessAllowed ? 'block' : 'none';\n",
              "\n",
              "        async function convertToInteractive(key) {\n",
              "          const element = document.querySelector('#df-34d2508b-2986-48bd-9142-4e5a418c661d');\n",
              "          const dataTable =\n",
              "            await google.colab.kernel.invokeFunction('convertToInteractive',\n",
              "                                                     [key], {});\n",
              "          if (!dataTable) return;\n",
              "\n",
              "          const docLinkHtml = 'Like what you see? Visit the ' +\n",
              "            '<a target=\"_blank\" href=https://colab.research.google.com/notebooks/data_table.ipynb>data table notebook</a>'\n",
              "            + ' to learn more about interactive tables.';\n",
              "          element.innerHTML = '';\n",
              "          dataTable['output_type'] = 'display_data';\n",
              "          await google.colab.output.renderOutput(dataTable, element);\n",
              "          const docLink = document.createElement('div');\n",
              "          docLink.innerHTML = docLinkHtml;\n",
              "          element.appendChild(docLink);\n",
              "        }\n",
              "      </script>\n",
              "    </div>\n",
              "  </div>\n",
              "  "
            ],
            "text/plain": [
              "       holiday  weekend  precipitation_type  ...  lunch  morning  night\n",
              "0            0        0                 0.0  ...      0        0      1\n",
              "1            0        0                 0.0  ...      0        0      1\n",
              "2            0        0                 0.0  ...      0        0      0\n",
              "3            0        0                 0.0  ...      0        0      0\n",
              "4            0        0                 0.0  ...      0        0      0\n",
              "...        ...      ...                 ...  ...    ...      ...    ...\n",
              "77217        0        0                 NaN  ...      0        0      0\n",
              "77218        0        0                 NaN  ...      0        0      0\n",
              "77219        0        0                 NaN  ...      0        0      0\n",
              "77220        0        0                 NaN  ...      0        0      0\n",
              "77221        0        0                 NaN  ...      0        0      0\n",
              "\n",
              "[77222 rows x 31 columns]"
            ]
          },
          "metadata": {},
          "execution_count": 23
        }
      ]
    },
    {
      "cell_type": "code",
      "source": [
        "#df_raw_data3.describe()"
      ],
      "metadata": {
        "id": "a6jOA7t768bo"
      },
      "execution_count": null,
      "outputs": []
    },
    {
      "cell_type": "code",
      "source": [
        "df_raw_data3.info()"
      ],
      "metadata": {
        "id": "0dGQFpvH-uP6",
        "colab": {
          "base_uri": "https://localhost:8080/"
        },
        "outputId": "388b58ec-2b04-4440-f8fd-d2426d64184d"
      },
      "execution_count": null,
      "outputs": [
        {
          "output_type": "stream",
          "name": "stdout",
          "text": [
            "<class 'pandas.core.frame.DataFrame'>\n",
            "Int64Index: 77222 entries, 0 to 77221\n",
            "Data columns (total 31 columns):\n",
            " #   Column              Non-Null Count  Dtype  \n",
            "---  ------              --------------  -----  \n",
            " 0   holiday             77222 non-null  int64  \n",
            " 1   weekend             77222 non-null  int64  \n",
            " 2   precipitation_type  46123 non-null  float64\n",
            " 3   temperature         46123 non-null  float64\n",
            " 4   station_name        77222 non-null  int64  \n",
            " 5   precipitation       46123 non-null  float64\n",
            " 6   total_car_num       77222 non-null  int64  \n",
            " 7   humid               46123 non-null  float64\n",
            " 8   year                77222 non-null  int64  \n",
            " 9   month               77222 non-null  int64  \n",
            " 10  day                 77222 non-null  int64  \n",
            " 11  hour                77222 non-null  int64  \n",
            " 12  minute              77222 non-null  int64  \n",
            " 13  second              77222 non-null  int64  \n",
            " 14  fri                 77222 non-null  uint8  \n",
            " 15  mon                 77222 non-null  uint8  \n",
            " 16  sat                 77222 non-null  uint8  \n",
            " 17  sun                 77222 non-null  uint8  \n",
            " 18  thu                 77222 non-null  uint8  \n",
            " 19  tue                 77222 non-null  uint8  \n",
            " 20  wen                 77222 non-null  uint8  \n",
            " 21  autumn              77222 non-null  uint8  \n",
            " 22  spring              77222 non-null  uint8  \n",
            " 23  summer              77222 non-null  uint8  \n",
            " 24  winter              77222 non-null  uint8  \n",
            " 25  afternoon           77222 non-null  uint8  \n",
            " 26  dawn                77222 non-null  uint8  \n",
            " 27  dinner              77222 non-null  uint8  \n",
            " 28  lunch               77222 non-null  uint8  \n",
            " 29  morning             77222 non-null  uint8  \n",
            " 30  night               77222 non-null  uint8  \n",
            "dtypes: float64(4), int64(10), uint8(17)\n",
            "memory usage: 12.1 MB\n"
          ]
        }
      ]
    },
    {
      "cell_type": "markdown",
      "source": [
        "결측값 처리"
      ],
      "metadata": {
        "id": "5QIcUdEL-uyh"
      }
    },
    {
      "cell_type": "code",
      "source": [
        "%matplotlib inline\n",
        "sns.heatmap(df_raw_data3.isnull(), cbar=False)"
      ],
      "metadata": {
        "colab": {
          "base_uri": "https://localhost:8080/",
          "height": 368
        },
        "id": "-NXFrx6FZ_he",
        "outputId": "2b75b4f2-1495-4b47-9901-87db8d40d804"
      },
      "execution_count": null,
      "outputs": [
        {
          "output_type": "execute_result",
          "data": {
            "text/plain": [
              "<matplotlib.axes._subplots.AxesSubplot at 0x7f7a35637a50>"
            ]
          },
          "metadata": {},
          "execution_count": 26
        },
        {
          "output_type": "display_data",
          "data": {
            "image/png": "[encoded data removed]",
            "text/plain": [
              "<Figure size 432x288 with 1 Axes>"
            ]
          },
          "metadata": {
            "needs_background": "light"
          }
        }
      ]
    },
    {
      "cell_type": "markdown",
      "source": [
        "Data Imputation\n",
        "1. mean/median : 작은 크기의 숫자형 데이터셋, 다른 feature 간 상관관계 고려 안 함, 범주형 feature 사용 불가, 부정확함\n",
        "2. most frequent/zero/constant : 범주형 데이터셋, 다른 feature 간 상관관계 고려 안 함, 데이터 bias 생성 가능\n",
        "3. KNN imputation : feature similarity  이용하여 근접한 데이터 찾음(impyute lib), 데이터셋에 따라 다르나 가장 정확함, 메모리 많이 필요, outlier에 민감\n",
        "4. MICE : 누락된 데이터 여러번 채우는 방식, 연속형/이진형/범위형 패턴 처리 가능, imputation-analysis(m개의 완성된 데이터 분석)-pooling(평균,분산,신뢰구간 계산하여 합침)\n",
        "5. 딥러닝 이용 : 범주형/non-numerical 데이터에 매우 효과적, DNN 이용해서 누락 값 유추, 한번에 한 컬럼만 대체 가능, 대규모 데이터셋은 속도가 상당히 느림, 유추할 feature에 대한 정보있는 feature 직접 지정해야 함\n",
        "6. stochastic regression imputation : 동일 데이터셋의 다른 feature에서 결측값 예측\n",
        "7. Extrapolation and Interpolation : 이산형 범위 내 데이터로부터 값 추정, interpolation(20살, 40살 데이터로 30살 추측), Extrapolation(1~20 데이터로 10년 후 예측, 안정성 떨어짐)\n",
        "8. Hot-Deck Imputation : 비슷한 데이터셋에서 랜덤하게 선택\n"
      ],
      "metadata": {
        "id": "57L9vUa1juP3"
      }
    },
    {
      "cell_type": "code",
      "source": [
        "df_null = df_raw_data3[['precipitation','precipitation_type', 'temperature', 'humid']]\n",
        "df_raw_data4 = df_raw_data3.drop(['precipitation','precipitation_type', 'temperature', 'humid'], axis=1)\n",
        "df_raw_data4"
      ],
      "metadata": {
        "colab": {
          "base_uri": "https://localhost:8080/",
          "height": 487
        },
        "id": "xnlVxSplmvAR",
        "outputId": "e8b2b284-b411-4d6e-bff1-3a9bb13950ab"
      },
      "execution_count": null,
      "outputs": [
        {
          "output_type": "execute_result",
          "data": {
            "text/html": [
              "\n",
              "  <div id=\"df-e75e9f56-e609-4ac9-bb19-8f7005b21375\">\n",
              "    <div class=\"colab-df-container\">\n",
              "      <div>\n",
              "<style scoped>\n",
              "    .dataframe tbody tr th:only-of-type {\n",
              "        vertical-align: middle;\n",
              "    }\n",
              "\n",
              "    .dataframe tbody tr th {\n",
              "        vertical-align: top;\n",
              "    }\n",
              "\n",
              "    .dataframe thead th {\n",
              "        text-align: right;\n",
              "    }\n",
              "</style>\n",
              "<table border=\"1\" class=\"dataframe\">\n",
              "  <thead>\n",
              "    <tr style=\"text-align: right;\">\n",
              "      <th></th>\n",
              "      <th>holiday</th>\n",
              "      <th>weekend</th>\n",
              "      <th>station_name</th>\n",
              "      <th>total_car_num</th>\n",
              "      <th>year</th>\n",
              "      <th>month</th>\n",
              "      <th>day</th>\n",
              "      <th>hour</th>\n",
              "      <th>minute</th>\n",
              "      <th>second</th>\n",
              "      <th>fri</th>\n",
              "      <th>mon</th>\n",
              "      <th>sat</th>\n",
              "      <th>sun</th>\n",
              "      <th>thu</th>\n",
              "      <th>tue</th>\n",
              "      <th>wen</th>\n",
              "      <th>autumn</th>\n",
              "      <th>spring</th>\n",
              "      <th>summer</th>\n",
              "      <th>winter</th>\n",
              "      <th>afternoon</th>\n",
              "      <th>dawn</th>\n",
              "      <th>dinner</th>\n",
              "      <th>lunch</th>\n",
              "      <th>morning</th>\n",
              "      <th>night</th>\n",
              "    </tr>\n",
              "  </thead>\n",
              "  <tbody>\n",
              "    <tr>\n",
              "      <th>0</th>\n",
              "      <td>0</td>\n",
              "      <td>0</td>\n",
              "      <td>26</td>\n",
              "      <td>2</td>\n",
              "      <td>20</td>\n",
              "      <td>9</td>\n",
              "      <td>17</td>\n",
              "      <td>21</td>\n",
              "      <td>20</td>\n",
              "      <td>28</td>\n",
              "      <td>0</td>\n",
              "      <td>0</td>\n",
              "      <td>0</td>\n",
              "      <td>0</td>\n",
              "      <td>1</td>\n",
              "      <td>0</td>\n",
              "      <td>0</td>\n",
              "      <td>1</td>\n",
              "      <td>0</td>\n",
              "      <td>0</td>\n",
              "      <td>0</td>\n",
              "      <td>0</td>\n",
              "      <td>0</td>\n",
              "      <td>0</td>\n",
              "      <td>0</td>\n",
              "      <td>0</td>\n",
              "      <td>1</td>\n",
              "    </tr>\n",
              "    <tr>\n",
              "      <th>1</th>\n",
              "      <td>0</td>\n",
              "      <td>0</td>\n",
              "      <td>26</td>\n",
              "      <td>3</td>\n",
              "      <td>20</td>\n",
              "      <td>9</td>\n",
              "      <td>17</td>\n",
              "      <td>21</td>\n",
              "      <td>38</td>\n",
              "      <td>8</td>\n",
              "      <td>0</td>\n",
              "      <td>0</td>\n",
              "      <td>0</td>\n",
              "      <td>0</td>\n",
              "      <td>1</td>\n",
              "      <td>0</td>\n",
              "      <td>0</td>\n",
              "      <td>1</td>\n",
              "      <td>0</td>\n",
              "      <td>0</td>\n",
              "      <td>0</td>\n",
              "      <td>0</td>\n",
              "      <td>0</td>\n",
              "      <td>0</td>\n",
              "      <td>0</td>\n",
              "      <td>0</td>\n",
              "      <td>1</td>\n",
              "    </tr>\n",
              "    <tr>\n",
              "      <th>2</th>\n",
              "      <td>0</td>\n",
              "      <td>0</td>\n",
              "      <td>26</td>\n",
              "      <td>4</td>\n",
              "      <td>20</td>\n",
              "      <td>9</td>\n",
              "      <td>18</td>\n",
              "      <td>16</td>\n",
              "      <td>45</td>\n",
              "      <td>41</td>\n",
              "      <td>1</td>\n",
              "      <td>0</td>\n",
              "      <td>0</td>\n",
              "      <td>0</td>\n",
              "      <td>0</td>\n",
              "      <td>0</td>\n",
              "      <td>0</td>\n",
              "      <td>1</td>\n",
              "      <td>0</td>\n",
              "      <td>0</td>\n",
              "      <td>0</td>\n",
              "      <td>1</td>\n",
              "      <td>0</td>\n",
              "      <td>0</td>\n",
              "      <td>0</td>\n",
              "      <td>0</td>\n",
              "      <td>0</td>\n",
              "    </tr>\n",
              "    <tr>\n",
              "      <th>3</th>\n",
              "      <td>0</td>\n",
              "      <td>0</td>\n",
              "      <td>26</td>\n",
              "      <td>4</td>\n",
              "      <td>20</td>\n",
              "      <td>9</td>\n",
              "      <td>18</td>\n",
              "      <td>16</td>\n",
              "      <td>50</td>\n",
              "      <td>0</td>\n",
              "      <td>1</td>\n",
              "      <td>0</td>\n",
              "      <td>0</td>\n",
              "      <td>0</td>\n",
              "      <td>0</td>\n",
              "      <td>0</td>\n",
              "      <td>0</td>\n",
              "      <td>1</td>\n",
              "      <td>0</td>\n",
              "      <td>0</td>\n",
              "      <td>0</td>\n",
              "      <td>1</td>\n",
              "      <td>0</td>\n",
              "      <td>0</td>\n",
              "      <td>0</td>\n",
              "      <td>0</td>\n",
              "      <td>0</td>\n",
              "    </tr>\n",
              "    <tr>\n",
              "      <th>4</th>\n",
              "      <td>0</td>\n",
              "      <td>0</td>\n",
              "      <td>26</td>\n",
              "      <td>4</td>\n",
              "      <td>20</td>\n",
              "      <td>9</td>\n",
              "      <td>18</td>\n",
              "      <td>16</td>\n",
              "      <td>55</td>\n",
              "      <td>0</td>\n",
              "      <td>1</td>\n",
              "      <td>0</td>\n",
              "      <td>0</td>\n",
              "      <td>0</td>\n",
              "      <td>0</td>\n",
              "      <td>0</td>\n",
              "      <td>0</td>\n",
              "      <td>1</td>\n",
              "      <td>0</td>\n",
              "      <td>0</td>\n",
              "      <td>0</td>\n",
              "      <td>1</td>\n",
              "      <td>0</td>\n",
              "      <td>0</td>\n",
              "      <td>0</td>\n",
              "      <td>0</td>\n",
              "      <td>0</td>\n",
              "    </tr>\n",
              "    <tr>\n",
              "      <th>...</th>\n",
              "      <td>...</td>\n",
              "      <td>...</td>\n",
              "      <td>...</td>\n",
              "      <td>...</td>\n",
              "      <td>...</td>\n",
              "      <td>...</td>\n",
              "      <td>...</td>\n",
              "      <td>...</td>\n",
              "      <td>...</td>\n",
              "      <td>...</td>\n",
              "      <td>...</td>\n",
              "      <td>...</td>\n",
              "      <td>...</td>\n",
              "      <td>...</td>\n",
              "      <td>...</td>\n",
              "      <td>...</td>\n",
              "      <td>...</td>\n",
              "      <td>...</td>\n",
              "      <td>...</td>\n",
              "      <td>...</td>\n",
              "      <td>...</td>\n",
              "      <td>...</td>\n",
              "      <td>...</td>\n",
              "      <td>...</td>\n",
              "      <td>...</td>\n",
              "      <td>...</td>\n",
              "      <td>...</td>\n",
              "    </tr>\n",
              "    <tr>\n",
              "      <th>77217</th>\n",
              "      <td>0</td>\n",
              "      <td>0</td>\n",
              "      <td>26</td>\n",
              "      <td>3</td>\n",
              "      <td>22</td>\n",
              "      <td>1</td>\n",
              "      <td>6</td>\n",
              "      <td>16</td>\n",
              "      <td>40</td>\n",
              "      <td>0</td>\n",
              "      <td>0</td>\n",
              "      <td>0</td>\n",
              "      <td>0</td>\n",
              "      <td>0</td>\n",
              "      <td>1</td>\n",
              "      <td>0</td>\n",
              "      <td>0</td>\n",
              "      <td>0</td>\n",
              "      <td>0</td>\n",
              "      <td>0</td>\n",
              "      <td>1</td>\n",
              "      <td>1</td>\n",
              "      <td>0</td>\n",
              "      <td>0</td>\n",
              "      <td>0</td>\n",
              "      <td>0</td>\n",
              "      <td>0</td>\n",
              "    </tr>\n",
              "    <tr>\n",
              "      <th>77218</th>\n",
              "      <td>0</td>\n",
              "      <td>0</td>\n",
              "      <td>26</td>\n",
              "      <td>3</td>\n",
              "      <td>22</td>\n",
              "      <td>1</td>\n",
              "      <td>6</td>\n",
              "      <td>16</td>\n",
              "      <td>45</td>\n",
              "      <td>0</td>\n",
              "      <td>0</td>\n",
              "      <td>0</td>\n",
              "      <td>0</td>\n",
              "      <td>0</td>\n",
              "      <td>1</td>\n",
              "      <td>0</td>\n",
              "      <td>0</td>\n",
              "      <td>0</td>\n",
              "      <td>0</td>\n",
              "      <td>0</td>\n",
              "      <td>1</td>\n",
              "      <td>1</td>\n",
              "      <td>0</td>\n",
              "      <td>0</td>\n",
              "      <td>0</td>\n",
              "      <td>0</td>\n",
              "      <td>0</td>\n",
              "    </tr>\n",
              "    <tr>\n",
              "      <th>77219</th>\n",
              "      <td>0</td>\n",
              "      <td>0</td>\n",
              "      <td>26</td>\n",
              "      <td>4</td>\n",
              "      <td>22</td>\n",
              "      <td>1</td>\n",
              "      <td>6</td>\n",
              "      <td>16</td>\n",
              "      <td>50</td>\n",
              "      <td>0</td>\n",
              "      <td>0</td>\n",
              "      <td>0</td>\n",
              "      <td>0</td>\n",
              "      <td>0</td>\n",
              "      <td>1</td>\n",
              "      <td>0</td>\n",
              "      <td>0</td>\n",
              "      <td>0</td>\n",
              "      <td>0</td>\n",
              "      <td>0</td>\n",
              "      <td>1</td>\n",
              "      <td>1</td>\n",
              "      <td>0</td>\n",
              "      <td>0</td>\n",
              "      <td>0</td>\n",
              "      <td>0</td>\n",
              "      <td>0</td>\n",
              "    </tr>\n",
              "    <tr>\n",
              "      <th>77220</th>\n",
              "      <td>0</td>\n",
              "      <td>0</td>\n",
              "      <td>26</td>\n",
              "      <td>2</td>\n",
              "      <td>22</td>\n",
              "      <td>1</td>\n",
              "      <td>6</td>\n",
              "      <td>16</td>\n",
              "      <td>55</td>\n",
              "      <td>0</td>\n",
              "      <td>0</td>\n",
              "      <td>0</td>\n",
              "      <td>0</td>\n",
              "      <td>0</td>\n",
              "      <td>1</td>\n",
              "      <td>0</td>\n",
              "      <td>0</td>\n",
              "      <td>0</td>\n",
              "      <td>0</td>\n",
              "      <td>0</td>\n",
              "      <td>1</td>\n",
              "      <td>1</td>\n",
              "      <td>0</td>\n",
              "      <td>0</td>\n",
              "      <td>0</td>\n",
              "      <td>0</td>\n",
              "      <td>0</td>\n",
              "    </tr>\n",
              "    <tr>\n",
              "      <th>77221</th>\n",
              "      <td>0</td>\n",
              "      <td>0</td>\n",
              "      <td>26</td>\n",
              "      <td>3</td>\n",
              "      <td>22</td>\n",
              "      <td>1</td>\n",
              "      <td>6</td>\n",
              "      <td>17</td>\n",
              "      <td>0</td>\n",
              "      <td>0</td>\n",
              "      <td>0</td>\n",
              "      <td>0</td>\n",
              "      <td>0</td>\n",
              "      <td>0</td>\n",
              "      <td>1</td>\n",
              "      <td>0</td>\n",
              "      <td>0</td>\n",
              "      <td>0</td>\n",
              "      <td>0</td>\n",
              "      <td>0</td>\n",
              "      <td>1</td>\n",
              "      <td>1</td>\n",
              "      <td>0</td>\n",
              "      <td>0</td>\n",
              "      <td>0</td>\n",
              "      <td>0</td>\n",
              "      <td>0</td>\n",
              "    </tr>\n",
              "  </tbody>\n",
              "</table>\n",
              "<p>77222 rows × 27 columns</p>\n",
              "</div>\n",
              "      <button class=\"colab-df-convert\" onclick=\"convertToInteractive('df-e75e9f56-e609-4ac9-bb19-8f7005b21375')\"\n",
              "              title=\"Convert this dataframe to an interactive table.\"\n",
              "              style=\"display:none;\">\n",
              "        \n",
              "  <svg xmlns=\"http://www.w3.org/2000/svg\" height=\"24px\"viewBox=\"0 0 24 24\"\n",
              "       width=\"24px\">\n",
              "    <path d=\"M0 0h24v24H0V0z\" fill=\"none\"/>\n",
              "    <path d=\"M18.56 5.44l.94 2.06.94-2.06 2.06-.94-2.06-.94-.94-2.06-.94 2.06-2.06.94zm-11 1L8.5 8.5l.94-2.06 2.06-.94-2.06-.94L8.5 2.5l-.94 2.06-2.06.94zm10 10l.94 2.06.94-2.06 2.06-.94-2.06-.94-.94-2.06-.94 2.06-2.06.94z\"/><path d=\"M17.41 7.96l-1.37-1.37c-.4-.4-.92-.59-1.43-.59-.52 0-1.04.2-1.43.59L10.3 9.45l-7.72 7.72c-.78.78-.78 2.05 0 2.83L4 21.41c.39.39.9.59 1.41.59.51 0 1.02-.2 1.41-.59l7.78-7.78 2.81-2.81c.8-.78.8-2.07 0-2.86zM5.41 20L4 18.59l7.72-7.72 1.47 1.35L5.41 20z\"/>\n",
              "  </svg>\n",
              "      </button>\n",
              "      \n",
              "  <style>\n",
              "    .colab-df-container {\n",
              "      display:flex;\n",
              "      flex-wrap:wrap;\n",
              "      gap: 12px;\n",
              "    }\n",
              "\n",
              "    .colab-df-convert {\n",
              "      background-color: #E8F0FE;\n",
              "      border: none;\n",
              "      border-radius: 50%;\n",
              "      cursor: pointer;\n",
              "      display: none;\n",
              "      fill: #1967D2;\n",
              "      height: 32px;\n",
              "      padding: 0 0 0 0;\n",
              "      width: 32px;\n",
              "    }\n",
              "\n",
              "    .colab-df-convert:hover {\n",
              "      background-color: #E2EBFA;\n",
              "      box-shadow: 0px 1px 2px rgba(60, 64, 67, 0.3), 0px 1px 3px 1px rgba(60, 64, 67, 0.15);\n",
              "      fill: #174EA6;\n",
              "    }\n",
              "\n",
              "    [theme=dark] .colab-df-convert {\n",
              "      background-color: #3B4455;\n",
              "      fill: #D2E3FC;\n",
              "    }\n",
              "\n",
              "    [theme=dark] .colab-df-convert:hover {\n",
              "      background-color: #434B5C;\n",
              "      box-shadow: 0px 1px 3px 1px rgba(0, 0, 0, 0.15);\n",
              "      filter: drop-shadow(0px 1px 2px rgba(0, 0, 0, 0.3));\n",
              "      fill: #FFFFFF;\n",
              "    }\n",
              "  </style>\n",
              "\n",
              "      <script>\n",
              "        const buttonEl =\n",
              "          document.querySelector('#df-e75e9f56-e609-4ac9-bb19-8f7005b21375 button.colab-df-convert');\n",
              "        buttonEl.style.display =\n",
              "          google.colab.kernel.accessAllowed ? 'block' : 'none';\n",
              "\n",
              "        async function convertToInteractive(key) {\n",
              "          const element = document.querySelector('#df-e75e9f56-e609-4ac9-bb19-8f7005b21375');\n",
              "          const dataTable =\n",
              "            await google.colab.kernel.invokeFunction('convertToInteractive',\n",
              "                                                     [key], {});\n",
              "          if (!dataTable) return;\n",
              "\n",
              "          const docLinkHtml = 'Like what you see? Visit the ' +\n",
              "            '<a target=\"_blank\" href=https://colab.research.google.com/notebooks/data_table.ipynb>data table notebook</a>'\n",
              "            + ' to learn more about interactive tables.';\n",
              "          element.innerHTML = '';\n",
              "          dataTable['output_type'] = 'display_data';\n",
              "          await google.colab.output.renderOutput(dataTable, element);\n",
              "          const docLink = document.createElement('div');\n",
              "          docLink.innerHTML = docLinkHtml;\n",
              "          element.appendChild(docLink);\n",
              "        }\n",
              "      </script>\n",
              "    </div>\n",
              "  </div>\n",
              "  "
            ],
            "text/plain": [
              "       holiday  weekend  station_name  ...  lunch  morning  night\n",
              "0            0        0            26  ...      0        0      1\n",
              "1            0        0            26  ...      0        0      1\n",
              "2            0        0            26  ...      0        0      0\n",
              "3            0        0            26  ...      0        0      0\n",
              "4            0        0            26  ...      0        0      0\n",
              "...        ...      ...           ...  ...    ...      ...    ...\n",
              "77217        0        0            26  ...      0        0      0\n",
              "77218        0        0            26  ...      0        0      0\n",
              "77219        0        0            26  ...      0        0      0\n",
              "77220        0        0            26  ...      0        0      0\n",
              "77221        0        0            26  ...      0        0      0\n",
              "\n",
              "[77222 rows x 27 columns]"
            ]
          },
          "metadata": {},
          "execution_count": 27
        }
      ]
    },
    {
      "cell_type": "code",
      "source": [
        ""
      ],
      "metadata": {
        "id": "PEbzFxiev1A5"
      },
      "execution_count": null,
      "outputs": []
    },
    {
      "cell_type": "markdown",
      "source": [
        "MICE"
      ],
      "metadata": {
        "id": "UL0iEXSOt17N"
      }
    },
    {
      "cell_type": "code",
      "source": [
        "!pip3 install impyute"
      ],
      "metadata": {
        "colab": {
          "base_uri": "https://localhost:8080/"
        },
        "id": "Hvu3uergrpAc",
        "outputId": "4c4c7aa5-ca27-482b-ef08-8a80a375aa66"
      },
      "execution_count": null,
      "outputs": [
        {
          "output_type": "stream",
          "name": "stdout",
          "text": [
            "Collecting impyute\n",
            "  Downloading impyute-0.0.8-py2.py3-none-any.whl (31 kB)\n",
            "Requirement already satisfied: numpy in /usr/local/lib/python3.7/dist-packages (from impyute) (1.19.5)\n",
            "Requirement already satisfied: scikit-learn in /usr/local/lib/python3.7/dist-packages (from impyute) (1.0.2)\n",
            "Requirement already satisfied: scipy in /usr/local/lib/python3.7/dist-packages (from impyute) (1.4.1)\n",
            "Requirement already satisfied: threadpoolctl>=2.0.0 in /usr/local/lib/python3.7/dist-packages (from scikit-learn->impyute) (3.1.0)\n",
            "Requirement already satisfied: joblib>=0.11 in /usr/local/lib/python3.7/dist-packages (from scikit-learn->impyute) (1.1.0)\n",
            "Installing collected packages: impyute\n",
            "Successfully installed impyute-0.0.8\n"
          ]
        }
      ]
    },
    {
      "cell_type": "code",
      "source": [
        "#다른 컬럼 상관관계 파악 필요\n",
        "df_null_mice = df_raw_data3"
      ],
      "metadata": {
        "id": "cjYhrTHg8K5U"
      },
      "execution_count": null,
      "outputs": []
    },
    {
      "cell_type": "code",
      "source": [
        "#df_null_mice.info()"
      ],
      "metadata": {
        "id": "enwbe-rx0tNg"
      },
      "execution_count": null,
      "outputs": []
    },
    {
      "cell_type": "code",
      "source": [
        "from impyute.imputation.cs import mice\n",
        "imp_mice = mice(df_null_mice.values) # mice 학습시작\n",
        "df_mice = pd.DataFrame(imp_mice, columns=df_null_mice.columns)"
      ],
      "metadata": {
        "id": "vnP-K_bKfh6B"
      },
      "execution_count": null,
      "outputs": []
    },
    {
      "cell_type": "code",
      "source": [
        "df_mice['temperature'].plot()"
      ],
      "metadata": {
        "colab": {
          "base_uri": "https://localhost:8080/",
          "height": 283
        },
        "id": "vG8eJHEefhzb",
        "outputId": "5dfe8e98-797e-42de-cbad-d01207068945"
      },
      "execution_count": null,
      "outputs": [
        {
          "output_type": "execute_result",
          "data": {
            "text/plain": [
              "<matplotlib.axes._subplots.AxesSubplot at 0x7f7a2c639b50>"
            ]
          },
          "metadata": {},
          "execution_count": 32
        },
        {
          "output_type": "display_data",
          "data": {
            "image/png": "[encoded data removed]",
            "text/plain": [
              "<Figure size 432x288 with 1 Axes>"
            ]
          },
          "metadata": {
            "needs_background": "light"
          }
        }
      ]
    },
    {
      "cell_type": "code",
      "source": [
        "# subplot 적용\n",
        "fig = plt.figure(figsize = (20, 8))\n",
        "chart = fig.add_subplot(1,1,1)\n",
        "\n",
        "chart.plot(df_mice['temperature'], color='gray' , label='MICE')\n",
        "chart.plot(df_raw_data3['temperature'], color='red' , label='raw data')\n",
        "plt.legend(loc = 'best')"
      ],
      "metadata": {
        "colab": {
          "base_uri": "https://localhost:8080/",
          "height": 483
        },
        "id": "oeyj2Lrlfhv7",
        "outputId": "22860c3d-97d4-4423-b395-eb21eedbf8fb"
      },
      "execution_count": null,
      "outputs": [
        {
          "output_type": "execute_result",
          "data": {
            "text/plain": [
              "<matplotlib.legend.Legend at 0x7f7a2c5d4dd0>"
            ]
          },
          "metadata": {},
          "execution_count": 33
        },
        {
          "output_type": "display_data",
          "data": {
            "image/png": "[encoded data removed]",
            "text/plain": [
              "<Figure size 1440x576 with 1 Axes>"
            ]
          },
          "metadata": {
            "needs_background": "light"
          }
        }
      ]
    },
    {
      "cell_type": "code",
      "source": [
        "# subplot 적용\n",
        "plt.figure(figsize = (20, 8))\n",
        "\n",
        "chart1 = plt.subplot(2,2,1)\n",
        "plt.plot(df_mice['precipitation'], color='gray' , label='MICE')\n",
        "plt.plot(df_raw_data2['precipitation'], color='red' , label='raw data')\n",
        "plt.ylabel('precipitation')\n",
        "\n",
        "chart2 = plt.subplot(2,2,2)\n",
        "plt.plot(df_mice['temperature'], color='gray' , label='MICE')\n",
        "plt.plot(df_raw_data2['temperature'], color='red' , label='raw data')\n",
        "plt.ylabel('temperature')\n",
        "\n",
        "chart3 = plt.subplot(2,2,3)\n",
        "plt.plot(df_mice['humid'], color='gray' , label='MICE')\n",
        "plt.plot(df_raw_data2['humid'], color='red' , label='raw data')\n",
        "plt.ylabel('humid')\n",
        "\n",
        "chart3 = plt.subplot(2,2,4)\n",
        "plt.plot(df_mice['precipitation_type'], color='gray' , label='MICE')\n",
        "plt.plot(df_raw_data2['precipitation_type'], color='red' , label='raw data')\n",
        "plt.ylabel('precipitation_type')\n",
        "\n",
        "#chart.plot(roll_mean20, color='pink' , label='')\n",
        "plt.legend(loc = 'lower right')\n",
        "plt.tight_layout()\n",
        "plt.show()"
      ],
      "metadata": {
        "colab": {
          "base_uri": "https://localhost:8080/",
          "height": 459
        },
        "id": "4FMpRkYYfhsD",
        "outputId": "0616b8c3-0def-44bb-dd2d-4b6a25725d45"
      },
      "execution_count": null,
      "outputs": [
        {
          "output_type": "display_data",
          "data": {
            "image/png": "[encoded data removed]",
            "text/plain": [
              "<Figure size 1440x576 with 4 Axes>"
            ]
          },
          "metadata": {
            "needs_background": "light"
          }
        }
      ]
    },
    {
      "cell_type": "code",
      "source": [
        "CURR_PATH = os.getcwd()\n",
        "\n",
        "os.listdir(CURR_PATH)\n",
        "#DATA_PATH = os.path.join(CURR_PATH,'data_set')\n",
        "SAVE_PATH = CURR_PATH + '/drive/MyDrive/Colab Notebooks/data_set/data_imputation_MICE.csv'"
      ],
      "metadata": {
        "id": "j3n4ZKjUCtr3"
      },
      "execution_count": null,
      "outputs": []
    },
    {
      "cell_type": "code",
      "source": [
        "df_mice.to_csv(SAVE_PATH, index=False)"
      ],
      "metadata": {
        "id": "RdZZ1-w4CW2S"
      },
      "execution_count": null,
      "outputs": []
    },
    {
      "cell_type": "code",
      "source": [
        ""
      ],
      "metadata": {
        "id": "FYcCaD3PwIUu"
      },
      "execution_count": null,
      "outputs": []
    },
    {
      "cell_type": "markdown",
      "source": [
        "#성능평가 - MICE"
      ],
      "metadata": {
        "id": "YIZwu_LAjkDk"
      }
    },
    {
      "cell_type": "markdown",
      "source": [
        "모델 적용"
      ],
      "metadata": {
        "id": "2UZvpRr6jljr"
      }
    },
    {
      "cell_type": "code",
      "source": [
        "df_raw_data3"
      ],
      "metadata": {
        "colab": {
          "base_uri": "https://localhost:8080/",
          "height": 487
        },
        "id": "t0sjx9-Y_Yys",
        "outputId": "b8d3c298-0076-4d3c-d1fd-dcefe4a9f183"
      },
      "execution_count": null,
      "outputs": [
        {
          "output_type": "execute_result",
          "data": {
            "text/html": [
              "\n",
              "  <div id=\"df-1fcf214b-5b5e-441c-91f2-b7bba1948da3\">\n",
              "    <div class=\"colab-df-container\">\n",
              "      <div>\n",
              "<style scoped>\n",
              "    .dataframe tbody tr th:only-of-type {\n",
              "        vertical-align: middle;\n",
              "    }\n",
              "\n",
              "    .dataframe tbody tr th {\n",
              "        vertical-align: top;\n",
              "    }\n",
              "\n",
              "    .dataframe thead th {\n",
              "        text-align: right;\n",
              "    }\n",
              "</style>\n",
              "<table border=\"1\" class=\"dataframe\">\n",
              "  <thead>\n",
              "    <tr style=\"text-align: right;\">\n",
              "      <th></th>\n",
              "      <th>holiday</th>\n",
              "      <th>weekend</th>\n",
              "      <th>precipitation_type</th>\n",
              "      <th>temperature</th>\n",
              "      <th>station_name</th>\n",
              "      <th>precipitation</th>\n",
              "      <th>total_car_num</th>\n",
              "      <th>humid</th>\n",
              "      <th>year</th>\n",
              "      <th>month</th>\n",
              "      <th>day</th>\n",
              "      <th>hour</th>\n",
              "      <th>minute</th>\n",
              "      <th>second</th>\n",
              "      <th>fri</th>\n",
              "      <th>mon</th>\n",
              "      <th>sat</th>\n",
              "      <th>sun</th>\n",
              "      <th>thu</th>\n",
              "      <th>tue</th>\n",
              "      <th>wen</th>\n",
              "      <th>autumn</th>\n",
              "      <th>spring</th>\n",
              "      <th>summer</th>\n",
              "      <th>winter</th>\n",
              "      <th>afternoon</th>\n",
              "      <th>dawn</th>\n",
              "      <th>dinner</th>\n",
              "      <th>lunch</th>\n",
              "      <th>morning</th>\n",
              "      <th>night</th>\n",
              "    </tr>\n",
              "  </thead>\n",
              "  <tbody>\n",
              "    <tr>\n",
              "      <th>0</th>\n",
              "      <td>0</td>\n",
              "      <td>0</td>\n",
              "      <td>0.0</td>\n",
              "      <td>23.0</td>\n",
              "      <td>26</td>\n",
              "      <td>0.0</td>\n",
              "      <td>2</td>\n",
              "      <td>52.0</td>\n",
              "      <td>20</td>\n",
              "      <td>9</td>\n",
              "      <td>17</td>\n",
              "      <td>21</td>\n",
              "      <td>20</td>\n",
              "      <td>28</td>\n",
              "      <td>0</td>\n",
              "      <td>0</td>\n",
              "      <td>0</td>\n",
              "      <td>0</td>\n",
              "      <td>1</td>\n",
              "      <td>0</td>\n",
              "      <td>0</td>\n",
              "      <td>1</td>\n",
              "      <td>0</td>\n",
              "      <td>0</td>\n",
              "      <td>0</td>\n",
              "      <td>0</td>\n",
              "      <td>0</td>\n",
              "      <td>0</td>\n",
              "      <td>0</td>\n",
              "      <td>0</td>\n",
              "      <td>1</td>\n",
              "    </tr>\n",
              "    <tr>\n",
              "      <th>1</th>\n",
              "      <td>0</td>\n",
              "      <td>0</td>\n",
              "      <td>0.0</td>\n",
              "      <td>23.0</td>\n",
              "      <td>26</td>\n",
              "      <td>0.0</td>\n",
              "      <td>3</td>\n",
              "      <td>52.0</td>\n",
              "      <td>20</td>\n",
              "      <td>9</td>\n",
              "      <td>17</td>\n",
              "      <td>21</td>\n",
              "      <td>38</td>\n",
              "      <td>8</td>\n",
              "      <td>0</td>\n",
              "      <td>0</td>\n",
              "      <td>0</td>\n",
              "      <td>0</td>\n",
              "      <td>1</td>\n",
              "      <td>0</td>\n",
              "      <td>0</td>\n",
              "      <td>1</td>\n",
              "      <td>0</td>\n",
              "      <td>0</td>\n",
              "      <td>0</td>\n",
              "      <td>0</td>\n",
              "      <td>0</td>\n",
              "      <td>0</td>\n",
              "      <td>0</td>\n",
              "      <td>0</td>\n",
              "      <td>1</td>\n",
              "    </tr>\n",
              "    <tr>\n",
              "      <th>2</th>\n",
              "      <td>0</td>\n",
              "      <td>0</td>\n",
              "      <td>0.0</td>\n",
              "      <td>25.3</td>\n",
              "      <td>26</td>\n",
              "      <td>0.0</td>\n",
              "      <td>4</td>\n",
              "      <td>38.0</td>\n",
              "      <td>20</td>\n",
              "      <td>9</td>\n",
              "      <td>18</td>\n",
              "      <td>16</td>\n",
              "      <td>45</td>\n",
              "      <td>41</td>\n",
              "      <td>1</td>\n",
              "      <td>0</td>\n",
              "      <td>0</td>\n",
              "      <td>0</td>\n",
              "      <td>0</td>\n",
              "      <td>0</td>\n",
              "      <td>0</td>\n",
              "      <td>1</td>\n",
              "      <td>0</td>\n",
              "      <td>0</td>\n",
              "      <td>0</td>\n",
              "      <td>1</td>\n",
              "      <td>0</td>\n",
              "      <td>0</td>\n",
              "      <td>0</td>\n",
              "      <td>0</td>\n",
              "      <td>0</td>\n",
              "    </tr>\n",
              "    <tr>\n",
              "      <th>3</th>\n",
              "      <td>0</td>\n",
              "      <td>0</td>\n",
              "      <td>0.0</td>\n",
              "      <td>25.3</td>\n",
              "      <td>26</td>\n",
              "      <td>0.0</td>\n",
              "      <td>4</td>\n",
              "      <td>38.0</td>\n",
              "      <td>20</td>\n",
              "      <td>9</td>\n",
              "      <td>18</td>\n",
              "      <td>16</td>\n",
              "      <td>50</td>\n",
              "      <td>0</td>\n",
              "      <td>1</td>\n",
              "      <td>0</td>\n",
              "      <td>0</td>\n",
              "      <td>0</td>\n",
              "      <td>0</td>\n",
              "      <td>0</td>\n",
              "      <td>0</td>\n",
              "      <td>1</td>\n",
              "      <td>0</td>\n",
              "      <td>0</td>\n",
              "      <td>0</td>\n",
              "      <td>1</td>\n",
              "      <td>0</td>\n",
              "      <td>0</td>\n",
              "      <td>0</td>\n",
              "      <td>0</td>\n",
              "      <td>0</td>\n",
              "    </tr>\n",
              "    <tr>\n",
              "      <th>4</th>\n",
              "      <td>0</td>\n",
              "      <td>0</td>\n",
              "      <td>0.0</td>\n",
              "      <td>25.3</td>\n",
              "      <td>26</td>\n",
              "      <td>0.0</td>\n",
              "      <td>4</td>\n",
              "      <td>38.0</td>\n",
              "      <td>20</td>\n",
              "      <td>9</td>\n",
              "      <td>18</td>\n",
              "      <td>16</td>\n",
              "      <td>55</td>\n",
              "      <td>0</td>\n",
              "      <td>1</td>\n",
              "      <td>0</td>\n",
              "      <td>0</td>\n",
              "      <td>0</td>\n",
              "      <td>0</td>\n",
              "      <td>0</td>\n",
              "      <td>0</td>\n",
              "      <td>1</td>\n",
              "      <td>0</td>\n",
              "      <td>0</td>\n",
              "      <td>0</td>\n",
              "      <td>1</td>\n",
              "      <td>0</td>\n",
              "      <td>0</td>\n",
              "      <td>0</td>\n",
              "      <td>0</td>\n",
              "      <td>0</td>\n",
              "    </tr>\n",
              "    <tr>\n",
              "      <th>...</th>\n",
              "      <td>...</td>\n",
              "      <td>...</td>\n",
              "      <td>...</td>\n",
              "      <td>...</td>\n",
              "      <td>...</td>\n",
              "      <td>...</td>\n",
              "      <td>...</td>\n",
              "      <td>...</td>\n",
              "      <td>...</td>\n",
              "      <td>...</td>\n",
              "      <td>...</td>\n",
              "      <td>...</td>\n",
              "      <td>...</td>\n",
              "      <td>...</td>\n",
              "      <td>...</td>\n",
              "      <td>...</td>\n",
              "      <td>...</td>\n",
              "      <td>...</td>\n",
              "      <td>...</td>\n",
              "      <td>...</td>\n",
              "      <td>...</td>\n",
              "      <td>...</td>\n",
              "      <td>...</td>\n",
              "      <td>...</td>\n",
              "      <td>...</td>\n",
              "      <td>...</td>\n",
              "      <td>...</td>\n",
              "      <td>...</td>\n",
              "      <td>...</td>\n",
              "      <td>...</td>\n",
              "      <td>...</td>\n",
              "    </tr>\n",
              "    <tr>\n",
              "      <th>77217</th>\n",
              "      <td>0</td>\n",
              "      <td>0</td>\n",
              "      <td>NaN</td>\n",
              "      <td>NaN</td>\n",
              "      <td>26</td>\n",
              "      <td>NaN</td>\n",
              "      <td>3</td>\n",
              "      <td>NaN</td>\n",
              "      <td>22</td>\n",
              "      <td>1</td>\n",
              "      <td>6</td>\n",
              "      <td>16</td>\n",
              "      <td>40</td>\n",
              "      <td>0</td>\n",
              "      <td>0</td>\n",
              "      <td>0</td>\n",
              "      <td>0</td>\n",
              "      <td>0</td>\n",
              "      <td>1</td>\n",
              "      <td>0</td>\n",
              "      <td>0</td>\n",
              "      <td>0</td>\n",
              "      <td>0</td>\n",
              "      <td>0</td>\n",
              "      <td>1</td>\n",
              "      <td>1</td>\n",
              "      <td>0</td>\n",
              "      <td>0</td>\n",
              "      <td>0</td>\n",
              "      <td>0</td>\n",
              "      <td>0</td>\n",
              "    </tr>\n",
              "    <tr>\n",
              "      <th>77218</th>\n",
              "      <td>0</td>\n",
              "      <td>0</td>\n",
              "      <td>NaN</td>\n",
              "      <td>NaN</td>\n",
              "      <td>26</td>\n",
              "      <td>NaN</td>\n",
              "      <td>3</td>\n",
              "      <td>NaN</td>\n",
              "      <td>22</td>\n",
              "      <td>1</td>\n",
              "      <td>6</td>\n",
              "      <td>16</td>\n",
              "      <td>45</td>\n",
              "      <td>0</td>\n",
              "      <td>0</td>\n",
              "      <td>0</td>\n",
              "      <td>0</td>\n",
              "      <td>0</td>\n",
              "      <td>1</td>\n",
              "      <td>0</td>\n",
              "      <td>0</td>\n",
              "      <td>0</td>\n",
              "      <td>0</td>\n",
              "      <td>0</td>\n",
              "      <td>1</td>\n",
              "      <td>1</td>\n",
              "      <td>0</td>\n",
              "      <td>0</td>\n",
              "      <td>0</td>\n",
              "      <td>0</td>\n",
              "      <td>0</td>\n",
              "    </tr>\n",
              "    <tr>\n",
              "      <th>77219</th>\n",
              "      <td>0</td>\n",
              "      <td>0</td>\n",
              "      <td>NaN</td>\n",
              "      <td>NaN</td>\n",
              "      <td>26</td>\n",
              "      <td>NaN</td>\n",
              "      <td>4</td>\n",
              "      <td>NaN</td>\n",
              "      <td>22</td>\n",
              "      <td>1</td>\n",
              "      <td>6</td>\n",
              "      <td>16</td>\n",
              "      <td>50</td>\n",
              "      <td>0</td>\n",
              "      <td>0</td>\n",
              "      <td>0</td>\n",
              "      <td>0</td>\n",
              "      <td>0</td>\n",
              "      <td>1</td>\n",
              "      <td>0</td>\n",
              "      <td>0</td>\n",
              "      <td>0</td>\n",
              "      <td>0</td>\n",
              "      <td>0</td>\n",
              "      <td>1</td>\n",
              "      <td>1</td>\n",
              "      <td>0</td>\n",
              "      <td>0</td>\n",
              "      <td>0</td>\n",
              "      <td>0</td>\n",
              "      <td>0</td>\n",
              "    </tr>\n",
              "    <tr>\n",
              "      <th>77220</th>\n",
              "      <td>0</td>\n",
              "      <td>0</td>\n",
              "      <td>NaN</td>\n",
              "      <td>NaN</td>\n",
              "      <td>26</td>\n",
              "      <td>NaN</td>\n",
              "      <td>2</td>\n",
              "      <td>NaN</td>\n",
              "      <td>22</td>\n",
              "      <td>1</td>\n",
              "      <td>6</td>\n",
              "      <td>16</td>\n",
              "      <td>55</td>\n",
              "      <td>0</td>\n",
              "      <td>0</td>\n",
              "      <td>0</td>\n",
              "      <td>0</td>\n",
              "      <td>0</td>\n",
              "      <td>1</td>\n",
              "      <td>0</td>\n",
              "      <td>0</td>\n",
              "      <td>0</td>\n",
              "      <td>0</td>\n",
              "      <td>0</td>\n",
              "      <td>1</td>\n",
              "      <td>1</td>\n",
              "      <td>0</td>\n",
              "      <td>0</td>\n",
              "      <td>0</td>\n",
              "      <td>0</td>\n",
              "      <td>0</td>\n",
              "    </tr>\n",
              "    <tr>\n",
              "      <th>77221</th>\n",
              "      <td>0</td>\n",
              "      <td>0</td>\n",
              "      <td>NaN</td>\n",
              "      <td>NaN</td>\n",
              "      <td>26</td>\n",
              "      <td>NaN</td>\n",
              "      <td>3</td>\n",
              "      <td>NaN</td>\n",
              "      <td>22</td>\n",
              "      <td>1</td>\n",
              "      <td>6</td>\n",
              "      <td>17</td>\n",
              "      <td>0</td>\n",
              "      <td>0</td>\n",
              "      <td>0</td>\n",
              "      <td>0</td>\n",
              "      <td>0</td>\n",
              "      <td>0</td>\n",
              "      <td>1</td>\n",
              "      <td>0</td>\n",
              "      <td>0</td>\n",
              "      <td>0</td>\n",
              "      <td>0</td>\n",
              "      <td>0</td>\n",
              "      <td>1</td>\n",
              "      <td>1</td>\n",
              "      <td>0</td>\n",
              "      <td>0</td>\n",
              "      <td>0</td>\n",
              "      <td>0</td>\n",
              "      <td>0</td>\n",
              "    </tr>\n",
              "  </tbody>\n",
              "</table>\n",
              "<p>77222 rows × 31 columns</p>\n",
              "</div>\n",
              "      <button class=\"colab-df-convert\" onclick=\"convertToInteractive('df-1fcf214b-5b5e-441c-91f2-b7bba1948da3')\"\n",
              "              title=\"Convert this dataframe to an interactive table.\"\n",
              "              style=\"display:none;\">\n",
              "        \n",
              "  <svg xmlns=\"http://www.w3.org/2000/svg\" height=\"24px\"viewBox=\"0 0 24 24\"\n",
              "       width=\"24px\">\n",
              "    <path d=\"M0 0h24v24H0V0z\" fill=\"none\"/>\n",
              "    <path d=\"M18.56 5.44l.94 2.06.94-2.06 2.06-.94-2.06-.94-.94-2.06-.94 2.06-2.06.94zm-11 1L8.5 8.5l.94-2.06 2.06-.94-2.06-.94L8.5 2.5l-.94 2.06-2.06.94zm10 10l.94 2.06.94-2.06 2.06-.94-2.06-.94-.94-2.06-.94 2.06-2.06.94z\"/><path d=\"M17.41 7.96l-1.37-1.37c-.4-.4-.92-.59-1.43-.59-.52 0-1.04.2-1.43.59L10.3 9.45l-7.72 7.72c-.78.78-.78 2.05 0 2.83L4 21.41c.39.39.9.59 1.41.59.51 0 1.02-.2 1.41-.59l7.78-7.78 2.81-2.81c.8-.78.8-2.07 0-2.86zM5.41 20L4 18.59l7.72-7.72 1.47 1.35L5.41 20z\"/>\n",
              "  </svg>\n",
              "      </button>\n",
              "      \n",
              "  <style>\n",
              "    .colab-df-container {\n",
              "      display:flex;\n",
              "      flex-wrap:wrap;\n",
              "      gap: 12px;\n",
              "    }\n",
              "\n",
              "    .colab-df-convert {\n",
              "      background-color: #E8F0FE;\n",
              "      border: none;\n",
              "      border-radius: 50%;\n",
              "      cursor: pointer;\n",
              "      display: none;\n",
              "      fill: #1967D2;\n",
              "      height: 32px;\n",
              "      padding: 0 0 0 0;\n",
              "      width: 32px;\n",
              "    }\n",
              "\n",
              "    .colab-df-convert:hover {\n",
              "      background-color: #E2EBFA;\n",
              "      box-shadow: 0px 1px 2px rgba(60, 64, 67, 0.3), 0px 1px 3px 1px rgba(60, 64, 67, 0.15);\n",
              "      fill: #174EA6;\n",
              "    }\n",
              "\n",
              "    [theme=dark] .colab-df-convert {\n",
              "      background-color: #3B4455;\n",
              "      fill: #D2E3FC;\n",
              "    }\n",
              "\n",
              "    [theme=dark] .colab-df-convert:hover {\n",
              "      background-color: #434B5C;\n",
              "      box-shadow: 0px 1px 3px 1px rgba(0, 0, 0, 0.15);\n",
              "      filter: drop-shadow(0px 1px 2px rgba(0, 0, 0, 0.3));\n",
              "      fill: #FFFFFF;\n",
              "    }\n",
              "  </style>\n",
              "\n",
              "      <script>\n",
              "        const buttonEl =\n",
              "          document.querySelector('#df-1fcf214b-5b5e-441c-91f2-b7bba1948da3 button.colab-df-convert');\n",
              "        buttonEl.style.display =\n",
              "          google.colab.kernel.accessAllowed ? 'block' : 'none';\n",
              "\n",
              "        async function convertToInteractive(key) {\n",
              "          const element = document.querySelector('#df-1fcf214b-5b5e-441c-91f2-b7bba1948da3');\n",
              "          const dataTable =\n",
              "            await google.colab.kernel.invokeFunction('convertToInteractive',\n",
              "                                                     [key], {});\n",
              "          if (!dataTable) return;\n",
              "\n",
              "          const docLinkHtml = 'Like what you see? Visit the ' +\n",
              "            '<a target=\"_blank\" href=https://colab.research.google.com/notebooks/data_table.ipynb>data table notebook</a>'\n",
              "            + ' to learn more about interactive tables.';\n",
              "          element.innerHTML = '';\n",
              "          dataTable['output_type'] = 'display_data';\n",
              "          await google.colab.output.renderOutput(dataTable, element);\n",
              "          const docLink = document.createElement('div');\n",
              "          docLink.innerHTML = docLinkHtml;\n",
              "          element.appendChild(docLink);\n",
              "        }\n",
              "      </script>\n",
              "    </div>\n",
              "  </div>\n",
              "  "
            ],
            "text/plain": [
              "       holiday  weekend  precipitation_type  ...  lunch  morning  night\n",
              "0            0        0                 0.0  ...      0        0      1\n",
              "1            0        0                 0.0  ...      0        0      1\n",
              "2            0        0                 0.0  ...      0        0      0\n",
              "3            0        0                 0.0  ...      0        0      0\n",
              "4            0        0                 0.0  ...      0        0      0\n",
              "...        ...      ...                 ...  ...    ...      ...    ...\n",
              "77217        0        0                 NaN  ...      0        0      0\n",
              "77218        0        0                 NaN  ...      0        0      0\n",
              "77219        0        0                 NaN  ...      0        0      0\n",
              "77220        0        0                 NaN  ...      0        0      0\n",
              "77221        0        0                 NaN  ...      0        0      0\n",
              "\n",
              "[77222 rows x 31 columns]"
            ]
          },
          "metadata": {},
          "execution_count": 35
        }
      ]
    },
    {
      "cell_type": "code",
      "source": [
        "df_raw_data3 = df_raw_data3[['total_car_num','holiday','weekend','precipitation_type','temperature','station_name','precipitation','humid','year','month','day','hour','minute','second','fri','mon','sat','sun','thu','tue','wen','autumn','spring','summer','winter','afternoon','dawn','dinner','lunch','morning','night']]"
      ],
      "metadata": {
        "id": "7jn3FGtHCfrO"
      },
      "execution_count": null,
      "outputs": []
    },
    {
      "cell_type": "code",
      "source": [
        ""
      ],
      "metadata": {
        "id": "0ueOjvJnkfqS"
      },
      "execution_count": null,
      "outputs": []
    },
    {
      "cell_type": "code",
      "source": [
        "df_new = df_mice\n",
        "df_new = df_new[['total_car_num','holiday','weekend','precipitation_type','temperature','station_name','precipitation','humid','year','month','day','hour','minute','second','fri','mon','sat','sun','thu','tue','wen','autumn','spring','summer','winter','afternoon','dawn','dinner','lunch','morning','night']]"
      ],
      "metadata": {
        "id": "E4BLPkwyjGEC"
      },
      "execution_count": null,
      "outputs": []
    },
    {
      "cell_type": "code",
      "source": [
        "X, y = df_new.iloc[:, 1:].values, df_new.iloc[:, :1].values\n",
        "y = y. flatten()\n",
        "X_train, X_test, y_train, y_test = train_test_split(X, y, \n",
        "                                                    test_size = 0.2, \n",
        "                                                    random_state = 0,\n",
        "                                                    stratify = y)\n",
        "\n",
        "print('X_rain :', X_train)\n",
        "print('X_test :', X_test)\n",
        "print('y_train :', y_train)\n",
        "print('y_test :', y_test)"
      ],
      "metadata": {
        "colab": {
          "base_uri": "https://localhost:8080/"
        },
        "id": "8-fu9sy4kUar",
        "outputId": "e249a71b-e11f-4449-fb86-5a0899dd16e7"
      },
      "execution_count": null,
      "outputs": [
        {
          "output_type": "stream",
          "name": "stdout",
          "text": [
            "X_rain : [[0.         0.         0.00184082 ... 0.         0.         1.        ]\n",
            " [0.         0.         0.         ... 0.         0.         1.        ]\n",
            " [0.         0.         0.         ... 0.         0.         1.        ]\n",
            " ...\n",
            " [0.         0.         0.         ... 0.         1.         0.        ]\n",
            " [0.         1.         0.18761215 ... 0.         0.         1.        ]\n",
            " [0.         1.         0.03763229 ... 1.         0.         0.        ]]\n",
            "X_test : [[0. 0. 0. ... 0. 0. 1.]\n",
            " [0. 0. 0. ... 0. 1. 0.]\n",
            " [0. 0. 0. ... 0. 0. 1.]\n",
            " ...\n",
            " [1. 1. 0. ... 0. 0. 0.]\n",
            " [0. 1. 0. ... 0. 0. 0.]\n",
            " [0. 0. 0. ... 0. 0. 1.]]\n",
            "y_train : [0. 4. 1. ... 0. 0. 4.]\n",
            "y_test : [3. 0. 0. ... 2. 1. 0.]\n"
          ]
        }
      ]
    },
    {
      "cell_type": "code",
      "source": [
        "X_train_t = X_train.reshape(X_train.shape[0], 30, 1)\n",
        "X_test_t = X_test.reshape(X_test.shape[0], 30, 1)\n",
        "\n",
        "print(\"최종 DATA\")\n",
        "print(X_train_t.shape)"
      ],
      "metadata": {
        "colab": {
          "base_uri": "https://localhost:8080/"
        },
        "id": "nmawmSeR2RyF",
        "outputId": "d6569fd4-a651-409d-9358-cc4da02b586a"
      },
      "execution_count": 78,
      "outputs": [
        {
          "output_type": "stream",
          "name": "stdout",
          "text": [
            "최종 DATA\n",
            "(61777, 30, 1)\n"
          ]
        }
      ]
    },
    {
      "cell_type": "markdown",
      "source": [
        "##1. GRU1,Dense1,adam"
      ],
      "metadata": {
        "id": "r4U7fniqjEss"
      }
    },
    {
      "cell_type": "code",
      "source": [
        "import tensorflow as tf\n",
        "from keras.models import Sequential \n",
        "from keras.layers import Dense \n",
        "import keras.backend as K \n",
        "from keras.callbacks import EarlyStopping\n",
        "from keras.layers.recurrent_v2 import GRU\n",
        "\n",
        "from sklearn.metrics import mean_squared_error\n",
        "from sklearn.metrics import r2_score\n",
        "\n",
        "K.clear_session()\n",
        "    \n",
        "model_gru = Sequential() # Sequeatial Model \n",
        "model_gru.add(GRU(units=128,input_shape=(30, 1)))\n",
        "model_gru.add(Dense(1)) # output = 1 \n",
        "#model_gru.compile(loss='mean_squared_error', optimizer='adam', metrics=['mean_squared_error', 'r2_score'])\n",
        "model_gru.compile(loss='mean_squared_error', optimizer='adam', metrics='mean_squared_error') \n",
        "model_gru.summary()"
      ],
      "metadata": {
        "colab": {
          "base_uri": "https://localhost:8080/"
        },
        "id": "gIiN9ZuoktLE",
        "outputId": "d2d15ca1-d852-4250-d04b-3194b85beaaa"
      },
      "execution_count": 79,
      "outputs": [
        {
          "output_type": "stream",
          "name": "stdout",
          "text": [
            "Model: \"sequential\"\n",
            "_________________________________________________________________\n",
            " Layer (type)                Output Shape              Param #   \n",
            "=================================================================\n",
            " gru (GRU)                   (None, 128)               50304     \n",
            "                                                                 \n",
            " dense (Dense)               (None, 1)                 129       \n",
            "                                                                 \n",
            "=================================================================\n",
            "Total params: 50,433\n",
            "Trainable params: 50,433\n",
            "Non-trainable params: 0\n",
            "_________________________________________________________________\n"
          ]
        }
      ]
    },
    {
      "cell_type": "code",
      "source": [
        "tf.keras.utils.plot_model(\n",
        "    model=model_gru, to_file=\"gru_model.png\", show_shapes=False, rankdir=\"LR\")"
      ],
      "metadata": {
        "colab": {
          "base_uri": "https://localhost:8080/",
          "height": 90
        },
        "id": "m6WhGmrokvLu",
        "outputId": "64072d5e-dd29-4b88-ef44-009f47f0ea3c"
      },
      "execution_count": null,
      "outputs": [
        {
          "output_type": "execute_result",
          "data": {
            "image/png": "[encoded data removed]",
            "text/plain": [
              "<IPython.core.display.Image object>"
            ]
          },
          "metadata": {},
          "execution_count": 41
        }
      ]
    },
    {
      "cell_type": "code",
      "source": [
        "early_stop = EarlyStopping(monitor='loss', patience=1, verbose=1)\n",
        "\n",
        "hist_mice = model_gru.fit(X_train_t, y_train, epochs=100, \n",
        "                     batch_size=32, verbose=1, callbacks=[early_stop])"
      ],
      "metadata": {
        "colab": {
          "base_uri": "https://localhost:8080/"
        },
        "id": "ueTeKBj9k3eO",
        "outputId": "e3e61cc6-0ab1-4297-f501-591d3dc7612c"
      },
      "execution_count": null,
      "outputs": [
        {
          "output_type": "stream",
          "name": "stdout",
          "text": [
            "Epoch 1/100\n",
            "1931/1931 [==============================] - 50s 24ms/step - loss: 2.1295 - mean_squared_error: 2.1295\n",
            "Epoch 2/100\n",
            "1931/1931 [==============================] - 40s 21ms/step - loss: 1.9721 - mean_squared_error: 1.9721\n",
            "Epoch 3/100\n",
            "1931/1931 [==============================] - 41s 21ms/step - loss: 1.8340 - mean_squared_error: 1.8340\n",
            "Epoch 4/100\n",
            "1931/1931 [==============================] - 40s 20ms/step - loss: 1.6966 - mean_squared_error: 1.6966\n",
            "Epoch 5/100\n",
            "1931/1931 [==============================] - 42s 22ms/step - loss: 1.5946 - mean_squared_error: 1.5946\n",
            "Epoch 6/100\n",
            "1931/1931 [==============================] - 39s 20ms/step - loss: 1.5147 - mean_squared_error: 1.5147\n",
            "Epoch 7/100\n",
            "1931/1931 [==============================] - 39s 20ms/step - loss: 1.4330 - mean_squared_error: 1.4330\n",
            "Epoch 8/100\n",
            "1931/1931 [==============================] - 39s 20ms/step - loss: 1.3505 - mean_squared_error: 1.3505\n",
            "Epoch 9/100\n",
            "1931/1931 [==============================] - 39s 20ms/step - loss: 1.2803 - mean_squared_error: 1.2803\n",
            "Epoch 10/100\n",
            "1931/1931 [==============================] - 40s 21ms/step - loss: 1.2092 - mean_squared_error: 1.2092\n",
            "Epoch 11/100\n",
            "1931/1931 [==============================] - 39s 20ms/step - loss: 1.1395 - mean_squared_error: 1.1395\n",
            "Epoch 12/100\n",
            "1931/1931 [==============================] - 39s 20ms/step - loss: 1.0807 - mean_squared_error: 1.0807\n",
            "Epoch 13/100\n",
            "1931/1931 [==============================] - 38s 20ms/step - loss: 1.0153 - mean_squared_error: 1.0153\n",
            "Epoch 14/100\n",
            "1931/1931 [==============================] - 45s 23ms/step - loss: 0.9564 - mean_squared_error: 0.9564\n",
            "Epoch 15/100\n",
            "1931/1931 [==============================] - 39s 20ms/step - loss: 0.9080 - mean_squared_error: 0.9080\n",
            "Epoch 16/100\n",
            "1931/1931 [==============================] - 40s 21ms/step - loss: 0.8637 - mean_squared_error: 0.8637\n",
            "Epoch 17/100\n",
            "1931/1931 [==============================] - 40s 20ms/step - loss: 0.8230 - mean_squared_error: 0.8230\n",
            "Epoch 18/100\n",
            "1931/1931 [==============================] - 39s 20ms/step - loss: 0.7981 - mean_squared_error: 0.7981\n",
            "Epoch 19/100\n",
            "1931/1931 [==============================] - 39s 20ms/step - loss: 0.7622 - mean_squared_error: 0.7622\n",
            "Epoch 20/100\n",
            "1931/1931 [==============================] - 39s 20ms/step - loss: 0.7408 - mean_squared_error: 0.7408\n",
            "Epoch 21/100\n",
            "1931/1931 [==============================] - 39s 20ms/step - loss: 0.7149 - mean_squared_error: 0.7149\n",
            "Epoch 22/100\n",
            "1931/1931 [==============================] - 39s 20ms/step - loss: 0.7028 - mean_squared_error: 0.7028\n",
            "Epoch 23/100\n",
            "1931/1931 [==============================] - 40s 21ms/step - loss: 0.6787 - mean_squared_error: 0.6787\n",
            "Epoch 24/100\n",
            "1931/1931 [==============================] - 40s 21ms/step - loss: 0.6622 - mean_squared_error: 0.6622\n",
            "Epoch 25/100\n",
            "1931/1931 [==============================] - 40s 20ms/step - loss: 0.6556 - mean_squared_error: 0.6556\n",
            "Epoch 26/100\n",
            "1931/1931 [==============================] - 41s 21ms/step - loss: 0.6382 - mean_squared_error: 0.6382\n",
            "Epoch 27/100\n",
            "1931/1931 [==============================] - 40s 21ms/step - loss: 0.6236 - mean_squared_error: 0.6236\n",
            "Epoch 28/100\n",
            "1931/1931 [==============================] - 41s 21ms/step - loss: 0.6131 - mean_squared_error: 0.6131\n",
            "Epoch 29/100\n",
            "1931/1931 [==============================] - 41s 21ms/step - loss: 0.6024 - mean_squared_error: 0.6024\n",
            "Epoch 30/100\n",
            "1931/1931 [==============================] - 40s 21ms/step - loss: 0.6003 - mean_squared_error: 0.6003\n",
            "Epoch 31/100\n",
            "1931/1931 [==============================] - 40s 21ms/step - loss: 0.5894 - mean_squared_error: 0.5894\n",
            "Epoch 32/100\n",
            "1931/1931 [==============================] - 41s 21ms/step - loss: 0.5794 - mean_squared_error: 0.5794\n",
            "Epoch 33/100\n",
            "1931/1931 [==============================] - 40s 21ms/step - loss: 0.5789 - mean_squared_error: 0.5789\n",
            "Epoch 34/100\n",
            "1931/1931 [==============================] - 41s 21ms/step - loss: 0.5633 - mean_squared_error: 0.5633\n",
            "Epoch 35/100\n",
            "1931/1931 [==============================] - 41s 21ms/step - loss: 0.5627 - mean_squared_error: 0.5627\n",
            "Epoch 36/100\n",
            "1931/1931 [==============================] - 40s 21ms/step - loss: 0.5557 - mean_squared_error: 0.5557\n",
            "Epoch 37/100\n",
            "1931/1931 [==============================] - 39s 20ms/step - loss: 0.5506 - mean_squared_error: 0.5506\n",
            "Epoch 38/100\n",
            "1931/1931 [==============================] - 40s 21ms/step - loss: 0.5459 - mean_squared_error: 0.5459\n",
            "Epoch 39/100\n",
            "1931/1931 [==============================] - 41s 21ms/step - loss: 0.5373 - mean_squared_error: 0.5373\n",
            "Epoch 40/100\n",
            "1931/1931 [==============================] - 42s 22ms/step - loss: 0.5320 - mean_squared_error: 0.5320\n",
            "Epoch 41/100\n",
            "1931/1931 [==============================] - 42s 22ms/step - loss: 0.5271 - mean_squared_error: 0.5271\n",
            "Epoch 42/100\n",
            "1931/1931 [==============================] - 41s 21ms/step - loss: 0.5233 - mean_squared_error: 0.5233\n",
            "Epoch 43/100\n",
            "1931/1931 [==============================] - 41s 21ms/step - loss: 0.5165 - mean_squared_error: 0.5165\n",
            "Epoch 44/100\n",
            "1931/1931 [==============================] - 40s 21ms/step - loss: 0.5093 - mean_squared_error: 0.5093\n",
            "Epoch 45/100\n",
            "1931/1931 [==============================] - 41s 21ms/step - loss: 0.5080 - mean_squared_error: 0.5080\n",
            "Epoch 46/100\n",
            "1931/1931 [==============================] - 41s 21ms/step - loss: 0.5024 - mean_squared_error: 0.5024\n",
            "Epoch 47/100\n",
            "1931/1931 [==============================] - 41s 21ms/step - loss: 0.4986 - mean_squared_error: 0.4986\n",
            "Epoch 48/100\n",
            "1931/1931 [==============================] - 41s 21ms/step - loss: 0.4926 - mean_squared_error: 0.4926\n",
            "Epoch 49/100\n",
            "1931/1931 [==============================] - 41s 21ms/step - loss: 0.4912 - mean_squared_error: 0.4912\n",
            "Epoch 50/100\n",
            "1931/1931 [==============================] - 40s 21ms/step - loss: 0.4852 - mean_squared_error: 0.4852\n",
            "Epoch 51/100\n",
            "1931/1931 [==============================] - 39s 20ms/step - loss: 0.4790 - mean_squared_error: 0.4790\n",
            "Epoch 52/100\n",
            "1931/1931 [==============================] - 39s 20ms/step - loss: 0.4803 - mean_squared_error: 0.4803\n",
            "Epoch 00052: early stopping\n"
          ]
        }
      ]
    },
    {
      "cell_type": "code",
      "source": [
        "# evaluate : accuracy와 loss 알 수 있음\n",
        "score = model_gru.evaluate(X_test_t, y_test, batch_size=32)\n",
        "print('MSE = ', score)"
      ],
      "metadata": {
        "colab": {
          "base_uri": "https://localhost:8080/"
        },
        "id": "nULxP-zMk3bv",
        "outputId": "66bf2208-1922-41fc-e22a-63d8824dac8c"
      },
      "execution_count": null,
      "outputs": [
        {
          "output_type": "stream",
          "name": "stdout",
          "text": [
            "483/483 [==============================] - 4s 7ms/step - loss: 0.5900 - mean_squared_error: 0.5900\n",
            "MSE =  [0.5900304913520813, 0.5900304913520813]\n"
          ]
        }
      ]
    },
    {
      "cell_type": "code",
      "source": [
        ""
      ],
      "metadata": {
        "id": "Fg3y8uhCkvIp"
      },
      "execution_count": null,
      "outputs": []
    },
    {
      "cell_type": "markdown",
      "source": [
        "##2. GRU1,Dense1,RMSprop"
      ],
      "metadata": {
        "id": "h_chiKqSUK1r"
      }
    },
    {
      "cell_type": "code",
      "source": [
        "import tensorflow as tf\n",
        "from keras.models import Sequential \n",
        "from keras.layers import Dense \n",
        "import keras.backend as K \n",
        "from keras.callbacks import EarlyStopping\n",
        "from keras.layers.recurrent_v2 import GRU\n",
        "\n",
        "from sklearn.metrics import mean_squared_error\n",
        "from sklearn.metrics import r2_score\n",
        "\n",
        "K.clear_session()\n",
        "    \n",
        "model_gru = Sequential() # Sequeatial Model \n",
        "model_gru.add(GRU(units=128,input_shape=(30, 1)))\n",
        "model_gru.add(Dense(1)) # output = 1 \n",
        "#model_gru.compile(loss='mean_squared_error', optimizer='adam', metrics=['mean_squared_error', 'r2_score'])\n",
        "model_gru.compile(loss='mean_squared_error', optimizer='RMSprop') \n",
        "model_gru.summary()"
      ],
      "metadata": {
        "colab": {
          "base_uri": "https://localhost:8080/"
        },
        "id": "8OyEDyDmUKc4",
        "outputId": "07396e94-636d-409e-d3c8-172334db852d"
      },
      "execution_count": 80,
      "outputs": [
        {
          "output_type": "stream",
          "name": "stdout",
          "text": [
            "Model: \"sequential\"\n",
            "_________________________________________________________________\n",
            " Layer (type)                Output Shape              Param #   \n",
            "=================================================================\n",
            " gru (GRU)                   (None, 128)               50304     \n",
            "                                                                 \n",
            " dense (Dense)               (None, 1)                 129       \n",
            "                                                                 \n",
            "=================================================================\n",
            "Total params: 50,433\n",
            "Trainable params: 50,433\n",
            "Non-trainable params: 0\n",
            "_________________________________________________________________\n"
          ]
        }
      ]
    },
    {
      "cell_type": "code",
      "source": [
        "early_stop = EarlyStopping(monitor='loss', patience=1, verbose=1)\n",
        "\n",
        "hist_mice = model_gru.fit(X_train_t, y_train, epochs=100, \n",
        "                     batch_size=32, verbose=1, callbacks=[early_stop])"
      ],
      "metadata": {
        "colab": {
          "base_uri": "https://localhost:8080/"
        },
        "id": "hlsYlr2oUKat",
        "outputId": "234a5655-53ba-49e6-adbf-52e30b2a454f"
      },
      "execution_count": 57,
      "outputs": [
        {
          "output_type": "stream",
          "name": "stdout",
          "text": [
            "Epoch 1/100\n",
            "1931/1931 [==============================] - 43s 21ms/step - loss: 2.1347\n",
            "Epoch 2/100\n",
            "1931/1931 [==============================] - 40s 21ms/step - loss: 1.9488\n",
            "Epoch 3/100\n",
            "1931/1931 [==============================] - 39s 20ms/step - loss: 1.8499\n",
            "Epoch 4/100\n",
            "1931/1931 [==============================] - 39s 20ms/step - loss: 1.7237\n",
            "Epoch 5/100\n",
            "1931/1931 [==============================] - 39s 20ms/step - loss: 1.6066\n",
            "Epoch 6/100\n",
            "1931/1931 [==============================] - 39s 20ms/step - loss: 1.5035\n",
            "Epoch 7/100\n",
            "1931/1931 [==============================] - 39s 20ms/step - loss: 1.3920\n",
            "Epoch 8/100\n",
            "1931/1931 [==============================] - 39s 20ms/step - loss: 1.2843\n",
            "Epoch 9/100\n",
            "1931/1931 [==============================] - 39s 20ms/step - loss: 1.1779\n",
            "Epoch 10/100\n",
            "1931/1931 [==============================] - 39s 20ms/step - loss: 1.0826\n",
            "Epoch 11/100\n",
            "1931/1931 [==============================] - 39s 20ms/step - loss: 1.0069\n",
            "Epoch 12/100\n",
            "1931/1931 [==============================] - 39s 20ms/step - loss: 0.9442\n",
            "Epoch 13/100\n",
            "1931/1931 [==============================] - 39s 20ms/step - loss: 0.8906\n",
            "Epoch 14/100\n",
            "1931/1931 [==============================] - 39s 20ms/step - loss: 0.8462\n",
            "Epoch 15/100\n",
            "1931/1931 [==============================] - 40s 21ms/step - loss: 0.8114\n",
            "Epoch 16/100\n",
            "1931/1931 [==============================] - 39s 20ms/step - loss: 0.7732\n",
            "Epoch 17/100\n",
            "1931/1931 [==============================] - 40s 21ms/step - loss: 0.7503\n",
            "Epoch 18/100\n",
            "1931/1931 [==============================] - 40s 21ms/step - loss: 0.7255\n",
            "Epoch 19/100\n",
            "1931/1931 [==============================] - 39s 20ms/step - loss: 0.7080\n",
            "Epoch 20/100\n",
            "1931/1931 [==============================] - 39s 20ms/step - loss: 0.6944\n",
            "Epoch 21/100\n",
            "1931/1931 [==============================] - 39s 20ms/step - loss: 0.6744\n",
            "Epoch 22/100\n",
            "1931/1931 [==============================] - 39s 20ms/step - loss: 0.6629\n",
            "Epoch 23/100\n",
            "1931/1931 [==============================] - 39s 20ms/step - loss: 0.6511\n",
            "Epoch 24/100\n",
            "1931/1931 [==============================] - 39s 20ms/step - loss: 0.6420\n",
            "Epoch 25/100\n",
            "1931/1931 [==============================] - 40s 21ms/step - loss: 0.6351\n",
            "Epoch 26/100\n",
            "1931/1931 [==============================] - 41s 21ms/step - loss: 0.6214\n",
            "Epoch 27/100\n",
            "1931/1931 [==============================] - 41s 21ms/step - loss: 0.6132\n",
            "Epoch 28/100\n",
            "1931/1931 [==============================] - 41s 21ms/step - loss: 0.6069\n",
            "Epoch 29/100\n",
            "1931/1931 [==============================] - 40s 21ms/step - loss: 0.5959\n",
            "Epoch 30/100\n",
            "1931/1931 [==============================] - 39s 20ms/step - loss: 0.5906\n",
            "Epoch 31/100\n",
            "1931/1931 [==============================] - 40s 21ms/step - loss: 0.5845\n",
            "Epoch 32/100\n",
            "1931/1931 [==============================] - 41s 21ms/step - loss: 0.5775\n",
            "Epoch 33/100\n",
            "1931/1931 [==============================] - 41s 21ms/step - loss: 0.5736\n",
            "Epoch 34/100\n",
            "1931/1931 [==============================] - 41s 21ms/step - loss: 0.5669\n",
            "Epoch 35/100\n",
            "1931/1931 [==============================] - 41s 21ms/step - loss: 0.5618\n",
            "Epoch 36/100\n",
            "1931/1931 [==============================] - 40s 20ms/step - loss: 0.5604\n",
            "Epoch 37/100\n",
            "1931/1931 [==============================] - 40s 21ms/step - loss: 0.5510\n",
            "Epoch 38/100\n",
            "1931/1931 [==============================] - 40s 20ms/step - loss: 0.5538\n",
            "Epoch 00038: early stopping\n"
          ]
        }
      ]
    },
    {
      "cell_type": "code",
      "source": [
        "# evaluate : accuracy와 loss 알 수 있음\n",
        "score = model_gru.evaluate(X_test_t, y_test, batch_size=32)\n",
        "print('MSE = ', score)"
      ],
      "metadata": {
        "colab": {
          "base_uri": "https://localhost:8080/"
        },
        "id": "FgtrKWD-UKX1",
        "outputId": "4de77792-914d-4f11-a0c5-21805a3c4ef4"
      },
      "execution_count": 58,
      "outputs": [
        {
          "output_type": "stream",
          "name": "stdout",
          "text": [
            "483/483 [==============================] - 4s 7ms/step - loss: 0.6119\n",
            "MSE =  0.6118541955947876\n"
          ]
        }
      ]
    },
    {
      "cell_type": "code",
      "source": [
        ""
      ],
      "metadata": {
        "id": "dcpPHUmJUKVf"
      },
      "execution_count": null,
      "outputs": []
    },
    {
      "cell_type": "markdown",
      "source": [
        ""
      ],
      "metadata": {
        "id": "AYK6ITD3UKHt"
      }
    },
    {
      "cell_type": "markdown",
      "source": [
        "##3. LSTM1,Dense1,adam"
      ],
      "metadata": {
        "id": "FI-sL-jXaya1"
      }
    },
    {
      "cell_type": "code",
      "source": [
        "import tensorflow as tf\n",
        "from keras.layers import LSTM \n",
        "from keras.models import Sequential \n",
        "from keras.layers import Dense \n",
        "import keras.backend as K \n",
        "from keras.callbacks import EarlyStopping\n",
        "\n",
        "K.clear_session()\n",
        "    \n",
        "model_lstm = Sequential() # Sequeatial Model\n",
        "model_lstm.add(LSTM(128, input_shape=(30, 1))) # (timestep, feature)\n",
        "#model.add(Dense(10)) \n",
        "model_lstm.add(Dense(1)) # output = 1 \n",
        "# model_lstm.compile(loss='mean_squared_error', optimizer='RMSprop') \n",
        "model_lstm.compile(loss='mean_squared_error', optimizer='adam', metrics='mean_squared_error') \n",
        "model_lstm.summary()"
      ],
      "metadata": {
        "id": "0dkBVi0Qa261",
        "colab": {
          "base_uri": "https://localhost:8080/"
        },
        "outputId": "64baef14-50b3-4112-ecec-a51d9ec989e3"
      },
      "execution_count": 49,
      "outputs": [
        {
          "output_type": "stream",
          "name": "stdout",
          "text": [
            "Model: \"sequential\"\n",
            "_________________________________________________________________\n",
            " Layer (type)                Output Shape              Param #   \n",
            "=================================================================\n",
            " lstm (LSTM)                 (None, 128)               66560     \n",
            "                                                                 \n",
            " dense (Dense)               (None, 1)                 129       \n",
            "                                                                 \n",
            "=================================================================\n",
            "Total params: 66,689\n",
            "Trainable params: 66,689\n",
            "Non-trainable params: 0\n",
            "_________________________________________________________________\n"
          ]
        }
      ]
    },
    {
      "cell_type": "code",
      "source": [
        "tf.keras.utils.plot_model(\n",
        "    model=model_lstm, to_file=\"lstm_model.png\", show_shapes=False, rankdir=\"LR\")"
      ],
      "metadata": {
        "id": "Ip_4abSKa23Y",
        "colab": {
          "base_uri": "https://localhost:8080/",
          "height": 90
        },
        "outputId": "e0421688-91e6-4bca-85ac-33f9a8a89714"
      },
      "execution_count": 50,
      "outputs": [
        {
          "output_type": "execute_result",
          "data": {
            "image/png": "[encoded data removed]",
            "text/plain": [
              "<IPython.core.display.Image object>"
            ]
          },
          "metadata": {},
          "execution_count": 50
        }
      ]
    },
    {
      "cell_type": "code",
      "source": [
        "early_stop = EarlyStopping(monitor='loss', patience=1, verbose=1)\n",
        "\n",
        "model_lstm.fit(X_train_t, y_train, epochs=100,\n",
        "          batch_size=32, verbose=1, callbacks=[early_stop])"
      ],
      "metadata": {
        "id": "QXd86Crka2z8",
        "colab": {
          "base_uri": "https://localhost:8080/"
        },
        "outputId": "f629d9f7-52a1-43f7-9b1b-79f7bc3a0418"
      },
      "execution_count": 51,
      "outputs": [
        {
          "output_type": "stream",
          "name": "stdout",
          "text": [
            "Epoch 1/100\n",
            "1931/1931 [==============================] - 55s 28ms/step - loss: 2.1506 - mean_squared_error: 2.1506\n",
            "Epoch 2/100\n",
            "1931/1931 [==============================] - 53s 28ms/step - loss: 1.9683 - mean_squared_error: 1.9683\n",
            "Epoch 3/100\n",
            "1931/1931 [==============================] - 59s 31ms/step - loss: 1.8842 - mean_squared_error: 1.8842\n",
            "Epoch 4/100\n",
            "1931/1931 [==============================] - 57s 30ms/step - loss: 1.7930 - mean_squared_error: 1.7930\n",
            "Epoch 5/100\n",
            "1931/1931 [==============================] - 45s 24ms/step - loss: 1.7182 - mean_squared_error: 1.7182\n",
            "Epoch 6/100\n",
            "1931/1931 [==============================] - 45s 23ms/step - loss: 1.6145 - mean_squared_error: 1.6145\n",
            "Epoch 7/100\n",
            "1931/1931 [==============================] - 44s 23ms/step - loss: 1.5199 - mean_squared_error: 1.5199\n",
            "Epoch 8/100\n",
            "1931/1931 [==============================] - 47s 25ms/step - loss: 1.4197 - mean_squared_error: 1.4197\n",
            "Epoch 9/100\n",
            "1931/1931 [==============================] - 47s 24ms/step - loss: 1.2813 - mean_squared_error: 1.2813\n",
            "Epoch 10/100\n",
            "1931/1931 [==============================] - 49s 25ms/step - loss: 1.1607 - mean_squared_error: 1.1607\n",
            "Epoch 11/100\n",
            "1931/1931 [==============================] - 46s 24ms/step - loss: 1.0683 - mean_squared_error: 1.0683\n",
            "Epoch 12/100\n",
            "1931/1931 [==============================] - 47s 24ms/step - loss: 1.0025 - mean_squared_error: 1.0025\n",
            "Epoch 13/100\n",
            "1931/1931 [==============================] - 46s 24ms/step - loss: 0.9418 - mean_squared_error: 0.9418\n",
            "Epoch 14/100\n",
            "1931/1931 [==============================] - 45s 23ms/step - loss: 0.8883 - mean_squared_error: 0.8883\n",
            "Epoch 15/100\n",
            "1931/1931 [==============================] - 45s 23ms/step - loss: 0.8483 - mean_squared_error: 0.8483\n",
            "Epoch 16/100\n",
            "1931/1931 [==============================] - 45s 23ms/step - loss: 0.8185 - mean_squared_error: 0.8185\n",
            "Epoch 17/100\n",
            "1931/1931 [==============================] - 45s 23ms/step - loss: 0.7814 - mean_squared_error: 0.7814\n",
            "Epoch 18/100\n",
            "1931/1931 [==============================] - 45s 23ms/step - loss: 0.7606 - mean_squared_error: 0.7606\n",
            "Epoch 19/100\n",
            "1931/1931 [==============================] - 45s 23ms/step - loss: 0.7347 - mean_squared_error: 0.7347\n",
            "Epoch 20/100\n",
            "1931/1931 [==============================] - 44s 23ms/step - loss: 0.7132 - mean_squared_error: 0.7132\n",
            "Epoch 21/100\n",
            "1931/1931 [==============================] - 44s 23ms/step - loss: 0.7012 - mean_squared_error: 0.7012\n",
            "Epoch 22/100\n",
            "1931/1931 [==============================] - 45s 23ms/step - loss: 0.6827 - mean_squared_error: 0.6827\n",
            "Epoch 23/100\n",
            "1931/1931 [==============================] - 45s 23ms/step - loss: 0.6728 - mean_squared_error: 0.6728\n",
            "Epoch 24/100\n",
            "1931/1931 [==============================] - 44s 23ms/step - loss: 0.6560 - mean_squared_error: 0.6560\n",
            "Epoch 25/100\n",
            "1931/1931 [==============================] - 45s 23ms/step - loss: 0.6463 - mean_squared_error: 0.6463\n",
            "Epoch 26/100\n",
            "1931/1931 [==============================] - 45s 23ms/step - loss: 0.6325 - mean_squared_error: 0.6325\n",
            "Epoch 27/100\n",
            "1931/1931 [==============================] - 46s 24ms/step - loss: 0.6201 - mean_squared_error: 0.6201\n",
            "Epoch 28/100\n",
            "1931/1931 [==============================] - 46s 24ms/step - loss: 0.6142 - mean_squared_error: 0.6142\n",
            "Epoch 29/100\n",
            "1931/1931 [==============================] - 45s 24ms/step - loss: 0.6011 - mean_squared_error: 0.6011\n",
            "Epoch 30/100\n",
            "1931/1931 [==============================] - 45s 23ms/step - loss: 0.5914 - mean_squared_error: 0.5914\n",
            "Epoch 31/100\n",
            "1931/1931 [==============================] - 47s 24ms/step - loss: 0.5844 - mean_squared_error: 0.5844\n",
            "Epoch 32/100\n",
            "1931/1931 [==============================] - 47s 24ms/step - loss: 0.5815 - mean_squared_error: 0.5815\n",
            "Epoch 33/100\n",
            "1931/1931 [==============================] - 46s 24ms/step - loss: 0.5705 - mean_squared_error: 0.5705\n",
            "Epoch 34/100\n",
            "1931/1931 [==============================] - 45s 23ms/step - loss: 0.5675 - mean_squared_error: 0.5675\n",
            "Epoch 35/100\n",
            "1931/1931 [==============================] - 45s 23ms/step - loss: 0.5550 - mean_squared_error: 0.5550\n",
            "Epoch 36/100\n",
            "1931/1931 [==============================] - 45s 24ms/step - loss: 0.5516 - mean_squared_error: 0.5516\n",
            "Epoch 37/100\n",
            "1931/1931 [==============================] - 46s 24ms/step - loss: 0.5376 - mean_squared_error: 0.5376\n",
            "Epoch 38/100\n",
            "1931/1931 [==============================] - 46s 24ms/step - loss: 0.5385 - mean_squared_error: 0.5385\n",
            "Epoch 00038: early stopping\n"
          ]
        },
        {
          "output_type": "execute_result",
          "data": {
            "text/plain": [
              "<keras.callbacks.History at 0x7f7a263cf650>"
            ]
          },
          "metadata": {},
          "execution_count": 51
        }
      ]
    },
    {
      "cell_type": "code",
      "source": [
        "score = model_lstm.evaluate(X_test_t, y_test, batch_size=32)\n",
        "print(score)"
      ],
      "metadata": {
        "id": "KtiHF7avbtvT",
        "colab": {
          "base_uri": "https://localhost:8080/"
        },
        "outputId": "f0a1f265-75fb-4075-db07-f46cd0c6b242"
      },
      "execution_count": 52,
      "outputs": [
        {
          "output_type": "stream",
          "name": "stdout",
          "text": [
            "483/483 [==============================] - 4s 8ms/step - loss: 0.6232 - mean_squared_error: 0.6232\n",
            "[0.6232181191444397, 0.6232181191444397]\n"
          ]
        }
      ]
    },
    {
      "cell_type": "code",
      "source": [
        ""
      ],
      "metadata": {
        "id": "o4wIEkx2btsM"
      },
      "execution_count": null,
      "outputs": []
    },
    {
      "cell_type": "markdown",
      "source": [
        "##3. LSTM1,Dense1,RMSprop"
      ],
      "metadata": {
        "id": "-krF7zsUTcAU"
      }
    },
    {
      "cell_type": "code",
      "source": [
        "import tensorflow as tf\n",
        "from keras.layers import LSTM \n",
        "from keras.models import Sequential \n",
        "from keras.layers import Dense \n",
        "import keras.backend as K \n",
        "from keras.callbacks import EarlyStopping\n",
        "\n",
        "K.clear_session()\n",
        "    \n",
        "model_lstm = Sequential() # Sequeatial Model\n",
        "model_lstm.add(LSTM(128, input_shape=(30, 1))) # (timestep, feature)\n",
        "#model.add(Dense(10)) \n",
        "model_lstm.add(Dense(1)) # output = 1 \n",
        "model_lstm.compile(loss='mean_squared_error', optimizer='RMSprop') \n",
        "#model_lstm.compile(loss='mean_squared_error', optimizer='adam', metrics='mean_squared_error') \n",
        "model_lstm.summary()"
      ],
      "metadata": {
        "colab": {
          "base_uri": "https://localhost:8080/"
        },
        "id": "w9g2urbOTfW6",
        "outputId": "bb0ec339-5836-4710-ffc8-073fd4c931fe"
      },
      "execution_count": 53,
      "outputs": [
        {
          "output_type": "stream",
          "name": "stdout",
          "text": [
            "Model: \"sequential\"\n",
            "_________________________________________________________________\n",
            " Layer (type)                Output Shape              Param #   \n",
            "=================================================================\n",
            " lstm (LSTM)                 (None, 128)               66560     \n",
            "                                                                 \n",
            " dense (Dense)               (None, 1)                 129       \n",
            "                                                                 \n",
            "=================================================================\n",
            "Total params: 66,689\n",
            "Trainable params: 66,689\n",
            "Non-trainable params: 0\n",
            "_________________________________________________________________\n"
          ]
        }
      ]
    },
    {
      "cell_type": "code",
      "source": [
        "early_stop = EarlyStopping(monitor='loss', patience=1, verbose=1)\n",
        "\n",
        "model_lstm.fit(X_train_t, y_train, epochs=100,\n",
        "          batch_size=32, verbose=1, callbacks=[early_stop])"
      ],
      "metadata": {
        "colab": {
          "base_uri": "https://localhost:8080/"
        },
        "id": "1WY7vcfGTfUT",
        "outputId": "2ead7cfb-a4f9-4751-dc43-47e7ad9bd0af"
      },
      "execution_count": 54,
      "outputs": [
        {
          "output_type": "stream",
          "name": "stdout",
          "text": [
            "Epoch 1/100\n",
            "1931/1931 [==============================] - 57s 29ms/step - loss: 2.1292\n",
            "Epoch 2/100\n",
            "1931/1931 [==============================] - 48s 25ms/step - loss: 1.9747\n",
            "Epoch 3/100\n",
            "1931/1931 [==============================] - 53s 27ms/step - loss: 1.8944\n",
            "Epoch 4/100\n",
            "1931/1931 [==============================] - 54s 28ms/step - loss: 1.8006\n",
            "Epoch 5/100\n",
            "1931/1931 [==============================] - 46s 24ms/step - loss: 1.6852\n",
            "Epoch 6/100\n",
            "1931/1931 [==============================] - 46s 24ms/step - loss: 1.5747\n",
            "Epoch 7/100\n",
            "1931/1931 [==============================] - 47s 24ms/step - loss: 1.4737\n",
            "Epoch 8/100\n",
            "1931/1931 [==============================] - 46s 24ms/step - loss: 1.3895\n",
            "Epoch 9/100\n",
            "1931/1931 [==============================] - 47s 24ms/step - loss: 1.3098\n",
            "Epoch 10/100\n",
            "1931/1931 [==============================] - 46s 24ms/step - loss: 1.2397\n",
            "Epoch 11/100\n",
            "1931/1931 [==============================] - 46s 24ms/step - loss: 1.1694\n",
            "Epoch 12/100\n",
            "1931/1931 [==============================] - 46s 24ms/step - loss: 1.1173\n",
            "Epoch 13/100\n",
            "1931/1931 [==============================] - 46s 24ms/step - loss: 1.0675\n",
            "Epoch 14/100\n",
            "1931/1931 [==============================] - 45s 24ms/step - loss: 1.0266\n",
            "Epoch 15/100\n",
            "1931/1931 [==============================] - 45s 23ms/step - loss: 0.9865\n",
            "Epoch 16/100\n",
            "1931/1931 [==============================] - 45s 23ms/step - loss: 0.9478\n",
            "Epoch 17/100\n",
            "1931/1931 [==============================] - 45s 23ms/step - loss: 0.9092\n",
            "Epoch 18/100\n",
            "1931/1931 [==============================] - 46s 24ms/step - loss: 0.8814\n",
            "Epoch 19/100\n",
            "1931/1931 [==============================] - 46s 24ms/step - loss: 0.8581\n",
            "Epoch 20/100\n",
            "1931/1931 [==============================] - 46s 24ms/step - loss: 0.8306\n",
            "Epoch 21/100\n",
            "1931/1931 [==============================] - 46s 24ms/step - loss: 0.8083\n",
            "Epoch 22/100\n",
            "1931/1931 [==============================] - 45s 23ms/step - loss: 0.7842\n",
            "Epoch 23/100\n",
            "1931/1931 [==============================] - 44s 23ms/step - loss: 0.7645\n",
            "Epoch 24/100\n",
            "1931/1931 [==============================] - 46s 24ms/step - loss: 0.7470\n",
            "Epoch 25/100\n",
            "1931/1931 [==============================] - 45s 23ms/step - loss: 0.7288\n",
            "Epoch 26/100\n",
            "1931/1931 [==============================] - 46s 24ms/step - loss: 0.7093\n",
            "Epoch 27/100\n",
            "1931/1931 [==============================] - 48s 25ms/step - loss: 0.6960\n",
            "Epoch 28/100\n",
            "1931/1931 [==============================] - 47s 24ms/step - loss: 0.6819\n",
            "Epoch 29/100\n",
            "1931/1931 [==============================] - 47s 24ms/step - loss: 0.6704\n",
            "Epoch 30/100\n",
            "1931/1931 [==============================] - 46s 24ms/step - loss: 0.6572\n",
            "Epoch 31/100\n",
            "1931/1931 [==============================] - 46s 24ms/step - loss: 0.6417\n",
            "Epoch 32/100\n",
            "1931/1931 [==============================] - 46s 24ms/step - loss: 0.6303\n",
            "Epoch 33/100\n",
            "1931/1931 [==============================] - 46s 24ms/step - loss: 0.6229\n",
            "Epoch 34/100\n",
            "1931/1931 [==============================] - 45s 23ms/step - loss: 0.6091\n",
            "Epoch 35/100\n",
            "1931/1931 [==============================] - 45s 23ms/step - loss: 0.5983\n",
            "Epoch 36/100\n",
            "1931/1931 [==============================] - 45s 23ms/step - loss: 0.5882\n",
            "Epoch 37/100\n",
            "1931/1931 [==============================] - 45s 23ms/step - loss: 0.5827\n",
            "Epoch 38/100\n",
            "1931/1931 [==============================] - 45s 23ms/step - loss: 0.5757\n",
            "Epoch 39/100\n",
            "1931/1931 [==============================] - 45s 23ms/step - loss: 0.5676\n",
            "Epoch 40/100\n",
            "1931/1931 [==============================] - 45s 23ms/step - loss: 0.5592\n",
            "Epoch 41/100\n",
            "1931/1931 [==============================] - 45s 23ms/step - loss: 0.5508\n",
            "Epoch 42/100\n",
            "1931/1931 [==============================] - 45s 23ms/step - loss: 0.5412\n",
            "Epoch 43/100\n",
            "1931/1931 [==============================] - 45s 24ms/step - loss: 0.5344\n",
            "Epoch 44/100\n",
            "1931/1931 [==============================] - 47s 24ms/step - loss: 0.5299\n",
            "Epoch 45/100\n",
            "1931/1931 [==============================] - 47s 24ms/step - loss: 0.5234\n",
            "Epoch 46/100\n",
            "1931/1931 [==============================] - 48s 25ms/step - loss: 0.5134\n",
            "Epoch 47/100\n",
            "1931/1931 [==============================] - 46s 24ms/step - loss: 0.5072\n",
            "Epoch 48/100\n",
            "1931/1931 [==============================] - 46s 24ms/step - loss: 0.5021\n",
            "Epoch 49/100\n",
            "1931/1931 [==============================] - 45s 23ms/step - loss: 0.4960\n",
            "Epoch 50/100\n",
            "1931/1931 [==============================] - 46s 24ms/step - loss: 0.4906\n",
            "Epoch 51/100\n",
            "1931/1931 [==============================] - 46s 24ms/step - loss: 0.4847\n",
            "Epoch 52/100\n",
            "1931/1931 [==============================] - 45s 24ms/step - loss: 0.4809\n",
            "Epoch 53/100\n",
            "1931/1931 [==============================] - 46s 24ms/step - loss: 0.4743\n",
            "Epoch 54/100\n",
            "1931/1931 [==============================] - 46s 24ms/step - loss: 0.4695\n",
            "Epoch 55/100\n",
            "1931/1931 [==============================] - 46s 24ms/step - loss: 0.4675\n",
            "Epoch 56/100\n",
            "1931/1931 [==============================] - 46s 24ms/step - loss: 0.4596\n",
            "Epoch 57/100\n",
            "1931/1931 [==============================] - 47s 24ms/step - loss: 0.4577\n",
            "Epoch 58/100\n",
            "1931/1931 [==============================] - 47s 25ms/step - loss: 0.4492\n",
            "Epoch 59/100\n",
            "1931/1931 [==============================] - 48s 25ms/step - loss: 0.4493\n",
            "Epoch 00059: early stopping\n"
          ]
        },
        {
          "output_type": "execute_result",
          "data": {
            "text/plain": [
              "<keras.callbacks.History at 0x7f7a25d15990>"
            ]
          },
          "metadata": {},
          "execution_count": 54
        }
      ]
    },
    {
      "cell_type": "code",
      "source": [
        "score = model_lstm.evaluate(X_test_t, y_test, batch_size=32)\n",
        "print(score)"
      ],
      "metadata": {
        "colab": {
          "base_uri": "https://localhost:8080/"
        },
        "id": "pwFMOhzYTpTY",
        "outputId": "721f66ef-21d2-43cd-c981-6f82375ebafd"
      },
      "execution_count": 55,
      "outputs": [
        {
          "output_type": "stream",
          "name": "stdout",
          "text": [
            "483/483 [==============================] - 5s 9ms/step - loss: 0.6094\n",
            "0.6094238758087158\n"
          ]
        }
      ]
    },
    {
      "cell_type": "code",
      "source": [
        ""
      ],
      "metadata": {
        "id": "3vI9A7QtTfLp"
      },
      "execution_count": null,
      "outputs": []
    },
    {
      "cell_type": "markdown",
      "source": [
        "##4. AdaBoostGRU,Dense1"
      ],
      "metadata": {
        "id": "CNRS7_bIKWuy"
      }
    },
    {
      "cell_type": "code",
      "source": [
        "!pip install scikeras"
      ],
      "metadata": {
        "colab": {
          "base_uri": "https://localhost:8080/"
        },
        "id": "SvnPhbeQrtQm",
        "outputId": "c645a227-3d81-4e58-d7b0-b34820fdc06f"
      },
      "execution_count": 64,
      "outputs": [
        {
          "output_type": "stream",
          "name": "stdout",
          "text": [
            "Requirement already satisfied: scikeras in /usr/local/lib/python3.7/dist-packages (0.6.0)\n",
            "Requirement already satisfied: packaging<22.0,>=0.21 in /usr/local/lib/python3.7/dist-packages (from scikeras) (21.3)\n",
            "Requirement already satisfied: importlib-metadata<4,>=3 in /usr/local/lib/python3.7/dist-packages (from scikeras) (3.10.1)\n",
            "Requirement already satisfied: scikit-learn>=1.0.0 in /usr/local/lib/python3.7/dist-packages (from scikeras) (1.0.2)\n",
            "Requirement already satisfied: typing-extensions>=3.6.4 in /usr/local/lib/python3.7/dist-packages (from importlib-metadata<4,>=3->scikeras) (3.10.0.2)\n",
            "Requirement already satisfied: zipp>=0.5 in /usr/local/lib/python3.7/dist-packages (from importlib-metadata<4,>=3->scikeras) (3.7.0)\n",
            "Requirement already satisfied: pyparsing!=3.0.5,>=2.0.2 in /usr/local/lib/python3.7/dist-packages (from packaging<22.0,>=0.21->scikeras) (3.0.7)\n",
            "Requirement already satisfied: joblib>=0.11 in /usr/local/lib/python3.7/dist-packages (from scikit-learn>=1.0.0->scikeras) (1.1.0)\n",
            "Requirement already satisfied: threadpoolctl>=2.0.0 in /usr/local/lib/python3.7/dist-packages (from scikit-learn>=1.0.0->scikeras) (3.1.0)\n",
            "Requirement already satisfied: scipy>=1.1.0 in /usr/local/lib/python3.7/dist-packages (from scikit-learn>=1.0.0->scikeras) (1.4.1)\n",
            "Requirement already satisfied: numpy>=1.14.6 in /usr/local/lib/python3.7/dist-packages (from scikit-learn>=1.0.0->scikeras) (1.19.5)\n"
          ]
        }
      ]
    },
    {
      "cell_type": "code",
      "source": [
        "import tensorflow as tf\n",
        "from keras.models import Sequential \n",
        "from keras.layers import Dense \n",
        "import keras.backend as K \n",
        "from keras.callbacks import EarlyStopping\n",
        "from keras.layers.recurrent_v2 import GRU\n",
        "\n",
        "#from keras.wrappers.scikit_learn import KerasRegressor\n",
        "from scikeras.wrappers import KerasRegressor\n",
        "from sklearn.ensemble import AdaBoostRegressor\n",
        "\n",
        "from sklearn.metrics import mean_squared_error\n",
        "from sklearn.metrics import r2_score\n",
        "\n",
        "K.clear_session()\n",
        "    \n",
        "model_gru = Sequential() # Sequeatial Model \n",
        "model_gru.add(GRU(units=128,input_shape=(30, 1)))\n",
        "model_gru.add(Dense(1)) # output = 1 \n",
        "#model_gru.compile(loss='mean_squared_error', optimizer='RMSprop')\n",
        "model_gru.compile(loss='mean_squared_error', optimizer='adam', metrics='mean_squared_error') \n",
        "model_gru.summary()"
      ],
      "metadata": {
        "colab": {
          "base_uri": "https://localhost:8080/"
        },
        "id": "rsQKx8xkLdbI",
        "outputId": "a542f145-1759-4e92-c803-f92c37b0cd7d"
      },
      "execution_count": 81,
      "outputs": [
        {
          "output_type": "stream",
          "name": "stdout",
          "text": [
            "Model: \"sequential\"\n",
            "_________________________________________________________________\n",
            " Layer (type)                Output Shape              Param #   \n",
            "=================================================================\n",
            " gru (GRU)                   (None, 128)               50304     \n",
            "                                                                 \n",
            " dense (Dense)               (None, 1)                 129       \n",
            "                                                                 \n",
            "=================================================================\n",
            "Total params: 50,433\n",
            "Trainable params: 50,433\n",
            "Non-trainable params: 0\n",
            "_________________________________________________________________\n"
          ]
        }
      ]
    },
    {
      "cell_type": "code",
      "source": [
        "#kerasRegressor로 분류기 만든 뒤, AdaBoostRegressor로 최종 결합\n",
        "GRU_Predictors = KerasRegressor(build_fn=lambda:model_gru, epochs=100, batch_size=32)\n",
        "model_adaboostgru = AdaBoostRegressor(GRU_Predictors, n_estimators=5, random_state=42)"
      ],
      "metadata": {
        "id": "Ev8yy3D8MBqA"
      },
      "execution_count": 83,
      "outputs": []
    },
    {
      "cell_type": "code",
      "source": [
        "early_stop = EarlyStopping(monitor='loss', patience=1, verbose=1)\n",
        "\n",
        "model_adaboostgru.fit(X_train_t, y_train)"
      ],
      "metadata": {
        "colab": {
          "base_uri": "https://localhost:8080/"
        },
        "id": "BgcFd_4DMOfN",
        "outputId": "b8da8058-601c-4220-dde4-40d5b339e094"
      },
      "execution_count": null,
      "outputs": [
        {
          "output_type": "stream",
          "name": "stderr",
          "text": [
            "/usr/local/lib/python3.7/dist-packages/scikeras/wrappers.py:290: UserWarning: ``build_fn`` will be renamed to ``model`` in a future release, at which point use of ``build_fn`` will raise an Error instead.\n",
            "  \"``build_fn`` will be renamed to ``model`` in a future release,\"\n"
          ]
        },
        {
          "output_type": "stream",
          "name": "stdout",
          "text": [
            "Epoch 1/100\n",
            "1931/1931 [==============================] - 48s 23ms/step - loss: 2.0968 - mean_squared_error: 2.0968\n",
            "Epoch 2/100\n",
            "1931/1931 [==============================] - 42s 22ms/step - loss: 1.9325 - mean_squared_error: 1.9325\n",
            "Epoch 3/100\n",
            "1931/1931 [==============================] - 42s 22ms/step - loss: 1.8503 - mean_squared_error: 1.8503\n",
            "Epoch 4/100\n",
            "1931/1931 [==============================] - 41s 21ms/step - loss: 1.7106 - mean_squared_error: 1.7106\n",
            "Epoch 5/100\n",
            "1931/1931 [==============================] - 41s 21ms/step - loss: 1.5223 - mean_squared_error: 1.5223\n",
            "Epoch 6/100\n",
            "1931/1931 [==============================] - 41s 21ms/step - loss: 1.3993 - mean_squared_error: 1.3993\n",
            "Epoch 7/100\n",
            "1931/1931 [==============================] - 41s 21ms/step - loss: 1.2703 - mean_squared_error: 1.2703\n",
            "Epoch 8/100\n",
            "1931/1931 [==============================] - 40s 21ms/step - loss: 1.1720 - mean_squared_error: 1.1720\n",
            "Epoch 9/100\n",
            "1931/1931 [==============================] - 40s 21ms/step - loss: 1.0770 - mean_squared_error: 1.0770\n",
            "Epoch 10/100\n",
            "1931/1931 [==============================] - 40s 21ms/step - loss: 1.0085 - mean_squared_error: 1.0085\n",
            "Epoch 11/100\n",
            "1931/1931 [==============================] - 40s 21ms/step - loss: 0.9540 - mean_squared_error: 0.9540\n",
            "Epoch 12/100\n",
            "1931/1931 [==============================] - 40s 21ms/step - loss: 0.9003 - mean_squared_error: 0.9003\n",
            "Epoch 13/100\n",
            "1931/1931 [==============================] - 40s 21ms/step - loss: 0.8563 - mean_squared_error: 0.8563\n",
            "Epoch 14/100\n",
            "1931/1931 [==============================] - 41s 21ms/step - loss: 0.8108 - mean_squared_error: 0.8108\n",
            "Epoch 15/100\n",
            "1931/1931 [==============================] - 41s 21ms/step - loss: 0.7708 - mean_squared_error: 0.7708\n",
            "Epoch 16/100\n",
            "1931/1931 [==============================] - 41s 21ms/step - loss: 0.7409 - mean_squared_error: 0.7409\n",
            "Epoch 17/100\n",
            "1931/1931 [==============================] - 41s 21ms/step - loss: 0.7144 - mean_squared_error: 0.7144\n",
            "Epoch 18/100\n",
            "1931/1931 [==============================] - 40s 21ms/step - loss: 0.6815 - mean_squared_error: 0.6815\n",
            "Epoch 19/100\n",
            "1931/1931 [==============================] - 40s 21ms/step - loss: 0.6614 - mean_squared_error: 0.6614\n",
            "Epoch 20/100\n",
            "1931/1931 [==============================] - 40s 21ms/step - loss: 0.6445 - mean_squared_error: 0.6445\n",
            "Epoch 21/100\n",
            "1931/1931 [==============================] - 42s 22ms/step - loss: 0.6200 - mean_squared_error: 0.6200\n",
            "Epoch 22/100\n",
            "1931/1931 [==============================] - 41s 21ms/step - loss: 0.6131 - mean_squared_error: 0.6131\n",
            "Epoch 23/100\n",
            "1931/1931 [==============================] - 42s 22ms/step - loss: 0.5900 - mean_squared_error: 0.5900\n",
            "Epoch 24/100\n",
            "1931/1931 [==============================] - 41s 21ms/step - loss: 0.5800 - mean_squared_error: 0.5800\n",
            "Epoch 25/100\n",
            "1931/1931 [==============================] - 41s 21ms/step - loss: 0.5648 - mean_squared_error: 0.5648\n",
            "Epoch 26/100\n",
            "1931/1931 [==============================] - 40s 21ms/step - loss: 0.5518 - mean_squared_error: 0.5518\n",
            "Epoch 27/100\n",
            "1931/1931 [==============================] - 40s 21ms/step - loss: 0.5398 - mean_squared_error: 0.5398\n",
            "Epoch 28/100\n",
            "1931/1931 [==============================] - 40s 21ms/step - loss: 0.5282 - mean_squared_error: 0.5282\n",
            "Epoch 29/100\n",
            "1931/1931 [==============================] - 41s 21ms/step - loss: 0.5203 - mean_squared_error: 0.5203\n",
            "Epoch 30/100\n",
            "1931/1931 [==============================] - 40s 21ms/step - loss: 0.5107 - mean_squared_error: 0.5107\n",
            "Epoch 31/100\n",
            "1931/1931 [==============================] - 40s 21ms/step - loss: 0.5013 - mean_squared_error: 0.5013\n",
            "Epoch 32/100\n",
            "1931/1931 [==============================] - 40s 21ms/step - loss: 0.4915 - mean_squared_error: 0.4915\n",
            "Epoch 33/100\n",
            "1931/1931 [==============================] - 41s 21ms/step - loss: 0.4847 - mean_squared_error: 0.4847\n",
            "Epoch 34/100\n",
            "1931/1931 [==============================] - 40s 21ms/step - loss: 0.4786 - mean_squared_error: 0.4786\n",
            "Epoch 35/100\n",
            "1931/1931 [==============================] - 41s 21ms/step - loss: 0.4674 - mean_squared_error: 0.4674\n",
            "Epoch 36/100\n",
            "1931/1931 [==============================] - 40s 21ms/step - loss: 0.4655 - mean_squared_error: 0.4655\n",
            "Epoch 37/100\n",
            "1931/1931 [==============================] - 41s 21ms/step - loss: 0.4564 - mean_squared_error: 0.4564\n",
            "Epoch 38/100\n",
            "1931/1931 [==============================] - 41s 21ms/step - loss: 0.4563 - mean_squared_error: 0.4563\n",
            "Epoch 39/100\n",
            "1931/1931 [==============================] - 41s 21ms/step - loss: 0.4475 - mean_squared_error: 0.4475\n",
            "Epoch 40/100\n",
            "1931/1931 [==============================] - 41s 21ms/step - loss: 0.4424 - mean_squared_error: 0.4424\n",
            "Epoch 41/100\n",
            "1931/1931 [==============================] - 41s 21ms/step - loss: 0.4322 - mean_squared_error: 0.4322\n",
            "Epoch 42/100\n",
            "1931/1931 [==============================] - 40s 21ms/step - loss: 0.4296 - mean_squared_error: 0.4296\n",
            "Epoch 43/100\n",
            "1931/1931 [==============================] - 40s 21ms/step - loss: 0.4189 - mean_squared_error: 0.4189\n",
            "Epoch 44/100\n",
            "1931/1931 [==============================] - 40s 21ms/step - loss: 0.4201 - mean_squared_error: 0.4201\n",
            "Epoch 45/100\n",
            "1931/1931 [==============================] - 42s 22ms/step - loss: 0.4244 - mean_squared_error: 0.4244\n",
            "Epoch 46/100\n",
            "1931/1931 [==============================] - 42s 22ms/step - loss: 0.4084 - mean_squared_error: 0.4084\n",
            "Epoch 47/100\n",
            "1931/1931 [==============================] - 42s 22ms/step - loss: 0.4020 - mean_squared_error: 0.4020\n",
            "Epoch 48/100\n",
            "1931/1931 [==============================] - 42s 22ms/step - loss: 0.3983 - mean_squared_error: 0.3983\n",
            "Epoch 49/100\n",
            "1931/1931 [==============================] - 42s 22ms/step - loss: 0.4021 - mean_squared_error: 0.4021\n",
            "Epoch 50/100\n",
            "1931/1931 [==============================] - 41s 21ms/step - loss: 0.3983 - mean_squared_error: 0.3983\n",
            "Epoch 51/100\n",
            "1931/1931 [==============================] - 41s 21ms/step - loss: 0.3926 - mean_squared_error: 0.3926\n",
            "Epoch 52/100\n",
            "1931/1931 [==============================] - 41s 21ms/step - loss: 0.3842 - mean_squared_error: 0.3842\n",
            "Epoch 53/100\n",
            "1931/1931 [==============================] - 40s 21ms/step - loss: 0.3891 - mean_squared_error: 0.3891\n",
            "Epoch 54/100\n",
            "1931/1931 [==============================] - 40s 20ms/step - loss: 0.3806 - mean_squared_error: 0.3806\n",
            "Epoch 55/100\n",
            "1931/1931 [==============================] - 40s 21ms/step - loss: 0.3801 - mean_squared_error: 0.3801\n",
            "Epoch 56/100\n",
            "1931/1931 [==============================] - 40s 20ms/step - loss: 0.3746 - mean_squared_error: 0.3746\n",
            "Epoch 57/100\n",
            "1931/1931 [==============================] - 40s 21ms/step - loss: 0.3732 - mean_squared_error: 0.3732\n",
            "Epoch 58/100\n",
            "1931/1931 [==============================] - 40s 21ms/step - loss: 0.3694 - mean_squared_error: 0.3694\n",
            "Epoch 59/100\n",
            "1931/1931 [==============================] - 41s 21ms/step - loss: 0.3599 - mean_squared_error: 0.3599\n",
            "Epoch 60/100\n",
            "1931/1931 [==============================] - 41s 21ms/step - loss: 0.3595 - mean_squared_error: 0.3595\n",
            "Epoch 61/100\n",
            "1931/1931 [==============================] - 41s 21ms/step - loss: 0.3563 - mean_squared_error: 0.3563\n",
            "Epoch 62/100\n",
            "1931/1931 [==============================] - 41s 21ms/step - loss: 0.3478 - mean_squared_error: 0.3478\n",
            "Epoch 63/100\n",
            "1931/1931 [==============================] - 41s 21ms/step - loss: 0.3575 - mean_squared_error: 0.3575\n",
            "Epoch 64/100\n",
            "1931/1931 [==============================] - 40s 21ms/step - loss: 0.3442 - mean_squared_error: 0.3442\n",
            "Epoch 65/100\n",
            "1931/1931 [==============================] - 40s 21ms/step - loss: 0.3476 - mean_squared_error: 0.3476\n",
            "Epoch 66/100\n",
            "1931/1931 [==============================] - 40s 21ms/step - loss: 0.3416 - mean_squared_error: 0.3416\n",
            "Epoch 67/100\n",
            "1931/1931 [==============================] - 41s 21ms/step - loss: 0.3417 - mean_squared_error: 0.3417\n",
            "Epoch 68/100\n",
            "1931/1931 [==============================] - 41s 21ms/step - loss: 0.3451 - mean_squared_error: 0.3451\n",
            "Epoch 69/100\n",
            "1931/1931 [==============================] - 42s 22ms/step - loss: 0.3364 - mean_squared_error: 0.3364\n",
            "Epoch 70/100\n",
            "1931/1931 [==============================] - 43s 22ms/step - loss: 0.3412 - mean_squared_error: 0.3412\n",
            "Epoch 71/100\n",
            "1931/1931 [==============================] - 43s 22ms/step - loss: 0.3365 - mean_squared_error: 0.3365\n",
            "Epoch 72/100\n",
            "1931/1931 [==============================] - 43s 22ms/step - loss: 0.3402 - mean_squared_error: 0.3402\n",
            "Epoch 73/100\n",
            "1931/1931 [==============================] - 43s 22ms/step - loss: 0.3320 - mean_squared_error: 0.3320\n",
            "Epoch 74/100\n",
            "1931/1931 [==============================] - 40s 21ms/step - loss: 0.3280 - mean_squared_error: 0.3280\n",
            "Epoch 75/100\n",
            "1931/1931 [==============================] - 41s 21ms/step - loss: 0.3239 - mean_squared_error: 0.3239\n",
            "Epoch 76/100\n",
            "1931/1931 [==============================] - 42s 22ms/step - loss: 0.3243 - mean_squared_error: 0.3243\n",
            "Epoch 77/100\n",
            "1931/1931 [==============================] - 41s 21ms/step - loss: 0.3222 - mean_squared_error: 0.3222\n",
            "Epoch 78/100\n",
            "1931/1931 [==============================] - 42s 22ms/step - loss: 0.3192 - mean_squared_error: 0.3192\n",
            "Epoch 79/100\n",
            "1931/1931 [==============================] - 43s 22ms/step - loss: 0.3269 - mean_squared_error: 0.3269\n",
            "Epoch 80/100\n",
            "1931/1931 [==============================] - 41s 21ms/step - loss: 0.3167 - mean_squared_error: 0.3167\n",
            "Epoch 81/100\n",
            "1931/1931 [==============================] - 41s 21ms/step - loss: 0.3145 - mean_squared_error: 0.3145\n",
            "Epoch 82/100\n",
            "1931/1931 [==============================] - 41s 21ms/step - loss: 0.3163 - mean_squared_error: 0.3163\n",
            "Epoch 83/100\n",
            "1931/1931 [==============================] - 40s 21ms/step - loss: 0.3097 - mean_squared_error: 0.3097\n",
            "Epoch 84/100\n",
            "1931/1931 [==============================] - 40s 21ms/step - loss: 0.3164 - mean_squared_error: 0.3164\n",
            "Epoch 85/100\n",
            "1931/1931 [==============================] - 41s 21ms/step - loss: 0.3169 - mean_squared_error: 0.3169\n",
            "Epoch 86/100\n",
            "1931/1931 [==============================] - 41s 21ms/step - loss: 0.3098 - mean_squared_error: 0.3098\n",
            "Epoch 87/100\n",
            "1931/1931 [==============================] - 41s 21ms/step - loss: 0.3067 - mean_squared_error: 0.3067\n",
            "Epoch 88/100\n",
            "1931/1931 [==============================] - 42s 21ms/step - loss: 0.3065 - mean_squared_error: 0.3065\n",
            "Epoch 89/100\n",
            "1931/1931 [==============================] - 42s 22ms/step - loss: 0.3049 - mean_squared_error: 0.3049\n",
            "Epoch 90/100\n",
            "1931/1931 [==============================] - 42s 22ms/step - loss: 0.3040 - mean_squared_error: 0.3040\n",
            "Epoch 91/100\n",
            "1931/1931 [==============================] - 42s 22ms/step - loss: 0.2989 - mean_squared_error: 0.2989\n",
            "Epoch 92/100\n",
            "1931/1931 [==============================] - 42s 22ms/step - loss: 0.3056 - mean_squared_error: 0.3056\n",
            "Epoch 93/100\n",
            "1931/1931 [==============================] - 41s 21ms/step - loss: 0.3019 - mean_squared_error: 0.3019\n",
            "Epoch 94/100\n",
            "1931/1931 [==============================] - 41s 21ms/step - loss: 0.2883 - mean_squared_error: 0.2883\n",
            "Epoch 95/100\n",
            "1931/1931 [==============================] - 40s 21ms/step - loss: 0.3034 - mean_squared_error: 0.3034\n",
            "Epoch 96/100\n",
            "1931/1931 [==============================] - 40s 21ms/step - loss: 0.3082 - mean_squared_error: 0.3082\n",
            "Epoch 97/100\n",
            "1931/1931 [==============================] - 40s 21ms/step - loss: 0.2923 - mean_squared_error: 0.2923\n",
            "Epoch 98/100\n",
            "1931/1931 [==============================] - 41s 21ms/step - loss: 0.2868 - mean_squared_error: 0.2868\n",
            "Epoch 99/100\n",
            "1931/1931 [==============================] - 41s 21ms/step - loss: 0.3032 - mean_squared_error: 0.3032\n",
            "Epoch 100/100\n",
            "1931/1931 [==============================] - 42s 22ms/step - loss: 0.3000 - mean_squared_error: 0.3000\n",
            "1931/1931 [==============================] - 13s 6ms/step\n",
            "Epoch 1/100\n"
          ]
        },
        {
          "output_type": "stream",
          "name": "stderr",
          "text": [
            "/usr/local/lib/python3.7/dist-packages/scikeras/wrappers.py:290: UserWarning: ``build_fn`` will be renamed to ``model`` in a future release, at which point use of ``build_fn`` will raise an Error instead.\n",
            "  \"``build_fn`` will be renamed to ``model`` in a future release,\"\n"
          ]
        },
        {
          "output_type": "stream",
          "name": "stdout",
          "text": [
            "1931/1931 [==============================] - 41s 21ms/step - loss: 0.6748 - mean_squared_error: 0.6748\n",
            "Epoch 2/100\n",
            "1931/1931 [==============================] - 41s 21ms/step - loss: 0.5667 - mean_squared_error: 0.5667\n",
            "Epoch 3/100\n",
            "1931/1931 [==============================] - 40s 21ms/step - loss: 0.5326 - mean_squared_error: 0.5326\n",
            "Epoch 4/100\n",
            "1931/1931 [==============================] - 41s 21ms/step - loss: 0.5095 - mean_squared_error: 0.5095\n",
            "Epoch 5/100\n",
            "1931/1931 [==============================] - 40s 21ms/step - loss: 0.4912 - mean_squared_error: 0.4912\n",
            "Epoch 6/100\n",
            "1931/1931 [==============================] - 40s 21ms/step - loss: 0.4746 - mean_squared_error: 0.4746\n",
            "Epoch 7/100\n",
            "1931/1931 [==============================] - 41s 21ms/step - loss: 0.4579 - mean_squared_error: 0.4579\n",
            "Epoch 8/100\n",
            "1931/1931 [==============================] - 41s 21ms/step - loss: 0.4591 - mean_squared_error: 0.4591\n",
            "Epoch 9/100\n",
            "1931/1931 [==============================] - 41s 21ms/step - loss: 0.4377 - mean_squared_error: 0.4377\n",
            "Epoch 10/100\n",
            "1931/1931 [==============================] - 41s 21ms/step - loss: 0.4392 - mean_squared_error: 0.4392\n",
            "Epoch 11/100\n",
            "1931/1931 [==============================] - 41s 21ms/step - loss: 0.4182 - mean_squared_error: 0.4182\n",
            "Epoch 12/100\n",
            "1931/1931 [==============================] - 41s 21ms/step - loss: 0.4163 - mean_squared_error: 0.4163\n",
            "Epoch 13/100\n",
            "1931/1931 [==============================] - 41s 21ms/step - loss: 0.4164 - mean_squared_error: 0.4164\n",
            "Epoch 14/100\n",
            "1931/1931 [==============================] - 41s 21ms/step - loss: 0.4176 - mean_squared_error: 0.4176\n",
            "Epoch 15/100\n",
            "1931/1931 [==============================] - 40s 21ms/step - loss: 0.4064 - mean_squared_error: 0.4064\n",
            "Epoch 16/100\n",
            "1931/1931 [==============================] - 40s 21ms/step - loss: 0.4014 - mean_squared_error: 0.4014\n",
            "Epoch 17/100\n",
            "1931/1931 [==============================] - 41s 21ms/step - loss: 0.3982 - mean_squared_error: 0.3982\n",
            "Epoch 18/100\n",
            "1931/1931 [==============================] - 41s 21ms/step - loss: 0.3921 - mean_squared_error: 0.3921\n",
            "Epoch 19/100\n",
            "1931/1931 [==============================] - 40s 21ms/step - loss: 0.3911 - mean_squared_error: 0.3911\n",
            "Epoch 20/100\n",
            "1931/1931 [==============================] - 41s 21ms/step - loss: 0.3758 - mean_squared_error: 0.3758\n",
            "Epoch 21/100\n",
            "1931/1931 [==============================] - 41s 21ms/step - loss: 0.3795 - mean_squared_error: 0.3795\n",
            "Epoch 22/100\n",
            "1931/1931 [==============================] - 41s 21ms/step - loss: 0.3723 - mean_squared_error: 0.3723\n",
            "Epoch 23/100\n",
            "1931/1931 [==============================] - 41s 21ms/step - loss: 0.3646 - mean_squared_error: 0.3646\n",
            "Epoch 24/100\n",
            "1931/1931 [==============================] - 40s 21ms/step - loss: 0.3728 - mean_squared_error: 0.3728\n",
            "Epoch 25/100\n",
            "1931/1931 [==============================] - 41s 21ms/step - loss: 0.3727 - mean_squared_error: 0.3727\n",
            "Epoch 26/100\n",
            "1931/1931 [==============================] - 42s 22ms/step - loss: 0.3705 - mean_squared_error: 0.3705\n",
            "Epoch 27/100\n",
            "1931/1931 [==============================] - 42s 22ms/step - loss: 0.3695 - mean_squared_error: 0.3695\n",
            "Epoch 28/100\n",
            "1931/1931 [==============================] - 44s 23ms/step - loss: 0.3589 - mean_squared_error: 0.3589\n",
            "Epoch 29/100\n",
            "1931/1931 [==============================] - 43s 22ms/step - loss: 0.3597 - mean_squared_error: 0.3597\n",
            "Epoch 30/100\n",
            "1931/1931 [==============================] - 41s 21ms/step - loss: 0.3579 - mean_squared_error: 0.3579\n",
            "Epoch 31/100\n",
            "1931/1931 [==============================] - 41s 21ms/step - loss: 0.3467 - mean_squared_error: 0.3467\n",
            "Epoch 32/100\n",
            "1931/1931 [==============================] - 45s 23ms/step - loss: 0.3604 - mean_squared_error: 0.3604\n",
            "Epoch 33/100\n",
            "1931/1931 [==============================] - 53s 27ms/step - loss: 0.3484 - mean_squared_error: 0.3484\n",
            "Epoch 34/100\n",
            "1931/1931 [==============================] - 57s 30ms/step - loss: 0.3591 - mean_squared_error: 0.3591\n",
            "Epoch 35/100\n",
            "1931/1931 [==============================] - 50s 26ms/step - loss: 0.3411 - mean_squared_error: 0.3411\n",
            "Epoch 36/100\n",
            "1931/1931 [==============================] - 43s 22ms/step - loss: 0.3479 - mean_squared_error: 0.3479\n",
            "Epoch 37/100\n",
            "1931/1931 [==============================] - 44s 23ms/step - loss: 0.3341 - mean_squared_error: 0.3341\n",
            "Epoch 38/100\n",
            "1931/1931 [==============================] - 42s 22ms/step - loss: 0.3382 - mean_squared_error: 0.3382\n",
            "Epoch 39/100\n",
            "1931/1931 [==============================] - 41s 21ms/step - loss: 0.3341 - mean_squared_error: 0.3341\n",
            "Epoch 40/100\n",
            "1931/1931 [==============================] - 43s 22ms/step - loss: 0.3380 - mean_squared_error: 0.3380\n",
            "Epoch 41/100\n",
            "1931/1931 [==============================] - 41s 21ms/step - loss: 0.3472 - mean_squared_error: 0.3472\n",
            "Epoch 42/100\n",
            "1927/1931 [============================>.] - ETA: 0s - loss: 0.3313 - mean_squared_error: 0.3313"
          ]
        }
      ]
    },
    {
      "cell_type": "code",
      "source": [
        "score = model_adaboostgru.score(X_test_t, y_test, batch_size=32)\n",
        "print(score)"
      ],
      "metadata": {
        "id": "yZhIb6uGKe-E"
      },
      "execution_count": null,
      "outputs": []
    },
    {
      "cell_type": "code",
      "source": [
        ""
      ],
      "metadata": {
        "id": "sC0Ua5ICKe7E"
      },
      "execution_count": null,
      "outputs": []
    },
    {
      "cell_type": "code",
      "source": [
        ""
      ],
      "metadata": {
        "id": "rrwc08UQktHm"
      },
      "execution_count": null,
      "outputs": []
    },
    {
      "cell_type": "markdown",
      "source": [
        "##Result-Loss"
      ],
      "metadata": {
        "id": "wviTnvT9jWMP"
      }
    },
    {
      "cell_type": "code",
      "source": [
        "figs, loss_ax = plt.subplots()\n",
        "loss_ax.plot(hist_ffill.history['loss'],'y',label='ffill', color='green')\n",
        "loss_ax.plot(hist_interpolate.history['loss'],'y',label='interpolate', color='red')\n",
        "loss_ax.plot(hist_mean.history['loss'],'y',label='mean', color='orange')\n",
        "loss_ax.plot(hist_median.history['loss'],'y',label='median', color='yellow')\n",
        "loss_ax.plot(hist_knn.history['loss'],'y',label='knn', color='blue')\n",
        "loss_ax.plot(hist_missForest.history['loss'],'y',label='missForest', color='purple')\n",
        "loss_ax.plot(hist_mice.history['loss'],'y',label='MICE', color='gray')\n",
        "\n",
        "loss_ax.legend(loc='upper left')\n",
        "loss_ax.set_xlabel('epoch')\n",
        "loss_ax.set_ylabel('loss(MSE)')\n",
        "\n",
        "\n",
        "plt.show()"
      ],
      "metadata": {
        "colab": {
          "base_uri": "https://localhost:8080/",
          "height": 279
        },
        "id": "ZnkXNHTiMesW",
        "outputId": "8cd31b7a-7580-4830-da53-4286078bd299"
      },
      "execution_count": null,
      "outputs": [
        {
          "output_type": "display_data",
          "data": {
            "image/png": "[encoded data removed]",
            "text/plain": [
              "<Figure size 432x288 with 1 Axes>"
            ]
          },
          "metadata": {
            "needs_background": "light"
          }
        }
      ]
    },
    {
      "cell_type": "code",
      "source": [
        ""
      ],
      "metadata": {
        "id": "7YE1zDx2aB-h"
      },
      "execution_count": null,
      "outputs": []
    },
    {
      "cell_type": "code",
      "source": [
        ""
      ],
      "metadata": {
        "id": "p9MvxtfsaB7Q"
      },
      "execution_count": null,
      "outputs": []
    },
    {
      "cell_type": "code",
      "source": [
        ""
      ],
      "metadata": {
        "id": "u8nVH_wIaB4u"
      },
      "execution_count": null,
      "outputs": []
    },
    {
      "cell_type": "code",
      "source": [
        ""
      ],
      "metadata": {
        "id": "NRrQMKVJaB1w"
      },
      "execution_count": null,
      "outputs": []
    },
    {
      "cell_type": "code",
      "source": [
        ""
      ],
      "metadata": {
        "id": "JA0VzJqkaB0E"
      },
      "execution_count": null,
      "outputs": []
    },
    {
      "cell_type": "code",
      "source": [
        ""
      ],
      "metadata": {
        "id": "9HGwofMAaByP"
      },
      "execution_count": null,
      "outputs": []
    },
    {
      "cell_type": "code",
      "source": [
        ""
      ],
      "metadata": {
        "id": "QKsGultjaBu-"
      },
      "execution_count": null,
      "outputs": []
    },
    {
      "cell_type": "code",
      "source": [
        ""
      ],
      "metadata": {
        "id": "-MqreSFvaBrX"
      },
      "execution_count": null,
      "outputs": []
    },
    {
      "cell_type": "code",
      "source": [
        ""
      ],
      "metadata": {
        "id": "UOgBiISFaBn3"
      },
      "execution_count": null,
      "outputs": []
    },
    {
      "cell_type": "code",
      "source": [
        ""
      ],
      "metadata": {
        "id": "v7v2Aj03hb-L"
      },
      "execution_count": null,
      "outputs": []
    },
    {
      "cell_type": "markdown",
      "source": [
        "Adaboost-GRU 적용"
      ],
      "metadata": {
        "id": "4K6kr502LJmY"
      }
    },
    {
      "cell_type": "code",
      "source": [
        "from keras.layers.recurrent_v2 import GRU\n",
        "from keras.wrappers.scikit_learn import KerasRegressor\n",
        "from sklearn.ensemble import AdaBoostRegressor\n",
        "K.clear_session()\n",
        "    \n",
        "model_gru = Sequential() # Sequeatial Model \n",
        "model_gru.add(GRU(units=128,input_shape=(11, 1)))\n",
        "model_gru.add(Dense(1)) # output = 1 \n",
        "model_gru.compile(loss='mean_squared_error', optimizer='adam') \n",
        "model_gru.summary()"
      ],
      "metadata": {
        "colab": {
          "base_uri": "https://localhost:8080/"
        },
        "id": "JjJMXRcbLNKh",
        "outputId": "10a81c1f-33d2-4296-a2be-b52e998c49d8"
      },
      "execution_count": null,
      "outputs": [
        {
          "output_type": "stream",
          "name": "stdout",
          "text": [
            "Model: \"sequential\"\n",
            "_________________________________________________________________\n",
            " Layer (type)                Output Shape              Param #   \n",
            "=================================================================\n",
            " gru (GRU)                   (None, 128)               50304     \n",
            "                                                                 \n",
            " dense (Dense)               (None, 1)                 129       \n",
            "                                                                 \n",
            "=================================================================\n",
            "Total params: 50,433\n",
            "Trainable params: 50,433\n",
            "Non-trainable params: 0\n",
            "_________________________________________________________________\n"
          ]
        }
      ]
    },
    {
      "cell_type": "code",
      "source": [
        "#kerasRegressor로 분류기 만든 뒤, AdaBoostRegressor로 최종 결합\n",
        "GRU_Predictors = KerasRegressor(build_fn=lambda:model_gru, epochs=20, batch_size=30)\n",
        "model_adaboostgru = AdaBoostRegressor(GRU_Predictors, n_estimators=5, random_state=42)"
      ],
      "metadata": {
        "colab": {
          "base_uri": "https://localhost:8080/"
        },
        "id": "ZQQA70CGLNIV",
        "outputId": "6d7a8bf8-33c7-451f-b743-e17feed5a65e"
      },
      "execution_count": null,
      "outputs": [
        {
          "output_type": "stream",
          "name": "stderr",
          "text": [
            "/usr/local/lib/python3.7/dist-packages/ipykernel_launcher.py:2: DeprecationWarning: KerasRegressor is deprecated, use Sci-Keras (https://github.com/adriangb/scikeras) instead.\n",
            "  \n"
          ]
        }
      ]
    },
    {
      "cell_type": "code",
      "source": [
        "tf.keras.utils.plot_model(\n",
        "    model=model_adaboostgru, to_file=\"adaboostgru_model.png\", show_shapes=False, rankdir=\"LR\")"
      ],
      "metadata": {
        "colab": {
          "base_uri": "https://localhost:8080/",
          "height": 321
        },
        "id": "V3HlyBZuLNFv",
        "outputId": "b15f8df2-00e9-4d48-a305-d36f005ba7b3"
      },
      "execution_count": null,
      "outputs": [
        {
          "output_type": "error",
          "ename": "AttributeError",
          "evalue": "ignored",
          "traceback": [
            "\u001b[0;31m---------------------------------------------------------------------------\u001b[0m",
            "\u001b[0;31mAttributeError\u001b[0m                            Traceback (most recent call last)",
            "\u001b[0;32m<ipython-input-39-0d268e55710b>\u001b[0m in \u001b[0;36m<module>\u001b[0;34m()\u001b[0m\n\u001b[1;32m      1\u001b[0m tf.keras.utils.plot_model(\n\u001b[0;32m----> 2\u001b[0;31m     model=model_adaboostgru, to_file=\"adaboostgru_model.png\", show_shapes=False, rankdir=\"LR\")\n\u001b[0m",
            "\u001b[0;32m/usr/local/lib/python3.7/dist-packages/keras/utils/vis_utils.py\u001b[0m in \u001b[0;36mplot_model\u001b[0;34m(model, to_file, show_shapes, show_dtype, show_layer_names, rankdir, expand_nested, dpi, layer_range, show_layer_activations)\u001b[0m\n\u001b[1;32m    410\u001b[0m   \"\"\"\n\u001b[1;32m    411\u001b[0m \u001b[0;34m\u001b[0m\u001b[0m\n\u001b[0;32m--> 412\u001b[0;31m   \u001b[0;32mif\u001b[0m \u001b[0;32mnot\u001b[0m \u001b[0mmodel\u001b[0m\u001b[0;34m.\u001b[0m\u001b[0mbuilt\u001b[0m\u001b[0;34m:\u001b[0m\u001b[0;34m\u001b[0m\u001b[0;34m\u001b[0m\u001b[0m\n\u001b[0m\u001b[1;32m    413\u001b[0m     raise ValueError('This model has not yet been built. '\n\u001b[1;32m    414\u001b[0m                      \u001b[0;34m'Build the model first by calling `build()` or by calling '\u001b[0m\u001b[0;34m\u001b[0m\u001b[0;34m\u001b[0m\u001b[0m\n",
            "\u001b[0;31mAttributeError\u001b[0m: 'AdaBoostRegressor' object has no attribute 'built'"
          ]
        }
      ]
    },
    {
      "cell_type": "code",
      "source": [
        "early_stop = EarlyStopping(monitor='loss', patience=1, verbose=1)\n",
        "\n",
        "model_adaboostgru.fit(X_train_t, y_train)"
      ],
      "metadata": {
        "colab": {
          "base_uri": "https://localhost:8080/"
        },
        "id": "bdNM_tt0LNDE",
        "outputId": "598b00db-b598-4fc4-99cc-1a4771494ae4"
      },
      "execution_count": null,
      "outputs": [
        {
          "output_type": "stream",
          "name": "stdout",
          "text": [
            "Epoch 1/20\n",
            "163/163 [==============================] - 8s 17ms/step - loss: 2.4938\n",
            "Epoch 2/20\n",
            "163/163 [==============================] - 2s 11ms/step - loss: 2.2141\n",
            "Epoch 3/20\n",
            "163/163 [==============================] - 2s 11ms/step - loss: 2.0998\n",
            "Epoch 4/20\n",
            "163/163 [==============================] - 2s 12ms/step - loss: 1.9472\n",
            "Epoch 5/20\n",
            "163/163 [==============================] - 2s 11ms/step - loss: 1.8790\n",
            "Epoch 6/20\n",
            "163/163 [==============================] - 2s 11ms/step - loss: 1.8372\n",
            "Epoch 7/20\n",
            "163/163 [==============================] - 2s 11ms/step - loss: 1.8269\n",
            "Epoch 8/20\n",
            "163/163 [==============================] - 2s 12ms/step - loss: 1.8008\n",
            "Epoch 9/20\n",
            "163/163 [==============================] - 2s 11ms/step - loss: 1.6986\n",
            "Epoch 10/20\n",
            "163/163 [==============================] - 2s 12ms/step - loss: 1.6416\n",
            "Epoch 11/20\n",
            "163/163 [==============================] - 2s 12ms/step - loss: 1.5445\n",
            "Epoch 12/20\n",
            "163/163 [==============================] - 2s 11ms/step - loss: 1.4268\n",
            "Epoch 13/20\n",
            "163/163 [==============================] - 2s 12ms/step - loss: 1.4092\n",
            "Epoch 14/20\n",
            "163/163 [==============================] - 2s 12ms/step - loss: 1.3683\n",
            "Epoch 15/20\n",
            "163/163 [==============================] - 2s 12ms/step - loss: 1.2978\n",
            "Epoch 16/20\n",
            "163/163 [==============================] - 2s 12ms/step - loss: 1.2886\n",
            "Epoch 17/20\n",
            "163/163 [==============================] - 2s 12ms/step - loss: 1.2382\n",
            "Epoch 18/20\n",
            "163/163 [==============================] - 2s 12ms/step - loss: 1.2099\n",
            "Epoch 19/20\n",
            "163/163 [==============================] - 2s 12ms/step - loss: 1.1981\n",
            "Epoch 20/20\n",
            "163/163 [==============================] - 2s 12ms/step - loss: 1.1655\n",
            "Epoch 1/20\n",
            "163/163 [==============================] - 2s 12ms/step - loss: 1.4940\n",
            "Epoch 2/20\n",
            "163/163 [==============================] - 2s 12ms/step - loss: 1.4387\n",
            "Epoch 3/20\n",
            "163/163 [==============================] - 2s 12ms/step - loss: 1.3938\n",
            "Epoch 4/20\n",
            "163/163 [==============================] - 2s 12ms/step - loss: 1.3391\n",
            "Epoch 5/20\n",
            "163/163 [==============================] - 2s 12ms/step - loss: 1.3031\n",
            "Epoch 6/20\n",
            "163/163 [==============================] - 2s 12ms/step - loss: 1.3217\n",
            "Epoch 7/20\n",
            "163/163 [==============================] - 2s 12ms/step - loss: 1.2655\n",
            "Epoch 8/20\n",
            "163/163 [==============================] - 2s 12ms/step - loss: 1.2414\n",
            "Epoch 9/20\n",
            "163/163 [==============================] - 2s 12ms/step - loss: 1.2170\n",
            "Epoch 10/20\n",
            "163/163 [==============================] - 2s 12ms/step - loss: 1.1662\n",
            "Epoch 11/20\n",
            "163/163 [==============================] - 2s 12ms/step - loss: 1.1211\n",
            "Epoch 12/20\n",
            "163/163 [==============================] - 2s 12ms/step - loss: 1.0981\n",
            "Epoch 13/20\n",
            "163/163 [==============================] - 2s 13ms/step - loss: 1.0704\n",
            "Epoch 14/20\n",
            "163/163 [==============================] - 2s 13ms/step - loss: 1.0635\n",
            "Epoch 15/20\n",
            "163/163 [==============================] - 2s 13ms/step - loss: 1.0320\n",
            "Epoch 16/20\n",
            "163/163 [==============================] - 2s 13ms/step - loss: 0.9892\n",
            "Epoch 17/20\n",
            "163/163 [==============================] - 2s 12ms/step - loss: 0.9820\n",
            "Epoch 18/20\n",
            "163/163 [==============================] - 2s 12ms/step - loss: 0.9597\n",
            "Epoch 19/20\n",
            "163/163 [==============================] - 2s 12ms/step - loss: 0.9589\n",
            "Epoch 20/20\n",
            "163/163 [==============================] - 2s 12ms/step - loss: 0.9201\n",
            "Epoch 1/20\n",
            "163/163 [==============================] - 2s 12ms/step - loss: 1.3723\n",
            "Epoch 2/20\n",
            "163/163 [==============================] - 2s 12ms/step - loss: 1.2684\n",
            "Epoch 3/20\n",
            "163/163 [==============================] - 2s 12ms/step - loss: 1.2236\n",
            "Epoch 4/20\n",
            "163/163 [==============================] - 2s 12ms/step - loss: 1.2082\n",
            "Epoch 5/20\n",
            "163/163 [==============================] - 2s 12ms/step - loss: 1.1539\n",
            "Epoch 6/20\n",
            "163/163 [==============================] - 2s 12ms/step - loss: 1.1578\n",
            "Epoch 7/20\n",
            "163/163 [==============================] - 2s 12ms/step - loss: 1.1045\n",
            "Epoch 8/20\n",
            "163/163 [==============================] - 2s 12ms/step - loss: 1.0632\n",
            "Epoch 9/20\n",
            "163/163 [==============================] - 2s 12ms/step - loss: 1.0452\n",
            "Epoch 10/20\n",
            "163/163 [==============================] - 2s 12ms/step - loss: 1.0042\n",
            "Epoch 11/20\n",
            "163/163 [==============================] - 2s 12ms/step - loss: 1.0179\n",
            "Epoch 12/20\n",
            "163/163 [==============================] - 2s 12ms/step - loss: 0.9845\n",
            "Epoch 13/20\n",
            "163/163 [==============================] - 2s 11ms/step - loss: 0.9471\n",
            "Epoch 14/20\n",
            "163/163 [==============================] - 2s 11ms/step - loss: 0.9196\n",
            "Epoch 15/20\n",
            "163/163 [==============================] - 2s 12ms/step - loss: 0.9071\n",
            "Epoch 16/20\n",
            "163/163 [==============================] - 2s 12ms/step - loss: 0.9231\n",
            "Epoch 17/20\n",
            "163/163 [==============================] - 2s 12ms/step - loss: 0.8885\n",
            "Epoch 18/20\n",
            "163/163 [==============================] - 2s 12ms/step - loss: 0.8428\n",
            "Epoch 19/20\n",
            "163/163 [==============================] - 2s 12ms/step - loss: 0.8155\n",
            "Epoch 20/20\n",
            "163/163 [==============================] - 2s 12ms/step - loss: 0.8054\n",
            "Epoch 1/20\n",
            "163/163 [==============================] - 2s 11ms/step - loss: 1.2483\n",
            "Epoch 2/20\n",
            "163/163 [==============================] - 2s 12ms/step - loss: 1.1642\n",
            "Epoch 3/20\n",
            "163/163 [==============================] - 2s 12ms/step - loss: 1.0800\n",
            "Epoch 4/20\n",
            "163/163 [==============================] - 2s 12ms/step - loss: 1.0722\n",
            "Epoch 5/20\n",
            "163/163 [==============================] - 2s 12ms/step - loss: 1.0202\n",
            "Epoch 6/20\n",
            "163/163 [==============================] - 2s 12ms/step - loss: 0.9236\n",
            "Epoch 7/20\n",
            "163/163 [==============================] - 2s 12ms/step - loss: 0.9054\n",
            "Epoch 8/20\n",
            "163/163 [==============================] - 2s 11ms/step - loss: 0.8724\n",
            "Epoch 9/20\n",
            "163/163 [==============================] - 2s 12ms/step - loss: 0.8508\n",
            "Epoch 10/20\n",
            "163/163 [==============================] - 2s 12ms/step - loss: 0.8286\n",
            "Epoch 11/20\n",
            "163/163 [==============================] - 2s 12ms/step - loss: 0.8235\n",
            "Epoch 12/20\n",
            "163/163 [==============================] - 2s 12ms/step - loss: 0.7709\n",
            "Epoch 13/20\n",
            "163/163 [==============================] - 2s 13ms/step - loss: 0.7821\n",
            "Epoch 14/20\n",
            "163/163 [==============================] - 2s 12ms/step - loss: 0.7404\n",
            "Epoch 15/20\n",
            "163/163 [==============================] - 2s 11ms/step - loss: 0.7440\n",
            "Epoch 16/20\n",
            "163/163 [==============================] - 2s 12ms/step - loss: 0.7089\n",
            "Epoch 17/20\n",
            "163/163 [==============================] - 2s 12ms/step - loss: 0.6965\n",
            "Epoch 18/20\n",
            "163/163 [==============================] - 2s 12ms/step - loss: 0.6849\n",
            "Epoch 19/20\n",
            "163/163 [==============================] - 2s 12ms/step - loss: 0.6719\n",
            "Epoch 20/20\n",
            "163/163 [==============================] - 2s 12ms/step - loss: 0.7024\n",
            "Epoch 1/20\n",
            "163/163 [==============================] - 2s 12ms/step - loss: 1.0656\n",
            "Epoch 2/20\n",
            "163/163 [==============================] - 2s 12ms/step - loss: 0.9459\n",
            "Epoch 3/20\n",
            "163/163 [==============================] - 2s 12ms/step - loss: 0.8636\n",
            "Epoch 4/20\n",
            "163/163 [==============================] - 2s 12ms/step - loss: 0.7907\n",
            "Epoch 5/20\n",
            "163/163 [==============================] - 2s 12ms/step - loss: 0.7706\n",
            "Epoch 6/20\n",
            "163/163 [==============================] - 2s 12ms/step - loss: 0.7925\n",
            "Epoch 7/20\n",
            "163/163 [==============================] - 2s 12ms/step - loss: 0.7421\n",
            "Epoch 8/20\n",
            "163/163 [==============================] - 2s 12ms/step - loss: 0.7038\n",
            "Epoch 9/20\n",
            "163/163 [==============================] - 2s 12ms/step - loss: 0.6833\n",
            "Epoch 10/20\n",
            "163/163 [==============================] - 2s 12ms/step - loss: 0.6893\n",
            "Epoch 11/20\n",
            "163/163 [==============================] - 2s 12ms/step - loss: 0.6566\n",
            "Epoch 12/20\n",
            "163/163 [==============================] - 2s 12ms/step - loss: 0.6803\n",
            "Epoch 13/20\n",
            "163/163 [==============================] - 2s 12ms/step - loss: 0.7336\n",
            "Epoch 14/20\n",
            "163/163 [==============================] - 2s 12ms/step - loss: 0.6281\n",
            "Epoch 15/20\n",
            "163/163 [==============================] - 2s 12ms/step - loss: 0.6584\n",
            "Epoch 16/20\n",
            "163/163 [==============================] - 2s 12ms/step - loss: 0.7355\n",
            "Epoch 17/20\n",
            "163/163 [==============================] - 2s 12ms/step - loss: 0.5867\n",
            "Epoch 18/20\n",
            "163/163 [==============================] - 2s 12ms/step - loss: 0.5931\n",
            "Epoch 19/20\n",
            "163/163 [==============================] - 2s 12ms/step - loss: 0.5951\n",
            "Epoch 20/20\n",
            "163/163 [==============================] - 2s 12ms/step - loss: 0.5814\n"
          ]
        },
        {
          "output_type": "execute_result",
          "data": {
            "text/plain": [
              "AdaBoostRegressor(base_estimator=<keras.wrappers.scikit_learn.KerasRegressor object at 0x7fb175d03550>,\n",
              "                  n_estimators=5, random_state=42)"
            ]
          },
          "metadata": {},
          "execution_count": 44
        }
      ]
    },
    {
      "cell_type": "code",
      "source": [
        ""
      ],
      "metadata": {
        "id": "cGsEiX64Ib3n"
      },
      "execution_count": null,
      "outputs": []
    },
    {
      "cell_type": "code",
      "source": [
        ""
      ],
      "metadata": {
        "id": "3AqC6mzRIb03"
      },
      "execution_count": null,
      "outputs": []
    },
    {
      "cell_type": "code",
      "source": [
        ""
      ],
      "metadata": {
        "id": "E000CavnIbyO"
      },
      "execution_count": null,
      "outputs": []
    },
    {
      "cell_type": "code",
      "source": [
        ""
      ],
      "metadata": {
        "id": "mvXAHzW5Ibvw"
      },
      "execution_count": null,
      "outputs": []
    },
    {
      "cell_type": "code",
      "source": [
        ""
      ],
      "metadata": {
        "id": "938-nwlDIbtE"
      },
      "execution_count": null,
      "outputs": []
    },
    {
      "cell_type": "code",
      "source": [
        ""
      ],
      "metadata": {
        "id": "j4GzGbf4Ibqf"
      },
      "execution_count": null,
      "outputs": []
    },
    {
      "cell_type": "code",
      "source": [
        ""
      ],
      "metadata": {
        "id": "sCLceu5ZIbns"
      },
      "execution_count": null,
      "outputs": []
    },
    {
      "cell_type": "code",
      "source": [
        ""
      ],
      "metadata": {
        "id": "qoIeOSCZIbk0"
      },
      "execution_count": null,
      "outputs": []
    },
    {
      "cell_type": "code",
      "source": [
        ""
      ],
      "metadata": {
        "id": "4ouqqtL0FMgb"
      },
      "execution_count": null,
      "outputs": []
    },
    {
      "cell_type": "code",
      "source": [
        "preds = model.predict(X_test_t)\n",
        "\n",
        "plt.plot(preds[:600], label='prediction')\n",
        "plt.plot(y_test[:600], label='true')\n",
        "plt.axvline(x=len(y_test)-len(preds), color='r')\n",
        "plt.legend()\n",
        "plt.show()"
      ],
      "metadata": {
        "colab": {
          "base_uri": "https://localhost:8080/",
          "height": 265
        },
        "id": "vMnEQ0477eLl",
        "outputId": "002f15b3-a482-4b32-c066-f6d59696e982"
      },
      "execution_count": null,
      "outputs": [
        {
          "output_type": "display_data",
          "data": {
            "image/png": "[encoded data removed]",
            "text/plain": [
              "<Figure size 432x288 with 1 Axes>"
            ]
          },
          "metadata": {
            "needs_background": "light"
          }
        }
      ]
    },
    {
      "cell_type": "code",
      "source": [
        ""
      ],
      "metadata": {
        "id": "jrkPK-e97eI9"
      },
      "execution_count": null,
      "outputs": []
    },
    {
      "cell_type": "code",
      "source": [
        ""
      ],
      "metadata": {
        "id": "Inno8Nsl7eGV"
      },
      "execution_count": null,
      "outputs": []
    },
    {
      "cell_type": "code",
      "source": [
        ""
      ],
      "metadata": {
        "id": "7CDBlzJD7eDn"
      },
      "execution_count": null,
      "outputs": []
    },
    {
      "cell_type": "code",
      "source": [
        ""
      ],
      "metadata": {
        "id": "uSwnT3nG7d8n"
      },
      "execution_count": null,
      "outputs": []
    },
    {
      "cell_type": "code",
      "source": [
        ""
      ],
      "metadata": {
        "id": "-IzHMfzd2Lq_"
      },
      "execution_count": null,
      "outputs": []
    },
    {
      "cell_type": "markdown",
      "source": [
        "Define a DNN model"
      ],
      "metadata": {
        "id": "X0z5QhYe2bKy"
      }
    },
    {
      "cell_type": "code",
      "source": [
        "import os\n",
        "\n",
        "import tensorflow as tf\n",
        "import datetime\n",
        "\n",
        "from tensorflow import keras\n",
        "from tensorflow.keras import layers\n",
        "from tensorflow import feature_column as fc\n",
        "\n"
      ],
      "metadata": {
        "id": "M_DFHC6-NNQz"
      },
      "execution_count": null,
      "outputs": []
    },
    {
      "cell_type": "code",
      "source": [
        "df_fc = df_raw_data\n",
        "df_fc.head()"
      ],
      "metadata": {
        "colab": {
          "base_uri": "https://localhost:8080/",
          "height": 206
        },
        "id": "F46CHUJsQJc1",
        "outputId": "50daa21e-d8dd-42b7-bfb7-2da8f29e2108"
      },
      "execution_count": null,
      "outputs": [
        {
          "output_type": "execute_result",
          "data": {
            "text/html": [
              "\n",
              "  <div id=\"df-afd14861-a249-41f4-acfe-fda49eecca46\">\n",
              "    <div class=\"colab-df-container\">\n",
              "      <div>\n",
              "<style scoped>\n",
              "    .dataframe tbody tr th:only-of-type {\n",
              "        vertical-align: middle;\n",
              "    }\n",
              "\n",
              "    .dataframe tbody tr th {\n",
              "        vertical-align: top;\n",
              "    }\n",
              "\n",
              "    .dataframe thead th {\n",
              "        text-align: right;\n",
              "    }\n",
              "</style>\n",
              "<table border=\"1\" class=\"dataframe\">\n",
              "  <thead>\n",
              "    <tr style=\"text-align: right;\">\n",
              "      <th></th>\n",
              "      <th>station_name</th>\n",
              "      <th>holiday</th>\n",
              "      <th>day_week</th>\n",
              "      <th>weekend</th>\n",
              "      <th>temperature</th>\n",
              "      <th>humid</th>\n",
              "      <th>precipitation</th>\n",
              "      <th>precipitation_type</th>\n",
              "      <th>year</th>\n",
              "      <th>month</th>\n",
              "      <th>day</th>\n",
              "      <th>hour</th>\n",
              "      <th>minute</th>\n",
              "      <th>total_car_num</th>\n",
              "    </tr>\n",
              "  </thead>\n",
              "  <tbody>\n",
              "    <tr>\n",
              "      <th>0</th>\n",
              "      <td>26</td>\n",
              "      <td>0</td>\n",
              "      <td>3</td>\n",
              "      <td>0</td>\n",
              "      <td>23.0</td>\n",
              "      <td>52.0</td>\n",
              "      <td>0.0</td>\n",
              "      <td>0.0</td>\n",
              "      <td>2020</td>\n",
              "      <td>9</td>\n",
              "      <td>17</td>\n",
              "      <td>21</td>\n",
              "      <td>20</td>\n",
              "      <td>2</td>\n",
              "    </tr>\n",
              "    <tr>\n",
              "      <th>1</th>\n",
              "      <td>26</td>\n",
              "      <td>0</td>\n",
              "      <td>3</td>\n",
              "      <td>0</td>\n",
              "      <td>23.0</td>\n",
              "      <td>52.0</td>\n",
              "      <td>0.0</td>\n",
              "      <td>0.0</td>\n",
              "      <td>2020</td>\n",
              "      <td>9</td>\n",
              "      <td>17</td>\n",
              "      <td>21</td>\n",
              "      <td>38</td>\n",
              "      <td>3</td>\n",
              "    </tr>\n",
              "    <tr>\n",
              "      <th>2</th>\n",
              "      <td>26</td>\n",
              "      <td>0</td>\n",
              "      <td>4</td>\n",
              "      <td>0</td>\n",
              "      <td>25.3</td>\n",
              "      <td>38.0</td>\n",
              "      <td>0.0</td>\n",
              "      <td>0.0</td>\n",
              "      <td>2020</td>\n",
              "      <td>9</td>\n",
              "      <td>18</td>\n",
              "      <td>16</td>\n",
              "      <td>45</td>\n",
              "      <td>4</td>\n",
              "    </tr>\n",
              "    <tr>\n",
              "      <th>3</th>\n",
              "      <td>26</td>\n",
              "      <td>0</td>\n",
              "      <td>4</td>\n",
              "      <td>0</td>\n",
              "      <td>25.3</td>\n",
              "      <td>38.0</td>\n",
              "      <td>0.0</td>\n",
              "      <td>0.0</td>\n",
              "      <td>2020</td>\n",
              "      <td>9</td>\n",
              "      <td>18</td>\n",
              "      <td>16</td>\n",
              "      <td>50</td>\n",
              "      <td>4</td>\n",
              "    </tr>\n",
              "    <tr>\n",
              "      <th>4</th>\n",
              "      <td>26</td>\n",
              "      <td>0</td>\n",
              "      <td>4</td>\n",
              "      <td>0</td>\n",
              "      <td>25.3</td>\n",
              "      <td>38.0</td>\n",
              "      <td>0.0</td>\n",
              "      <td>0.0</td>\n",
              "      <td>2020</td>\n",
              "      <td>9</td>\n",
              "      <td>18</td>\n",
              "      <td>16</td>\n",
              "      <td>55</td>\n",
              "      <td>4</td>\n",
              "    </tr>\n",
              "  </tbody>\n",
              "</table>\n",
              "</div>\n",
              "      <button class=\"colab-df-convert\" onclick=\"convertToInteractive('df-afd14861-a249-41f4-acfe-fda49eecca46')\"\n",
              "              title=\"Convert this dataframe to an interactive table.\"\n",
              "              style=\"display:none;\">\n",
              "        \n",
              "  <svg xmlns=\"http://www.w3.org/2000/svg\" height=\"24px\"viewBox=\"0 0 24 24\"\n",
              "       width=\"24px\">\n",
              "    <path d=\"M0 0h24v24H0V0z\" fill=\"none\"/>\n",
              "    <path d=\"M18.56 5.44l.94 2.06.94-2.06 2.06-.94-2.06-.94-.94-2.06-.94 2.06-2.06.94zm-11 1L8.5 8.5l.94-2.06 2.06-.94-2.06-.94L8.5 2.5l-.94 2.06-2.06.94zm10 10l.94 2.06.94-2.06 2.06-.94-2.06-.94-.94-2.06-.94 2.06-2.06.94z\"/><path d=\"M17.41 7.96l-1.37-1.37c-.4-.4-.92-.59-1.43-.59-.52 0-1.04.2-1.43.59L10.3 9.45l-7.72 7.72c-.78.78-.78 2.05 0 2.83L4 21.41c.39.39.9.59 1.41.59.51 0 1.02-.2 1.41-.59l7.78-7.78 2.81-2.81c.8-.78.8-2.07 0-2.86zM5.41 20L4 18.59l7.72-7.72 1.47 1.35L5.41 20z\"/>\n",
              "  </svg>\n",
              "      </button>\n",
              "      \n",
              "  <style>\n",
              "    .colab-df-container {\n",
              "      display:flex;\n",
              "      flex-wrap:wrap;\n",
              "      gap: 12px;\n",
              "    }\n",
              "\n",
              "    .colab-df-convert {\n",
              "      background-color: #E8F0FE;\n",
              "      border: none;\n",
              "      border-radius: 50%;\n",
              "      cursor: pointer;\n",
              "      display: none;\n",
              "      fill: #1967D2;\n",
              "      height: 32px;\n",
              "      padding: 0 0 0 0;\n",
              "      width: 32px;\n",
              "    }\n",
              "\n",
              "    .colab-df-convert:hover {\n",
              "      background-color: #E2EBFA;\n",
              "      box-shadow: 0px 1px 2px rgba(60, 64, 67, 0.3), 0px 1px 3px 1px rgba(60, 64, 67, 0.15);\n",
              "      fill: #174EA6;\n",
              "    }\n",
              "\n",
              "    [theme=dark] .colab-df-convert {\n",
              "      background-color: #3B4455;\n",
              "      fill: #D2E3FC;\n",
              "    }\n",
              "\n",
              "    [theme=dark] .colab-df-convert:hover {\n",
              "      background-color: #434B5C;\n",
              "      box-shadow: 0px 1px 3px 1px rgba(0, 0, 0, 0.15);\n",
              "      filter: drop-shadow(0px 1px 2px rgba(0, 0, 0, 0.3));\n",
              "      fill: #FFFFFF;\n",
              "    }\n",
              "  </style>\n",
              "\n",
              "      <script>\n",
              "        const buttonEl =\n",
              "          document.querySelector('#df-afd14861-a249-41f4-acfe-fda49eecca46 button.colab-df-convert');\n",
              "        buttonEl.style.display =\n",
              "          google.colab.kernel.accessAllowed ? 'block' : 'none';\n",
              "\n",
              "        async function convertToInteractive(key) {\n",
              "          const element = document.querySelector('#df-afd14861-a249-41f4-acfe-fda49eecca46');\n",
              "          const dataTable =\n",
              "            await google.colab.kernel.invokeFunction('convertToInteractive',\n",
              "                                                     [key], {});\n",
              "          if (!dataTable) return;\n",
              "\n",
              "          const docLinkHtml = 'Like what you see? Visit the ' +\n",
              "            '<a target=\"_blank\" href=https://colab.research.google.com/notebooks/data_table.ipynb>data table notebook</a>'\n",
              "            + ' to learn more about interactive tables.';\n",
              "          element.innerHTML = '';\n",
              "          dataTable['output_type'] = 'display_data';\n",
              "          await google.colab.output.renderOutput(dataTable, element);\n",
              "          const docLink = document.createElement('div');\n",
              "          docLink.innerHTML = docLinkHtml;\n",
              "          element.appendChild(docLink);\n",
              "        }\n",
              "      </script>\n",
              "    </div>\n",
              "  </div>\n",
              "  "
            ],
            "text/plain": [
              "   station_name  holiday  day_week  weekend  ...  day  hour  minute  total_car_num\n",
              "0            26        0         3        0  ...   17    21      20              2\n",
              "1            26        0         3        0  ...   17    21      38              3\n",
              "2            26        0         4        0  ...   18    16      45              4\n",
              "3            26        0         4        0  ...   18    16      50              4\n",
              "4            26        0         4        0  ...   18    16      55              4\n",
              "\n",
              "[5 rows x 14 columns]"
            ]
          },
          "metadata": {},
          "execution_count": 21
        }
      ]
    },
    {
      "cell_type": "code",
      "source": [
        "df_fc.info()"
      ],
      "metadata": {
        "colab": {
          "base_uri": "https://localhost:8080/"
        },
        "id": "Q_rG_bfRC_YH",
        "outputId": "03328498-b7c8-4957-b4bf-4efa5ac09b97"
      },
      "execution_count": null,
      "outputs": [
        {
          "output_type": "stream",
          "name": "stdout",
          "text": [
            "<class 'pandas.core.frame.DataFrame'>\n",
            "Int64Index: 6108 entries, 0 to 6116\n",
            "Data columns (total 14 columns):\n",
            " #   Column              Non-Null Count  Dtype  \n",
            "---  ------              --------------  -----  \n",
            " 0   station_name        6108 non-null   int64  \n",
            " 1   holiday             6108 non-null   int64  \n",
            " 2   day_week            6108 non-null   int64  \n",
            " 3   weekend             6108 non-null   int64  \n",
            " 4   temperature         6108 non-null   float64\n",
            " 5   humid               6108 non-null   float64\n",
            " 6   precipitation       6108 non-null   float64\n",
            " 7   precipitation_type  6108 non-null   float64\n",
            " 8   year                6108 non-null   int64  \n",
            " 9   month               6108 non-null   int64  \n",
            " 10  day                 6108 non-null   int64  \n",
            " 11  hour                6108 non-null   int64  \n",
            " 12  minute              6108 non-null   int64  \n",
            " 13  total_car_num       6108 non-null   int64  \n",
            "dtypes: float64(4), int64(10)\n",
            "memory usage: 715.8 KB\n"
          ]
        }
      ]
    },
    {
      "cell_type": "code",
      "source": [
        "train, test = train_test_split(df_fc, test_size=0.2)\n",
        "train, val = train_test_split(train, test_size=0.2)\n",
        "print(len(train), '훈련 샘플')\n",
        "print(len(val), '검증 샘플')\n",
        "print(len(test), '테스트 샘플')"
      ],
      "metadata": {
        "colab": {
          "base_uri": "https://localhost:8080/"
        },
        "id": "uHhBJRLX-ha7",
        "outputId": "a5bfd2d7-33cf-43a3-e59c-ed471c751cdf"
      },
      "execution_count": null,
      "outputs": [
        {
          "output_type": "stream",
          "name": "stdout",
          "text": [
            "3908 훈련 샘플\n",
            "978 검증 샘플\n",
            "1222 테스트 샘플\n"
          ]
        }
      ]
    },
    {
      "cell_type": "code",
      "source": [
        "def df_to_dataset(dataframe, shuffle=True, batch_size=32):\n",
        "  dataframe = dataframe.copy()\n",
        "  labels = dataframe.pop('total_car_num')\n",
        "  ds = tf.data.Dataset.from_tensor_slices((dict(dataframe), labels))\n",
        "  if shuffle:\n",
        "    ds = ds.shuffle(buffer_size = len(dataframe))\n",
        "  ds = ds.batch(batch_size)\n",
        "  return ds"
      ],
      "metadata": {
        "id": "kQE1Hz_4-6z1"
      },
      "execution_count": null,
      "outputs": []
    },
    {
      "cell_type": "code",
      "source": [
        "batch_size = 10\n",
        "train_ds = df_to_dataset(train, batch_size=batch_size)\n",
        "val_ds = df_to_dataset(val, shuffle=False, batch_size=batch_size)\n",
        "test_ds = df_to_dataset(test, shuffle=False, batch_size=batch_size)"
      ],
      "metadata": {
        "id": "97mzrBEb-6xC"
      },
      "execution_count": null,
      "outputs": []
    },
    {
      "cell_type": "code",
      "source": [
        "train_ds"
      ],
      "metadata": {
        "colab": {
          "base_uri": "https://localhost:8080/"
        },
        "id": "m3dfK1QNvpMU",
        "outputId": "409b2d1c-7490-4c9a-d74f-4227f3db0580"
      },
      "execution_count": null,
      "outputs": [
        {
          "output_type": "execute_result",
          "data": {
            "text/plain": [
              "<BatchDataset shapes: ({station_name: (None,), holiday: (None,), day_week: (None,), weekend: (None,), temperature: (None,), humid: (None,), precipitation: (None,), precipitation_type: (None,), year: (None,), month: (None,), day: (None,), hour: (None,), minute: (None,)}, (None,)), types: ({station_name: tf.int64, holiday: tf.int64, day_week: tf.int64, weekend: tf.int64, temperature: tf.float64, humid: tf.float64, precipitation: tf.float64, precipitation_type: tf.float64, year: tf.int64, month: tf.int64, day: tf.int64, hour: tf.int64, minute: tf.int64}, tf.int64)>"
            ]
          },
          "metadata": {},
          "execution_count": 28
        }
      ]
    },
    {
      "cell_type": "code",
      "source": [
        "for feature_batch, label_batch in train_ds.take(1):\n",
        "  print(\"Total feature: \", list(feature_batch.keys()))\n",
        "  print(\"Target feature: \", label_batch)"
      ],
      "metadata": {
        "colab": {
          "base_uri": "https://localhost:8080/"
        },
        "id": "GohTBn0s-6ua",
        "outputId": "f8f81db6-74df-4075-f9e5-e27dcf79afe8"
      },
      "execution_count": null,
      "outputs": [
        {
          "output_type": "stream",
          "name": "stdout",
          "text": [
            "Total feature:  ['station_name', 'holiday', 'day_week', 'weekend', 'temperature', 'humid', 'precipitation', 'precipitation_type', 'year', 'month', 'day', 'hour', 'minute']\n",
            "Target feature:  tf.Tensor([0 4 4 0 3 2 0 4 0 3], shape=(10,), dtype=int64)\n"
          ]
        }
      ]
    },
    {
      "cell_type": "code",
      "source": [
        "example_batch = next(iter(train_ds))[0]\n",
        "feature_batch"
      ],
      "metadata": {
        "colab": {
          "base_uri": "https://localhost:8080/"
        },
        "id": "Jq3vz4jtEh0E",
        "outputId": "16ecebe6-72c2-4c53-853a-96cd707f78d3"
      },
      "execution_count": null,
      "outputs": [
        {
          "output_type": "execute_result",
          "data": {
            "text/plain": [
              "{'day': <tf.Tensor: shape=(10,), dtype=int64, numpy=array([ 9, 29,  6,  9,  6, 13,  1, 21,  9, 22])>,\n",
              " 'day_week': <tf.Tensor: shape=(10,), dtype=int64, numpy=array([2, 1, 1, 2, 1, 6, 3, 0, 2, 1])>,\n",
              " 'holiday': <tf.Tensor: shape=(10,), dtype=int64, numpy=array([0, 0, 0, 0, 0, 0, 1, 0, 0, 0])>,\n",
              " 'hour': <tf.Tensor: shape=(10,), dtype=int64, numpy=array([15, 23, 21, 16, 13, 21,  9, 15, 14, 16])>,\n",
              " 'humid': <tf.Tensor: shape=(10,), dtype=float64, numpy=array([66., 57., 36., 66., 64., 59., 78., 47., 76., 41.])>,\n",
              " 'minute': <tf.Tensor: shape=(10,), dtype=int64, numpy=array([ 9, 10, 40, 45, 10, 30,  0, 20, 14, 35])>,\n",
              " 'month': <tf.Tensor: shape=(10,), dtype=int64, numpy=array([ 9,  9, 10,  9, 10,  9, 10,  9,  9,  9])>,\n",
              " 'precipitation': <tf.Tensor: shape=(10,), dtype=float64, numpy=array([0., 0., 0., 0., 0., 0., 0., 0., 0., 0.])>,\n",
              " 'precipitation_type': <tf.Tensor: shape=(10,), dtype=float64, numpy=array([0., 0., 0., 0., 0., 0., 0., 0., 0., 0.])>,\n",
              " 'station_name': <tf.Tensor: shape=(10,), dtype=int64, numpy=array([26, 26, 26, 26, 26, 26, 26, 26, 26, 26])>,\n",
              " 'temperature': <tf.Tensor: shape=(10,), dtype=float64, numpy=array([25. , 22. , 17.6, 25. , 13.8, 24.6, 17.9, 21.9, 23.3, 22.7])>,\n",
              " 'weekend': <tf.Tensor: shape=(10,), dtype=int64, numpy=array([0, 0, 0, 0, 0, 1, 0, 0, 0, 0])>,\n",
              " 'year': <tf.Tensor: shape=(10,), dtype=int64, numpy=array([2020, 2020, 2020, 2020, 2020, 2020, 2020, 2020, 2020, 2020])>}"
            ]
          },
          "metadata": {},
          "execution_count": 30
        }
      ]
    },
    {
      "cell_type": "code",
      "source": [
        "# 특성 열을 만들고 배치 데이터를 변환하는 함수\n",
        "def demo(feature_column):\n",
        "  feature_layer = layers.DenseFeatures(feature_column)\n",
        "  print(feature_layer(feature_batch).numpy())"
      ],
      "metadata": {
        "id": "qpo56w9o-6l7"
      },
      "execution_count": null,
      "outputs": []
    },
    {
      "cell_type": "code",
      "source": [
        "crossed_feature = fc.crossed_column(['day_week', 'hour'], hash_bucket_size=170)\n",
        "demo(fc.indicator_column(crossed_feature))"
      ],
      "metadata": {
        "colab": {
          "base_uri": "https://localhost:8080/"
        },
        "id": "OzGO-GozB-QY",
        "outputId": "dc20a7eb-3e4a-4bfb-a7e3-3edb22c4bc19"
      },
      "execution_count": null,
      "outputs": [
        {
          "output_type": "stream",
          "name": "stdout",
          "text": [
            "[[0. 0. 0. ... 0. 0. 0.]\n",
            " [0. 0. 0. ... 0. 0. 0.]\n",
            " [0. 0. 0. ... 0. 0. 0.]\n",
            " ...\n",
            " [0. 0. 0. ... 0. 0. 0.]\n",
            " [0. 0. 0. ... 0. 0. 0.]\n",
            " [0. 0. 0. ... 0. 0. 0.]]\n"
          ]
        }
      ]
    },
    {
      "cell_type": "code",
      "source": [
        "feature_columns = []\n",
        "\n",
        "for colname in [\"station_name\", \"holiday\", \"day_week\", \"weekend\", \"temperature\", \"humid\", \"precipitation\", \"precipitation_type\", \"year\", \"month\", \"day\", \"hour\", \"minute\"]:\n",
        "  feature_columns.append(fc.numeric_column(colname))\n",
        "\n",
        "crossed_feature  = fc.crossed_column(['day_week', 'hour'], hash_bucket_size=170)\n",
        "crossed_feature  = fc.indicator_column(crossed_feature)\n",
        "feature_columns.append(crossed_feature)"
      ],
      "metadata": {
        "id": "u79ZFntuH6wL"
      },
      "execution_count": null,
      "outputs": []
    },
    {
      "cell_type": "code",
      "source": [
        "feature_layer = tf.keras.layers.DenseFeatures(feature_columns)"
      ],
      "metadata": {
        "id": "t1zOmcaPB-It"
      },
      "execution_count": null,
      "outputs": []
    },
    {
      "cell_type": "code",
      "source": [
        "batch_size = 32\n",
        "train_ds = df_to_dataset(train, batch_size=batch_size)\n",
        "val_ds = df_to_dataset(val, shuffle=False, batch_size=batch_size)\n",
        "test_ds = df_to_dataset(test, shuffle=False, batch_size=batch_size)"
      ],
      "metadata": {
        "id": "O_GYfnwhB-GU"
      },
      "execution_count": null,
      "outputs": []
    },
    {
      "cell_type": "code",
      "source": [
        ""
      ],
      "metadata": {
        "id": "JzYiwwenwiAq"
      },
      "execution_count": null,
      "outputs": []
    },
    {
      "cell_type": "code",
      "source": [
        ""
      ],
      "metadata": {
        "id": "CD0PCftuhbzU"
      },
      "execution_count": null,
      "outputs": []
    },
    {
      "cell_type": "code",
      "source": [
        ""
      ],
      "metadata": {
        "id": "7nQQToC9hbwb"
      },
      "execution_count": null,
      "outputs": []
    },
    {
      "cell_type": "code",
      "source": [
        ""
      ],
      "metadata": {
        "id": "X7UD0xANhbtt"
      },
      "execution_count": null,
      "outputs": []
    },
    {
      "cell_type": "code",
      "source": [
        ""
      ],
      "metadata": {
        "id": "-rKrE6BQhbqt"
      },
      "execution_count": null,
      "outputs": []
    },
    {
      "cell_type": "code",
      "source": [
        ""
      ],
      "metadata": {
        "id": "meckP-9JhboF"
      },
      "execution_count": null,
      "outputs": []
    },
    {
      "cell_type": "code",
      "source": [
        ""
      ],
      "metadata": {
        "id": "u3IV8arOhblG"
      },
      "execution_count": null,
      "outputs": []
    },
    {
      "cell_type": "code",
      "source": [
        ""
      ],
      "metadata": {
        "id": "yaJxFLMmhbdM"
      },
      "execution_count": null,
      "outputs": []
    }
  ]
}